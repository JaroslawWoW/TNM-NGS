{
 "cells": [
  {
   "cell_type": "code",
   "execution_count": 1,
   "id": "231e112c",
   "metadata": {},
   "outputs": [],
   "source": [
    "from sklearn.tree import DecisionTreeClassifier  #ładowanie fukcji do tworzenia instacji drzew dla Y ciaglego\n",
    "\n",
    "#import dtreeviz.trees as dtv # importowanie dtreeviz\n",
    "\n",
    "import pandas as pd\n",
    "import numpy as np\n",
    "import seaborn as sn\n",
    "\n",
    "from sklearn.model_selection import cross_val_score,  StratifiedKFold\n",
    "import matplotlib.pyplot as plt \n",
    "from sklearn.model_selection import train_test_split\n",
    "from sklearn.preprocessing import StandardScaler\n",
    "from sklearn.model_selection import GridSearchCV\n",
    "from sklearn.metrics import confusion_matrix\n",
    "from sklearn.metrics import fbeta_score\n",
    "from sklearn.metrics import make_scorer\n",
    "\n",
    "\n",
    "from sklearn.model_selection import cross_val_score,  StratifiedKFold"
   ]
  },
  {
   "cell_type": "code",
   "execution_count": 2,
   "id": "279a77b9",
   "metadata": {},
   "outputs": [],
   "source": [
    "train_df=pd.read_csv(\"D:/STUDIA/ROK_II/Magisterka/Modele/Dane pierwotne/Dane_do_uczenia_N.csv\", encoding=\"utf-8\")\n",
    "del train_df['Unnamed: 0']"
   ]
  },
  {
   "cell_type": "code",
   "execution_count": 3,
   "id": "f42a0a92",
   "metadata": {},
   "outputs": [
    {
     "data": {
      "text/plain": [
       "NX    563\n",
       "N0    359\n",
       "N1     52\n",
       "Name: scale, dtype: int64"
      ]
     },
     "execution_count": 3,
     "metadata": {},
     "output_type": "execute_result"
    }
   ],
   "source": [
    "train_df['scale'].value_counts()"
   ]
  },
  {
   "cell_type": "code",
   "execution_count": 4,
   "id": "43d432f9",
   "metadata": {},
   "outputs": [],
   "source": [
    "train_df=train_df.loc[(train_df['scale']!='NX')]"
   ]
  },
  {
   "cell_type": "code",
   "execution_count": 5,
   "id": "fabc6666",
   "metadata": {},
   "outputs": [
    {
     "data": {
      "text/html": [
       "<div>\n",
       "<style scoped>\n",
       "    .dataframe tbody tr th:only-of-type {\n",
       "        vertical-align: middle;\n",
       "    }\n",
       "\n",
       "    .dataframe tbody tr th {\n",
       "        vertical-align: top;\n",
       "    }\n",
       "\n",
       "    .dataframe thead th {\n",
       "        text-align: right;\n",
       "    }\n",
       "</style>\n",
       "<table border=\"1\" class=\"dataframe\">\n",
       "  <thead>\n",
       "    <tr style=\"text-align: right;\">\n",
       "      <th></th>\n",
       "      <th>ENSG00000143512.11</th>\n",
       "      <th>ENSG00000130433.6</th>\n",
       "      <th>ENSG00000088726.14</th>\n",
       "      <th>ENSG00000149948.12</th>\n",
       "      <th>ENSG00000147689.15</th>\n",
       "      <th>ENSG00000181143.14</th>\n",
       "      <th>ENSG00000105278.9</th>\n",
       "      <th>ENSG00000086506.2</th>\n",
       "      <th>ENSG00000124102.4</th>\n",
       "      <th>ENSG00000175793.11</th>\n",
       "      <th>...</th>\n",
       "      <th>ENSG00000222024.2</th>\n",
       "      <th>ENSG00000255043.1</th>\n",
       "      <th>ENSG00000229418.2</th>\n",
       "      <th>ENSG00000249518.1</th>\n",
       "      <th>ENSG00000279301.1</th>\n",
       "      <th>ENSG00000251276.1</th>\n",
       "      <th>ENSG00000217236.1</th>\n",
       "      <th>ENSG00000046774.9</th>\n",
       "      <th>ENSG00000260958.2</th>\n",
       "      <th>scale</th>\n",
       "    </tr>\n",
       "  </thead>\n",
       "  <tbody>\n",
       "    <tr>\n",
       "      <th>0</th>\n",
       "      <td>13.858287</td>\n",
       "      <td>0.000000</td>\n",
       "      <td>1.154857</td>\n",
       "      <td>24.252002</td>\n",
       "      <td>4.619429</td>\n",
       "      <td>4105.517523</td>\n",
       "      <td>0.000000</td>\n",
       "      <td>0.000000</td>\n",
       "      <td>10.393715</td>\n",
       "      <td>120.105154</td>\n",
       "      <td>...</td>\n",
       "      <td>38.110289</td>\n",
       "      <td>13.858287</td>\n",
       "      <td>0.000000</td>\n",
       "      <td>32.336003</td>\n",
       "      <td>0.000000</td>\n",
       "      <td>3.464572</td>\n",
       "      <td>0.000000</td>\n",
       "      <td>0.000000</td>\n",
       "      <td>0.0</td>\n",
       "      <td>N0</td>\n",
       "    </tr>\n",
       "    <tr>\n",
       "      <th>1</th>\n",
       "      <td>1.070588</td>\n",
       "      <td>0.000000</td>\n",
       "      <td>2.141177</td>\n",
       "      <td>1.070588</td>\n",
       "      <td>1.070588</td>\n",
       "      <td>28.905887</td>\n",
       "      <td>0.000000</td>\n",
       "      <td>0.000000</td>\n",
       "      <td>4.282354</td>\n",
       "      <td>44.964713</td>\n",
       "      <td>...</td>\n",
       "      <td>0.000000</td>\n",
       "      <td>0.000000</td>\n",
       "      <td>0.000000</td>\n",
       "      <td>0.000000</td>\n",
       "      <td>1.070588</td>\n",
       "      <td>2.141177</td>\n",
       "      <td>0.000000</td>\n",
       "      <td>0.000000</td>\n",
       "      <td>0.0</td>\n",
       "      <td>N0</td>\n",
       "    </tr>\n",
       "    <tr>\n",
       "      <th>2</th>\n",
       "      <td>2.947029</td>\n",
       "      <td>17.682172</td>\n",
       "      <td>3.683786</td>\n",
       "      <td>13.998386</td>\n",
       "      <td>2.210272</td>\n",
       "      <td>42.731916</td>\n",
       "      <td>319.015856</td>\n",
       "      <td>1.473514</td>\n",
       "      <td>13.261629</td>\n",
       "      <td>375.009401</td>\n",
       "      <td>...</td>\n",
       "      <td>0.000000</td>\n",
       "      <td>0.000000</td>\n",
       "      <td>0.000000</td>\n",
       "      <td>8.841086</td>\n",
       "      <td>0.000000</td>\n",
       "      <td>0.000000</td>\n",
       "      <td>0.736757</td>\n",
       "      <td>0.000000</td>\n",
       "      <td>0.0</td>\n",
       "      <td>N0</td>\n",
       "    </tr>\n",
       "    <tr>\n",
       "      <th>3</th>\n",
       "      <td>0.510553</td>\n",
       "      <td>4.594978</td>\n",
       "      <td>1.531659</td>\n",
       "      <td>14.806042</td>\n",
       "      <td>2.042213</td>\n",
       "      <td>0.510553</td>\n",
       "      <td>10.211063</td>\n",
       "      <td>1.021106</td>\n",
       "      <td>12.763829</td>\n",
       "      <td>320.627385</td>\n",
       "      <td>...</td>\n",
       "      <td>0.000000</td>\n",
       "      <td>1.021106</td>\n",
       "      <td>0.510553</td>\n",
       "      <td>0.000000</td>\n",
       "      <td>0.000000</td>\n",
       "      <td>0.000000</td>\n",
       "      <td>0.000000</td>\n",
       "      <td>0.000000</td>\n",
       "      <td>0.0</td>\n",
       "      <td>N0</td>\n",
       "    </tr>\n",
       "    <tr>\n",
       "      <th>4</th>\n",
       "      <td>2.145565</td>\n",
       "      <td>2.860754</td>\n",
       "      <td>15.734146</td>\n",
       "      <td>207.404649</td>\n",
       "      <td>0.715188</td>\n",
       "      <td>69.373279</td>\n",
       "      <td>1.430377</td>\n",
       "      <td>1.430377</td>\n",
       "      <td>745.941546</td>\n",
       "      <td>949.770253</td>\n",
       "      <td>...</td>\n",
       "      <td>0.000000</td>\n",
       "      <td>0.000000</td>\n",
       "      <td>0.000000</td>\n",
       "      <td>0.715188</td>\n",
       "      <td>0.000000</td>\n",
       "      <td>0.715188</td>\n",
       "      <td>0.000000</td>\n",
       "      <td>0.715188</td>\n",
       "      <td>0.0</td>\n",
       "      <td>N0</td>\n",
       "    </tr>\n",
       "    <tr>\n",
       "      <th>...</th>\n",
       "      <td>...</td>\n",
       "      <td>...</td>\n",
       "      <td>...</td>\n",
       "      <td>...</td>\n",
       "      <td>...</td>\n",
       "      <td>...</td>\n",
       "      <td>...</td>\n",
       "      <td>...</td>\n",
       "      <td>...</td>\n",
       "      <td>...</td>\n",
       "      <td>...</td>\n",
       "      <td>...</td>\n",
       "      <td>...</td>\n",
       "      <td>...</td>\n",
       "      <td>...</td>\n",
       "      <td>...</td>\n",
       "      <td>...</td>\n",
       "      <td>...</td>\n",
       "      <td>...</td>\n",
       "      <td>...</td>\n",
       "      <td>...</td>\n",
       "    </tr>\n",
       "    <tr>\n",
       "      <th>406</th>\n",
       "      <td>34.548309</td>\n",
       "      <td>0.822579</td>\n",
       "      <td>18.096733</td>\n",
       "      <td>547.837468</td>\n",
       "      <td>9.870945</td>\n",
       "      <td>2.467736</td>\n",
       "      <td>805.304626</td>\n",
       "      <td>314.225094</td>\n",
       "      <td>536.321365</td>\n",
       "      <td>37832.865830</td>\n",
       "      <td>...</td>\n",
       "      <td>0.000000</td>\n",
       "      <td>0.000000</td>\n",
       "      <td>0.000000</td>\n",
       "      <td>0.000000</td>\n",
       "      <td>0.000000</td>\n",
       "      <td>0.000000</td>\n",
       "      <td>1.645158</td>\n",
       "      <td>0.000000</td>\n",
       "      <td>0.0</td>\n",
       "      <td>N1</td>\n",
       "    </tr>\n",
       "    <tr>\n",
       "      <th>407</th>\n",
       "      <td>5.160331</td>\n",
       "      <td>0.000000</td>\n",
       "      <td>2.948761</td>\n",
       "      <td>56.026453</td>\n",
       "      <td>1.474380</td>\n",
       "      <td>11.057853</td>\n",
       "      <td>16.955374</td>\n",
       "      <td>2.948761</td>\n",
       "      <td>43.494220</td>\n",
       "      <td>2322.886229</td>\n",
       "      <td>...</td>\n",
       "      <td>0.737190</td>\n",
       "      <td>0.000000</td>\n",
       "      <td>0.000000</td>\n",
       "      <td>0.000000</td>\n",
       "      <td>0.000000</td>\n",
       "      <td>0.000000</td>\n",
       "      <td>0.000000</td>\n",
       "      <td>0.000000</td>\n",
       "      <td>0.0</td>\n",
       "      <td>N1</td>\n",
       "    </tr>\n",
       "    <tr>\n",
       "      <th>408</th>\n",
       "      <td>0.000000</td>\n",
       "      <td>0.000000</td>\n",
       "      <td>2.985051</td>\n",
       "      <td>7.960137</td>\n",
       "      <td>0.995017</td>\n",
       "      <td>3.980069</td>\n",
       "      <td>1.990034</td>\n",
       "      <td>0.995017</td>\n",
       "      <td>0.000000</td>\n",
       "      <td>35.820617</td>\n",
       "      <td>...</td>\n",
       "      <td>0.000000</td>\n",
       "      <td>0.000000</td>\n",
       "      <td>49.750857</td>\n",
       "      <td>0.000000</td>\n",
       "      <td>0.000000</td>\n",
       "      <td>0.000000</td>\n",
       "      <td>0.995017</td>\n",
       "      <td>0.000000</td>\n",
       "      <td>0.0</td>\n",
       "      <td>N1</td>\n",
       "    </tr>\n",
       "    <tr>\n",
       "      <th>409</th>\n",
       "      <td>13.307318</td>\n",
       "      <td>5.322927</td>\n",
       "      <td>29.276099</td>\n",
       "      <td>1189.674187</td>\n",
       "      <td>6.653659</td>\n",
       "      <td>0.000000</td>\n",
       "      <td>3.992195</td>\n",
       "      <td>0.000000</td>\n",
       "      <td>444.464405</td>\n",
       "      <td>9578.607153</td>\n",
       "      <td>...</td>\n",
       "      <td>1.330732</td>\n",
       "      <td>0.000000</td>\n",
       "      <td>0.000000</td>\n",
       "      <td>0.000000</td>\n",
       "      <td>0.000000</td>\n",
       "      <td>0.000000</td>\n",
       "      <td>0.000000</td>\n",
       "      <td>0.000000</td>\n",
       "      <td>0.0</td>\n",
       "      <td>N1</td>\n",
       "    </tr>\n",
       "    <tr>\n",
       "      <th>410</th>\n",
       "      <td>438.050323</td>\n",
       "      <td>0.000000</td>\n",
       "      <td>261.270371</td>\n",
       "      <td>838.404922</td>\n",
       "      <td>231.373761</td>\n",
       "      <td>25.997052</td>\n",
       "      <td>0.000000</td>\n",
       "      <td>2.599705</td>\n",
       "      <td>50.694251</td>\n",
       "      <td>6160.001431</td>\n",
       "      <td>...</td>\n",
       "      <td>0.000000</td>\n",
       "      <td>0.000000</td>\n",
       "      <td>0.000000</td>\n",
       "      <td>0.000000</td>\n",
       "      <td>0.000000</td>\n",
       "      <td>0.000000</td>\n",
       "      <td>3.899558</td>\n",
       "      <td>0.000000</td>\n",
       "      <td>0.0</td>\n",
       "      <td>N1</td>\n",
       "    </tr>\n",
       "  </tbody>\n",
       "</table>\n",
       "<p>411 rows × 115 columns</p>\n",
       "</div>"
      ],
      "text/plain": [
       "     ENSG00000143512.11  ENSG00000130433.6  ENSG00000088726.14  \\\n",
       "0             13.858287           0.000000            1.154857   \n",
       "1              1.070588           0.000000            2.141177   \n",
       "2              2.947029          17.682172            3.683786   \n",
       "3              0.510553           4.594978            1.531659   \n",
       "4              2.145565           2.860754           15.734146   \n",
       "..                  ...                ...                 ...   \n",
       "406           34.548309           0.822579           18.096733   \n",
       "407            5.160331           0.000000            2.948761   \n",
       "408            0.000000           0.000000            2.985051   \n",
       "409           13.307318           5.322927           29.276099   \n",
       "410          438.050323           0.000000          261.270371   \n",
       "\n",
       "     ENSG00000149948.12  ENSG00000147689.15  ENSG00000181143.14  \\\n",
       "0             24.252002            4.619429         4105.517523   \n",
       "1              1.070588            1.070588           28.905887   \n",
       "2             13.998386            2.210272           42.731916   \n",
       "3             14.806042            2.042213            0.510553   \n",
       "4            207.404649            0.715188           69.373279   \n",
       "..                  ...                 ...                 ...   \n",
       "406          547.837468            9.870945            2.467736   \n",
       "407           56.026453            1.474380           11.057853   \n",
       "408            7.960137            0.995017            3.980069   \n",
       "409         1189.674187            6.653659            0.000000   \n",
       "410          838.404922          231.373761           25.997052   \n",
       "\n",
       "     ENSG00000105278.9  ENSG00000086506.2  ENSG00000124102.4  \\\n",
       "0             0.000000           0.000000          10.393715   \n",
       "1             0.000000           0.000000           4.282354   \n",
       "2           319.015856           1.473514          13.261629   \n",
       "3            10.211063           1.021106          12.763829   \n",
       "4             1.430377           1.430377         745.941546   \n",
       "..                 ...                ...                ...   \n",
       "406         805.304626         314.225094         536.321365   \n",
       "407          16.955374           2.948761          43.494220   \n",
       "408           1.990034           0.995017           0.000000   \n",
       "409           3.992195           0.000000         444.464405   \n",
       "410           0.000000           2.599705          50.694251   \n",
       "\n",
       "     ENSG00000175793.11  ...  ENSG00000222024.2  ENSG00000255043.1  \\\n",
       "0            120.105154  ...          38.110289          13.858287   \n",
       "1             44.964713  ...           0.000000           0.000000   \n",
       "2            375.009401  ...           0.000000           0.000000   \n",
       "3            320.627385  ...           0.000000           1.021106   \n",
       "4            949.770253  ...           0.000000           0.000000   \n",
       "..                  ...  ...                ...                ...   \n",
       "406        37832.865830  ...           0.000000           0.000000   \n",
       "407         2322.886229  ...           0.737190           0.000000   \n",
       "408           35.820617  ...           0.000000           0.000000   \n",
       "409         9578.607153  ...           1.330732           0.000000   \n",
       "410         6160.001431  ...           0.000000           0.000000   \n",
       "\n",
       "     ENSG00000229418.2  ENSG00000249518.1  ENSG00000279301.1  \\\n",
       "0             0.000000          32.336003           0.000000   \n",
       "1             0.000000           0.000000           1.070588   \n",
       "2             0.000000           8.841086           0.000000   \n",
       "3             0.510553           0.000000           0.000000   \n",
       "4             0.000000           0.715188           0.000000   \n",
       "..                 ...                ...                ...   \n",
       "406           0.000000           0.000000           0.000000   \n",
       "407           0.000000           0.000000           0.000000   \n",
       "408          49.750857           0.000000           0.000000   \n",
       "409           0.000000           0.000000           0.000000   \n",
       "410           0.000000           0.000000           0.000000   \n",
       "\n",
       "     ENSG00000251276.1  ENSG00000217236.1  ENSG00000046774.9  \\\n",
       "0             3.464572           0.000000           0.000000   \n",
       "1             2.141177           0.000000           0.000000   \n",
       "2             0.000000           0.736757           0.000000   \n",
       "3             0.000000           0.000000           0.000000   \n",
       "4             0.715188           0.000000           0.715188   \n",
       "..                 ...                ...                ...   \n",
       "406           0.000000           1.645158           0.000000   \n",
       "407           0.000000           0.000000           0.000000   \n",
       "408           0.000000           0.995017           0.000000   \n",
       "409           0.000000           0.000000           0.000000   \n",
       "410           0.000000           3.899558           0.000000   \n",
       "\n",
       "     ENSG00000260958.2  scale  \n",
       "0                  0.0     N0  \n",
       "1                  0.0     N0  \n",
       "2                  0.0     N0  \n",
       "3                  0.0     N0  \n",
       "4                  0.0     N0  \n",
       "..                 ...    ...  \n",
       "406                0.0     N1  \n",
       "407                0.0     N1  \n",
       "408                0.0     N1  \n",
       "409                0.0     N1  \n",
       "410                0.0     N1  \n",
       "\n",
       "[411 rows x 115 columns]"
      ]
     },
     "execution_count": 5,
     "metadata": {},
     "output_type": "execute_result"
    }
   ],
   "source": [
    "train_df"
   ]
  },
  {
   "cell_type": "code",
   "execution_count": 6,
   "id": "3180108a",
   "metadata": {},
   "outputs": [],
   "source": [
    "y=train_df['scale']\n",
    "del train_df['scale']"
   ]
  },
  {
   "cell_type": "code",
   "execution_count": 7,
   "id": "522dde88",
   "metadata": {},
   "outputs": [],
   "source": [
    "zestaw_caly = np.array(train_df)\n",
    "caly_label = np.array(y)"
   ]
  },
  {
   "cell_type": "code",
   "execution_count": 8,
   "id": "4957e16d",
   "metadata": {},
   "outputs": [],
   "source": [
    "ftwo_scorer = make_scorer(fbeta_score, beta=1,labels=['N0','N1'],pos_label='N1',greater_is_better=True)\n"
   ]
  },
  {
   "cell_type": "code",
   "execution_count": 21,
   "id": "dd52d646",
   "metadata": {},
   "outputs": [],
   "source": [
    "param_grid = {\n",
    "    'criterion':['gini', 'entropy'],\n",
    "    'splitter':['best', 'random'],\n",
    "    'min_samples_split':range(2,6,1),\n",
    "    'min_samples_leaf': range(1,6,1),    \n",
    "    'max_leaf_nodes':range(2,6,1),\n",
    "    'min_impurity_decrease':[0,0.1,0.2],\n",
    "    'max_depth':list(range(2, 6,1))\n",
    "}"
   ]
  },
  {
   "cell_type": "code",
   "execution_count": 24,
   "id": "9c029bf3",
   "metadata": {},
   "outputs": [
    {
     "name": "stdout",
     "output_type": "stream",
     "text": [
      "Fitting 5 folds for each of 3840 candidates, totalling 19200 fits\n"
     ]
    },
    {
     "data": {
      "text/plain": [
       "GridSearchCV(cv=5, estimator=DecisionTreeClassifier(random_state=42), n_jobs=4,\n",
       "             param_grid={'criterion': ['gini', 'entropy'],\n",
       "                         'max_depth': [2, 3, 4, 5],\n",
       "                         'max_leaf_nodes': range(2, 6),\n",
       "                         'min_impurity_decrease': [0, 0.1, 0.2],\n",
       "                         'min_samples_leaf': range(1, 6),\n",
       "                         'min_samples_split': range(2, 6),\n",
       "                         'splitter': ['best', 'random']},\n",
       "             scoring=make_scorer(fbeta_score, beta=1, labels=['N0', 'N1'], pos_label=N1),\n",
       "             verbose=1)"
      ]
     },
     "execution_count": 24,
     "metadata": {},
     "output_type": "execute_result"
    }
   ],
   "source": [
    "dt_1 = DecisionTreeClassifier(random_state=42)\n",
    "grid_search_1 = GridSearchCV(estimator = dt_1, param_grid = param_grid, \n",
    "                          cv = 5, n_jobs = 4, verbose = 1,scoring=ftwo_scorer)\n",
    "grid_search_1.fit(zestaw_caly, np.ravel(caly_label))"
   ]
  },
  {
   "cell_type": "code",
   "execution_count": 25,
   "id": "f9317496",
   "metadata": {},
   "outputs": [
    {
     "data": {
      "text/plain": [
       "0.3695165515598952"
      ]
     },
     "execution_count": 25,
     "metadata": {},
     "output_type": "execute_result"
    }
   ],
   "source": [
    "grid_search_1.best_score_"
   ]
  },
  {
   "cell_type": "code",
   "execution_count": 26,
   "id": "2be67130",
   "metadata": {},
   "outputs": [
    {
     "data": {
      "text/plain": [
       "{'criterion': 'gini',\n",
       " 'max_depth': 4,\n",
       " 'max_leaf_nodes': 5,\n",
       " 'min_impurity_decrease': 0,\n",
       " 'min_samples_leaf': 5,\n",
       " 'min_samples_split': 2,\n",
       " 'splitter': 'random'}"
      ]
     },
     "execution_count": 26,
     "metadata": {},
     "output_type": "execute_result"
    }
   ],
   "source": [
    "grid_search_1.best_params_"
   ]
  },
  {
   "cell_type": "markdown",
   "id": "320527b1",
   "metadata": {},
   "source": [
    "### Dobieranie part.2"
   ]
  },
  {
   "cell_type": "code",
   "execution_count": 27,
   "id": "35902df6",
   "metadata": {},
   "outputs": [],
   "source": [
    "param_grid = {\n",
    "    'criterion':['gini'],\n",
    "    'splitter':['random',],\n",
    "    'min_samples_split':[2],\n",
    "    'min_samples_leaf': range(2,15,1),    \n",
    "    'max_leaf_nodes':range(2,15,1),\n",
    "    'min_impurity_decrease':[0],\n",
    "    'max_depth':[4]\n",
    "}"
   ]
  },
  {
   "cell_type": "code",
   "execution_count": 28,
   "id": "98e6dd1b",
   "metadata": {},
   "outputs": [
    {
     "name": "stdout",
     "output_type": "stream",
     "text": [
      "Fitting 5 folds for each of 169 candidates, totalling 845 fits\n"
     ]
    },
    {
     "data": {
      "text/plain": [
       "GridSearchCV(cv=5, estimator=DecisionTreeClassifier(random_state=42), n_jobs=4,\n",
       "             param_grid={'criterion': ['gini'], 'max_depth': [4],\n",
       "                         'max_leaf_nodes': range(2, 15),\n",
       "                         'min_impurity_decrease': [0],\n",
       "                         'min_samples_leaf': range(2, 15),\n",
       "                         'min_samples_split': [2], 'splitter': ['random']},\n",
       "             scoring=make_scorer(fbeta_score, beta=1, labels=['N0', 'N1'], pos_label=N1),\n",
       "             verbose=1)"
      ]
     },
     "execution_count": 28,
     "metadata": {},
     "output_type": "execute_result"
    }
   ],
   "source": [
    "dt_1 = DecisionTreeClassifier(random_state=42)\n",
    "grid_search_1 = GridSearchCV(estimator = dt_1, param_grid = param_grid, \n",
    "                          cv = 5, n_jobs = 4, verbose = 1,scoring=ftwo_scorer)\n",
    "grid_search_1.fit(zestaw_caly, np.ravel(caly_label))"
   ]
  },
  {
   "cell_type": "code",
   "execution_count": 29,
   "id": "7bbe4ec1",
   "metadata": {},
   "outputs": [
    {
     "data": {
      "text/plain": [
       "0.3726800976800977"
      ]
     },
     "execution_count": 29,
     "metadata": {},
     "output_type": "execute_result"
    }
   ],
   "source": [
    "grid_search_1.best_score_"
   ]
  },
  {
   "cell_type": "code",
   "execution_count": 30,
   "id": "51192b0c",
   "metadata": {},
   "outputs": [
    {
     "data": {
      "text/plain": [
       "{'criterion': 'gini',\n",
       " 'max_depth': 4,\n",
       " 'max_leaf_nodes': 6,\n",
       " 'min_impurity_decrease': 0,\n",
       " 'min_samples_leaf': 3,\n",
       " 'min_samples_split': 2,\n",
       " 'splitter': 'random'}"
      ]
     },
     "execution_count": 30,
     "metadata": {},
     "output_type": "execute_result"
    }
   ],
   "source": [
    "grid_search_1.best_params_"
   ]
  },
  {
   "cell_type": "code",
   "execution_count": 9,
   "id": "bc0a7484",
   "metadata": {},
   "outputs": [],
   "source": [
    "kfold = StratifiedKFold(n_splits=5, shuffle=False)\n",
    "dane_do_zapisu_2=pd.DataFrame()\n",
    "licznik=1\n",
    "wart_2=[]\n",
    "for train, test in kfold.split(zestaw_caly, caly_label):\n",
    "    dt_2 =DecisionTreeClassifier(criterion='gini',\n",
    " max_depth=4,\n",
    " max_leaf_nodes=6,\n",
    " min_samples_leaf=3,\n",
    "min_impurity_decrease= 0,\n",
    " min_samples_split= 2,\n",
    " splitter='random',random_state=42)\n",
    "    \n",
    "\n",
    "    dt_2.fit(zestaw_caly[train], caly_label[train])\n",
    "    predykcje=dt_2.predict(zestaw_caly[test])\n",
    "    dane_folda_2=pd.DataFrame({\"pred\": predykcje.ravel(),\n",
    "                                \"obs\": caly_label[test],\n",
    "                                \"Fold\":licznik})\n",
    "    dane_do_zapisu_2=pd.concat([dane_do_zapisu_2,dane_folda_2])\n",
    "    blad=fbeta_score(caly_label[test], predykcje, average='binary', beta=1,labels=['N0','N1'],pos_label='N1')\n",
    "    wart_2.append(blad)\n",
    "    licznik+=1"
   ]
  },
  {
   "cell_type": "code",
   "execution_count": 11,
   "id": "13e9f2ae",
   "metadata": {},
   "outputs": [],
   "source": [
    "dane_do_zapisu_2.to_csv('D:\\\\STUDIA\\\\ROK_II\\\\Magisterka\\\\Modele\\\\Dane pierwotne\\\\Dane z cross-walidacji\\\\Klasa_N_Drzewo_decyzyjne.csv')"
   ]
  },
  {
   "cell_type": "code",
   "execution_count": 2,
   "id": "f09bd0b8",
   "metadata": {},
   "outputs": [],
   "source": [
    "dane_do_zapisu_2=pd.read_csv('D:\\\\STUDIA\\\\ROK_II\\\\Magisterka\\\\Modele\\\\Dane pierwotne\\\\Dane z cross-walidacji\\\\N\\\\Klasa_N_Drzewo_decyzyjne.csv')"
   ]
  },
  {
   "cell_type": "code",
   "execution_count": 10,
   "id": "3f49d83e",
   "metadata": {},
   "outputs": [
    {
     "data": {
      "text/plain": [
       "[0.3076923076923077,\n",
       " 0.4285714285714285,\n",
       " 0.4444444444444445,\n",
       " 0.30769230769230765,\n",
       " 0.37499999999999994]"
      ]
     },
     "execution_count": 10,
     "metadata": {},
     "output_type": "execute_result"
    }
   ],
   "source": [
    "wart_2"
   ]
  },
  {
   "cell_type": "code",
   "execution_count": 12,
   "id": "e288ef28",
   "metadata": {},
   "outputs": [
    {
     "data": {
      "text/plain": [
       "0.3726800976800977"
      ]
     },
     "execution_count": 12,
     "metadata": {},
     "output_type": "execute_result"
    }
   ],
   "source": [
    "sum(wart_2)/5"
   ]
  },
  {
   "cell_type": "code",
   "execution_count": 3,
   "id": "2df5cd2f",
   "metadata": {},
   "outputs": [
    {
     "data": {
      "text/html": [
       "<div>\n",
       "<style scoped>\n",
       "    .dataframe tbody tr th:only-of-type {\n",
       "        vertical-align: middle;\n",
       "    }\n",
       "\n",
       "    .dataframe tbody tr th {\n",
       "        vertical-align: top;\n",
       "    }\n",
       "\n",
       "    .dataframe thead th {\n",
       "        text-align: right;\n",
       "    }\n",
       "</style>\n",
       "<table border=\"1\" class=\"dataframe\">\n",
       "  <thead>\n",
       "    <tr style=\"text-align: right;\">\n",
       "      <th></th>\n",
       "      <th>Unnamed: 0</th>\n",
       "      <th>pred</th>\n",
       "      <th>obs</th>\n",
       "      <th>Fold</th>\n",
       "    </tr>\n",
       "  </thead>\n",
       "  <tbody>\n",
       "    <tr>\n",
       "      <th>0</th>\n",
       "      <td>0</td>\n",
       "      <td>N0</td>\n",
       "      <td>N0</td>\n",
       "      <td>1</td>\n",
       "    </tr>\n",
       "    <tr>\n",
       "      <th>1</th>\n",
       "      <td>1</td>\n",
       "      <td>N0</td>\n",
       "      <td>N0</td>\n",
       "      <td>1</td>\n",
       "    </tr>\n",
       "    <tr>\n",
       "      <th>2</th>\n",
       "      <td>2</td>\n",
       "      <td>N0</td>\n",
       "      <td>N0</td>\n",
       "      <td>1</td>\n",
       "    </tr>\n",
       "    <tr>\n",
       "      <th>3</th>\n",
       "      <td>3</td>\n",
       "      <td>N0</td>\n",
       "      <td>N0</td>\n",
       "      <td>1</td>\n",
       "    </tr>\n",
       "    <tr>\n",
       "      <th>4</th>\n",
       "      <td>4</td>\n",
       "      <td>N0</td>\n",
       "      <td>N0</td>\n",
       "      <td>1</td>\n",
       "    </tr>\n",
       "    <tr>\n",
       "      <th>...</th>\n",
       "      <td>...</td>\n",
       "      <td>...</td>\n",
       "      <td>...</td>\n",
       "      <td>...</td>\n",
       "    </tr>\n",
       "    <tr>\n",
       "      <th>406</th>\n",
       "      <td>77</td>\n",
       "      <td>N0</td>\n",
       "      <td>N1</td>\n",
       "      <td>5</td>\n",
       "    </tr>\n",
       "    <tr>\n",
       "      <th>407</th>\n",
       "      <td>78</td>\n",
       "      <td>N0</td>\n",
       "      <td>N1</td>\n",
       "      <td>5</td>\n",
       "    </tr>\n",
       "    <tr>\n",
       "      <th>408</th>\n",
       "      <td>79</td>\n",
       "      <td>N0</td>\n",
       "      <td>N1</td>\n",
       "      <td>5</td>\n",
       "    </tr>\n",
       "    <tr>\n",
       "      <th>409</th>\n",
       "      <td>80</td>\n",
       "      <td>N1</td>\n",
       "      <td>N1</td>\n",
       "      <td>5</td>\n",
       "    </tr>\n",
       "    <tr>\n",
       "      <th>410</th>\n",
       "      <td>81</td>\n",
       "      <td>N0</td>\n",
       "      <td>N1</td>\n",
       "      <td>5</td>\n",
       "    </tr>\n",
       "  </tbody>\n",
       "</table>\n",
       "<p>411 rows × 4 columns</p>\n",
       "</div>"
      ],
      "text/plain": [
       "     Unnamed: 0 pred obs  Fold\n",
       "0             0   N0  N0     1\n",
       "1             1   N0  N0     1\n",
       "2             2   N0  N0     1\n",
       "3             3   N0  N0     1\n",
       "4             4   N0  N0     1\n",
       "..          ...  ...  ..   ...\n",
       "406          77   N0  N1     5\n",
       "407          78   N0  N1     5\n",
       "408          79   N0  N1     5\n",
       "409          80   N1  N1     5\n",
       "410          81   N0  N1     5\n",
       "\n",
       "[411 rows x 4 columns]"
      ]
     },
     "execution_count": 3,
     "metadata": {},
     "output_type": "execute_result"
    }
   ],
   "source": [
    "dane_do_zapisu_2"
   ]
  },
  {
   "cell_type": "code",
   "execution_count": 4,
   "id": "bc2fdfe4",
   "metadata": {},
   "outputs": [],
   "source": [
    "cf_matrix = confusion_matrix(dane_do_zapisu_2['obs'], dane_do_zapisu_2['pred'])"
   ]
  },
  {
   "cell_type": "code",
   "execution_count": 5,
   "id": "f055872a",
   "metadata": {},
   "outputs": [
    {
     "data": {
      "text/plain": [
       "array([[351,   8],\n",
       "       [ 38,  14]], dtype=int64)"
      ]
     },
     "execution_count": 5,
     "metadata": {},
     "output_type": "execute_result"
    }
   ],
   "source": [
    "cf_matrix"
   ]
  },
  {
   "cell_type": "code",
   "execution_count": 6,
   "id": "b2821e97",
   "metadata": {},
   "outputs": [],
   "source": [
    "import seaborn as sns"
   ]
  },
  {
   "cell_type": "code",
   "execution_count": 7,
   "id": "d699c42b",
   "metadata": {},
   "outputs": [
    {
     "data": {
      "image/png": "[encoded data removed]",
      "text/plain": [
       "<Figure size 432x288 with 2 Axes>"
      ]
     },
     "metadata": {
      "needs_background": "light"
     },
     "output_type": "display_data"
    }
   ],
   "source": [
    "\n",
    "ax = plt.axes()\n",
    "sns.heatmap(cf_matrix, annot=True, fmt='g')\n",
    "\n",
    "ax.set_title('Dane pierwotne - Klasa N - DT')\n",
    "plt.ylabel('Rzeczywiste')\n",
    "plt.xlabel('Predykcja')\n",
    "plt.show()\n"
   ]
  },
  {
   "cell_type": "code",
   "execution_count": 18,
   "id": "ffc5cba4",
   "metadata": {},
   "outputs": [
    {
     "name": "stdout",
     "output_type": "stream",
     "text": [
      "Recall: 0.269\n",
      "Precision: 0.636\n",
      "F1score: 0.378\n"
     ]
    }
   ],
   "source": [
    "from sklearn.metrics import recall_score\n",
    "from sklearn.metrics import precision_score\n",
    "\n",
    "precision = precision_score(dane_do_zapisu_2['obs'], dane_do_zapisu_2['pred'], labels=['N0','N1'], average='binary',pos_label='N1')\n",
    "recall = recall_score(dane_do_zapisu_2['obs'], dane_do_zapisu_2['pred'], labels=['N0','N1'], average='binary',pos_label='N1')\n",
    "f1score=fbeta_score(dane_do_zapisu_2['obs'], dane_do_zapisu_2['pred'], labels=['N0','N1'], average='binary',pos_label='N1', beta=1)\n",
    "print('Recall: %.3f' % recall)\n",
    "print('Precision: %.3f' % precision)\n",
    "print('F1score: %.3f' % f1score)"
   ]
  },
  {
   "cell_type": "code",
   "execution_count": null,
   "id": "75ad9869",
   "metadata": {},
   "outputs": [],
   "source": []
  }
 ],
 "metadata": {
  "kernelspec": {
   "display_name": "Python 3 (ipykernel)",
   "language": "python",
   "name": "python3"
  },
  "language_info": {
   "codemirror_mode": {
    "name": "ipython",
    "version": 3
   },
   "file_extension": ".py",
   "mimetype": "text/x-python",
   "name": "python",
   "nbconvert_exporter": "python",
   "pygments_lexer": "ipython3",
   "version": "3.10.4"
  }
 },
 "nbformat": 4,
 "nbformat_minor": 5
}
