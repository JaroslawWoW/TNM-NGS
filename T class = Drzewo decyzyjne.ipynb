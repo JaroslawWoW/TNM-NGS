{
 "cells": [
  {
   "cell_type": "code",
   "execution_count": 1,
   "id": "231e112c",
   "metadata": {},
   "outputs": [],
   "source": [
    "from sklearn.tree import DecisionTreeClassifier  #ładowanie fukcji do tworzenia instacji drzew dla Y ciaglego\n",
    "\n",
    "#import dtreeviz.trees as dtv # importowanie dtreeviz\n",
    "\n",
    "import pandas as pd\n",
    "import numpy as np\n",
    "import seaborn as sn\n",
    "\n",
    "from sklearn.model_selection import cross_val_score,  StratifiedKFold\n",
    "import matplotlib.pyplot as plt \n",
    "from sklearn.model_selection import train_test_split\n",
    "from sklearn.preprocessing import StandardScaler\n",
    "from sklearn.model_selection import GridSearchCV\n",
    "from sklearn.metrics import confusion_matrix\n",
    "from sklearn.metrics import fbeta_score\n",
    "from sklearn.metrics import make_scorer\n",
    "\n",
    "\n",
    "from sklearn.model_selection import cross_val_score,  StratifiedKFold\n",
    "from sklearn.metrics import f1_score"
   ]
  },
  {
   "cell_type": "code",
   "execution_count": 2,
   "id": "279a77b9",
   "metadata": {},
   "outputs": [],
   "source": [
    "train_df=pd.read_csv(\"D:/STUDIA/ROK_II/Magisterka/Modele/Dane pierwotne/Dane_do_uczenia_T.csv\", encoding=\"utf-8\")\n",
    "del train_df['Unnamed: 0']"
   ]
  },
  {
   "cell_type": "code",
   "execution_count": 3,
   "id": "f42a0a92",
   "metadata": {},
   "outputs": [
    {
     "data": {
      "text/plain": [
       "T1    496\n",
       "T3    327\n",
       "T2    132\n",
       "Name: scale, dtype: int64"
      ]
     },
     "execution_count": 3,
     "metadata": {},
     "output_type": "execute_result"
    }
   ],
   "source": [
    "train_df['scale'].value_counts()"
   ]
  },
  {
   "cell_type": "code",
   "execution_count": 4,
   "id": "fabc6666",
   "metadata": {},
   "outputs": [
    {
     "data": {
      "text/html": [
       "<div>\n",
       "<style scoped>\n",
       "    .dataframe tbody tr th:only-of-type {\n",
       "        vertical-align: middle;\n",
       "    }\n",
       "\n",
       "    .dataframe tbody tr th {\n",
       "        vertical-align: top;\n",
       "    }\n",
       "\n",
       "    .dataframe thead th {\n",
       "        text-align: right;\n",
       "    }\n",
       "</style>\n",
       "<table border=\"1\" class=\"dataframe\">\n",
       "  <thead>\n",
       "    <tr style=\"text-align: right;\">\n",
       "      <th></th>\n",
       "      <th>ENSG00000168779.18</th>\n",
       "      <th>ENSG00000043355.9</th>\n",
       "      <th>ENSG00000139800.8</th>\n",
       "      <th>ENSG00000095752.5</th>\n",
       "      <th>ENSG00000114270.14</th>\n",
       "      <th>ENSG00000143320.7</th>\n",
       "      <th>ENSG00000104112.7</th>\n",
       "      <th>ENSG00000168703.5</th>\n",
       "      <th>ENSG00000116176.6</th>\n",
       "      <th>ENSG00000188523.7</th>\n",
       "      <th>...</th>\n",
       "      <th>ENSG00000104755.13</th>\n",
       "      <th>ENSG00000250256.1</th>\n",
       "      <th>ENSG00000259447.1</th>\n",
       "      <th>ENSG00000235864.1</th>\n",
       "      <th>ENSG00000227718.1</th>\n",
       "      <th>ENSG00000229370.1</th>\n",
       "      <th>ENSG00000254434.1</th>\n",
       "      <th>ENSG00000233146.1</th>\n",
       "      <th>ENSG00000251969.3</th>\n",
       "      <th>scale</th>\n",
       "    </tr>\n",
       "  </thead>\n",
       "  <tbody>\n",
       "    <tr>\n",
       "      <th>0</th>\n",
       "      <td>6.418540</td>\n",
       "      <td>2.139513</td>\n",
       "      <td>2.139513</td>\n",
       "      <td>9.984396</td>\n",
       "      <td>139.068370</td>\n",
       "      <td>134.076172</td>\n",
       "      <td>11.410738</td>\n",
       "      <td>67.038086</td>\n",
       "      <td>173.300584</td>\n",
       "      <td>16.402936</td>\n",
       "      <td>...</td>\n",
       "      <td>0.000000</td>\n",
       "      <td>0.000000</td>\n",
       "      <td>0.000000</td>\n",
       "      <td>0.000000</td>\n",
       "      <td>0.000000</td>\n",
       "      <td>0.0</td>\n",
       "      <td>1.426342</td>\n",
       "      <td>0.713171</td>\n",
       "      <td>0.000000</td>\n",
       "      <td>T1</td>\n",
       "    </tr>\n",
       "    <tr>\n",
       "      <th>1</th>\n",
       "      <td>4.254904</td>\n",
       "      <td>0.850981</td>\n",
       "      <td>0.000000</td>\n",
       "      <td>0.850981</td>\n",
       "      <td>45.101982</td>\n",
       "      <td>22.125501</td>\n",
       "      <td>84.247098</td>\n",
       "      <td>1.701962</td>\n",
       "      <td>11.913731</td>\n",
       "      <td>5.956866</td>\n",
       "      <td>...</td>\n",
       "      <td>0.850981</td>\n",
       "      <td>0.000000</td>\n",
       "      <td>0.850981</td>\n",
       "      <td>0.000000</td>\n",
       "      <td>0.000000</td>\n",
       "      <td>0.0</td>\n",
       "      <td>0.000000</td>\n",
       "      <td>0.000000</td>\n",
       "      <td>0.000000</td>\n",
       "      <td>T1</td>\n",
       "    </tr>\n",
       "    <tr>\n",
       "      <th>2</th>\n",
       "      <td>1.931528</td>\n",
       "      <td>0.643843</td>\n",
       "      <td>0.000000</td>\n",
       "      <td>40.562078</td>\n",
       "      <td>452.621281</td>\n",
       "      <td>237.577884</td>\n",
       "      <td>6.438425</td>\n",
       "      <td>0.000000</td>\n",
       "      <td>16.096063</td>\n",
       "      <td>3.219213</td>\n",
       "      <td>...</td>\n",
       "      <td>0.000000</td>\n",
       "      <td>0.000000</td>\n",
       "      <td>0.643843</td>\n",
       "      <td>0.000000</td>\n",
       "      <td>0.000000</td>\n",
       "      <td>0.0</td>\n",
       "      <td>0.000000</td>\n",
       "      <td>0.000000</td>\n",
       "      <td>0.000000</td>\n",
       "      <td>T1</td>\n",
       "    </tr>\n",
       "    <tr>\n",
       "      <th>3</th>\n",
       "      <td>0.870129</td>\n",
       "      <td>0.000000</td>\n",
       "      <td>0.000000</td>\n",
       "      <td>123.558325</td>\n",
       "      <td>773.544728</td>\n",
       "      <td>262.778974</td>\n",
       "      <td>15.662323</td>\n",
       "      <td>2.610387</td>\n",
       "      <td>70.480453</td>\n",
       "      <td>1.740258</td>\n",
       "      <td>...</td>\n",
       "      <td>0.000000</td>\n",
       "      <td>0.000000</td>\n",
       "      <td>0.000000</td>\n",
       "      <td>0.000000</td>\n",
       "      <td>0.000000</td>\n",
       "      <td>0.0</td>\n",
       "      <td>0.000000</td>\n",
       "      <td>0.000000</td>\n",
       "      <td>0.870129</td>\n",
       "      <td>T1</td>\n",
       "    </tr>\n",
       "    <tr>\n",
       "      <th>4</th>\n",
       "      <td>2.718041</td>\n",
       "      <td>2.718041</td>\n",
       "      <td>2.718041</td>\n",
       "      <td>39.411591</td>\n",
       "      <td>145.415179</td>\n",
       "      <td>88.336324</td>\n",
       "      <td>19.026285</td>\n",
       "      <td>1167.398495</td>\n",
       "      <td>16.308244</td>\n",
       "      <td>16.308244</td>\n",
       "      <td>...</td>\n",
       "      <td>1.359020</td>\n",
       "      <td>0.000000</td>\n",
       "      <td>1.359020</td>\n",
       "      <td>1.359020</td>\n",
       "      <td>1.359020</td>\n",
       "      <td>0.0</td>\n",
       "      <td>0.000000</td>\n",
       "      <td>0.000000</td>\n",
       "      <td>0.000000</td>\n",
       "      <td>T1</td>\n",
       "    </tr>\n",
       "    <tr>\n",
       "      <th>...</th>\n",
       "      <td>...</td>\n",
       "      <td>...</td>\n",
       "      <td>...</td>\n",
       "      <td>...</td>\n",
       "      <td>...</td>\n",
       "      <td>...</td>\n",
       "      <td>...</td>\n",
       "      <td>...</td>\n",
       "      <td>...</td>\n",
       "      <td>...</td>\n",
       "      <td>...</td>\n",
       "      <td>...</td>\n",
       "      <td>...</td>\n",
       "      <td>...</td>\n",
       "      <td>...</td>\n",
       "      <td>...</td>\n",
       "      <td>...</td>\n",
       "      <td>...</td>\n",
       "      <td>...</td>\n",
       "      <td>...</td>\n",
       "      <td>...</td>\n",
       "    </tr>\n",
       "    <tr>\n",
       "      <th>950</th>\n",
       "      <td>12.991861</td>\n",
       "      <td>2.362157</td>\n",
       "      <td>0.000000</td>\n",
       "      <td>1.181078</td>\n",
       "      <td>242.121051</td>\n",
       "      <td>54.329602</td>\n",
       "      <td>11.810783</td>\n",
       "      <td>3.543235</td>\n",
       "      <td>120.469986</td>\n",
       "      <td>1.181078</td>\n",
       "      <td>...</td>\n",
       "      <td>1.181078</td>\n",
       "      <td>0.000000</td>\n",
       "      <td>0.000000</td>\n",
       "      <td>0.000000</td>\n",
       "      <td>0.000000</td>\n",
       "      <td>0.0</td>\n",
       "      <td>0.000000</td>\n",
       "      <td>0.000000</td>\n",
       "      <td>0.000000</td>\n",
       "      <td>T3</td>\n",
       "    </tr>\n",
       "    <tr>\n",
       "      <th>951</th>\n",
       "      <td>9.498885</td>\n",
       "      <td>0.527716</td>\n",
       "      <td>0.000000</td>\n",
       "      <td>6.332590</td>\n",
       "      <td>184.172817</td>\n",
       "      <td>132.984384</td>\n",
       "      <td>8.971169</td>\n",
       "      <td>0.527716</td>\n",
       "      <td>26.913506</td>\n",
       "      <td>6.860306</td>\n",
       "      <td>...</td>\n",
       "      <td>0.527716</td>\n",
       "      <td>1.055432</td>\n",
       "      <td>0.000000</td>\n",
       "      <td>0.000000</td>\n",
       "      <td>0.000000</td>\n",
       "      <td>0.0</td>\n",
       "      <td>0.000000</td>\n",
       "      <td>0.000000</td>\n",
       "      <td>0.000000</td>\n",
       "      <td>T3</td>\n",
       "    </tr>\n",
       "    <tr>\n",
       "      <th>952</th>\n",
       "      <td>0.000000</td>\n",
       "      <td>0.000000</td>\n",
       "      <td>0.000000</td>\n",
       "      <td>0.000000</td>\n",
       "      <td>434.417898</td>\n",
       "      <td>118.161668</td>\n",
       "      <td>159.865787</td>\n",
       "      <td>152.915100</td>\n",
       "      <td>28.961193</td>\n",
       "      <td>77.615998</td>\n",
       "      <td>...</td>\n",
       "      <td>0.000000</td>\n",
       "      <td>0.000000</td>\n",
       "      <td>0.000000</td>\n",
       "      <td>1.158448</td>\n",
       "      <td>0.000000</td>\n",
       "      <td>0.0</td>\n",
       "      <td>0.000000</td>\n",
       "      <td>0.000000</td>\n",
       "      <td>0.000000</td>\n",
       "      <td>T3</td>\n",
       "    </tr>\n",
       "    <tr>\n",
       "      <th>953</th>\n",
       "      <td>24.591858</td>\n",
       "      <td>16.394572</td>\n",
       "      <td>0.000000</td>\n",
       "      <td>21.859430</td>\n",
       "      <td>1153.084920</td>\n",
       "      <td>2191.407833</td>\n",
       "      <td>13.662144</td>\n",
       "      <td>5.464857</td>\n",
       "      <td>360.680591</td>\n",
       "      <td>0.000000</td>\n",
       "      <td>...</td>\n",
       "      <td>0.000000</td>\n",
       "      <td>8.197286</td>\n",
       "      <td>0.000000</td>\n",
       "      <td>0.000000</td>\n",
       "      <td>2.732429</td>\n",
       "      <td>0.0</td>\n",
       "      <td>0.000000</td>\n",
       "      <td>0.000000</td>\n",
       "      <td>0.000000</td>\n",
       "      <td>T3</td>\n",
       "    </tr>\n",
       "    <tr>\n",
       "      <th>954</th>\n",
       "      <td>28.396133</td>\n",
       "      <td>0.000000</td>\n",
       "      <td>0.000000</td>\n",
       "      <td>2.839613</td>\n",
       "      <td>306.678235</td>\n",
       "      <td>16.327776</td>\n",
       "      <td>9.938647</td>\n",
       "      <td>0.000000</td>\n",
       "      <td>27.686230</td>\n",
       "      <td>1.419807</td>\n",
       "      <td>...</td>\n",
       "      <td>1.419807</td>\n",
       "      <td>0.000000</td>\n",
       "      <td>0.000000</td>\n",
       "      <td>0.000000</td>\n",
       "      <td>0.000000</td>\n",
       "      <td>0.0</td>\n",
       "      <td>0.000000</td>\n",
       "      <td>1.419807</td>\n",
       "      <td>0.000000</td>\n",
       "      <td>T3</td>\n",
       "    </tr>\n",
       "  </tbody>\n",
       "</table>\n",
       "<p>955 rows × 106 columns</p>\n",
       "</div>"
      ],
      "text/plain": [
       "     ENSG00000168779.18  ENSG00000043355.9  ENSG00000139800.8  \\\n",
       "0              6.418540           2.139513           2.139513   \n",
       "1              4.254904           0.850981           0.000000   \n",
       "2              1.931528           0.643843           0.000000   \n",
       "3              0.870129           0.000000           0.000000   \n",
       "4              2.718041           2.718041           2.718041   \n",
       "..                  ...                ...                ...   \n",
       "950           12.991861           2.362157           0.000000   \n",
       "951            9.498885           0.527716           0.000000   \n",
       "952            0.000000           0.000000           0.000000   \n",
       "953           24.591858          16.394572           0.000000   \n",
       "954           28.396133           0.000000           0.000000   \n",
       "\n",
       "     ENSG00000095752.5  ENSG00000114270.14  ENSG00000143320.7  \\\n",
       "0             9.984396          139.068370         134.076172   \n",
       "1             0.850981           45.101982          22.125501   \n",
       "2            40.562078          452.621281         237.577884   \n",
       "3           123.558325          773.544728         262.778974   \n",
       "4            39.411591          145.415179          88.336324   \n",
       "..                 ...                 ...                ...   \n",
       "950           1.181078          242.121051          54.329602   \n",
       "951           6.332590          184.172817         132.984384   \n",
       "952           0.000000          434.417898         118.161668   \n",
       "953          21.859430         1153.084920        2191.407833   \n",
       "954           2.839613          306.678235          16.327776   \n",
       "\n",
       "     ENSG00000104112.7  ENSG00000168703.5  ENSG00000116176.6  \\\n",
       "0            11.410738          67.038086         173.300584   \n",
       "1            84.247098           1.701962          11.913731   \n",
       "2             6.438425           0.000000          16.096063   \n",
       "3            15.662323           2.610387          70.480453   \n",
       "4            19.026285        1167.398495          16.308244   \n",
       "..                 ...                ...                ...   \n",
       "950          11.810783           3.543235         120.469986   \n",
       "951           8.971169           0.527716          26.913506   \n",
       "952         159.865787         152.915100          28.961193   \n",
       "953          13.662144           5.464857         360.680591   \n",
       "954           9.938647           0.000000          27.686230   \n",
       "\n",
       "     ENSG00000188523.7  ...  ENSG00000104755.13  ENSG00000250256.1  \\\n",
       "0            16.402936  ...            0.000000           0.000000   \n",
       "1             5.956866  ...            0.850981           0.000000   \n",
       "2             3.219213  ...            0.000000           0.000000   \n",
       "3             1.740258  ...            0.000000           0.000000   \n",
       "4            16.308244  ...            1.359020           0.000000   \n",
       "..                 ...  ...                 ...                ...   \n",
       "950           1.181078  ...            1.181078           0.000000   \n",
       "951           6.860306  ...            0.527716           1.055432   \n",
       "952          77.615998  ...            0.000000           0.000000   \n",
       "953           0.000000  ...            0.000000           8.197286   \n",
       "954           1.419807  ...            1.419807           0.000000   \n",
       "\n",
       "     ENSG00000259447.1  ENSG00000235864.1  ENSG00000227718.1  \\\n",
       "0             0.000000           0.000000           0.000000   \n",
       "1             0.850981           0.000000           0.000000   \n",
       "2             0.643843           0.000000           0.000000   \n",
       "3             0.000000           0.000000           0.000000   \n",
       "4             1.359020           1.359020           1.359020   \n",
       "..                 ...                ...                ...   \n",
       "950           0.000000           0.000000           0.000000   \n",
       "951           0.000000           0.000000           0.000000   \n",
       "952           0.000000           1.158448           0.000000   \n",
       "953           0.000000           0.000000           2.732429   \n",
       "954           0.000000           0.000000           0.000000   \n",
       "\n",
       "     ENSG00000229370.1  ENSG00000254434.1  ENSG00000233146.1  \\\n",
       "0                  0.0           1.426342           0.713171   \n",
       "1                  0.0           0.000000           0.000000   \n",
       "2                  0.0           0.000000           0.000000   \n",
       "3                  0.0           0.000000           0.000000   \n",
       "4                  0.0           0.000000           0.000000   \n",
       "..                 ...                ...                ...   \n",
       "950                0.0           0.000000           0.000000   \n",
       "951                0.0           0.000000           0.000000   \n",
       "952                0.0           0.000000           0.000000   \n",
       "953                0.0           0.000000           0.000000   \n",
       "954                0.0           0.000000           1.419807   \n",
       "\n",
       "     ENSG00000251969.3  scale  \n",
       "0             0.000000     T1  \n",
       "1             0.000000     T1  \n",
       "2             0.000000     T1  \n",
       "3             0.870129     T1  \n",
       "4             0.000000     T1  \n",
       "..                 ...    ...  \n",
       "950           0.000000     T3  \n",
       "951           0.000000     T3  \n",
       "952           0.000000     T3  \n",
       "953           0.000000     T3  \n",
       "954           0.000000     T3  \n",
       "\n",
       "[955 rows x 106 columns]"
      ]
     },
     "execution_count": 4,
     "metadata": {},
     "output_type": "execute_result"
    }
   ],
   "source": [
    "train_df"
   ]
  },
  {
   "cell_type": "code",
   "execution_count": 5,
   "id": "3180108a",
   "metadata": {},
   "outputs": [],
   "source": [
    "y=train_df['scale']\n",
    "del train_df['scale']"
   ]
  },
  {
   "cell_type": "code",
   "execution_count": 6,
   "id": "522dde88",
   "metadata": {},
   "outputs": [],
   "source": [
    "zestaw_caly = np.array(train_df)\n",
    "caly_label = np.array(y)"
   ]
  },
  {
   "cell_type": "code",
   "execution_count": 29,
   "id": "4957e16d",
   "metadata": {},
   "outputs": [],
   "source": [
    "ftwo_scorer = make_scorer(f1_score,greater_is_better=True, average='macro')\n"
   ]
  },
  {
   "cell_type": "code",
   "execution_count": 51,
   "id": "dd52d646",
   "metadata": {},
   "outputs": [],
   "source": [
    "param_grid = {\n",
    "    'criterion':['gini', 'entropy'],\n",
    "    'splitter':['best', 'random'],\n",
    "    'min_samples_split':range(2,30,5),\n",
    "    'min_samples_leaf': range(1,30,5),    \n",
    "    'max_leaf_nodes':range(2,30,5),\n",
    "    'min_impurity_decrease':[0,0.1,0.2],\n",
    "    'max_depth':list(range(2, 30,5))\n",
    "}"
   ]
  },
  {
   "cell_type": "code",
   "execution_count": 52,
   "id": "9c029bf3",
   "metadata": {},
   "outputs": [
    {
     "name": "stdout",
     "output_type": "stream",
     "text": [
      "Fitting 5 folds for each of 15552 candidates, totalling 77760 fits\n"
     ]
    },
    {
     "data": {
      "text/plain": [
       "GridSearchCV(cv=5, estimator=DecisionTreeClassifier(random_state=42), n_jobs=6,\n",
       "             param_grid={'criterion': ['gini', 'entropy'],\n",
       "                         'max_depth': [2, 7, 12, 17, 22, 27],\n",
       "                         'max_leaf_nodes': range(2, 30, 5),\n",
       "                         'min_impurity_decrease': [0, 0.1, 0.2],\n",
       "                         'min_samples_leaf': range(1, 30, 5),\n",
       "                         'min_samples_split': range(2, 30, 5),\n",
       "                         'splitter': ['best', 'random']},\n",
       "             scoring=make_scorer(f1_score, average=macro), verbose=1)"
      ]
     },
     "execution_count": 52,
     "metadata": {},
     "output_type": "execute_result"
    }
   ],
   "source": [
    "dt_1 = DecisionTreeClassifier(random_state=42)\n",
    "grid_search_1 = GridSearchCV(estimator = dt_1, param_grid = param_grid, \n",
    "                          cv = 5, n_jobs = 6, verbose = 1,scoring=ftwo_scorer)\n",
    "grid_search_1.fit(zestaw_caly, np.ravel(caly_label))"
   ]
  },
  {
   "cell_type": "code",
   "execution_count": 53,
   "id": "f9317496",
   "metadata": {},
   "outputs": [
    {
     "data": {
      "text/plain": [
       "0.47615768040512796"
      ]
     },
     "execution_count": 53,
     "metadata": {},
     "output_type": "execute_result"
    }
   ],
   "source": [
    "grid_search_1.best_score_"
   ]
  },
  {
   "cell_type": "code",
   "execution_count": 54,
   "id": "2be67130",
   "metadata": {},
   "outputs": [
    {
     "data": {
      "text/plain": [
       "{'criterion': 'entropy',\n",
       " 'max_depth': 22,\n",
       " 'max_leaf_nodes': 27,\n",
       " 'min_impurity_decrease': 0,\n",
       " 'min_samples_leaf': 1,\n",
       " 'min_samples_split': 27,\n",
       " 'splitter': 'random'}"
      ]
     },
     "execution_count": 54,
     "metadata": {},
     "output_type": "execute_result"
    }
   ],
   "source": [
    "grid_search_1.best_params_"
   ]
  },
  {
   "cell_type": "markdown",
   "id": "320527b1",
   "metadata": {},
   "source": [
    "### Dobieranie part.2"
   ]
  },
  {
   "cell_type": "code",
   "execution_count": 55,
   "id": "35902df6",
   "metadata": {},
   "outputs": [],
   "source": [
    "param_grid = {\n",
    "    'criterion':['gini', 'entropy'],\n",
    "    'splitter':['best', 'random'],\n",
    "    'min_samples_split':range(20,45,5),\n",
    "    'min_samples_leaf': range(1,12,5),    \n",
    "    'max_leaf_nodes':range(20,60,5),\n",
    "    'min_impurity_decrease':[0],\n",
    "    'max_depth':list(range(15, 45,5))\n",
    "}"
   ]
  },
  {
   "cell_type": "code",
   "execution_count": 56,
   "id": "98e6dd1b",
   "metadata": {},
   "outputs": [
    {
     "name": "stdout",
     "output_type": "stream",
     "text": [
      "Fitting 5 folds for each of 2880 candidates, totalling 14400 fits\n"
     ]
    },
    {
     "data": {
      "text/plain": [
       "GridSearchCV(cv=5, estimator=DecisionTreeClassifier(random_state=42), n_jobs=4,\n",
       "             param_grid={'criterion': ['gini', 'entropy'],\n",
       "                         'max_depth': [15, 20, 25, 30, 35, 40],\n",
       "                         'max_leaf_nodes': range(20, 60, 5),\n",
       "                         'min_impurity_decrease': [0],\n",
       "                         'min_samples_leaf': range(1, 12, 5),\n",
       "                         'min_samples_split': range(20, 45, 5),\n",
       "                         'splitter': ['best', 'random']},\n",
       "             scoring=make_scorer(f1_score, average=macro), verbose=1)"
      ]
     },
     "execution_count": 56,
     "metadata": {},
     "output_type": "execute_result"
    }
   ],
   "source": [
    "dt_1 = DecisionTreeClassifier(random_state=42)\n",
    "grid_search_1 = GridSearchCV(estimator = dt_1, param_grid = param_grid, \n",
    "                          cv = 5, n_jobs = 4, verbose = 1,scoring=ftwo_scorer)\n",
    "grid_search_1.fit(zestaw_caly, np.ravel(caly_label))"
   ]
  },
  {
   "cell_type": "code",
   "execution_count": 57,
   "id": "7bbe4ec1",
   "metadata": {},
   "outputs": [
    {
     "data": {
      "text/plain": [
       "0.4952924644555834"
      ]
     },
     "execution_count": 57,
     "metadata": {},
     "output_type": "execute_result"
    }
   ],
   "source": [
    "grid_search_1.best_score_"
   ]
  },
  {
   "cell_type": "code",
   "execution_count": 58,
   "id": "51192b0c",
   "metadata": {},
   "outputs": [
    {
     "data": {
      "text/plain": [
       "{'criterion': 'entropy',\n",
       " 'max_depth': 20,\n",
       " 'max_leaf_nodes': 55,\n",
       " 'min_impurity_decrease': 0,\n",
       " 'min_samples_leaf': 1,\n",
       " 'min_samples_split': 35,\n",
       " 'splitter': 'random'}"
      ]
     },
     "execution_count": 58,
     "metadata": {},
     "output_type": "execute_result"
    }
   ],
   "source": [
    "grid_search_1.best_params_"
   ]
  },
  {
   "cell_type": "markdown",
   "id": "3183fcfe",
   "metadata": {},
   "source": [
    "## Dobieranie part .4"
   ]
  },
  {
   "cell_type": "code",
   "execution_count": 59,
   "id": "4f4627b7",
   "metadata": {},
   "outputs": [],
   "source": [
    "param_grid = {\n",
    "    'criterion':['entropy'],\n",
    "    'splitter':['random'],\n",
    "    'min_samples_split':range(20,45,5),\n",
    "    'min_samples_leaf': range(1,6,1),    \n",
    "    'max_leaf_nodes':range(50,90,5),\n",
    "    'min_impurity_decrease':[0],\n",
    "    'max_depth':list(range(15, 40,5))\n",
    "}"
   ]
  },
  {
   "cell_type": "code",
   "execution_count": 60,
   "id": "b0b0eda5",
   "metadata": {},
   "outputs": [
    {
     "name": "stdout",
     "output_type": "stream",
     "text": [
      "Fitting 5 folds for each of 1000 candidates, totalling 5000 fits\n"
     ]
    },
    {
     "data": {
      "text/plain": [
       "GridSearchCV(cv=5, estimator=DecisionTreeClassifier(random_state=42), n_jobs=6,\n",
       "             param_grid={'criterion': ['entropy'],\n",
       "                         'max_depth': [15, 20, 25, 30, 35],\n",
       "                         'max_leaf_nodes': range(50, 90, 5),\n",
       "                         'min_impurity_decrease': [0],\n",
       "                         'min_samples_leaf': range(1, 6),\n",
       "                         'min_samples_split': range(20, 45, 5),\n",
       "                         'splitter': ['random']},\n",
       "             scoring=make_scorer(f1_score, average=macro), verbose=1)"
      ]
     },
     "execution_count": 60,
     "metadata": {},
     "output_type": "execute_result"
    }
   ],
   "source": [
    "dt_1 = DecisionTreeClassifier(random_state=42)\n",
    "grid_search_1 = GridSearchCV(estimator = dt_1, param_grid = param_grid, \n",
    "                          cv = 5, n_jobs = 6, verbose = 1,scoring=ftwo_scorer)\n",
    "grid_search_1.fit(zestaw_caly, np.ravel(caly_label))"
   ]
  },
  {
   "cell_type": "code",
   "execution_count": 61,
   "id": "32007ce1",
   "metadata": {},
   "outputs": [
    {
     "data": {
      "text/plain": [
       "0.49618240063413754"
      ]
     },
     "execution_count": 61,
     "metadata": {},
     "output_type": "execute_result"
    }
   ],
   "source": [
    "grid_search_1.best_score_"
   ]
  },
  {
   "cell_type": "code",
   "execution_count": 62,
   "id": "5f85befb",
   "metadata": {},
   "outputs": [
    {
     "data": {
      "text/plain": [
       "{'criterion': 'entropy',\n",
       " 'max_depth': 20,\n",
       " 'max_leaf_nodes': 60,\n",
       " 'min_impurity_decrease': 0,\n",
       " 'min_samples_leaf': 1,\n",
       " 'min_samples_split': 35,\n",
       " 'splitter': 'random'}"
      ]
     },
     "execution_count": 62,
     "metadata": {},
     "output_type": "execute_result"
    }
   ],
   "source": [
    "grid_search_1.best_params_"
   ]
  },
  {
   "cell_type": "markdown",
   "id": "97a1edf4",
   "metadata": {},
   "source": [
    "## Dobieranie part .5"
   ]
  },
  {
   "cell_type": "code",
   "execution_count": 69,
   "id": "94bfce69",
   "metadata": {},
   "outputs": [],
   "source": [
    "param_grid = {\n",
    "    'criterion':['entropy'],\n",
    "    'splitter':['random'],\n",
    "    'min_samples_split':range(30,40,1),\n",
    "    'min_samples_leaf': range(1,4,1),    \n",
    "    'max_leaf_nodes':range(50,65,1),\n",
    "    'min_impurity_decrease':[0],\n",
    "    'max_depth':list(range(15, 25,1))\n",
    "}"
   ]
  },
  {
   "cell_type": "code",
   "execution_count": 70,
   "id": "8cf0c2fe",
   "metadata": {},
   "outputs": [
    {
     "name": "stdout",
     "output_type": "stream",
     "text": [
      "Fitting 5 folds for each of 4500 candidates, totalling 22500 fits\n"
     ]
    },
    {
     "data": {
      "text/plain": [
       "GridSearchCV(cv=5, estimator=DecisionTreeClassifier(random_state=42), n_jobs=6,\n",
       "             param_grid={'criterion': ['entropy'],\n",
       "                         'max_depth': [15, 16, 17, 18, 19, 20, 21, 22, 23, 24],\n",
       "                         'max_leaf_nodes': range(50, 65),\n",
       "                         'min_impurity_decrease': [0],\n",
       "                         'min_samples_leaf': range(1, 4),\n",
       "                         'min_samples_split': range(30, 40),\n",
       "                         'splitter': ['random']},\n",
       "             scoring=make_scorer(f1_score, average=macro), verbose=1)"
      ]
     },
     "execution_count": 70,
     "metadata": {},
     "output_type": "execute_result"
    }
   ],
   "source": [
    "dt_1 = DecisionTreeClassifier(random_state=42)\n",
    "grid_search_1 = GridSearchCV(estimator = dt_1, param_grid = param_grid, \n",
    "                          cv = 5, n_jobs = 6, verbose = 1,scoring=ftwo_scorer)\n",
    "grid_search_1.fit(zestaw_caly, np.ravel(caly_label))"
   ]
  },
  {
   "cell_type": "code",
   "execution_count": 71,
   "id": "e30f591d",
   "metadata": {},
   "outputs": [
    {
     "data": {
      "text/plain": [
       "0.5005996819418085"
      ]
     },
     "execution_count": 71,
     "metadata": {},
     "output_type": "execute_result"
    }
   ],
   "source": [
    "grid_search_1.best_score_"
   ]
  },
  {
   "cell_type": "code",
   "execution_count": 72,
   "id": "ccf4fa59",
   "metadata": {},
   "outputs": [
    {
     "data": {
      "text/plain": [
       "{'criterion': 'entropy',\n",
       " 'max_depth': 18,\n",
       " 'max_leaf_nodes': 51,\n",
       " 'min_impurity_decrease': 0,\n",
       " 'min_samples_leaf': 2,\n",
       " 'min_samples_split': 35,\n",
       " 'splitter': 'random'}"
      ]
     },
     "execution_count": 72,
     "metadata": {},
     "output_type": "execute_result"
    }
   ],
   "source": [
    "grid_search_1.best_params_"
   ]
  },
  {
   "cell_type": "code",
   "execution_count": 73,
   "id": "259d0452",
   "metadata": {},
   "outputs": [
    {
     "data": {
      "text/plain": [
       "DecisionTreeClassifier(criterion='entropy', max_depth=18, max_leaf_nodes=51,\n",
       "                       min_impurity_decrease=0, min_samples_leaf=2,\n",
       "                       min_samples_split=35, random_state=42,\n",
       "                       splitter='random')"
      ]
     },
     "execution_count": 73,
     "metadata": {},
     "output_type": "execute_result"
    }
   ],
   "source": [
    "grid_search_1.best_estimator_"
   ]
  },
  {
   "cell_type": "markdown",
   "id": "b7122ba7",
   "metadata": {},
   "source": [
    "## Cross-walidacja"
   ]
  },
  {
   "cell_type": "code",
   "execution_count": 74,
   "id": "bc0a7484",
   "metadata": {},
   "outputs": [],
   "source": [
    "kfold = StratifiedKFold(n_splits=5, shuffle=True,random_state=42)\n",
    "dane_do_zapisu_2=pd.DataFrame()\n",
    "licznik=1\n",
    "wart_2=[]\n",
    "for train, test in kfold.split(zestaw_caly, caly_label):\n",
    "    dt_2 =DecisionTreeClassifier(criterion='entropy', max_depth=18, max_leaf_nodes=51,\n",
    "                       min_impurity_decrease=0, min_samples_leaf=2,\n",
    "                       min_samples_split=35, random_state=42,\n",
    "                       splitter='random')\n",
    "    \n",
    "\n",
    "    dt_2.fit(zestaw_caly[train], caly_label[train])\n",
    "    predykcje=dt_2.predict(zestaw_caly[test])\n",
    "    dane_folda_2=pd.DataFrame({\"pred\": predykcje.ravel(),\n",
    "                                \"obs\": caly_label[test],\n",
    "                                \"Fold\":licznik})\n",
    "    dane_do_zapisu_2=pd.concat([dane_do_zapisu_2,dane_folda_2])\n",
    "    blad=f1_score(caly_label[test], predykcje,average='macro')\n",
    "    wart_2.append(blad)\n",
    "    licznik+=1"
   ]
  },
  {
   "cell_type": "code",
   "execution_count": 75,
   "id": "13e9f2ae",
   "metadata": {},
   "outputs": [],
   "source": [
    "dane_do_zapisu_2.to_csv('D:\\\\STUDIA\\\\ROK_II\\\\Magisterka\\\\Modele\\\\Dane pierwotne\\\\Dane z cross-walidacji\\\\Klasa_T_Drzewo_decyzyjne.csv')"
   ]
  },
  {
   "cell_type": "code",
   "execution_count": 2,
   "id": "365a78db",
   "metadata": {},
   "outputs": [],
   "source": [
    "dane_do_zapisu_2=pd.read_csv('D:\\\\STUDIA\\\\ROK_II\\\\Magisterka\\\\Modele\\\\Dane pierwotne\\\\Dane z cross-walidacji\\\\T\\\\Klasa_T_Drzewo_decyzyjne.csv')"
   ]
  },
  {
   "cell_type": "code",
   "execution_count": 76,
   "id": "6042aff3",
   "metadata": {},
   "outputs": [
    {
     "data": {
      "text/plain": [
       "[0.41840954744180553,\n",
       " 0.5253790375741595,\n",
       " 0.4736968821475864,\n",
       " 0.39177225471085125,\n",
       " 0.4050182407180379]"
      ]
     },
     "execution_count": 76,
     "metadata": {},
     "output_type": "execute_result"
    }
   ],
   "source": [
    "wart_2"
   ]
  },
  {
   "cell_type": "code",
   "execution_count": 84,
   "id": "7bed905c",
   "metadata": {},
   "outputs": [
    {
     "data": {
      "text/plain": [
       "0.44285519251848815"
      ]
     },
     "execution_count": 84,
     "metadata": {},
     "output_type": "execute_result"
    }
   ],
   "source": [
    "sum(wart_2)/5"
   ]
  },
  {
   "cell_type": "code",
   "execution_count": 77,
   "id": "2df5cd2f",
   "metadata": {},
   "outputs": [
    {
     "data": {
      "text/html": [
       "<div>\n",
       "<style scoped>\n",
       "    .dataframe tbody tr th:only-of-type {\n",
       "        vertical-align: middle;\n",
       "    }\n",
       "\n",
       "    .dataframe tbody tr th {\n",
       "        vertical-align: top;\n",
       "    }\n",
       "\n",
       "    .dataframe thead th {\n",
       "        text-align: right;\n",
       "    }\n",
       "</style>\n",
       "<table border=\"1\" class=\"dataframe\">\n",
       "  <thead>\n",
       "    <tr style=\"text-align: right;\">\n",
       "      <th></th>\n",
       "      <th>pred</th>\n",
       "      <th>obs</th>\n",
       "      <th>Fold</th>\n",
       "    </tr>\n",
       "  </thead>\n",
       "  <tbody>\n",
       "    <tr>\n",
       "      <th>0</th>\n",
       "      <td>T1</td>\n",
       "      <td>T1</td>\n",
       "      <td>1</td>\n",
       "    </tr>\n",
       "    <tr>\n",
       "      <th>1</th>\n",
       "      <td>T1</td>\n",
       "      <td>T1</td>\n",
       "      <td>1</td>\n",
       "    </tr>\n",
       "    <tr>\n",
       "      <th>2</th>\n",
       "      <td>T1</td>\n",
       "      <td>T1</td>\n",
       "      <td>1</td>\n",
       "    </tr>\n",
       "    <tr>\n",
       "      <th>3</th>\n",
       "      <td>T3</td>\n",
       "      <td>T1</td>\n",
       "      <td>1</td>\n",
       "    </tr>\n",
       "    <tr>\n",
       "      <th>4</th>\n",
       "      <td>T2</td>\n",
       "      <td>T1</td>\n",
       "      <td>1</td>\n",
       "    </tr>\n",
       "    <tr>\n",
       "      <th>...</th>\n",
       "      <td>...</td>\n",
       "      <td>...</td>\n",
       "      <td>...</td>\n",
       "    </tr>\n",
       "    <tr>\n",
       "      <th>186</th>\n",
       "      <td>T1</td>\n",
       "      <td>T3</td>\n",
       "      <td>5</td>\n",
       "    </tr>\n",
       "    <tr>\n",
       "      <th>187</th>\n",
       "      <td>T1</td>\n",
       "      <td>T3</td>\n",
       "      <td>5</td>\n",
       "    </tr>\n",
       "    <tr>\n",
       "      <th>188</th>\n",
       "      <td>T1</td>\n",
       "      <td>T3</td>\n",
       "      <td>5</td>\n",
       "    </tr>\n",
       "    <tr>\n",
       "      <th>189</th>\n",
       "      <td>T3</td>\n",
       "      <td>T3</td>\n",
       "      <td>5</td>\n",
       "    </tr>\n",
       "    <tr>\n",
       "      <th>190</th>\n",
       "      <td>T3</td>\n",
       "      <td>T3</td>\n",
       "      <td>5</td>\n",
       "    </tr>\n",
       "  </tbody>\n",
       "</table>\n",
       "<p>955 rows × 3 columns</p>\n",
       "</div>"
      ],
      "text/plain": [
       "    pred obs  Fold\n",
       "0     T1  T1     1\n",
       "1     T1  T1     1\n",
       "2     T1  T1     1\n",
       "3     T3  T1     1\n",
       "4     T2  T1     1\n",
       "..   ...  ..   ...\n",
       "186   T1  T3     5\n",
       "187   T1  T3     5\n",
       "188   T1  T3     5\n",
       "189   T3  T3     5\n",
       "190   T3  T3     5\n",
       "\n",
       "[955 rows x 3 columns]"
      ]
     },
     "execution_count": 77,
     "metadata": {},
     "output_type": "execute_result"
    }
   ],
   "source": [
    "dane_do_zapisu_2"
   ]
  },
  {
   "cell_type": "code",
   "execution_count": 3,
   "id": "bc2fdfe4",
   "metadata": {},
   "outputs": [],
   "source": [
    "cf_matrix = confusion_matrix(dane_do_zapisu_2['obs'], dane_do_zapisu_2['pred'])"
   ]
  },
  {
   "cell_type": "code",
   "execution_count": 4,
   "id": "f055872a",
   "metadata": {},
   "outputs": [
    {
     "data": {
      "text/plain": [
       "array([[372,  15, 109],\n",
       "       [ 66,  16,  50],\n",
       "       [156,  19, 152]], dtype=int64)"
      ]
     },
     "execution_count": 4,
     "metadata": {},
     "output_type": "execute_result"
    }
   ],
   "source": [
    "cf_matrix"
   ]
  },
  {
   "cell_type": "code",
   "execution_count": 5,
   "id": "b2821e97",
   "metadata": {},
   "outputs": [],
   "source": [
    "import seaborn as sns"
   ]
  },
  {
   "cell_type": "code",
   "execution_count": 6,
   "id": "d699c42b",
   "metadata": {},
   "outputs": [
    {
     "data": {
      "image/png": "[encoded data removed]",
      "text/plain": [
       "<Figure size 432x288 with 2 Axes>"
      ]
     },
     "metadata": {
      "needs_background": "light"
     },
     "output_type": "display_data"
    }
   ],
   "source": [
    "\n",
    "ax = plt.axes()\n",
    "sns.heatmap(cf_matrix, annot=True, fmt='g')\n",
    "\n",
    "ax.set_title('Dane pierwotne - Klasa T - DT')\n",
    "plt.ylabel('Rzeczywiste')\n",
    "plt.xlabel('Predykcja')\n",
    "plt.show()\n"
   ]
  },
  {
   "cell_type": "code",
   "execution_count": 7,
   "id": "ffc5cba4",
   "metadata": {},
   "outputs": [
    {
     "name": "stdout",
     "output_type": "stream",
     "text": [
      "Recall: 0.445\n",
      "Precision: 0.478\n",
      "F1score: 0.445\n"
     ]
    }
   ],
   "source": [
    "from sklearn.metrics import recall_score\n",
    "from sklearn.metrics import precision_score\n",
    "\n",
    "precision = precision_score(dane_do_zapisu_2['obs'], dane_do_zapisu_2['pred'],  average='macro')\n",
    "recall = recall_score(dane_do_zapisu_2['obs'], dane_do_zapisu_2['pred'],  average='macro')\n",
    "f1score=f1_score(dane_do_zapisu_2['obs'], dane_do_zapisu_2['pred'], average='macro')\n",
    "print('Recall: %.3f' % recall)\n",
    "print('Precision: %.3f' % precision)\n",
    "print('F1score: %.3f' % f1score)"
   ]
  },
  {
   "cell_type": "code",
   "execution_count": null,
   "id": "75ad9869",
   "metadata": {},
   "outputs": [],
   "source": []
  }
 ],
 "metadata": {
  "kernelspec": {
   "display_name": "Python 3 (ipykernel)",
   "language": "python",
   "name": "python3"
  },
  "language_info": {
   "codemirror_mode": {
    "name": "ipython",
    "version": 3
   },
   "file_extension": ".py",
   "mimetype": "text/x-python",
   "name": "python",
   "nbconvert_exporter": "python",
   "pygments_lexer": "ipython3",
   "version": "3.10.4"
  }
 },
 "nbformat": 4,
 "nbformat_minor": 5
}
