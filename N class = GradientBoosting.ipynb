{
 "cells": [
  {
   "cell_type": "code",
   "execution_count": 2,
   "id": "6216172e",
   "metadata": {},
   "outputs": [],
   "source": [
    "import pandas as pd\n",
    "import sklearn.tree\n",
    "import numpy as np\n",
    "from sklearn.ensemble import GradientBoostingClassifier\n",
    "#import dtreeviz.trees as dtv # importowanie dtreeviz\n",
    "from sklearn.model_selection import GridSearchCV\n",
    "#from dtreeviz.trees import *\n",
    "\n",
    "from sklearn.model_selection import train_test_split\n",
    "from sklearn.model_selection import cross_val_score, KFold\n",
    "from sklearn.metrics import mean_absolute_error\n",
    "import matplotlib.pyplot as plt \n",
    "\n",
    "from sklearn.metrics import make_scorer\n",
    "\n",
    "#import graphviz\n",
    "\n",
    "from sklearn.metrics import fbeta_score\n",
    "\n",
    "\n",
    "from sklearn.model_selection import cross_val_score,  StratifiedKFold\n"
   ]
  },
  {
   "cell_type": "code",
   "execution_count": 2,
   "id": "c4b9f5be",
   "metadata": {},
   "outputs": [],
   "source": [
    "train_df=pd.read_csv(\"D:/STUDIA/ROK_II/Magisterka/Modele/Dane pierwotne/Dane_do_uczenia_N.csv\", encoding=\"utf-8\")\n",
    "del train_df['Unnamed: 0']"
   ]
  },
  {
   "cell_type": "code",
   "execution_count": 3,
   "id": "eaf4dba2",
   "metadata": {},
   "outputs": [
    {
     "data": {
      "text/html": [
       "<div>\n",
       "<style scoped>\n",
       "    .dataframe tbody tr th:only-of-type {\n",
       "        vertical-align: middle;\n",
       "    }\n",
       "\n",
       "    .dataframe tbody tr th {\n",
       "        vertical-align: top;\n",
       "    }\n",
       "\n",
       "    .dataframe thead th {\n",
       "        text-align: right;\n",
       "    }\n",
       "</style>\n",
       "<table border=\"1\" class=\"dataframe\">\n",
       "  <thead>\n",
       "    <tr style=\"text-align: right;\">\n",
       "      <th></th>\n",
       "      <th>ENSG00000143512.11</th>\n",
       "      <th>ENSG00000130433.6</th>\n",
       "      <th>ENSG00000088726.14</th>\n",
       "      <th>ENSG00000149948.12</th>\n",
       "      <th>ENSG00000147689.15</th>\n",
       "      <th>ENSG00000181143.14</th>\n",
       "      <th>ENSG00000105278.9</th>\n",
       "      <th>ENSG00000086506.2</th>\n",
       "      <th>ENSG00000124102.4</th>\n",
       "      <th>ENSG00000175793.11</th>\n",
       "      <th>...</th>\n",
       "      <th>ENSG00000222024.2</th>\n",
       "      <th>ENSG00000255043.1</th>\n",
       "      <th>ENSG00000229418.2</th>\n",
       "      <th>ENSG00000249518.1</th>\n",
       "      <th>ENSG00000279301.1</th>\n",
       "      <th>ENSG00000251276.1</th>\n",
       "      <th>ENSG00000217236.1</th>\n",
       "      <th>ENSG00000046774.9</th>\n",
       "      <th>ENSG00000260958.2</th>\n",
       "      <th>scale</th>\n",
       "    </tr>\n",
       "  </thead>\n",
       "  <tbody>\n",
       "    <tr>\n",
       "      <th>0</th>\n",
       "      <td>13.858287</td>\n",
       "      <td>0.000000</td>\n",
       "      <td>1.154857</td>\n",
       "      <td>24.252002</td>\n",
       "      <td>4.619429</td>\n",
       "      <td>4105.517523</td>\n",
       "      <td>0.000000</td>\n",
       "      <td>0.000000</td>\n",
       "      <td>10.393715</td>\n",
       "      <td>120.105154</td>\n",
       "      <td>...</td>\n",
       "      <td>38.110289</td>\n",
       "      <td>13.858287</td>\n",
       "      <td>0.000000</td>\n",
       "      <td>32.336003</td>\n",
       "      <td>0.000000</td>\n",
       "      <td>3.464572</td>\n",
       "      <td>0.000000</td>\n",
       "      <td>0.000000</td>\n",
       "      <td>0.0</td>\n",
       "      <td>N0</td>\n",
       "    </tr>\n",
       "    <tr>\n",
       "      <th>1</th>\n",
       "      <td>1.070588</td>\n",
       "      <td>0.000000</td>\n",
       "      <td>2.141177</td>\n",
       "      <td>1.070588</td>\n",
       "      <td>1.070588</td>\n",
       "      <td>28.905887</td>\n",
       "      <td>0.000000</td>\n",
       "      <td>0.000000</td>\n",
       "      <td>4.282354</td>\n",
       "      <td>44.964713</td>\n",
       "      <td>...</td>\n",
       "      <td>0.000000</td>\n",
       "      <td>0.000000</td>\n",
       "      <td>0.000000</td>\n",
       "      <td>0.000000</td>\n",
       "      <td>1.070588</td>\n",
       "      <td>2.141177</td>\n",
       "      <td>0.000000</td>\n",
       "      <td>0.000000</td>\n",
       "      <td>0.0</td>\n",
       "      <td>N0</td>\n",
       "    </tr>\n",
       "    <tr>\n",
       "      <th>2</th>\n",
       "      <td>2.947029</td>\n",
       "      <td>17.682172</td>\n",
       "      <td>3.683786</td>\n",
       "      <td>13.998386</td>\n",
       "      <td>2.210272</td>\n",
       "      <td>42.731916</td>\n",
       "      <td>319.015856</td>\n",
       "      <td>1.473514</td>\n",
       "      <td>13.261629</td>\n",
       "      <td>375.009401</td>\n",
       "      <td>...</td>\n",
       "      <td>0.000000</td>\n",
       "      <td>0.000000</td>\n",
       "      <td>0.000000</td>\n",
       "      <td>8.841086</td>\n",
       "      <td>0.000000</td>\n",
       "      <td>0.000000</td>\n",
       "      <td>0.736757</td>\n",
       "      <td>0.000000</td>\n",
       "      <td>0.0</td>\n",
       "      <td>N0</td>\n",
       "    </tr>\n",
       "    <tr>\n",
       "      <th>3</th>\n",
       "      <td>0.510553</td>\n",
       "      <td>4.594978</td>\n",
       "      <td>1.531659</td>\n",
       "      <td>14.806042</td>\n",
       "      <td>2.042213</td>\n",
       "      <td>0.510553</td>\n",
       "      <td>10.211063</td>\n",
       "      <td>1.021106</td>\n",
       "      <td>12.763829</td>\n",
       "      <td>320.627385</td>\n",
       "      <td>...</td>\n",
       "      <td>0.000000</td>\n",
       "      <td>1.021106</td>\n",
       "      <td>0.510553</td>\n",
       "      <td>0.000000</td>\n",
       "      <td>0.000000</td>\n",
       "      <td>0.000000</td>\n",
       "      <td>0.000000</td>\n",
       "      <td>0.000000</td>\n",
       "      <td>0.0</td>\n",
       "      <td>N0</td>\n",
       "    </tr>\n",
       "    <tr>\n",
       "      <th>4</th>\n",
       "      <td>2.145565</td>\n",
       "      <td>2.860754</td>\n",
       "      <td>15.734146</td>\n",
       "      <td>207.404649</td>\n",
       "      <td>0.715188</td>\n",
       "      <td>69.373279</td>\n",
       "      <td>1.430377</td>\n",
       "      <td>1.430377</td>\n",
       "      <td>745.941546</td>\n",
       "      <td>949.770253</td>\n",
       "      <td>...</td>\n",
       "      <td>0.000000</td>\n",
       "      <td>0.000000</td>\n",
       "      <td>0.000000</td>\n",
       "      <td>0.715188</td>\n",
       "      <td>0.000000</td>\n",
       "      <td>0.715188</td>\n",
       "      <td>0.000000</td>\n",
       "      <td>0.715188</td>\n",
       "      <td>0.0</td>\n",
       "      <td>N0</td>\n",
       "    </tr>\n",
       "    <tr>\n",
       "      <th>...</th>\n",
       "      <td>...</td>\n",
       "      <td>...</td>\n",
       "      <td>...</td>\n",
       "      <td>...</td>\n",
       "      <td>...</td>\n",
       "      <td>...</td>\n",
       "      <td>...</td>\n",
       "      <td>...</td>\n",
       "      <td>...</td>\n",
       "      <td>...</td>\n",
       "      <td>...</td>\n",
       "      <td>...</td>\n",
       "      <td>...</td>\n",
       "      <td>...</td>\n",
       "      <td>...</td>\n",
       "      <td>...</td>\n",
       "      <td>...</td>\n",
       "      <td>...</td>\n",
       "      <td>...</td>\n",
       "      <td>...</td>\n",
       "      <td>...</td>\n",
       "    </tr>\n",
       "    <tr>\n",
       "      <th>969</th>\n",
       "      <td>27.385616</td>\n",
       "      <td>90.372531</td>\n",
       "      <td>0.000000</td>\n",
       "      <td>301.241772</td>\n",
       "      <td>27.385616</td>\n",
       "      <td>60.248354</td>\n",
       "      <td>16.431369</td>\n",
       "      <td>0.000000</td>\n",
       "      <td>657.254774</td>\n",
       "      <td>230.039171</td>\n",
       "      <td>...</td>\n",
       "      <td>5.477123</td>\n",
       "      <td>2.738562</td>\n",
       "      <td>0.000000</td>\n",
       "      <td>0.000000</td>\n",
       "      <td>0.000000</td>\n",
       "      <td>0.000000</td>\n",
       "      <td>2.738562</td>\n",
       "      <td>2.738562</td>\n",
       "      <td>0.0</td>\n",
       "      <td>NX</td>\n",
       "    </tr>\n",
       "    <tr>\n",
       "      <th>970</th>\n",
       "      <td>1.893234</td>\n",
       "      <td>1.262156</td>\n",
       "      <td>2.524312</td>\n",
       "      <td>8.835093</td>\n",
       "      <td>0.000000</td>\n",
       "      <td>8.835093</td>\n",
       "      <td>1.893234</td>\n",
       "      <td>1.262156</td>\n",
       "      <td>32.184980</td>\n",
       "      <td>1532.257472</td>\n",
       "      <td>...</td>\n",
       "      <td>0.000000</td>\n",
       "      <td>0.000000</td>\n",
       "      <td>0.000000</td>\n",
       "      <td>0.000000</td>\n",
       "      <td>0.000000</td>\n",
       "      <td>0.000000</td>\n",
       "      <td>0.000000</td>\n",
       "      <td>0.000000</td>\n",
       "      <td>0.0</td>\n",
       "      <td>NX</td>\n",
       "    </tr>\n",
       "    <tr>\n",
       "      <th>971</th>\n",
       "      <td>6.297732</td>\n",
       "      <td>0.572521</td>\n",
       "      <td>0.572521</td>\n",
       "      <td>3.435127</td>\n",
       "      <td>0.572521</td>\n",
       "      <td>11.450422</td>\n",
       "      <td>4.007648</td>\n",
       "      <td>0.572521</td>\n",
       "      <td>1.717563</td>\n",
       "      <td>25.190929</td>\n",
       "      <td>...</td>\n",
       "      <td>0.000000</td>\n",
       "      <td>0.000000</td>\n",
       "      <td>0.000000</td>\n",
       "      <td>0.000000</td>\n",
       "      <td>1.145042</td>\n",
       "      <td>0.000000</td>\n",
       "      <td>0.000000</td>\n",
       "      <td>0.000000</td>\n",
       "      <td>0.0</td>\n",
       "      <td>NX</td>\n",
       "    </tr>\n",
       "    <tr>\n",
       "      <th>972</th>\n",
       "      <td>6.108815</td>\n",
       "      <td>0.000000</td>\n",
       "      <td>0.000000</td>\n",
       "      <td>82.468996</td>\n",
       "      <td>0.000000</td>\n",
       "      <td>21.380851</td>\n",
       "      <td>0.000000</td>\n",
       "      <td>18.326444</td>\n",
       "      <td>201.590879</td>\n",
       "      <td>3301.814245</td>\n",
       "      <td>...</td>\n",
       "      <td>0.000000</td>\n",
       "      <td>0.000000</td>\n",
       "      <td>3.054407</td>\n",
       "      <td>0.000000</td>\n",
       "      <td>0.000000</td>\n",
       "      <td>0.000000</td>\n",
       "      <td>0.000000</td>\n",
       "      <td>0.000000</td>\n",
       "      <td>0.0</td>\n",
       "      <td>NX</td>\n",
       "    </tr>\n",
       "    <tr>\n",
       "      <th>973</th>\n",
       "      <td>1.490198</td>\n",
       "      <td>0.745099</td>\n",
       "      <td>1.490198</td>\n",
       "      <td>1.490198</td>\n",
       "      <td>2.980395</td>\n",
       "      <td>52.902017</td>\n",
       "      <td>3.725494</td>\n",
       "      <td>0.745099</td>\n",
       "      <td>0.745099</td>\n",
       "      <td>64.823599</td>\n",
       "      <td>...</td>\n",
       "      <td>0.000000</td>\n",
       "      <td>0.000000</td>\n",
       "      <td>0.000000</td>\n",
       "      <td>0.000000</td>\n",
       "      <td>0.745099</td>\n",
       "      <td>0.745099</td>\n",
       "      <td>0.000000</td>\n",
       "      <td>0.000000</td>\n",
       "      <td>0.0</td>\n",
       "      <td>NX</td>\n",
       "    </tr>\n",
       "  </tbody>\n",
       "</table>\n",
       "<p>974 rows × 115 columns</p>\n",
       "</div>"
      ],
      "text/plain": [
       "     ENSG00000143512.11  ENSG00000130433.6  ENSG00000088726.14  \\\n",
       "0             13.858287           0.000000            1.154857   \n",
       "1              1.070588           0.000000            2.141177   \n",
       "2              2.947029          17.682172            3.683786   \n",
       "3              0.510553           4.594978            1.531659   \n",
       "4              2.145565           2.860754           15.734146   \n",
       "..                  ...                ...                 ...   \n",
       "969           27.385616          90.372531            0.000000   \n",
       "970            1.893234           1.262156            2.524312   \n",
       "971            6.297732           0.572521            0.572521   \n",
       "972            6.108815           0.000000            0.000000   \n",
       "973            1.490198           0.745099            1.490198   \n",
       "\n",
       "     ENSG00000149948.12  ENSG00000147689.15  ENSG00000181143.14  \\\n",
       "0             24.252002            4.619429         4105.517523   \n",
       "1              1.070588            1.070588           28.905887   \n",
       "2             13.998386            2.210272           42.731916   \n",
       "3             14.806042            2.042213            0.510553   \n",
       "4            207.404649            0.715188           69.373279   \n",
       "..                  ...                 ...                 ...   \n",
       "969          301.241772           27.385616           60.248354   \n",
       "970            8.835093            0.000000            8.835093   \n",
       "971            3.435127            0.572521           11.450422   \n",
       "972           82.468996            0.000000           21.380851   \n",
       "973            1.490198            2.980395           52.902017   \n",
       "\n",
       "     ENSG00000105278.9  ENSG00000086506.2  ENSG00000124102.4  \\\n",
       "0             0.000000           0.000000          10.393715   \n",
       "1             0.000000           0.000000           4.282354   \n",
       "2           319.015856           1.473514          13.261629   \n",
       "3            10.211063           1.021106          12.763829   \n",
       "4             1.430377           1.430377         745.941546   \n",
       "..                 ...                ...                ...   \n",
       "969          16.431369           0.000000         657.254774   \n",
       "970           1.893234           1.262156          32.184980   \n",
       "971           4.007648           0.572521           1.717563   \n",
       "972           0.000000          18.326444         201.590879   \n",
       "973           3.725494           0.745099           0.745099   \n",
       "\n",
       "     ENSG00000175793.11  ...  ENSG00000222024.2  ENSG00000255043.1  \\\n",
       "0            120.105154  ...          38.110289          13.858287   \n",
       "1             44.964713  ...           0.000000           0.000000   \n",
       "2            375.009401  ...           0.000000           0.000000   \n",
       "3            320.627385  ...           0.000000           1.021106   \n",
       "4            949.770253  ...           0.000000           0.000000   \n",
       "..                  ...  ...                ...                ...   \n",
       "969          230.039171  ...           5.477123           2.738562   \n",
       "970         1532.257472  ...           0.000000           0.000000   \n",
       "971           25.190929  ...           0.000000           0.000000   \n",
       "972         3301.814245  ...           0.000000           0.000000   \n",
       "973           64.823599  ...           0.000000           0.000000   \n",
       "\n",
       "     ENSG00000229418.2  ENSG00000249518.1  ENSG00000279301.1  \\\n",
       "0             0.000000          32.336003           0.000000   \n",
       "1             0.000000           0.000000           1.070588   \n",
       "2             0.000000           8.841086           0.000000   \n",
       "3             0.510553           0.000000           0.000000   \n",
       "4             0.000000           0.715188           0.000000   \n",
       "..                 ...                ...                ...   \n",
       "969           0.000000           0.000000           0.000000   \n",
       "970           0.000000           0.000000           0.000000   \n",
       "971           0.000000           0.000000           1.145042   \n",
       "972           3.054407           0.000000           0.000000   \n",
       "973           0.000000           0.000000           0.745099   \n",
       "\n",
       "     ENSG00000251276.1  ENSG00000217236.1  ENSG00000046774.9  \\\n",
       "0             3.464572           0.000000           0.000000   \n",
       "1             2.141177           0.000000           0.000000   \n",
       "2             0.000000           0.736757           0.000000   \n",
       "3             0.000000           0.000000           0.000000   \n",
       "4             0.715188           0.000000           0.715188   \n",
       "..                 ...                ...                ...   \n",
       "969           0.000000           2.738562           2.738562   \n",
       "970           0.000000           0.000000           0.000000   \n",
       "971           0.000000           0.000000           0.000000   \n",
       "972           0.000000           0.000000           0.000000   \n",
       "973           0.745099           0.000000           0.000000   \n",
       "\n",
       "     ENSG00000260958.2  scale  \n",
       "0                  0.0     N0  \n",
       "1                  0.0     N0  \n",
       "2                  0.0     N0  \n",
       "3                  0.0     N0  \n",
       "4                  0.0     N0  \n",
       "..                 ...    ...  \n",
       "969                0.0     NX  \n",
       "970                0.0     NX  \n",
       "971                0.0     NX  \n",
       "972                0.0     NX  \n",
       "973                0.0     NX  \n",
       "\n",
       "[974 rows x 115 columns]"
      ]
     },
     "execution_count": 3,
     "metadata": {},
     "output_type": "execute_result"
    }
   ],
   "source": [
    "train_df"
   ]
  },
  {
   "cell_type": "code",
   "execution_count": 4,
   "id": "5e46d7fd",
   "metadata": {},
   "outputs": [],
   "source": [
    "train_df=train_df.loc[(train_df['scale']!='NX')]"
   ]
  },
  {
   "cell_type": "code",
   "execution_count": 5,
   "id": "1b6d7c29",
   "metadata": {},
   "outputs": [],
   "source": [
    "y=train_df['scale']\n",
    "del train_df['scale']"
   ]
  },
  {
   "cell_type": "code",
   "execution_count": 6,
   "id": "fe108dbb",
   "metadata": {},
   "outputs": [],
   "source": [
    "zestaw_caly = np.array(train_df)\n",
    "caly_label = np.array(y)\n"
   ]
  },
  {
   "cell_type": "code",
   "execution_count": 7,
   "id": "b4a42547",
   "metadata": {},
   "outputs": [],
   "source": [
    "ftwo_scorer = make_scorer(fbeta_score,average='binary', beta=1,labels=['N0','N1'],pos_label='N1',greater_is_better=True)\n"
   ]
  },
  {
   "cell_type": "code",
   "execution_count": 8,
   "id": "7996fcd3",
   "metadata": {},
   "outputs": [],
   "source": [
    "param_grid = {\n",
    "    'min_samples_split':range(2,6,2), #\n",
    "    'min_samples_leaf': range(2,30,5),     #\n",
    "    'max_leaf_nodes':range(2,30,5), #\n",
    "    'max_depth':list(range(2, 20,4)), #\n",
    "    'n_estimators':[100,500] #\n",
    "}"
   ]
  },
  {
   "cell_type": "code",
   "execution_count": 10,
   "id": "1acf4f55",
   "metadata": {
    "scrolled": true
   },
   "outputs": [
    {
     "name": "stdout",
     "output_type": "stream",
     "text": [
      "Fitting 5 folds for each of 720 candidates, totalling 3600 fits\n"
     ]
    },
    {
     "data": {
      "text/plain": [
       "GridSearchCV(cv=5, estimator=GradientBoostingClassifier(random_state=42),\n",
       "             n_jobs=4,\n",
       "             param_grid={'max_depth': [2, 6, 10, 14, 18],\n",
       "                         'max_leaf_nodes': range(2, 30, 5),\n",
       "                         'min_samples_leaf': range(2, 30, 5),\n",
       "                         'min_samples_split': range(2, 6, 2),\n",
       "                         'n_estimators': [100, 500]},\n",
       "             scoring=make_scorer(fbeta_score, average=binary, beta=1, labels=['N0', 'N1'], pos_label=N1),\n",
       "             verbose=1)"
      ]
     },
     "execution_count": 10,
     "metadata": {},
     "output_type": "execute_result"
    }
   ],
   "source": [
    "Grb_1 = GradientBoostingClassifier(random_state=42)\n",
    "grid_search_2 = GridSearchCV(estimator = Grb_1, param_grid = param_grid, \n",
    "                          cv = 5, n_jobs = 4, verbose = 1,scoring=ftwo_scorer)\n",
    "grid_search_2.fit(zestaw_caly, np.ravel(caly_label))\n"
   ]
  },
  {
   "cell_type": "code",
   "execution_count": 11,
   "id": "def99d10",
   "metadata": {},
   "outputs": [
    {
     "data": {
      "text/plain": [
       "0.511986836692719"
      ]
     },
     "execution_count": 11,
     "metadata": {},
     "output_type": "execute_result"
    }
   ],
   "source": [
    "grid_search_2.best_score_#0.11579231045634207"
   ]
  },
  {
   "cell_type": "code",
   "execution_count": 12,
   "id": "ec45a9bb",
   "metadata": {},
   "outputs": [
    {
     "data": {
      "text/plain": [
       "{'max_depth': 2,\n",
       " 'max_leaf_nodes': 2,\n",
       " 'min_samples_leaf': 27,\n",
       " 'min_samples_split': 2,\n",
       " 'n_estimators': 500}"
      ]
     },
     "execution_count": 12,
     "metadata": {},
     "output_type": "execute_result"
    }
   ],
   "source": [
    "grid_search_2.best_params_"
   ]
  },
  {
   "cell_type": "code",
   "execution_count": 13,
   "id": "5f652de4",
   "metadata": {},
   "outputs": [],
   "source": [
    "param_grid = {\n",
    "    'min_samples_split':range(2,4,1), #\n",
    "    'min_samples_leaf': range(25,35,1),     #\n",
    "    'max_leaf_nodes':range(2,7,1), #\n",
    "    'max_depth':range(2, 6,1), #\n",
    "    'n_estimators':[500] #\n",
    "}"
   ]
  },
  {
   "cell_type": "code",
   "execution_count": 14,
   "id": "9c88ed57",
   "metadata": {},
   "outputs": [
    {
     "name": "stdout",
     "output_type": "stream",
     "text": [
      "Fitting 5 folds for each of 400 candidates, totalling 2000 fits\n"
     ]
    },
    {
     "data": {
      "text/plain": [
       "GridSearchCV(cv=5, estimator=GradientBoostingClassifier(random_state=42),\n",
       "             n_jobs=4,\n",
       "             param_grid={'max_depth': range(2, 6),\n",
       "                         'max_leaf_nodes': range(2, 7),\n",
       "                         'min_samples_leaf': range(25, 35),\n",
       "                         'min_samples_split': range(2, 4),\n",
       "                         'n_estimators': [500]},\n",
       "             scoring=make_scorer(fbeta_score, average=binary, beta=1, labels=['N0', 'N1'], pos_label=N1),\n",
       "             verbose=1)"
      ]
     },
     "execution_count": 14,
     "metadata": {},
     "output_type": "execute_result"
    }
   ],
   "source": [
    "Grb_1 = GradientBoostingClassifier(random_state=42)\n",
    "grid_search_2 = GridSearchCV(estimator = Grb_1, param_grid = param_grid, \n",
    "                          cv = 5, n_jobs = 4, verbose = 1,scoring=ftwo_scorer)\n",
    "grid_search_2.fit(zestaw_caly, np.ravel(caly_label))\n"
   ]
  },
  {
   "cell_type": "code",
   "execution_count": 15,
   "id": "df936214",
   "metadata": {},
   "outputs": [
    {
     "data": {
      "text/plain": [
       "GradientBoostingClassifier(max_depth=2, max_leaf_nodes=3, min_samples_leaf=33,\n",
       "                           n_estimators=500, random_state=42)"
      ]
     },
     "execution_count": 15,
     "metadata": {},
     "output_type": "execute_result"
    }
   ],
   "source": [
    "grid_search_2.best_estimator_"
   ]
  },
  {
   "cell_type": "code",
   "execution_count": 16,
   "id": "9dec0400",
   "metadata": {},
   "outputs": [
    {
     "data": {
      "text/plain": [
       "0.525047854734219"
      ]
     },
     "execution_count": 16,
     "metadata": {},
     "output_type": "execute_result"
    }
   ],
   "source": [
    "grid_search_2.best_score_"
   ]
  },
  {
   "cell_type": "code",
   "execution_count": null,
   "id": "bb637f4f",
   "metadata": {},
   "outputs": [],
   "source": []
  },
  {
   "cell_type": "code",
   "execution_count": 21,
   "id": "6e9b41db",
   "metadata": {},
   "outputs": [
    {
     "data": {
      "text/plain": [
       "{'max_depth': 3,\n",
       " 'max_leaf_nodes': 7,\n",
       " 'min_samples_leaf': 26,\n",
       " 'min_samples_split': 2,\n",
       " 'n_estimators': 500}"
      ]
     },
     "execution_count": 21,
     "metadata": {},
     "output_type": "execute_result"
    }
   ],
   "source": [
    "grid_search_2.best_params_"
   ]
  },
  {
   "cell_type": "code",
   "execution_count": 17,
   "id": "4476b29e",
   "metadata": {},
   "outputs": [],
   "source": [
    "kfold = StratifiedKFold(n_splits=5, shuffle=True, random_state=42)\n",
    "dane_do_zapisu_2=pd.DataFrame()\n",
    "licznik=1\n",
    "wart_2=[]\n",
    "for train, test in kfold.split(zestaw_caly, caly_label):\n",
    "    reg = GradientBoostingClassifier(max_depth=3, max_leaf_nodes=7, min_samples_leaf=26,\n",
    "                          min_samples_split=2,n_estimators=500,random_state=42)\n",
    "    reg.fit(zestaw_caly[train], caly_label[train])\n",
    "    predykcje=reg.predict(zestaw_caly[test])\n",
    "    dane_folda_2=pd.DataFrame({\"pred\": predykcje.ravel(),\n",
    "                                \"obs\": caly_label[test],\n",
    "                                \"Fold\":licznik})\n",
    "    dane_do_zapisu_2=pd.concat([dane_do_zapisu_2,dane_folda_2])\n",
    "    blad=fbeta_score(caly_label[test], predykcje, average='binary', beta=1,labels=['N0','N1'],pos_label='N1')\n",
    "    wart_2.append(blad)\n",
    "    licznik+=1"
   ]
  },
  {
   "cell_type": "code",
   "execution_count": 18,
   "id": "7f412156",
   "metadata": {},
   "outputs": [],
   "source": [
    "dane_do_zapisu_2.to_csv('D:\\\\STUDIA\\\\ROK_II\\\\Magisterka\\\\Modele\\\\Dane pierwotne\\\\Dane z cross-walidacji\\\\Klasa_N_Gradient_boosting.csv')"
   ]
  },
  {
   "cell_type": "code",
   "execution_count": 3,
   "id": "715d1ac9",
   "metadata": {},
   "outputs": [],
   "source": [
    "dane_do_zapisu_2=pd.read_csv('D:\\\\STUDIA\\\\ROK_II\\\\Magisterka\\\\Modele\\\\Dane pierwotne\\\\Dane z cross-walidacji\\\\N\\\\Klasa_N_Gradient_boosting.csv')"
   ]
  },
  {
   "cell_type": "code",
   "execution_count": 19,
   "id": "db2671b9",
   "metadata": {},
   "outputs": [
    {
     "data": {
      "text/plain": [
       "[0.625,\n",
       " 0.28571428571428575,\n",
       " 0.5333333333333333,\n",
       " 0.4615384615384615,\n",
       " 0.39999999999999997]"
      ]
     },
     "execution_count": 19,
     "metadata": {},
     "output_type": "execute_result"
    }
   ],
   "source": [
    "wart_2"
   ]
  },
  {
   "cell_type": "code",
   "execution_count": 20,
   "id": "8c54cb34",
   "metadata": {},
   "outputs": [
    {
     "data": {
      "text/plain": [
       "0.4611172161172162"
      ]
     },
     "execution_count": 20,
     "metadata": {},
     "output_type": "execute_result"
    }
   ],
   "source": [
    "sum(wart_2)/len(wart_2) #0.032977654217233775"
   ]
  },
  {
   "cell_type": "code",
   "execution_count": 4,
   "id": "8959485e",
   "metadata": {},
   "outputs": [],
   "source": [
    "from sklearn.metrics import confusion_matrix"
   ]
  },
  {
   "cell_type": "code",
   "execution_count": 5,
   "id": "ce88e7bd",
   "metadata": {},
   "outputs": [],
   "source": [
    "cf_matrix = confusion_matrix(dane_do_zapisu_2['obs'], dane_do_zapisu_2['pred'])"
   ]
  },
  {
   "cell_type": "code",
   "execution_count": 6,
   "id": "5faf7e9f",
   "metadata": {},
   "outputs": [],
   "source": [
    "import seaborn as sns"
   ]
  },
  {
   "cell_type": "code",
   "execution_count": 8,
   "id": "887ac83c",
   "metadata": {},
   "outputs": [
    {
     "data": {
      "image/png": "[encoded data removed]",
      "text/plain": [
       "<Figure size 432x288 with 2 Axes>"
      ]
     },
     "metadata": {
      "needs_background": "light"
     },
     "output_type": "display_data"
    }
   ],
   "source": [
    "\n",
    "ax = plt.axes()\n",
    "sns.heatmap(cf_matrix, annot=True, fmt='g')\n",
    "\n",
    "ax.set_title('Dane pierwotne - Klasa N - GB')\n",
    "plt.ylabel('Rzeczywiste')\n",
    "plt.xlabel('Predykcja')\n",
    "plt.show()\n"
   ]
  },
  {
   "cell_type": "code",
   "execution_count": 26,
   "id": "e6d6596b",
   "metadata": {},
   "outputs": [
    {
     "name": "stdout",
     "output_type": "stream",
     "text": [
      "Recall: 0.327\n",
      "Precision: 0.810\n",
      "F1score: 0.466\n"
     ]
    }
   ],
   "source": [
    "from sklearn.metrics import recall_score\n",
    "from sklearn.metrics import precision_score\n",
    "\n",
    "precision = precision_score(dane_do_zapisu_2['obs'], dane_do_zapisu_2['pred'], labels=['N0','N1'], average='binary',pos_label='N1')\n",
    "recall = recall_score(dane_do_zapisu_2['obs'], dane_do_zapisu_2['pred'], labels=['N0','N1'], average='binary',pos_label='N1')\n",
    "f1score=fbeta_score(dane_do_zapisu_2['obs'], dane_do_zapisu_2['pred'], labels=['N0','N1'], average='binary',pos_label='N1', beta=1)\n",
    "print('Recall: %.3f' % recall)\n",
    "print('Precision: %.3f' % precision)\n",
    "print('F1score: %.3f' % f1score)"
   ]
  },
  {
   "cell_type": "code",
   "execution_count": null,
   "id": "463b5b82",
   "metadata": {},
   "outputs": [],
   "source": []
  }
 ],
 "metadata": {
  "kernelspec": {
   "display_name": "Python 3 (ipykernel)",
   "language": "python",
   "name": "python3"
  },
  "language_info": {
   "codemirror_mode": {
    "name": "ipython",
    "version": 3
   },
   "file_extension": ".py",
   "mimetype": "text/x-python",
   "name": "python",
   "nbconvert_exporter": "python",
   "pygments_lexer": "ipython3",
   "version": "3.10.4"
  }
 },
 "nbformat": 4,
 "nbformat_minor": 5
}
