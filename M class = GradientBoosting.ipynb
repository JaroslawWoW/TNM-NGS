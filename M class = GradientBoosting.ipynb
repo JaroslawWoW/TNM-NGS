{
 "cells": [
  {
   "cell_type": "code",
   "execution_count": 1,
   "id": "6216172e",
   "metadata": {},
   "outputs": [],
   "source": [
    "import pandas as pd\n",
    "import sklearn.tree\n",
    "import numpy as np\n",
    "from sklearn.ensemble import GradientBoostingClassifier\n",
    "#import dtreeviz.trees as dtv # importowanie dtreeviz\n",
    "from sklearn.model_selection import GridSearchCV\n",
    "#from dtreeviz.trees import *\n",
    "\n",
    "from sklearn.model_selection import train_test_split\n",
    "from sklearn.model_selection import cross_val_score, KFold\n",
    "from sklearn.metrics import mean_absolute_error\n",
    "import matplotlib.pyplot as plt \n",
    "\n",
    "from sklearn.metrics import make_scorer\n",
    "\n",
    "#import graphviz\n",
    "\n",
    "from sklearn.metrics import fbeta_score\n",
    "\n",
    "\n",
    "from sklearn.model_selection import cross_val_score,  StratifiedKFold\n"
   ]
  },
  {
   "cell_type": "code",
   "execution_count": 2,
   "id": "c4b9f5be",
   "metadata": {},
   "outputs": [],
   "source": [
    "train_df=pd.read_csv(\"D:/STUDIA/ROK_II/Magisterka/Modele/Dane pierwotne/Dane_do_uczenia_M.csv\", encoding=\"utf-8\")\n",
    "del train_df['Unnamed: 0']"
   ]
  },
  {
   "cell_type": "code",
   "execution_count": 3,
   "id": "eaf4dba2",
   "metadata": {},
   "outputs": [
    {
     "data": {
      "text/html": [
       "<div>\n",
       "<style scoped>\n",
       "    .dataframe tbody tr th:only-of-type {\n",
       "        vertical-align: middle;\n",
       "    }\n",
       "\n",
       "    .dataframe tbody tr th {\n",
       "        vertical-align: top;\n",
       "    }\n",
       "\n",
       "    .dataframe thead th {\n",
       "        text-align: right;\n",
       "    }\n",
       "</style>\n",
       "<table border=\"1\" class=\"dataframe\">\n",
       "  <thead>\n",
       "    <tr style=\"text-align: right;\">\n",
       "      <th></th>\n",
       "      <th>ENSG00000212232.1</th>\n",
       "      <th>ENSG00000238741.1</th>\n",
       "      <th>ENSG00000252481.1</th>\n",
       "      <th>ENSG00000239002.3</th>\n",
       "      <th>ENSG00000212443.1</th>\n",
       "      <th>ENSG00000274012.1</th>\n",
       "      <th>ENSG00000252010.1</th>\n",
       "      <th>ENSG00000202198.1</th>\n",
       "      <th>ENSG00000251791.1</th>\n",
       "      <th>ENSG00000202058.1</th>\n",
       "      <th>...</th>\n",
       "      <th>ENSG00000241475.1</th>\n",
       "      <th>ENSG00000274618.1</th>\n",
       "      <th>ENSG00000227293.1</th>\n",
       "      <th>ENSG00000253526.1</th>\n",
       "      <th>ENSG00000270654.1</th>\n",
       "      <th>ENSG00000271394.1</th>\n",
       "      <th>ENSG00000265423.1</th>\n",
       "      <th>ENSG00000253165.1</th>\n",
       "      <th>ENSG00000201901.1</th>\n",
       "      <th>scale</th>\n",
       "    </tr>\n",
       "  </thead>\n",
       "  <tbody>\n",
       "    <tr>\n",
       "      <th>0</th>\n",
       "      <td>27.356617</td>\n",
       "      <td>31.768974</td>\n",
       "      <td>27.356617</td>\n",
       "      <td>5.294829</td>\n",
       "      <td>8.824715</td>\n",
       "      <td>6.645010e+02</td>\n",
       "      <td>2.647415</td>\n",
       "      <td>4.235863e+02</td>\n",
       "      <td>7.059772</td>\n",
       "      <td>16.766959</td>\n",
       "      <td>...</td>\n",
       "      <td>0.000000</td>\n",
       "      <td>0.000000</td>\n",
       "      <td>0.0</td>\n",
       "      <td>0.000000</td>\n",
       "      <td>0.0</td>\n",
       "      <td>0.000000</td>\n",
       "      <td>0.000000</td>\n",
       "      <td>0.0</td>\n",
       "      <td>0.000000</td>\n",
       "      <td>M0</td>\n",
       "    </tr>\n",
       "    <tr>\n",
       "      <th>1</th>\n",
       "      <td>8.695633</td>\n",
       "      <td>1.086954</td>\n",
       "      <td>6.521724</td>\n",
       "      <td>2.173908</td>\n",
       "      <td>0.000000</td>\n",
       "      <td>1.758692e+03</td>\n",
       "      <td>1.086954</td>\n",
       "      <td>5.434770e+01</td>\n",
       "      <td>0.000000</td>\n",
       "      <td>0.000000</td>\n",
       "      <td>...</td>\n",
       "      <td>0.000000</td>\n",
       "      <td>0.000000</td>\n",
       "      <td>0.0</td>\n",
       "      <td>0.000000</td>\n",
       "      <td>0.0</td>\n",
       "      <td>0.000000</td>\n",
       "      <td>0.000000</td>\n",
       "      <td>0.0</td>\n",
       "      <td>0.000000</td>\n",
       "      <td>M0</td>\n",
       "    </tr>\n",
       "    <tr>\n",
       "      <th>2</th>\n",
       "      <td>20.185177</td>\n",
       "      <td>77.002713</td>\n",
       "      <td>7.475992</td>\n",
       "      <td>4.485595</td>\n",
       "      <td>8.971190</td>\n",
       "      <td>2.775836e+03</td>\n",
       "      <td>2.242797</td>\n",
       "      <td>2.609121e+02</td>\n",
       "      <td>6.728392</td>\n",
       "      <td>10.466388</td>\n",
       "      <td>...</td>\n",
       "      <td>0.000000</td>\n",
       "      <td>0.747599</td>\n",
       "      <td>0.0</td>\n",
       "      <td>0.747599</td>\n",
       "      <td>0.0</td>\n",
       "      <td>0.747599</td>\n",
       "      <td>0.000000</td>\n",
       "      <td>0.0</td>\n",
       "      <td>0.000000</td>\n",
       "      <td>M0</td>\n",
       "    </tr>\n",
       "    <tr>\n",
       "      <th>3</th>\n",
       "      <td>18.157930</td>\n",
       "      <td>17.431612</td>\n",
       "      <td>6.536855</td>\n",
       "      <td>2.178952</td>\n",
       "      <td>2.905269</td>\n",
       "      <td>2.338741e+02</td>\n",
       "      <td>3.631586</td>\n",
       "      <td>6.827382e+01</td>\n",
       "      <td>1.452634</td>\n",
       "      <td>1.452634</td>\n",
       "      <td>...</td>\n",
       "      <td>0.726317</td>\n",
       "      <td>0.000000</td>\n",
       "      <td>0.0</td>\n",
       "      <td>0.000000</td>\n",
       "      <td>0.0</td>\n",
       "      <td>0.000000</td>\n",
       "      <td>0.000000</td>\n",
       "      <td>0.0</td>\n",
       "      <td>0.000000</td>\n",
       "      <td>M0</td>\n",
       "    </tr>\n",
       "    <tr>\n",
       "      <th>4</th>\n",
       "      <td>29912.168049</td>\n",
       "      <td>21631.677176</td>\n",
       "      <td>9554.333460</td>\n",
       "      <td>20332.131551</td>\n",
       "      <td>5136.495208</td>\n",
       "      <td>1.255850e+06</td>\n",
       "      <td>19221.760289</td>\n",
       "      <td>1.926818e+06</td>\n",
       "      <td>5198.182500</td>\n",
       "      <td>2655.637935</td>\n",
       "      <td>...</td>\n",
       "      <td>0.000000</td>\n",
       "      <td>953.068666</td>\n",
       "      <td>0.0</td>\n",
       "      <td>20.562431</td>\n",
       "      <td>0.0</td>\n",
       "      <td>269.367843</td>\n",
       "      <td>64.771657</td>\n",
       "      <td>0.0</td>\n",
       "      <td>123.374585</td>\n",
       "      <td>M0</td>\n",
       "    </tr>\n",
       "    <tr>\n",
       "      <th>...</th>\n",
       "      <td>...</td>\n",
       "      <td>...</td>\n",
       "      <td>...</td>\n",
       "      <td>...</td>\n",
       "      <td>...</td>\n",
       "      <td>...</td>\n",
       "      <td>...</td>\n",
       "      <td>...</td>\n",
       "      <td>...</td>\n",
       "      <td>...</td>\n",
       "      <td>...</td>\n",
       "      <td>...</td>\n",
       "      <td>...</td>\n",
       "      <td>...</td>\n",
       "      <td>...</td>\n",
       "      <td>...</td>\n",
       "      <td>...</td>\n",
       "      <td>...</td>\n",
       "      <td>...</td>\n",
       "      <td>...</td>\n",
       "      <td>...</td>\n",
       "    </tr>\n",
       "    <tr>\n",
       "      <th>848</th>\n",
       "      <td>7.748430</td>\n",
       "      <td>3.874215</td>\n",
       "      <td>2.905661</td>\n",
       "      <td>1.937107</td>\n",
       "      <td>0.968554</td>\n",
       "      <td>1.682378e+03</td>\n",
       "      <td>0.000000</td>\n",
       "      <td>6.586165e+01</td>\n",
       "      <td>0.000000</td>\n",
       "      <td>0.968554</td>\n",
       "      <td>...</td>\n",
       "      <td>0.000000</td>\n",
       "      <td>0.000000</td>\n",
       "      <td>0.0</td>\n",
       "      <td>0.000000</td>\n",
       "      <td>0.0</td>\n",
       "      <td>0.000000</td>\n",
       "      <td>0.000000</td>\n",
       "      <td>0.0</td>\n",
       "      <td>0.000000</td>\n",
       "      <td>MX</td>\n",
       "    </tr>\n",
       "    <tr>\n",
       "      <th>849</th>\n",
       "      <td>40.077878</td>\n",
       "      <td>17.534072</td>\n",
       "      <td>10.854425</td>\n",
       "      <td>1.669912</td>\n",
       "      <td>12.524337</td>\n",
       "      <td>1.329250e+03</td>\n",
       "      <td>3.339823</td>\n",
       "      <td>9.935974e+01</td>\n",
       "      <td>2.504867</td>\n",
       "      <td>2.504867</td>\n",
       "      <td>...</td>\n",
       "      <td>0.000000</td>\n",
       "      <td>0.000000</td>\n",
       "      <td>0.0</td>\n",
       "      <td>0.834956</td>\n",
       "      <td>0.0</td>\n",
       "      <td>0.000000</td>\n",
       "      <td>0.000000</td>\n",
       "      <td>0.0</td>\n",
       "      <td>0.000000</td>\n",
       "      <td>MX</td>\n",
       "    </tr>\n",
       "    <tr>\n",
       "      <th>850</th>\n",
       "      <td>20.868834</td>\n",
       "      <td>16.475395</td>\n",
       "      <td>15.377035</td>\n",
       "      <td>1.098360</td>\n",
       "      <td>8.786877</td>\n",
       "      <td>1.889179e+03</td>\n",
       "      <td>1.098360</td>\n",
       "      <td>7.468846e+01</td>\n",
       "      <td>4.393439</td>\n",
       "      <td>4.393439</td>\n",
       "      <td>...</td>\n",
       "      <td>0.000000</td>\n",
       "      <td>0.000000</td>\n",
       "      <td>0.0</td>\n",
       "      <td>0.000000</td>\n",
       "      <td>0.0</td>\n",
       "      <td>1.098360</td>\n",
       "      <td>0.000000</td>\n",
       "      <td>0.0</td>\n",
       "      <td>0.000000</td>\n",
       "      <td>MX</td>\n",
       "    </tr>\n",
       "    <tr>\n",
       "      <th>851</th>\n",
       "      <td>4.708151</td>\n",
       "      <td>12.947416</td>\n",
       "      <td>14.124453</td>\n",
       "      <td>2.354076</td>\n",
       "      <td>9.416302</td>\n",
       "      <td>8.380509e+02</td>\n",
       "      <td>4.708151</td>\n",
       "      <td>2.683646e+02</td>\n",
       "      <td>0.000000</td>\n",
       "      <td>7.062227</td>\n",
       "      <td>...</td>\n",
       "      <td>0.000000</td>\n",
       "      <td>0.000000</td>\n",
       "      <td>0.0</td>\n",
       "      <td>0.000000</td>\n",
       "      <td>0.0</td>\n",
       "      <td>0.000000</td>\n",
       "      <td>0.000000</td>\n",
       "      <td>0.0</td>\n",
       "      <td>0.000000</td>\n",
       "      <td>MX</td>\n",
       "    </tr>\n",
       "    <tr>\n",
       "      <th>852</th>\n",
       "      <td>52.512508</td>\n",
       "      <td>58.690450</td>\n",
       "      <td>37.067653</td>\n",
       "      <td>9.266913</td>\n",
       "      <td>3.088971</td>\n",
       "      <td>1.263389e+03</td>\n",
       "      <td>3.088971</td>\n",
       "      <td>2.789341e+03</td>\n",
       "      <td>3.088971</td>\n",
       "      <td>0.000000</td>\n",
       "      <td>...</td>\n",
       "      <td>0.000000</td>\n",
       "      <td>0.000000</td>\n",
       "      <td>0.0</td>\n",
       "      <td>0.000000</td>\n",
       "      <td>0.0</td>\n",
       "      <td>0.000000</td>\n",
       "      <td>0.000000</td>\n",
       "      <td>0.0</td>\n",
       "      <td>0.000000</td>\n",
       "      <td>MX</td>\n",
       "    </tr>\n",
       "  </tbody>\n",
       "</table>\n",
       "<p>853 rows × 111 columns</p>\n",
       "</div>"
      ],
      "text/plain": [
       "     ENSG00000212232.1  ENSG00000238741.1  ENSG00000252481.1  \\\n",
       "0            27.356617          31.768974          27.356617   \n",
       "1             8.695633           1.086954           6.521724   \n",
       "2            20.185177          77.002713           7.475992   \n",
       "3            18.157930          17.431612           6.536855   \n",
       "4         29912.168049       21631.677176        9554.333460   \n",
       "..                 ...                ...                ...   \n",
       "848           7.748430           3.874215           2.905661   \n",
       "849          40.077878          17.534072          10.854425   \n",
       "850          20.868834          16.475395          15.377035   \n",
       "851           4.708151          12.947416          14.124453   \n",
       "852          52.512508          58.690450          37.067653   \n",
       "\n",
       "     ENSG00000239002.3  ENSG00000212443.1  ENSG00000274012.1  \\\n",
       "0             5.294829           8.824715       6.645010e+02   \n",
       "1             2.173908           0.000000       1.758692e+03   \n",
       "2             4.485595           8.971190       2.775836e+03   \n",
       "3             2.178952           2.905269       2.338741e+02   \n",
       "4         20332.131551        5136.495208       1.255850e+06   \n",
       "..                 ...                ...                ...   \n",
       "848           1.937107           0.968554       1.682378e+03   \n",
       "849           1.669912          12.524337       1.329250e+03   \n",
       "850           1.098360           8.786877       1.889179e+03   \n",
       "851           2.354076           9.416302       8.380509e+02   \n",
       "852           9.266913           3.088971       1.263389e+03   \n",
       "\n",
       "     ENSG00000252010.1  ENSG00000202198.1  ENSG00000251791.1  \\\n",
       "0             2.647415       4.235863e+02           7.059772   \n",
       "1             1.086954       5.434770e+01           0.000000   \n",
       "2             2.242797       2.609121e+02           6.728392   \n",
       "3             3.631586       6.827382e+01           1.452634   \n",
       "4         19221.760289       1.926818e+06        5198.182500   \n",
       "..                 ...                ...                ...   \n",
       "848           0.000000       6.586165e+01           0.000000   \n",
       "849           3.339823       9.935974e+01           2.504867   \n",
       "850           1.098360       7.468846e+01           4.393439   \n",
       "851           4.708151       2.683646e+02           0.000000   \n",
       "852           3.088971       2.789341e+03           3.088971   \n",
       "\n",
       "     ENSG00000202058.1  ...  ENSG00000241475.1  ENSG00000274618.1  \\\n",
       "0            16.766959  ...           0.000000           0.000000   \n",
       "1             0.000000  ...           0.000000           0.000000   \n",
       "2            10.466388  ...           0.000000           0.747599   \n",
       "3             1.452634  ...           0.726317           0.000000   \n",
       "4          2655.637935  ...           0.000000         953.068666   \n",
       "..                 ...  ...                ...                ...   \n",
       "848           0.968554  ...           0.000000           0.000000   \n",
       "849           2.504867  ...           0.000000           0.000000   \n",
       "850           4.393439  ...           0.000000           0.000000   \n",
       "851           7.062227  ...           0.000000           0.000000   \n",
       "852           0.000000  ...           0.000000           0.000000   \n",
       "\n",
       "     ENSG00000227293.1  ENSG00000253526.1  ENSG00000270654.1  \\\n",
       "0                  0.0           0.000000                0.0   \n",
       "1                  0.0           0.000000                0.0   \n",
       "2                  0.0           0.747599                0.0   \n",
       "3                  0.0           0.000000                0.0   \n",
       "4                  0.0          20.562431                0.0   \n",
       "..                 ...                ...                ...   \n",
       "848                0.0           0.000000                0.0   \n",
       "849                0.0           0.834956                0.0   \n",
       "850                0.0           0.000000                0.0   \n",
       "851                0.0           0.000000                0.0   \n",
       "852                0.0           0.000000                0.0   \n",
       "\n",
       "     ENSG00000271394.1  ENSG00000265423.1  ENSG00000253165.1  \\\n",
       "0             0.000000           0.000000                0.0   \n",
       "1             0.000000           0.000000                0.0   \n",
       "2             0.747599           0.000000                0.0   \n",
       "3             0.000000           0.000000                0.0   \n",
       "4           269.367843          64.771657                0.0   \n",
       "..                 ...                ...                ...   \n",
       "848           0.000000           0.000000                0.0   \n",
       "849           0.000000           0.000000                0.0   \n",
       "850           1.098360           0.000000                0.0   \n",
       "851           0.000000           0.000000                0.0   \n",
       "852           0.000000           0.000000                0.0   \n",
       "\n",
       "     ENSG00000201901.1  scale  \n",
       "0             0.000000     M0  \n",
       "1             0.000000     M0  \n",
       "2             0.000000     M0  \n",
       "3             0.000000     M0  \n",
       "4           123.374585     M0  \n",
       "..                 ...    ...  \n",
       "848           0.000000     MX  \n",
       "849           0.000000     MX  \n",
       "850           0.000000     MX  \n",
       "851           0.000000     MX  \n",
       "852           0.000000     MX  \n",
       "\n",
       "[853 rows x 111 columns]"
      ]
     },
     "execution_count": 3,
     "metadata": {},
     "output_type": "execute_result"
    }
   ],
   "source": [
    "train_df"
   ]
  },
  {
   "cell_type": "code",
   "execution_count": 4,
   "id": "44c868c0",
   "metadata": {},
   "outputs": [
    {
     "data": {
      "text/plain": [
       "M0    602\n",
       "MX    143\n",
       "M1    108\n",
       "Name: scale, dtype: int64"
      ]
     },
     "execution_count": 4,
     "metadata": {},
     "output_type": "execute_result"
    }
   ],
   "source": [
    "train_df['scale'].value_counts()"
   ]
  },
  {
   "cell_type": "code",
   "execution_count": 4,
   "id": "5e46d7fd",
   "metadata": {},
   "outputs": [],
   "source": [
    "train_df=train_df.loc[(train_df['scale']!='MX')]"
   ]
  },
  {
   "cell_type": "code",
   "execution_count": 5,
   "id": "1b6d7c29",
   "metadata": {},
   "outputs": [],
   "source": [
    "y=train_df['scale']\n",
    "del train_df['scale']"
   ]
  },
  {
   "cell_type": "code",
   "execution_count": 6,
   "id": "fe108dbb",
   "metadata": {},
   "outputs": [],
   "source": [
    "zestaw_caly = np.array(train_df)\n",
    "caly_label = np.array(y)\n"
   ]
  },
  {
   "cell_type": "code",
   "execution_count": 7,
   "id": "b4a42547",
   "metadata": {},
   "outputs": [],
   "source": [
    "ftwo_scorer = make_scorer(fbeta_score,average='binary', beta=1,labels=['M0','M1'],pos_label='M1',greater_is_better=True)\n"
   ]
  },
  {
   "cell_type": "markdown",
   "id": "e40963e5",
   "metadata": {},
   "source": [
    "## DObieranie part 1"
   ]
  },
  {
   "cell_type": "code",
   "execution_count": 8,
   "id": "7996fcd3",
   "metadata": {},
   "outputs": [],
   "source": [
    "param_grid = {\n",
    "    'min_samples_split':range(2,6,2), #\n",
    "    'min_samples_leaf': range(2,30,5),     #\n",
    "    'max_leaf_nodes':range(2,30,5), #\n",
    "    'max_depth':list(range(2, 20,4)), #\n",
    "    'n_estimators':[100,500] #\n",
    "}"
   ]
  },
  {
   "cell_type": "code",
   "execution_count": 9,
   "id": "1acf4f55",
   "metadata": {
    "scrolled": true
   },
   "outputs": [
    {
     "name": "stdout",
     "output_type": "stream",
     "text": [
      "Fitting 5 folds for each of 720 candidates, totalling 3600 fits\n"
     ]
    },
    {
     "data": {
      "text/plain": [
       "GridSearchCV(cv=5, estimator=GradientBoostingClassifier(random_state=42),\n",
       "             n_jobs=3,\n",
       "             param_grid={'max_depth': [2, 6, 10, 14, 18],\n",
       "                         'max_leaf_nodes': range(2, 30, 5),\n",
       "                         'min_samples_leaf': range(2, 30, 5),\n",
       "                         'min_samples_split': range(2, 6, 2),\n",
       "                         'n_estimators': [100, 500]},\n",
       "             scoring=make_scorer(fbeta_score, average=binary, beta=1, labels=['M0', 'M1'], pos_label=M1),\n",
       "             verbose=1)"
      ]
     },
     "execution_count": 9,
     "metadata": {},
     "output_type": "execute_result"
    }
   ],
   "source": [
    "Grb_1 = GradientBoostingClassifier(random_state=42)\n",
    "grid_search_2 = GridSearchCV(estimator = Grb_1, param_grid = param_grid, \n",
    "                          cv = 5, n_jobs = 3, verbose = 1,scoring=ftwo_scorer)\n",
    "grid_search_2.fit(zestaw_caly, np.ravel(caly_label))\n"
   ]
  },
  {
   "cell_type": "code",
   "execution_count": 10,
   "id": "def99d10",
   "metadata": {},
   "outputs": [
    {
     "data": {
      "text/plain": [
       "0.14765974765974765"
      ]
     },
     "execution_count": 10,
     "metadata": {},
     "output_type": "execute_result"
    }
   ],
   "source": [
    "grid_search_2.best_score_#0.11579231045634207"
   ]
  },
  {
   "cell_type": "code",
   "execution_count": 11,
   "id": "ec45a9bb",
   "metadata": {},
   "outputs": [
    {
     "data": {
      "text/plain": [
       "{'max_depth': 2,\n",
       " 'max_leaf_nodes': 7,\n",
       " 'min_samples_leaf': 27,\n",
       " 'min_samples_split': 2,\n",
       " 'n_estimators': 500}"
      ]
     },
     "execution_count": 11,
     "metadata": {},
     "output_type": "execute_result"
    }
   ],
   "source": [
    "grid_search_2.best_params_"
   ]
  },
  {
   "cell_type": "code",
   "execution_count": null,
   "id": "f71e7446",
   "metadata": {},
   "outputs": [],
   "source": []
  },
  {
   "cell_type": "markdown",
   "id": "c3cd32c0",
   "metadata": {},
   "source": [
    "## Dobieranie part 2"
   ]
  },
  {
   "cell_type": "code",
   "execution_count": 12,
   "id": "5f652de4",
   "metadata": {},
   "outputs": [],
   "source": [
    "param_grid = {\n",
    "    'min_samples_split':range(2,4,1), #\n",
    "    'min_samples_leaf': range(25,35,1),     #\n",
    "    'max_leaf_nodes':range(4,11,1), #\n",
    "    'max_depth':range(2, 4,1), #\n",
    "    'n_estimators':[500] #\n",
    "}"
   ]
  },
  {
   "cell_type": "code",
   "execution_count": 14,
   "id": "9c88ed57",
   "metadata": {},
   "outputs": [
    {
     "name": "stdout",
     "output_type": "stream",
     "text": [
      "Fitting 5 folds for each of 280 candidates, totalling 1400 fits\n"
     ]
    },
    {
     "data": {
      "text/plain": [
       "GridSearchCV(cv=5, estimator=GradientBoostingClassifier(random_state=42),\n",
       "             n_jobs=3,\n",
       "             param_grid={'max_depth': range(2, 4),\n",
       "                         'max_leaf_nodes': range(4, 11),\n",
       "                         'min_samples_leaf': range(25, 35),\n",
       "                         'min_samples_split': range(2, 4),\n",
       "                         'n_estimators': [500]},\n",
       "             scoring=make_scorer(fbeta_score, average=binary, beta=1, labels=['M0', 'M1'], pos_label=M1),\n",
       "             verbose=1)"
      ]
     },
     "execution_count": 14,
     "metadata": {},
     "output_type": "execute_result"
    }
   ],
   "source": [
    "Grb_1 = GradientBoostingClassifier(random_state=42)\n",
    "grid_search_2 = GridSearchCV(estimator = Grb_1, param_grid = param_grid, \n",
    "                          cv = 5, n_jobs = 3, verbose = 1,scoring=ftwo_scorer)\n",
    "grid_search_2.fit(zestaw_caly, np.ravel(caly_label))\n"
   ]
  },
  {
   "cell_type": "code",
   "execution_count": 19,
   "id": "df936214",
   "metadata": {},
   "outputs": [
    {
     "data": {
      "text/plain": [
       "GradientBoostingClassifier(max_leaf_nodes=7, min_samples_leaf=26,\n",
       "                           n_estimators=500, random_state=42)"
      ]
     },
     "execution_count": 19,
     "metadata": {},
     "output_type": "execute_result"
    }
   ],
   "source": [
    "grid_search_2.best_estimator_"
   ]
  },
  {
   "cell_type": "code",
   "execution_count": 20,
   "id": "9dec0400",
   "metadata": {},
   "outputs": [
    {
     "data": {
      "text/plain": [
       "0.1707826223955256"
      ]
     },
     "execution_count": 20,
     "metadata": {},
     "output_type": "execute_result"
    }
   ],
   "source": [
    "grid_search_2.best_score_"
   ]
  },
  {
   "cell_type": "code",
   "execution_count": 21,
   "id": "6e9b41db",
   "metadata": {},
   "outputs": [
    {
     "data": {
      "text/plain": [
       "{'max_depth': 3,\n",
       " 'max_leaf_nodes': 7,\n",
       " 'min_samples_leaf': 26,\n",
       " 'min_samples_split': 2,\n",
       " 'n_estimators': 500}"
      ]
     },
     "execution_count": 21,
     "metadata": {},
     "output_type": "execute_result"
    }
   ],
   "source": [
    "grid_search_2.best_params_"
   ]
  },
  {
   "cell_type": "markdown",
   "id": "0b345fb3",
   "metadata": {},
   "source": [
    "## Dobieranie part 3"
   ]
  },
  {
   "cell_type": "code",
   "execution_count": 8,
   "id": "f9567cc4",
   "metadata": {},
   "outputs": [],
   "source": [
    "param_grid = {\n",
    "    'min_samples_split':range(2,5,1), #\n",
    "    'min_samples_leaf': range(20,30,1),     #\n",
    "    'max_leaf_nodes':range(4,11,1), #\n",
    "    'max_depth':range(2, 10,1), #\n",
    "    'n_estimators':[500] #\n",
    "}"
   ]
  },
  {
   "cell_type": "code",
   "execution_count": 10,
   "id": "9d24b66f",
   "metadata": {},
   "outputs": [
    {
     "name": "stdout",
     "output_type": "stream",
     "text": [
      "Fitting 5 folds for each of 1680 candidates, totalling 8400 fits\n"
     ]
    },
    {
     "data": {
      "text/plain": [
       "GridSearchCV(cv=5, estimator=GradientBoostingClassifier(random_state=42),\n",
       "             n_jobs=6,\n",
       "             param_grid={'max_depth': range(2, 10),\n",
       "                         'max_leaf_nodes': range(4, 11),\n",
       "                         'min_samples_leaf': range(20, 30),\n",
       "                         'min_samples_split': range(2, 5),\n",
       "                         'n_estimators': [500]},\n",
       "             scoring=make_scorer(fbeta_score, average=binary, beta=1, labels=['M0', 'M1'], pos_label=M1),\n",
       "             verbose=1)"
      ]
     },
     "execution_count": 10,
     "metadata": {},
     "output_type": "execute_result"
    }
   ],
   "source": [
    "Grb_1 = GradientBoostingClassifier(random_state=42)\n",
    "grid_search_2 = GridSearchCV(estimator = Grb_1, param_grid = param_grid, \n",
    "                          cv = 5, n_jobs = 6, verbose = 1,scoring=ftwo_scorer)\n",
    "grid_search_2.fit(zestaw_caly, np.ravel(caly_label))\n"
   ]
  },
  {
   "cell_type": "code",
   "execution_count": 14,
   "id": "99ed3f35",
   "metadata": {},
   "outputs": [
    {
     "data": {
      "text/plain": [
       "GradientBoostingClassifier(max_leaf_nodes=7, min_samples_leaf=21,\n",
       "                           n_estimators=500, random_state=42)"
      ]
     },
     "execution_count": 14,
     "metadata": {},
     "output_type": "execute_result"
    }
   ],
   "source": [
    "grid_search_2.best_estimator_"
   ]
  },
  {
   "cell_type": "code",
   "execution_count": 12,
   "id": "bb637f4f",
   "metadata": {},
   "outputs": [
    {
     "data": {
      "text/plain": [
       "0.17135907260045188"
      ]
     },
     "execution_count": 12,
     "metadata": {},
     "output_type": "execute_result"
    }
   ],
   "source": [
    "grid_search_2.best_score_"
   ]
  },
  {
   "cell_type": "code",
   "execution_count": 13,
   "id": "f6d4ec7d",
   "metadata": {},
   "outputs": [
    {
     "data": {
      "text/plain": [
       "{'max_depth': 3,\n",
       " 'max_leaf_nodes': 7,\n",
       " 'min_samples_leaf': 21,\n",
       " 'min_samples_split': 2,\n",
       " 'n_estimators': 500}"
      ]
     },
     "execution_count": 13,
     "metadata": {},
     "output_type": "execute_result"
    }
   ],
   "source": [
    "grid_search_2.best_params_"
   ]
  },
  {
   "cell_type": "markdown",
   "id": "e3c65f19",
   "metadata": {},
   "source": [
    "## Dobieranie part 4"
   ]
  },
  {
   "cell_type": "code",
   "execution_count": null,
   "id": "c8da0f71",
   "metadata": {},
   "outputs": [],
   "source": [
    "param_grid = {\n",
    "    'min_samples_split':range(2,5,1), #2\n",
    "    'min_samples_leaf': range(20,30,1),     #21\n",
    "    'max_leaf_nodes':range(4,11,1), #7\n",
    "    'max_depth':range(2, 5,1), #3\n",
    "    'n_estimators':[500] #\n",
    "}"
   ]
  },
  {
   "cell_type": "markdown",
   "id": "2c3cc98d",
   "metadata": {},
   "source": [
    "## Cross - walidacja"
   ]
  },
  {
   "cell_type": "code",
   "execution_count": 15,
   "id": "4476b29e",
   "metadata": {},
   "outputs": [],
   "source": [
    "kfold = StratifiedKFold(n_splits=5, shuffle=True, random_state=42)\n",
    "dane_do_zapisu_2=pd.DataFrame()\n",
    "licznik=1\n",
    "wart_2=[]\n",
    "for train, test in kfold.split(zestaw_caly, caly_label):\n",
    "    reg = GradientBoostingClassifier(max_leaf_nodes=7, min_samples_leaf=21,\n",
    "                           n_estimators=500, random_state=42,max_depth=3)\n",
    "    reg.fit(zestaw_caly[train], caly_label[train])\n",
    "    predykcje=reg.predict(zestaw_caly[test])\n",
    "    dane_folda_2=pd.DataFrame({\"pred\": predykcje.ravel(),\n",
    "                                \"obs\": caly_label[test],\n",
    "                                \"Fold\":licznik})\n",
    "    dane_do_zapisu_2=pd.concat([dane_do_zapisu_2,dane_folda_2])\n",
    "    blad=fbeta_score(caly_label[test], predykcje, average='binary', beta=1,labels=['M0','M1'],pos_label='M1')\n",
    "    wart_2.append(blad)\n",
    "    licznik+=1"
   ]
  },
  {
   "cell_type": "code",
   "execution_count": 16,
   "id": "7f412156",
   "metadata": {},
   "outputs": [],
   "source": [
    "dane_do_zapisu_2.to_csv('D:\\\\STUDIA\\\\ROK_II\\\\Magisterka\\\\Modele\\\\Dane pierwotne\\\\Dane z cross-walidacji\\\\Klasa_M_Gradient_boosting.csv')"
   ]
  },
  {
   "cell_type": "code",
   "execution_count": 3,
   "id": "f8830ffa",
   "metadata": {},
   "outputs": [],
   "source": [
    "dane_do_zapisu_2=pd.read_csv('D:\\\\STUDIA\\\\ROK_II\\\\Magisterka\\\\Modele\\\\Dane pierwotne\\\\Dane z cross-walidacji\\\\M\\\\Klasa_M_Gradient_boosting.csv')"
   ]
  },
  {
   "cell_type": "code",
   "execution_count": 17,
   "id": "db2671b9",
   "metadata": {},
   "outputs": [
    {
     "data": {
      "text/plain": [
       "[0.0, 0.07692307692307693, 0.14285714285714288, 0.0, 0.22222222222222218]"
      ]
     },
     "execution_count": 17,
     "metadata": {},
     "output_type": "execute_result"
    }
   ],
   "source": [
    "wart_2"
   ]
  },
  {
   "cell_type": "code",
   "execution_count": 18,
   "id": "8c54cb34",
   "metadata": {},
   "outputs": [
    {
     "data": {
      "text/plain": [
       "0.08840048840048839"
      ]
     },
     "execution_count": 18,
     "metadata": {},
     "output_type": "execute_result"
    }
   ],
   "source": [
    "sum(wart_2)/len(wart_2) #0.032977654217233775"
   ]
  },
  {
   "cell_type": "code",
   "execution_count": 4,
   "id": "8959485e",
   "metadata": {},
   "outputs": [],
   "source": [
    "from sklearn.metrics import confusion_matrix"
   ]
  },
  {
   "cell_type": "code",
   "execution_count": 5,
   "id": "ce88e7bd",
   "metadata": {},
   "outputs": [],
   "source": [
    "cf_matrix = confusion_matrix(dane_do_zapisu_2['obs'], dane_do_zapisu_2['pred'])"
   ]
  },
  {
   "cell_type": "code",
   "execution_count": 6,
   "id": "5faf7e9f",
   "metadata": {},
   "outputs": [],
   "source": [
    "import seaborn as sns"
   ]
  },
  {
   "cell_type": "code",
   "execution_count": 7,
   "id": "887ac83c",
   "metadata": {},
   "outputs": [
    {
     "data": {
      "image/png": "[encoded data removed]",
      "text/plain": [
       "<Figure size 432x288 with 2 Axes>"
      ]
     },
     "metadata": {
      "needs_background": "light"
     },
     "output_type": "display_data"
    }
   ],
   "source": [
    "\n",
    "ax = plt.axes()\n",
    "sns.heatmap(cf_matrix, annot=True, fmt='g')\n",
    "\n",
    "ax.set_title('Dane pierwotne - Klasa M - GB')\n",
    "plt.ylabel('Rzeczywiste')\n",
    "plt.xlabel('Predykcja')\n",
    "plt.show()\n"
   ]
  },
  {
   "cell_type": "code",
   "execution_count": 23,
   "id": "e6d6596b",
   "metadata": {},
   "outputs": [
    {
     "name": "stdout",
     "output_type": "stream",
     "text": [
      "Recall: 0.056\n",
      "Precision: 0.240\n",
      "F1score: 0.090\n"
     ]
    }
   ],
   "source": [
    "from sklearn.metrics import recall_score\n",
    "from sklearn.metrics import precision_score\n",
    "\n",
    "precision = precision_score(dane_do_zapisu_2['obs'], dane_do_zapisu_2['pred'], labels=['M0','M1'], average='binary',pos_label='M1')\n",
    "recall = recall_score(dane_do_zapisu_2['obs'], dane_do_zapisu_2['pred'], labels=['M0','M1'], average='binary',pos_label='M1')\n",
    "f1score=fbeta_score(dane_do_zapisu_2['obs'], dane_do_zapisu_2['pred'], labels=['M0','M1'], average='binary',pos_label='M1', beta=1)\n",
    "print('Recall: %.3f' % recall)\n",
    "print('Precision: %.3f' % precision)\n",
    "print('F1score: %.3f' % f1score)"
   ]
  },
  {
   "cell_type": "code",
   "execution_count": null,
   "id": "463b5b82",
   "metadata": {},
   "outputs": [],
   "source": []
  }
 ],
 "metadata": {
  "kernelspec": {
   "display_name": "Python 3 (ipykernel)",
   "language": "python",
   "name": "python3"
  },
  "language_info": {
   "codemirror_mode": {
    "name": "ipython",
    "version": 3
   },
   "file_extension": ".py",
   "mimetype": "text/x-python",
   "name": "python",
   "nbconvert_exporter": "python",
   "pygments_lexer": "ipython3",
   "version": "3.10.4"
  }
 },
 "nbformat": 4,
 "nbformat_minor": 5
}
