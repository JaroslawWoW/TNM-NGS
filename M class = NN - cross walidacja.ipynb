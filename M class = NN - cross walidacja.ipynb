{
 "cells": [
  {
   "cell_type": "markdown",
   "id": "hairy-iraqi",
   "metadata": {},
   "source": [
    "## 1. Biblioteki"
   ]
  },
  {
   "cell_type": "code",
   "execution_count": 3,
   "id": "compressed-russell",
   "metadata": {},
   "outputs": [
    {
     "name": "stdout",
     "output_type": "stream",
     "text": [
      "The tensorboard extension is already loaded. To reload it, use:\n",
      "  %reload_ext tensorboard\n"
     ]
    }
   ],
   "source": [
    "import pandas as pd\n",
    "import numpy as np\n",
    "import csv\n",
    "import matplotlib.pyplot as plt\n",
    "%matplotlib inline\n",
    "import os\n",
    "import talos as ta\n",
    "from talos.model.early_stopper import early_stopper\n",
    "from sklearn.preprocessing import StandardScaler\n",
    "\n",
    "%load_ext tensorboard\n",
    "import tensorflow_addons as tfa\n",
    "import keras\n",
    "from tensorflow.keras import optimizers\n",
    "from tensorflow.keras.models import Sequential\n",
    "from tensorflow.keras.layers import Activation, Dense, Dropout\n",
    "from tensorflow.keras.layers import BatchNormalization\n",
    "from tensorflow.keras.callbacks import TensorBoard\n",
    "\n",
    "from tensorflow.keras.metrics import Recall, Precision\n",
    "import seaborn as sns\n",
    "\n",
    "from sklearn.model_selection import train_test_split\n",
    "\n",
    "\n",
    "import tensorflow as tf\n",
    "\n",
    "from sklearn.model_selection import cross_val_score, KFold, StratifiedKFold\n",
    "import logging\n",
    "logging.getLogger(\"tensorflow\").setLevel(logging.ERROR)\n",
    "from sklearn.metrics import make_scorer\n",
    "from sklearn.metrics import fbeta_score\n",
    "from tensorflow.keras.callbacks import EarlyStopping\n",
    "from sklearn.utils import class_weight"
   ]
  },
  {
   "cell_type": "markdown",
   "id": "presidential-upset",
   "metadata": {},
   "source": [
    "\n",
    "## 2. Dane"
   ]
  },
  {
   "cell_type": "code",
   "execution_count": 2,
   "id": "humanitarian-desperate",
   "metadata": {
    "scrolled": true
   },
   "outputs": [],
   "source": [
    "train_df=pd.read_csv(\"D:/STUDIA/ROK_II/Magisterka/Modele/Dane pierwotne/Dane_do_uczenia_M.csv\", encoding=\"utf-8\")\n",
    "del train_df['Unnamed: 0']"
   ]
  },
  {
   "cell_type": "code",
   "execution_count": 3,
   "id": "22b3fcd3",
   "metadata": {},
   "outputs": [
    {
     "data": {
      "text/html": [
       "<div>\n",
       "<style scoped>\n",
       "    .dataframe tbody tr th:only-of-type {\n",
       "        vertical-align: middle;\n",
       "    }\n",
       "\n",
       "    .dataframe tbody tr th {\n",
       "        vertical-align: top;\n",
       "    }\n",
       "\n",
       "    .dataframe thead th {\n",
       "        text-align: right;\n",
       "    }\n",
       "</style>\n",
       "<table border=\"1\" class=\"dataframe\">\n",
       "  <thead>\n",
       "    <tr style=\"text-align: right;\">\n",
       "      <th></th>\n",
       "      <th>ENSG00000212232.1</th>\n",
       "      <th>ENSG00000238741.1</th>\n",
       "      <th>ENSG00000252481.1</th>\n",
       "      <th>ENSG00000239002.3</th>\n",
       "      <th>ENSG00000212443.1</th>\n",
       "      <th>ENSG00000274012.1</th>\n",
       "      <th>ENSG00000252010.1</th>\n",
       "      <th>ENSG00000202198.1</th>\n",
       "      <th>ENSG00000251791.1</th>\n",
       "      <th>ENSG00000202058.1</th>\n",
       "      <th>...</th>\n",
       "      <th>ENSG00000241475.1</th>\n",
       "      <th>ENSG00000274618.1</th>\n",
       "      <th>ENSG00000227293.1</th>\n",
       "      <th>ENSG00000253526.1</th>\n",
       "      <th>ENSG00000270654.1</th>\n",
       "      <th>ENSG00000271394.1</th>\n",
       "      <th>ENSG00000265423.1</th>\n",
       "      <th>ENSG00000253165.1</th>\n",
       "      <th>ENSG00000201901.1</th>\n",
       "      <th>scale</th>\n",
       "    </tr>\n",
       "  </thead>\n",
       "  <tbody>\n",
       "    <tr>\n",
       "      <th>0</th>\n",
       "      <td>27.356617</td>\n",
       "      <td>31.768974</td>\n",
       "      <td>27.356617</td>\n",
       "      <td>5.294829</td>\n",
       "      <td>8.824715</td>\n",
       "      <td>6.645010e+02</td>\n",
       "      <td>2.647415</td>\n",
       "      <td>4.235863e+02</td>\n",
       "      <td>7.059772</td>\n",
       "      <td>16.766959</td>\n",
       "      <td>...</td>\n",
       "      <td>0.000000</td>\n",
       "      <td>0.000000</td>\n",
       "      <td>0.0</td>\n",
       "      <td>0.000000</td>\n",
       "      <td>0.0</td>\n",
       "      <td>0.000000</td>\n",
       "      <td>0.000000</td>\n",
       "      <td>0.0</td>\n",
       "      <td>0.000000</td>\n",
       "      <td>M0</td>\n",
       "    </tr>\n",
       "    <tr>\n",
       "      <th>1</th>\n",
       "      <td>8.695633</td>\n",
       "      <td>1.086954</td>\n",
       "      <td>6.521724</td>\n",
       "      <td>2.173908</td>\n",
       "      <td>0.000000</td>\n",
       "      <td>1.758692e+03</td>\n",
       "      <td>1.086954</td>\n",
       "      <td>5.434770e+01</td>\n",
       "      <td>0.000000</td>\n",
       "      <td>0.000000</td>\n",
       "      <td>...</td>\n",
       "      <td>0.000000</td>\n",
       "      <td>0.000000</td>\n",
       "      <td>0.0</td>\n",
       "      <td>0.000000</td>\n",
       "      <td>0.0</td>\n",
       "      <td>0.000000</td>\n",
       "      <td>0.000000</td>\n",
       "      <td>0.0</td>\n",
       "      <td>0.000000</td>\n",
       "      <td>M0</td>\n",
       "    </tr>\n",
       "    <tr>\n",
       "      <th>2</th>\n",
       "      <td>20.185177</td>\n",
       "      <td>77.002713</td>\n",
       "      <td>7.475992</td>\n",
       "      <td>4.485595</td>\n",
       "      <td>8.971190</td>\n",
       "      <td>2.775836e+03</td>\n",
       "      <td>2.242797</td>\n",
       "      <td>2.609121e+02</td>\n",
       "      <td>6.728392</td>\n",
       "      <td>10.466388</td>\n",
       "      <td>...</td>\n",
       "      <td>0.000000</td>\n",
       "      <td>0.747599</td>\n",
       "      <td>0.0</td>\n",
       "      <td>0.747599</td>\n",
       "      <td>0.0</td>\n",
       "      <td>0.747599</td>\n",
       "      <td>0.000000</td>\n",
       "      <td>0.0</td>\n",
       "      <td>0.000000</td>\n",
       "      <td>M0</td>\n",
       "    </tr>\n",
       "    <tr>\n",
       "      <th>3</th>\n",
       "      <td>18.157930</td>\n",
       "      <td>17.431612</td>\n",
       "      <td>6.536855</td>\n",
       "      <td>2.178952</td>\n",
       "      <td>2.905269</td>\n",
       "      <td>2.338741e+02</td>\n",
       "      <td>3.631586</td>\n",
       "      <td>6.827382e+01</td>\n",
       "      <td>1.452634</td>\n",
       "      <td>1.452634</td>\n",
       "      <td>...</td>\n",
       "      <td>0.726317</td>\n",
       "      <td>0.000000</td>\n",
       "      <td>0.0</td>\n",
       "      <td>0.000000</td>\n",
       "      <td>0.0</td>\n",
       "      <td>0.000000</td>\n",
       "      <td>0.000000</td>\n",
       "      <td>0.0</td>\n",
       "      <td>0.000000</td>\n",
       "      <td>M0</td>\n",
       "    </tr>\n",
       "    <tr>\n",
       "      <th>4</th>\n",
       "      <td>29912.168049</td>\n",
       "      <td>21631.677176</td>\n",
       "      <td>9554.333460</td>\n",
       "      <td>20332.131551</td>\n",
       "      <td>5136.495208</td>\n",
       "      <td>1.255850e+06</td>\n",
       "      <td>19221.760289</td>\n",
       "      <td>1.926818e+06</td>\n",
       "      <td>5198.182500</td>\n",
       "      <td>2655.637935</td>\n",
       "      <td>...</td>\n",
       "      <td>0.000000</td>\n",
       "      <td>953.068666</td>\n",
       "      <td>0.0</td>\n",
       "      <td>20.562431</td>\n",
       "      <td>0.0</td>\n",
       "      <td>269.367843</td>\n",
       "      <td>64.771657</td>\n",
       "      <td>0.0</td>\n",
       "      <td>123.374585</td>\n",
       "      <td>M0</td>\n",
       "    </tr>\n",
       "  </tbody>\n",
       "</table>\n",
       "<p>5 rows × 111 columns</p>\n",
       "</div>"
      ],
      "text/plain": [
       "   ENSG00000212232.1  ENSG00000238741.1  ENSG00000252481.1  ENSG00000239002.3  \\\n",
       "0          27.356617          31.768974          27.356617           5.294829   \n",
       "1           8.695633           1.086954           6.521724           2.173908   \n",
       "2          20.185177          77.002713           7.475992           4.485595   \n",
       "3          18.157930          17.431612           6.536855           2.178952   \n",
       "4       29912.168049       21631.677176        9554.333460       20332.131551   \n",
       "\n",
       "   ENSG00000212443.1  ENSG00000274012.1  ENSG00000252010.1  ENSG00000202198.1  \\\n",
       "0           8.824715       6.645010e+02           2.647415       4.235863e+02   \n",
       "1           0.000000       1.758692e+03           1.086954       5.434770e+01   \n",
       "2           8.971190       2.775836e+03           2.242797       2.609121e+02   \n",
       "3           2.905269       2.338741e+02           3.631586       6.827382e+01   \n",
       "4        5136.495208       1.255850e+06       19221.760289       1.926818e+06   \n",
       "\n",
       "   ENSG00000251791.1  ENSG00000202058.1  ...  ENSG00000241475.1  \\\n",
       "0           7.059772          16.766959  ...           0.000000   \n",
       "1           0.000000           0.000000  ...           0.000000   \n",
       "2           6.728392          10.466388  ...           0.000000   \n",
       "3           1.452634           1.452634  ...           0.726317   \n",
       "4        5198.182500        2655.637935  ...           0.000000   \n",
       "\n",
       "   ENSG00000274618.1  ENSG00000227293.1  ENSG00000253526.1  ENSG00000270654.1  \\\n",
       "0           0.000000                0.0           0.000000                0.0   \n",
       "1           0.000000                0.0           0.000000                0.0   \n",
       "2           0.747599                0.0           0.747599                0.0   \n",
       "3           0.000000                0.0           0.000000                0.0   \n",
       "4         953.068666                0.0          20.562431                0.0   \n",
       "\n",
       "   ENSG00000271394.1  ENSG00000265423.1  ENSG00000253165.1  ENSG00000201901.1  \\\n",
       "0           0.000000           0.000000                0.0           0.000000   \n",
       "1           0.000000           0.000000                0.0           0.000000   \n",
       "2           0.747599           0.000000                0.0           0.000000   \n",
       "3           0.000000           0.000000                0.0           0.000000   \n",
       "4         269.367843          64.771657                0.0         123.374585   \n",
       "\n",
       "   scale  \n",
       "0     M0  \n",
       "1     M0  \n",
       "2     M0  \n",
       "3     M0  \n",
       "4     M0  \n",
       "\n",
       "[5 rows x 111 columns]"
      ]
     },
     "execution_count": 3,
     "metadata": {},
     "output_type": "execute_result"
    }
   ],
   "source": [
    "train_df.head()"
   ]
  },
  {
   "cell_type": "code",
   "execution_count": 4,
   "id": "35c392d9",
   "metadata": {},
   "outputs": [],
   "source": [
    "train_df['scale'].loc[(train_df['scale'] == 'M0')] = 0\n",
    "train_df['scale'].loc[(train_df['scale'] == 'M1')] = 1"
   ]
  },
  {
   "cell_type": "code",
   "execution_count": 5,
   "id": "1db4b939",
   "metadata": {},
   "outputs": [],
   "source": [
    "train_df=train_df.loc[(train_df['scale']!='MX')]"
   ]
  },
  {
   "cell_type": "code",
   "execution_count": 6,
   "id": "0000d317",
   "metadata": {},
   "outputs": [],
   "source": [
    "caly_df=train_df.copy()"
   ]
  },
  {
   "cell_type": "code",
   "execution_count": 7,
   "id": "c29373bb",
   "metadata": {},
   "outputs": [],
   "source": [
    "caly_label=caly_df['scale']\n",
    "del caly_df['scale']"
   ]
  },
  {
   "cell_type": "code",
   "execution_count": 8,
   "id": "33410b6b",
   "metadata": {},
   "outputs": [],
   "source": [
    "train_df, test_df = train_test_split(train_df, test_size=0.2, random_state=42,stratify=train_df['scale'])\n",
    "test_df, val_df = train_test_split(test_df, test_size=0.5, random_state=42,stratify=test_df['scale'])\n",
    "\n",
    "\n",
    "train_label=train_df['scale']\n",
    "test_label=test_df['scale']\n",
    "val_label=val_df['scale']\n",
    "del train_df['scale']\n",
    "del test_df['scale']\n",
    "del val_df['scale']\n"
   ]
  },
  {
   "cell_type": "code",
   "execution_count": 9,
   "id": "8ef6a0b1",
   "metadata": {},
   "outputs": [
    {
     "data": {
      "text/plain": [
       "110"
      ]
     },
     "execution_count": 9,
     "metadata": {},
     "output_type": "execute_result"
    }
   ],
   "source": [
    "len(list(train_df))"
   ]
  },
  {
   "cell_type": "code",
   "execution_count": 10,
   "id": "d6644f55",
   "metadata": {},
   "outputs": [
    {
     "data": {
      "text/plain": [
       "(568,)"
      ]
     },
     "execution_count": 10,
     "metadata": {},
     "output_type": "execute_result"
    }
   ],
   "source": [
    "train_label.shape"
   ]
  },
  {
   "cell_type": "markdown",
   "id": "knowing-precipitation",
   "metadata": {},
   "source": [
    "## 1.2 Standaryzacja"
   ]
  },
  {
   "cell_type": "code",
   "execution_count": 14,
   "id": "indonesian-majority",
   "metadata": {},
   "outputs": [],
   "source": [
    "scaler = StandardScaler()\n",
    "train_df=scaler.fit_transform(train_df)\n",
    "test_df=scaler.fit_transform(test_df)\n",
    "val_df=scaler.fit_transform(val_df)\n",
    "caly_df=scaler.fit_transform(caly_df)"
   ]
  },
  {
   "cell_type": "code",
   "execution_count": 15,
   "id": "dcc66d81",
   "metadata": {},
   "outputs": [
    {
     "data": {
      "text/plain": [
       "array([[-0.23532639, -0.28536286, -0.29189695, ..., -0.20273415,\n",
       "        -0.13658188, -0.25716709],\n",
       "       [-0.23488914, -0.28412701, -0.28766847, ..., -0.20273415,\n",
       "        -0.13658188, -0.25716709],\n",
       "       [-0.23513615, -0.28194648, -0.28119849, ..., -0.1127296 ,\n",
       "        -0.13658188, -0.18291094],\n",
       "       ...,\n",
       "       [-0.23560858, -0.28411483, -0.29158105, ..., -0.20273415,\n",
       "        -0.07110588, -0.25716709],\n",
       "       [13.92769305,  3.11477926,  6.81130447, ..., -0.05473062,\n",
       "        -0.13658188,  1.2895196 ],\n",
       "       [-0.23495945, -0.28021459, -0.28164044, ..., -0.20273415,\n",
       "        -0.07405669, -0.25716709]])"
      ]
     },
     "execution_count": 15,
     "metadata": {},
     "output_type": "execute_result"
    }
   ],
   "source": [
    "train_df"
   ]
  },
  {
   "cell_type": "code",
   "execution_count": 16,
   "id": "2486bcc5",
   "metadata": {},
   "outputs": [],
   "source": [
    "train_label=np.asarray(train_label).astype(np.int)\n",
    "test_label=np.asarray(test_label).astype(np.int)\n",
    "val_label=np.asarray(val_label).astype(np.int)"
   ]
  },
  {
   "cell_type": "code",
   "execution_count": 17,
   "id": "d0a41d58",
   "metadata": {},
   "outputs": [],
   "source": [
    "valy_label=np.asarray(caly_label).astype(np.int)"
   ]
  },
  {
   "cell_type": "code",
   "execution_count": 18,
   "id": "b23fc815",
   "metadata": {
    "scrolled": true
   },
   "outputs": [
    {
     "data": {
      "text/plain": [
       "array([0, 1, 1, 0, 0, 0, 0, 1, 0, 0, 0, 0, 0, 0, 0, 1, 0, 0, 0, 0, 0, 0,\n",
       "       0, 0, 0, 1, 0, 0, 0, 0, 0, 0, 0, 1, 0, 0, 0, 0, 1, 0, 0, 1, 1, 0,\n",
       "       0, 0, 0, 0, 0, 0, 0, 0, 0, 0, 0, 0, 0, 0, 0, 0, 0, 0, 1, 1, 0, 0,\n",
       "       1, 0, 0, 0, 0, 0, 1, 1, 0, 0, 0, 0, 0, 0, 0, 0, 1, 0, 0, 0, 0, 0,\n",
       "       1, 0, 0, 0, 0, 0, 0, 1, 0, 0, 0, 0, 0, 0, 0, 1, 0, 0, 0, 0, 0, 0,\n",
       "       0, 0, 0, 1, 0, 0, 0, 0, 0, 0, 0, 0, 1, 0, 0, 0, 1, 0, 0, 0, 0, 0,\n",
       "       0, 0, 0, 0, 0, 0, 0, 1, 0, 0, 1, 0, 0, 0, 0, 0, 0, 0, 0, 1, 1, 0,\n",
       "       1, 0, 0, 0, 0, 0, 0, 0, 0, 0, 0, 0, 0, 1, 0, 0, 0, 0, 0, 0, 0, 0,\n",
       "       0, 0, 0, 0, 0, 0, 0, 0, 0, 0, 1, 0, 0, 0, 0, 0, 0, 0, 0, 0, 0, 0,\n",
       "       0, 1, 0, 0, 0, 0, 0, 0, 0, 0, 0, 0, 0, 0, 0, 0, 0, 0, 1, 0, 1, 0,\n",
       "       0, 1, 0, 0, 0, 1, 1, 0, 0, 0, 0, 0, 0, 0, 0, 0, 1, 1, 0, 1, 0, 0,\n",
       "       0, 0, 0, 0, 1, 0, 0, 0, 0, 0, 0, 0, 0, 0, 0, 0, 0, 0, 0, 0, 0, 0,\n",
       "       0, 1, 0, 0, 0, 1, 0, 0, 0, 0, 0, 0, 0, 0, 0, 0, 0, 1, 0, 0, 0, 0,\n",
       "       0, 0, 0, 0, 0, 0, 0, 0, 0, 0, 0, 0, 0, 0, 0, 1, 0, 0, 0, 0, 1, 0,\n",
       "       0, 1, 0, 1, 0, 0, 0, 0, 0, 0, 1, 0, 0, 0, 0, 0, 0, 0, 0, 0, 0, 0,\n",
       "       0, 1, 0, 1, 0, 0, 0, 0, 0, 0, 1, 1, 0, 1, 0, 1, 0, 0, 1, 0, 0, 0,\n",
       "       0, 0, 0, 0, 1, 0, 0, 0, 0, 0, 0, 0, 0, 0, 1, 1, 0, 0, 1, 0, 0, 0,\n",
       "       0, 1, 0, 0, 0, 0, 0, 0, 1, 0, 0, 0, 0, 0, 0, 0, 0, 1, 1, 0, 1, 0,\n",
       "       0, 0, 0, 0, 0, 0, 1, 0, 0, 0, 0, 0, 1, 0, 0, 0, 1, 1, 0, 0, 0, 0,\n",
       "       1, 0, 0, 0, 0, 0, 1, 1, 0, 1, 0, 0, 0, 0, 1, 0, 0, 1, 0, 0, 0, 0,\n",
       "       0, 0, 0, 0, 0, 0, 0, 0, 0, 0, 0, 0, 1, 1, 0, 0, 0, 1, 0, 0, 0, 0,\n",
       "       0, 0, 0, 0, 1, 0, 0, 1, 0, 1, 0, 0, 0, 1, 0, 0, 0, 0, 0, 0, 1, 0,\n",
       "       0, 0, 1, 0, 0, 0, 0, 0, 0, 0, 1, 0, 0, 0, 0, 0, 1, 0, 0, 0, 0, 0,\n",
       "       0, 0, 0, 0, 0, 0, 0, 0, 0, 0, 0, 0, 0, 0, 0, 0, 0, 0, 0, 0, 0, 0,\n",
       "       0, 1, 0, 0, 0, 0, 0, 0, 0, 0, 0, 0, 0, 0, 0, 1, 0, 0, 1, 0, 0, 0,\n",
       "       0, 0, 0, 0, 0, 0, 0, 0, 0, 0, 0, 0, 0, 0, 0, 0, 0, 0])"
      ]
     },
     "execution_count": 18,
     "metadata": {},
     "output_type": "execute_result"
    }
   ],
   "source": [
    "train_label"
   ]
  },
  {
   "cell_type": "code",
   "execution_count": 19,
   "id": "263db0e5",
   "metadata": {},
   "outputs": [
    {
     "data": {
      "text/plain": [
       "(568,)"
      ]
     },
     "execution_count": 19,
     "metadata": {},
     "output_type": "execute_result"
    }
   ],
   "source": [
    "train_label.shape"
   ]
  },
  {
   "cell_type": "code",
   "execution_count": 20,
   "id": "750b76b5",
   "metadata": {},
   "outputs": [
    {
     "data": {
      "text/plain": [
       "(71,)"
      ]
     },
     "execution_count": 20,
     "metadata": {},
     "output_type": "execute_result"
    }
   ],
   "source": [
    "test_label.shape"
   ]
  },
  {
   "cell_type": "markdown",
   "id": "powered-stick",
   "metadata": {},
   "source": [
    "## 2.1 Słownik parametrów do wypróbowania"
   ]
  },
  {
   "cell_type": "code",
   "execution_count": 27,
   "id": "ed670b23",
   "metadata": {},
   "outputs": [],
   "source": [
    "p = {\n",
    "    'first_neuron':55,  #Done\n",
    "     'hidden_neuron':50, #Done\n",
    "\n",
    "     'hidden_layers':0,   \n",
    "\n",
    "     \n",
    "    'epochs': 100000, # never touch it\n",
    "\n",
    "\n",
    "    'last_activation': 'sigmoid', #never touch it\n",
    "\n",
    "\n",
    "    'batch_size': 64, #Done\n",
    "\n",
    "    'lr':0.001, #Done\n",
    "    \n",
    "    'kernel_regularizer_l1':0.0001,#Done\n",
    "    'kernel_regularizer_l2':0.01,#Done\n",
    "    'bias_regularizer':0.001,#Done\n",
    "    'activity_regularizer':0.001,#Done\n",
    "\n",
    "    'dropout': 0.1, #Done\n",
    "\n",
    "    'kernel_initializer': 'identity', #Done\n",
    "\n",
    "    'activation_layer':'tanh', #Done\n",
    " \n",
    "    'batc_normalization':False, #Done\n",
    " \n",
    "}"
   ]
  },
  {
   "cell_type": "code",
   "execution_count": 28,
   "id": "aeff143e",
   "metadata": {},
   "outputs": [],
   "source": [
    "\n",
    "def numerai_model(x_train, y_train, x_val, y_val, params):\n",
    "    \n",
    "    print(params)\n",
    "\n",
    "    model = Sequential()\n",
    "    \n",
    "    ## initial layer\n",
    "    model.add(Dense(params['first_neuron'], input_dim=x_train.shape[1],\n",
    "                    activation='relu',\n",
    "               \n",
    "                    kernel_initializer = params['kernel_initializer'],\n",
    "                    kernel_regularizer=keras.regularizers.l1_l2(l1=params['kernel_regularizer_l1'],\n",
    "                                                                l2=params['kernel_regularizer_l2']),\n",
    "                    bias_regularizer=keras.regularizers.l2(params['bias_regularizer']),\n",
    "                    activity_regularizer=keras.regularizers.l2(params['activity_regularizer'])\n",
    "                   ))\n",
    "    if params['batc_normalization']==True:\n",
    "        model.add(BatchNormalization())\n",
    "        \n",
    "    if params['dropout']!=0:\n",
    "        model.add(Dropout(params['dropout']))\n",
    "    \n",
    "    ## hidden layers\n",
    "    for i in range(params['hidden_layers']):\n",
    "        print (f\"adding layer {i+1}\")\n",
    "        model.add(Dense(params['hidden_neuron'], activation='relu',\n",
    "                    kernel_initializer=params['kernel_initializer'],\n",
    "                        kernel_regularizer=keras.regularizers.l1_l2(l1=params['kernel_regularizer_l1'],\n",
    "                                                                    l2=params['kernel_regularizer_l2']),\n",
    "                    bias_regularizer=keras.regularizers.l2(params['bias_regularizer']),\n",
    "                    activity_regularizer=keras.regularizers.l2(params['activity_regularizer'])\n",
    "                       ))\n",
    "        if params['batc_normalization']==True:\n",
    "            model.add(BatchNormalization())\n",
    "            \n",
    "        if params['dropout']!=0:\n",
    "            model.add(Dropout(params['dropout']))\n",
    "    \n",
    "    \n",
    "    ## final layer\n",
    "    model.add(Dense(1, activation=params['last_activation'],\n",
    "                    kernel_initializer=params['kernel_initializer'],\n",
    "                   kernel_regularizer=keras.regularizers.l1_l2(l1=params['kernel_regularizer_l1'],\n",
    "                                                               l2=params['kernel_regularizer_l2']),\n",
    "                    bias_regularizer=keras.regularizers.l2(params['bias_regularizer']),\n",
    "                    activity_regularizer=keras.regularizers.l2(params['activity_regularizer'])\n",
    "                   ))\n",
    "    \n",
    "    model.compile(loss='binary_crossentropy',\n",
    "\n",
    "                  optimizer=tf.keras.optimizers.Adam(learning_rate=params['lr']),\n",
    "                  metrics=[tfa.metrics.FBetaScore(num_classes=1, beta=1.0, threshold=0.5),\n",
    "      keras.metrics.Precision(name='precision'),\n",
    "      keras.metrics.Recall(name='recall'),])\n",
    "  \n",
    "  \n",
    "    history = model.fit(x_train, y_train, \n",
    "                        validation_data=[x_val, y_val],\n",
    "                        batch_size=params['batch_size'],\n",
    "                        epochs=params['epochs'],\n",
    "                        verbose=0,\n",
    "                        class_weight={0 : 0.58921162,\n",
    "                                      1 : 3.30232558},\n",
    "                        callbacks = [\n",
    "                                     EarlyStopping(monitor='val_loss',\n",
    "                                        min_delta=0.01,\n",
    "                                        patience=50, mode='min',verbose=1,\n",
    "                                                      restore_best_weights=True)\n",
    "                                    ] #,ta.live(),\n",
    "                        )\n",
    "\n",
    "    return history, model"
   ]
  },
  {
   "cell_type": "markdown",
   "id": "desirable-married",
   "metadata": {},
   "source": [
    "## 2.3 Przeprowadzam skan, używając parametrów i funkcji wyżej\n"
   ]
  },
  {
   "cell_type": "code",
   "execution_count": 29,
   "id": "fc6c36ff",
   "metadata": {
    "scrolled": true
   },
   "outputs": [
    {
     "name": "stdout",
     "output_type": "stream",
     "text": [
      "{'first_neuron': 55, 'hidden_neuron': 50, 'hidden_layers': 0, 'epochs': 100000, 'last_activation': 'sigmoid', 'batch_size': 64, 'lr': 0.001, 'kernel_regularizer_l1': 0.0001, 'kernel_regularizer_l2': 0.01, 'bias_regularizer': 0.001, 'activity_regularizer': 0.001, 'dropout': 0.1, 'kernel_initializer': 'identity', 'activation_layer': 'tanh', 'batc_normalization': False}\n",
      "WARNING: AutoGraph could not transform <function Model.make_train_function.<locals>.train_function at 0x0000027B4F4F1708> and will run it as-is.\n",
      "Please report this to the TensorFlow team. When filing the bug, set the verbosity to 10 (on Linux, `export AUTOGRAPH_VERBOSITY=10`) and attach the full output.\n",
      "Cause: 'arguments' object has no attribute 'posonlyargs'\n",
      "To silence this warning, decorate the function with @tf.autograph.experimental.do_not_convert\n",
      "WARNING: AutoGraph could not transform <bound method FBetaScore.update_state of <tensorflow_addons.metrics.f_scores.FBetaScore object at 0x0000027B53DA2C08>> and will run it as-is.\n",
      "Please report this to the TensorFlow team. When filing the bug, set the verbosity to 10 (on Linux, `export AUTOGRAPH_VERBOSITY=10`) and attach the full output.\n",
      "Cause: 'arguments' object has no attribute 'posonlyargs'\n",
      "To silence this warning, decorate the function with @tf.autograph.experimental.do_not_convert\n",
      "WARNING: AutoGraph could not transform <bound method FBetaScore.result of <tensorflow_addons.metrics.f_scores.FBetaScore object at 0x0000027B53DA2C08>> and will run it as-is.\n",
      "Please report this to the TensorFlow team. When filing the bug, set the verbosity to 10 (on Linux, `export AUTOGRAPH_VERBOSITY=10`) and attach the full output.\n",
      "Cause: 'arguments' object has no attribute 'posonlyargs'\n",
      "To silence this warning, decorate the function with @tf.autograph.experimental.do_not_convert\n",
      "WARNING: AutoGraph could not transform <function Model.make_test_function.<locals>.test_function at 0x0000027B5BAD7708> and will run it as-is.\n",
      "Please report this to the TensorFlow team. When filing the bug, set the verbosity to 10 (on Linux, `export AUTOGRAPH_VERBOSITY=10`) and attach the full output.\n",
      "Cause: 'arguments' object has no attribute 'posonlyargs'\n",
      "To silence this warning, decorate the function with @tf.autograph.experimental.do_not_convert\n",
      "Restoring model weights from the end of the best epoch: 156.\n",
      "Epoch 00206: early stopping\n"
     ]
    }
   ],
   "source": [
    "history=numerai_model(train_df, train_label, test_df, test_label, p)"
   ]
  },
  {
   "cell_type": "code",
   "execution_count": 30,
   "id": "f72e393a",
   "metadata": {},
   "outputs": [],
   "source": [
    "history,model=history"
   ]
  },
  {
   "cell_type": "code",
   "execution_count": 31,
   "id": "d0a4a0ec",
   "metadata": {},
   "outputs": [
    {
     "data": {
      "text/plain": [
       "[<matplotlib.lines.Line2D at 0x27b5ce0b708>]"
      ]
     },
     "execution_count": 31,
     "metadata": {},
     "output_type": "execute_result"
    },
    {
     "data": {
      "image/png": "[encoded data removed]",
      "text/plain": [
       "<Figure size 432x288 with 1 Axes>"
      ]
     },
     "metadata": {
      "needs_background": "light"
     },
     "output_type": "display_data"
    }
   ],
   "source": [
    "plt.plot(history.history['loss'])\n",
    "plt.plot(history.history['val_loss'])"
   ]
  },
  {
   "cell_type": "code",
   "execution_count": 32,
   "id": "c52911f9",
   "metadata": {},
   "outputs": [
    {
     "name": "stdout",
     "output_type": "stream",
     "text": [
      "WARNING: AutoGraph could not transform <function Model.make_predict_function.<locals>.predict_function at 0x0000027B5DED4438> and will run it as-is.\n",
      "Please report this to the TensorFlow team. When filing the bug, set the verbosity to 10 (on Linux, `export AUTOGRAPH_VERBOSITY=10`) and attach the full output.\n",
      "Cause: 'arguments' object has no attribute 'posonlyargs'\n",
      "To silence this warning, decorate the function with @tf.autograph.experimental.do_not_convert\n"
     ]
    }
   ],
   "source": [
    "predictions=model.predict(val_df)"
   ]
  },
  {
   "cell_type": "code",
   "execution_count": 33,
   "id": "1b14c919",
   "metadata": {
    "scrolled": true
   },
   "outputs": [
    {
     "data": {
      "text/plain": [
       "array([[0.50181156],\n",
       "       [0.59574753],\n",
       "       [0.48873767],\n",
       "       [0.2901342 ],\n",
       "       [0.49079144],\n",
       "       [0.48879614],\n",
       "       [0.4966123 ],\n",
       "       [0.48174945],\n",
       "       [0.6564152 ],\n",
       "       [0.4900754 ],\n",
       "       [0.484657  ],\n",
       "       [0.5132272 ],\n",
       "       [0.49019033],\n",
       "       [0.08777097],\n",
       "       [0.4882039 ],\n",
       "       [0.09002224],\n",
       "       [0.5041682 ],\n",
       "       [0.50157946],\n",
       "       [0.5028293 ],\n",
       "       [0.1398716 ],\n",
       "       [0.32840866],\n",
       "       [0.5357782 ],\n",
       "       [0.4883312 ],\n",
       "       [0.45400923],\n",
       "       [0.5010257 ],\n",
       "       [0.5134041 ],\n",
       "       [0.504647  ],\n",
       "       [0.08338353],\n",
       "       [0.60114276],\n",
       "       [0.4900318 ],\n",
       "       [0.4813272 ],\n",
       "       [0.47198933],\n",
       "       [0.48596427],\n",
       "       [0.48998886],\n",
       "       [0.49046272],\n",
       "       [0.04522258],\n",
       "       [0.5001864 ],\n",
       "       [0.49860716],\n",
       "       [0.49913272],\n",
       "       [0.49701208],\n",
       "       [0.03388786],\n",
       "       [0.5439665 ],\n",
       "       [0.4819353 ],\n",
       "       [0.04238015],\n",
       "       [0.5002122 ],\n",
       "       [0.53367877],\n",
       "       [0.48559862],\n",
       "       [0.4974047 ],\n",
       "       [0.5042902 ],\n",
       "       [0.5012889 ],\n",
       "       [0.4900157 ],\n",
       "       [0.52933955],\n",
       "       [0.4990888 ],\n",
       "       [0.6549    ],\n",
       "       [0.48898563],\n",
       "       [0.498472  ],\n",
       "       [0.5252936 ],\n",
       "       [0.2962724 ],\n",
       "       [0.48984337],\n",
       "       [0.014586  ],\n",
       "       [0.53841746],\n",
       "       [0.4872252 ],\n",
       "       [0.48945278],\n",
       "       [0.491154  ],\n",
       "       [0.26205304],\n",
       "       [0.5370934 ],\n",
       "       [0.5085579 ],\n",
       "       [0.4975429 ],\n",
       "       [0.39883685],\n",
       "       [0.49085826],\n",
       "       [0.5196663 ]], dtype=float32)"
      ]
     },
     "execution_count": 33,
     "metadata": {},
     "output_type": "execute_result"
    }
   ],
   "source": [
    "predictions"
   ]
  },
  {
   "cell_type": "code",
   "execution_count": 34,
   "id": "4d657dbb",
   "metadata": {},
   "outputs": [],
   "source": [
    "rezults=[]\n",
    "class_one = predictions > 0.5\n",
    "for x in class_one:\n",
    "    if x==True:\n",
    "        rezults.append(1)\n",
    "    else:\n",
    "        rezults.append(0)"
   ]
  },
  {
   "cell_type": "code",
   "execution_count": 35,
   "id": "6dafa571",
   "metadata": {
    "scrolled": true
   },
   "outputs": [
    {
     "data": {
      "text/plain": [
       "array([[ True],\n",
       "       [ True],\n",
       "       [False],\n",
       "       [False],\n",
       "       [False],\n",
       "       [False],\n",
       "       [False],\n",
       "       [False],\n",
       "       [ True],\n",
       "       [False],\n",
       "       [False],\n",
       "       [ True],\n",
       "       [False],\n",
       "       [False],\n",
       "       [False],\n",
       "       [False],\n",
       "       [ True],\n",
       "       [ True],\n",
       "       [ True],\n",
       "       [False],\n",
       "       [False],\n",
       "       [ True],\n",
       "       [False],\n",
       "       [False],\n",
       "       [ True],\n",
       "       [ True],\n",
       "       [ True],\n",
       "       [False],\n",
       "       [ True],\n",
       "       [False],\n",
       "       [False],\n",
       "       [False],\n",
       "       [False],\n",
       "       [False],\n",
       "       [False],\n",
       "       [False],\n",
       "       [ True],\n",
       "       [False],\n",
       "       [False],\n",
       "       [False],\n",
       "       [False],\n",
       "       [ True],\n",
       "       [False],\n",
       "       [False],\n",
       "       [ True],\n",
       "       [ True],\n",
       "       [False],\n",
       "       [False],\n",
       "       [ True],\n",
       "       [ True],\n",
       "       [False],\n",
       "       [ True],\n",
       "       [False],\n",
       "       [ True],\n",
       "       [False],\n",
       "       [False],\n",
       "       [ True],\n",
       "       [False],\n",
       "       [False],\n",
       "       [False],\n",
       "       [ True],\n",
       "       [False],\n",
       "       [False],\n",
       "       [False],\n",
       "       [False],\n",
       "       [ True],\n",
       "       [ True],\n",
       "       [False],\n",
       "       [False],\n",
       "       [False],\n",
       "       [ True]])"
      ]
     },
     "execution_count": 35,
     "metadata": {},
     "output_type": "execute_result"
    }
   ],
   "source": [
    "class_one"
   ]
  },
  {
   "cell_type": "code",
   "execution_count": 36,
   "id": "026436df",
   "metadata": {
    "scrolled": true
   },
   "outputs": [
    {
     "data": {
      "text/plain": [
       "[1,\n",
       " 1,\n",
       " 0,\n",
       " 0,\n",
       " 0,\n",
       " 0,\n",
       " 0,\n",
       " 0,\n",
       " 1,\n",
       " 0,\n",
       " 0,\n",
       " 1,\n",
       " 0,\n",
       " 0,\n",
       " 0,\n",
       " 0,\n",
       " 1,\n",
       " 1,\n",
       " 1,\n",
       " 0,\n",
       " 0,\n",
       " 1,\n",
       " 0,\n",
       " 0,\n",
       " 1,\n",
       " 1,\n",
       " 1,\n",
       " 0,\n",
       " 1,\n",
       " 0,\n",
       " 0,\n",
       " 0,\n",
       " 0,\n",
       " 0,\n",
       " 0,\n",
       " 0,\n",
       " 1,\n",
       " 0,\n",
       " 0,\n",
       " 0,\n",
       " 0,\n",
       " 1,\n",
       " 0,\n",
       " 0,\n",
       " 1,\n",
       " 1,\n",
       " 0,\n",
       " 0,\n",
       " 1,\n",
       " 1,\n",
       " 0,\n",
       " 1,\n",
       " 0,\n",
       " 1,\n",
       " 0,\n",
       " 0,\n",
       " 1,\n",
       " 0,\n",
       " 0,\n",
       " 0,\n",
       " 1,\n",
       " 0,\n",
       " 0,\n",
       " 0,\n",
       " 0,\n",
       " 1,\n",
       " 1,\n",
       " 0,\n",
       " 0,\n",
       " 0,\n",
       " 1]"
      ]
     },
     "execution_count": 36,
     "metadata": {},
     "output_type": "execute_result"
    }
   ],
   "source": [
    "rezults"
   ]
  },
  {
   "cell_type": "code",
   "execution_count": 37,
   "id": "6f46fbc7",
   "metadata": {},
   "outputs": [
    {
     "data": {
      "text/plain": [
       "0.2222222222222222"
      ]
     },
     "execution_count": 37,
     "metadata": {},
     "output_type": "execute_result"
    }
   ],
   "source": [
    "fbeta_score(val_label, rezults, average='binary', beta=1,labels=[0,1],pos_label=1)"
   ]
  },
  {
   "cell_type": "code",
   "execution_count": 39,
   "id": "f6c8cca9",
   "metadata": {},
   "outputs": [
    {
     "data": {
      "text/plain": [
       "array([[-0.2346794 , -0.27644221, -0.27401497, ..., -0.19443738,\n",
       "        -0.13395776, -0.24327723],\n",
       "       [-0.23610784, -0.28298729, -0.28281055, ..., -0.19443738,\n",
       "        -0.13395776, -0.24327723],\n",
       "       [-0.23522835, -0.26679298, -0.2824077 , ..., -0.19443738,\n",
       "        -0.13395776, -0.24327723],\n",
       "       ...,\n",
       "       [-0.23574224, -0.2795616 , -0.27470636, ..., -0.10068831,\n",
       "        -0.13395776, -0.1702215 ],\n",
       "       [-0.23579253, -0.27581554, -0.27474406, ..., -0.15356456,\n",
       "        -0.13395776, -0.23266026],\n",
       "       [-0.14972453, -0.24653519, -0.22233403, ..., -0.19443738,\n",
       "        -0.13395776, -0.24327723]])"
      ]
     },
     "execution_count": 39,
     "metadata": {},
     "output_type": "execute_result"
    }
   ],
   "source": [
    "caly_df"
   ]
  },
  {
   "cell_type": "code",
   "execution_count": 41,
   "id": "14aabbed",
   "metadata": {},
   "outputs": [],
   "source": [
    "caly_label=np.asarray(caly_label).astype(np.int)"
   ]
  },
  {
   "cell_type": "code",
   "execution_count": 49,
   "id": "ec12a0dc",
   "metadata": {
    "scrolled": true
   },
   "outputs": [
    {
     "name": "stdout",
     "output_type": "stream",
     "text": [
      "{'first_neuron': 55, 'hidden_neuron': 50, 'hidden_layers': 0, 'epochs': 100000, 'last_activation': 'sigmoid', 'batch_size': 64, 'lr': 0.001, 'kernel_regularizer_l1': 0.0001, 'kernel_regularizer_l2': 0.01, 'bias_regularizer': 0.001, 'activity_regularizer': 0.001, 'dropout': 0.1, 'kernel_initializer': 'identity', 'activation_layer': 'tanh', 'batc_normalization': False}\n",
      "WARNING: AutoGraph could not transform <function Model.make_train_function.<locals>.train_function at 0x0000027B5FB22F78> and will run it as-is.\n",
      "Please report this to the TensorFlow team. When filing the bug, set the verbosity to 10 (on Linux, `export AUTOGRAPH_VERBOSITY=10`) and attach the full output.\n",
      "Cause: 'arguments' object has no attribute 'posonlyargs'\n",
      "To silence this warning, decorate the function with @tf.autograph.experimental.do_not_convert\n",
      "WARNING: AutoGraph could not transform <function Model.make_test_function.<locals>.test_function at 0x0000027B627C6E58> and will run it as-is.\n",
      "Please report this to the TensorFlow team. When filing the bug, set the verbosity to 10 (on Linux, `export AUTOGRAPH_VERBOSITY=10`) and attach the full output.\n",
      "Cause: 'arguments' object has no attribute 'posonlyargs'\n",
      "To silence this warning, decorate the function with @tf.autograph.experimental.do_not_convert\n",
      "Restoring model weights from the end of the best epoch: 153.\n",
      "Epoch 00203: early stopping\n",
      "WARNING: AutoGraph could not transform <function Model.make_predict_function.<locals>.predict_function at 0x0000027B612CA5E8> and will run it as-is.\n",
      "Please report this to the TensorFlow team. When filing the bug, set the verbosity to 10 (on Linux, `export AUTOGRAPH_VERBOSITY=10`) and attach the full output.\n",
      "Cause: 'arguments' object has no attribute 'posonlyargs'\n",
      "To silence this warning, decorate the function with @tf.autograph.experimental.do_not_convert\n",
      "{'first_neuron': 55, 'hidden_neuron': 50, 'hidden_layers': 0, 'epochs': 100000, 'last_activation': 'sigmoid', 'batch_size': 64, 'lr': 0.001, 'kernel_regularizer_l1': 0.0001, 'kernel_regularizer_l2': 0.01, 'bias_regularizer': 0.001, 'activity_regularizer': 0.001, 'dropout': 0.1, 'kernel_initializer': 'identity', 'activation_layer': 'tanh', 'batc_normalization': False}\n",
      "WARNING: AutoGraph could not transform <function Model.make_train_function.<locals>.train_function at 0x0000027B60EBB048> and will run it as-is.\n",
      "Please report this to the TensorFlow team. When filing the bug, set the verbosity to 10 (on Linux, `export AUTOGRAPH_VERBOSITY=10`) and attach the full output.\n",
      "Cause: 'arguments' object has no attribute 'posonlyargs'\n",
      "To silence this warning, decorate the function with @tf.autograph.experimental.do_not_convert\n",
      "WARNING: AutoGraph could not transform <function Model.make_test_function.<locals>.test_function at 0x0000027B5FB22798> and will run it as-is.\n",
      "Please report this to the TensorFlow team. When filing the bug, set the verbosity to 10 (on Linux, `export AUTOGRAPH_VERBOSITY=10`) and attach the full output.\n",
      "Cause: 'arguments' object has no attribute 'posonlyargs'\n",
      "To silence this warning, decorate the function with @tf.autograph.experimental.do_not_convert\n",
      "Restoring model weights from the end of the best epoch: 208.\n",
      "Epoch 00258: early stopping\n",
      "WARNING: AutoGraph could not transform <function Model.make_predict_function.<locals>.predict_function at 0x0000027B53AD85E8> and will run it as-is.\n",
      "Please report this to the TensorFlow team. When filing the bug, set the verbosity to 10 (on Linux, `export AUTOGRAPH_VERBOSITY=10`) and attach the full output.\n",
      "Cause: 'arguments' object has no attribute 'posonlyargs'\n",
      "To silence this warning, decorate the function with @tf.autograph.experimental.do_not_convert\n",
      "{'first_neuron': 55, 'hidden_neuron': 50, 'hidden_layers': 0, 'epochs': 100000, 'last_activation': 'sigmoid', 'batch_size': 64, 'lr': 0.001, 'kernel_regularizer_l1': 0.0001, 'kernel_regularizer_l2': 0.01, 'bias_regularizer': 0.001, 'activity_regularizer': 0.001, 'dropout': 0.1, 'kernel_initializer': 'identity', 'activation_layer': 'tanh', 'batc_normalization': False}\n",
      "WARNING: AutoGraph could not transform <function Model.make_train_function.<locals>.train_function at 0x0000027B63DCF8B8> and will run it as-is.\n",
      "Please report this to the TensorFlow team. When filing the bug, set the verbosity to 10 (on Linux, `export AUTOGRAPH_VERBOSITY=10`) and attach the full output.\n",
      "Cause: 'arguments' object has no attribute 'posonlyargs'\n",
      "To silence this warning, decorate the function with @tf.autograph.experimental.do_not_convert\n",
      "WARNING: AutoGraph could not transform <function Model.make_test_function.<locals>.test_function at 0x0000027B5B3AE0D8> and will run it as-is.\n",
      "Please report this to the TensorFlow team. When filing the bug, set the verbosity to 10 (on Linux, `export AUTOGRAPH_VERBOSITY=10`) and attach the full output.\n",
      "Cause: 'arguments' object has no attribute 'posonlyargs'\n",
      "To silence this warning, decorate the function with @tf.autograph.experimental.do_not_convert\n",
      "Restoring model weights from the end of the best epoch: 191.\n",
      "Epoch 00241: early stopping\n",
      "WARNING: AutoGraph could not transform <function Model.make_predict_function.<locals>.predict_function at 0x0000027B53DEDB88> and will run it as-is.\n",
      "Please report this to the TensorFlow team. When filing the bug, set the verbosity to 10 (on Linux, `export AUTOGRAPH_VERBOSITY=10`) and attach the full output.\n",
      "Cause: 'arguments' object has no attribute 'posonlyargs'\n",
      "To silence this warning, decorate the function with @tf.autograph.experimental.do_not_convert\n",
      "{'first_neuron': 55, 'hidden_neuron': 50, 'hidden_layers': 0, 'epochs': 100000, 'last_activation': 'sigmoid', 'batch_size': 64, 'lr': 0.001, 'kernel_regularizer_l1': 0.0001, 'kernel_regularizer_l2': 0.01, 'bias_regularizer': 0.001, 'activity_regularizer': 0.001, 'dropout': 0.1, 'kernel_initializer': 'identity', 'activation_layer': 'tanh', 'batc_normalization': False}\n",
      "WARNING: AutoGraph could not transform <function Model.make_train_function.<locals>.train_function at 0x0000027B64125D38> and will run it as-is.\n",
      "Please report this to the TensorFlow team. When filing the bug, set the verbosity to 10 (on Linux, `export AUTOGRAPH_VERBOSITY=10`) and attach the full output.\n",
      "Cause: 'arguments' object has no attribute 'posonlyargs'\n",
      "To silence this warning, decorate the function with @tf.autograph.experimental.do_not_convert\n",
      "WARNING: AutoGraph could not transform <function Model.make_test_function.<locals>.test_function at 0x0000027B5B3AECA8> and will run it as-is.\n",
      "Please report this to the TensorFlow team. When filing the bug, set the verbosity to 10 (on Linux, `export AUTOGRAPH_VERBOSITY=10`) and attach the full output.\n",
      "Cause: 'arguments' object has no attribute 'posonlyargs'\n",
      "To silence this warning, decorate the function with @tf.autograph.experimental.do_not_convert\n",
      "Restoring model weights from the end of the best epoch: 190.\n",
      "Epoch 00240: early stopping\n",
      "WARNING: AutoGraph could not transform <function Model.make_predict_function.<locals>.predict_function at 0x0000027B5B2CD288> and will run it as-is.\n",
      "Please report this to the TensorFlow team. When filing the bug, set the verbosity to 10 (on Linux, `export AUTOGRAPH_VERBOSITY=10`) and attach the full output.\n",
      "Cause: 'arguments' object has no attribute 'posonlyargs'\n",
      "To silence this warning, decorate the function with @tf.autograph.experimental.do_not_convert\n",
      "{'first_neuron': 55, 'hidden_neuron': 50, 'hidden_layers': 0, 'epochs': 100000, 'last_activation': 'sigmoid', 'batch_size': 64, 'lr': 0.001, 'kernel_regularizer_l1': 0.0001, 'kernel_regularizer_l2': 0.01, 'bias_regularizer': 0.001, 'activity_regularizer': 0.001, 'dropout': 0.1, 'kernel_initializer': 'identity', 'activation_layer': 'tanh', 'batc_normalization': False}\n",
      "WARNING: AutoGraph could not transform <function Model.make_train_function.<locals>.train_function at 0x0000027B613C71F8> and will run it as-is.\n",
      "Please report this to the TensorFlow team. When filing the bug, set the verbosity to 10 (on Linux, `export AUTOGRAPH_VERBOSITY=10`) and attach the full output.\n",
      "Cause: 'arguments' object has no attribute 'posonlyargs'\n",
      "To silence this warning, decorate the function with @tf.autograph.experimental.do_not_convert\n",
      "WARNING: AutoGraph could not transform <function Model.make_test_function.<locals>.test_function at 0x0000027B5E60DCA8> and will run it as-is.\n",
      "Please report this to the TensorFlow team. When filing the bug, set the verbosity to 10 (on Linux, `export AUTOGRAPH_VERBOSITY=10`) and attach the full output.\n",
      "Cause: 'arguments' object has no attribute 'posonlyargs'\n",
      "To silence this warning, decorate the function with @tf.autograph.experimental.do_not_convert\n"
     ]
    },
    {
     "name": "stdout",
     "output_type": "stream",
     "text": [
      "Restoring model weights from the end of the best epoch: 192.\n",
      "Epoch 00242: early stopping\n",
      "WARNING: AutoGraph could not transform <function Model.make_predict_function.<locals>.predict_function at 0x0000027B625E3438> and will run it as-is.\n",
      "Please report this to the TensorFlow team. When filing the bug, set the verbosity to 10 (on Linux, `export AUTOGRAPH_VERBOSITY=10`) and attach the full output.\n",
      "Cause: 'arguments' object has no attribute 'posonlyargs'\n",
      "To silence this warning, decorate the function with @tf.autograph.experimental.do_not_convert\n"
     ]
    }
   ],
   "source": [
    "kfold = StratifiedKFold(n_splits=5, shuffle=False)\n",
    "cvscores = []\n",
    "dane_do_zapisu=pd.DataFrame()\n",
    "licznik=1\n",
    "\n",
    "for train, test in kfold.split(caly_df, caly_label): # train 80, test 20 %\n",
    "    train, val = train_test_split(train, test_size=0.1, random_state=42) # train 80 % test 10% val 10 %\n",
    "    \n",
    "    returny=numerai_model(caly_df[train], caly_label[train], caly_df[val],caly_label[val], p)\n",
    "    \n",
    "    model=returny[1]\n",
    "    # evaluate the model\n",
    "    \n",
    "    predictions = model.predict(caly_df[test])\n",
    "    rezults=[]\n",
    "    class_one = predictions > 0.5\n",
    "    for x in class_one:\n",
    "        if x==True:\n",
    "            rezults.append(1)\n",
    "        else:\n",
    "            rezults.append(0)\n",
    "\n",
    "    scores = fbeta_score(caly_label[test], rezults, average='binary', beta=1,labels=[0,1],pos_label=1)\n",
    "    dane_folda=pd.DataFrame({\"pred\": list(rezults),\n",
    "                                \"obs\": caly_label[test].tolist(),\n",
    "                                 \"probability\":list(predictions),\n",
    "                                \"Fold\":licznik})\n",
    "    \n",
    "    dane_do_zapisu=pd.concat([dane_do_zapisu,dane_folda])\n",
    "    cvscores.append(scores)\n",
    "    licznik+=1"
   ]
  },
  {
   "cell_type": "code",
   "execution_count": 53,
   "id": "0b40a1b6",
   "metadata": {},
   "outputs": [
    {
     "data": {
      "text/plain": [
       "710"
      ]
     },
     "execution_count": 53,
     "metadata": {},
     "output_type": "execute_result"
    }
   ],
   "source": [
    "len(caly_df)"
   ]
  },
  {
   "cell_type": "code",
   "execution_count": 54,
   "id": "9d33a31e",
   "metadata": {},
   "outputs": [
    {
     "data": {
      "text/plain": [
       "511"
      ]
     },
     "execution_count": 54,
     "metadata": {},
     "output_type": "execute_result"
    }
   ],
   "source": [
    "len(train)"
   ]
  },
  {
   "cell_type": "code",
   "execution_count": 55,
   "id": "3ff22a05",
   "metadata": {},
   "outputs": [
    {
     "data": {
      "text/plain": [
       "142"
      ]
     },
     "execution_count": 55,
     "metadata": {},
     "output_type": "execute_result"
    }
   ],
   "source": [
    "len(test)"
   ]
  },
  {
   "cell_type": "code",
   "execution_count": 56,
   "id": "70c889d7",
   "metadata": {},
   "outputs": [
    {
     "data": {
      "text/plain": [
       "57"
      ]
     },
     "execution_count": 56,
     "metadata": {},
     "output_type": "execute_result"
    }
   ],
   "source": [
    "len(val)"
   ]
  },
  {
   "cell_type": "code",
   "execution_count": 90,
   "id": "762c47dd",
   "metadata": {},
   "outputs": [
    {
     "data": {
      "text/plain": [
       "Text(0.5, 0, 'Epoka')"
      ]
     },
     "execution_count": 90,
     "metadata": {},
     "output_type": "execute_result"
    },
    {
     "data": {
      "image/png": "[encoded data removed]",
      "text/plain": [
       "<Figure size 432x288 with 1 Axes>"
      ]
     },
     "metadata": {
      "needs_background": "light"
     },
     "output_type": "display_data"
    }
   ],
   "source": [
    "history,model=returny\n",
    "plt.plot(history.history['loss'], label=\"trening\")\n",
    "plt.plot(history.history['val_loss'], label=\"walidacja\")\n",
    "plt.title('Historia trenowania - klasa M - NN')\n",
    "plt.legend(loc=\"upper right\")\n",
    "plt.ylabel('Funkcja straty')\n",
    "plt.xlabel('Epoka')"
   ]
  },
  {
   "cell_type": "code",
   "execution_count": 58,
   "id": "acc55d66",
   "metadata": {},
   "outputs": [
    {
     "data": {
      "text/plain": [
       "[0.2857142857142857,\n",
       " 0.27692307692307694,\n",
       " 0.1764705882352941,\n",
       " 0.2809917355371901,\n",
       " 0.3076923076923077]"
      ]
     },
     "execution_count": 58,
     "metadata": {},
     "output_type": "execute_result"
    }
   ],
   "source": [
    "cvscores"
   ]
  },
  {
   "cell_type": "code",
   "execution_count": 60,
   "id": "63a69b74",
   "metadata": {},
   "outputs": [
    {
     "data": {
      "text/plain": [
       "0.2655583988204309"
      ]
     },
     "execution_count": 60,
     "metadata": {},
     "output_type": "execute_result"
    }
   ],
   "source": [
    "sum(cvscores)/len(cvscores) "
   ]
  },
  {
   "cell_type": "code",
   "execution_count": 45,
   "id": "b10c2fbb",
   "metadata": {},
   "outputs": [
    {
     "data": {
      "text/plain": [
       "0.2802964592260091"
      ]
     },
     "execution_count": 45,
     "metadata": {},
     "output_type": "execute_result"
    }
   ],
   "source": [
    "sum(cvscores)/len(cvscores) #"
   ]
  },
  {
   "cell_type": "code",
   "execution_count": null,
   "id": "13e644b8",
   "metadata": {},
   "outputs": [],
   "source": []
  },
  {
   "cell_type": "code",
   "execution_count": 61,
   "id": "9e7ebd85",
   "metadata": {},
   "outputs": [],
   "source": [
    "dane_do_zapisu.to_csv('D:\\\\STUDIA\\\\ROK_II\\\\Magisterka\\\\Modele\\\\Wszystkie_predykcje_modeli\\\\M_normal_neural_network.csv')"
   ]
  },
  {
   "cell_type": "code",
   "execution_count": null,
   "id": "94755f79",
   "metadata": {},
   "outputs": [],
   "source": []
  },
  {
   "cell_type": "code",
   "execution_count": 62,
   "id": "a69e6f43",
   "metadata": {},
   "outputs": [
    {
     "data": {
      "text/html": [
       "<div>\n",
       "<style scoped>\n",
       "    .dataframe tbody tr th:only-of-type {\n",
       "        vertical-align: middle;\n",
       "    }\n",
       "\n",
       "    .dataframe tbody tr th {\n",
       "        vertical-align: top;\n",
       "    }\n",
       "\n",
       "    .dataframe thead th {\n",
       "        text-align: right;\n",
       "    }\n",
       "</style>\n",
       "<table border=\"1\" class=\"dataframe\">\n",
       "  <thead>\n",
       "    <tr style=\"text-align: right;\">\n",
       "      <th></th>\n",
       "      <th>pred</th>\n",
       "      <th>obs</th>\n",
       "      <th>probability</th>\n",
       "      <th>Fold</th>\n",
       "    </tr>\n",
       "  </thead>\n",
       "  <tbody>\n",
       "    <tr>\n",
       "      <th>0</th>\n",
       "      <td>1</td>\n",
       "      <td>0</td>\n",
       "      <td>[0.5146463]</td>\n",
       "      <td>1</td>\n",
       "    </tr>\n",
       "    <tr>\n",
       "      <th>1</th>\n",
       "      <td>1</td>\n",
       "      <td>0</td>\n",
       "      <td>[0.51871866]</td>\n",
       "      <td>1</td>\n",
       "    </tr>\n",
       "    <tr>\n",
       "      <th>2</th>\n",
       "      <td>1</td>\n",
       "      <td>0</td>\n",
       "      <td>[0.51572174]</td>\n",
       "      <td>1</td>\n",
       "    </tr>\n",
       "    <tr>\n",
       "      <th>3</th>\n",
       "      <td>0</td>\n",
       "      <td>0</td>\n",
       "      <td>[0.46442667]</td>\n",
       "      <td>1</td>\n",
       "    </tr>\n",
       "    <tr>\n",
       "      <th>4</th>\n",
       "      <td>0</td>\n",
       "      <td>0</td>\n",
       "      <td>[0.121781945]</td>\n",
       "      <td>1</td>\n",
       "    </tr>\n",
       "    <tr>\n",
       "      <th>...</th>\n",
       "      <td>...</td>\n",
       "      <td>...</td>\n",
       "      <td>...</td>\n",
       "      <td>...</td>\n",
       "    </tr>\n",
       "    <tr>\n",
       "      <th>137</th>\n",
       "      <td>1</td>\n",
       "      <td>1</td>\n",
       "      <td>[0.5005747]</td>\n",
       "      <td>5</td>\n",
       "    </tr>\n",
       "    <tr>\n",
       "      <th>138</th>\n",
       "      <td>1</td>\n",
       "      <td>1</td>\n",
       "      <td>[0.5022003]</td>\n",
       "      <td>5</td>\n",
       "    </tr>\n",
       "    <tr>\n",
       "      <th>139</th>\n",
       "      <td>1</td>\n",
       "      <td>1</td>\n",
       "      <td>[0.5035894]</td>\n",
       "      <td>5</td>\n",
       "    </tr>\n",
       "    <tr>\n",
       "      <th>140</th>\n",
       "      <td>0</td>\n",
       "      <td>1</td>\n",
       "      <td>[0.4963241]</td>\n",
       "      <td>5</td>\n",
       "    </tr>\n",
       "    <tr>\n",
       "      <th>141</th>\n",
       "      <td>0</td>\n",
       "      <td>1</td>\n",
       "      <td>[0.49579507]</td>\n",
       "      <td>5</td>\n",
       "    </tr>\n",
       "  </tbody>\n",
       "</table>\n",
       "<p>710 rows × 4 columns</p>\n",
       "</div>"
      ],
      "text/plain": [
       "     pred  obs    probability  Fold\n",
       "0       1    0    [0.5146463]     1\n",
       "1       1    0   [0.51871866]     1\n",
       "2       1    0   [0.51572174]     1\n",
       "3       0    0   [0.46442667]     1\n",
       "4       0    0  [0.121781945]     1\n",
       "..    ...  ...            ...   ...\n",
       "137     1    1    [0.5005747]     5\n",
       "138     1    1    [0.5022003]     5\n",
       "139     1    1    [0.5035894]     5\n",
       "140     0    1    [0.4963241]     5\n",
       "141     0    1   [0.49579507]     5\n",
       "\n",
       "[710 rows x 4 columns]"
      ]
     },
     "execution_count": 62,
     "metadata": {},
     "output_type": "execute_result"
    }
   ],
   "source": [
    "dane_do_zapisu"
   ]
  },
  {
   "cell_type": "code",
   "execution_count": 63,
   "id": "4f7f7abb",
   "metadata": {},
   "outputs": [],
   "source": [
    "prawdopodob_0=dane_do_zapisu[dane_do_zapisu['obs']==0]['probability']\n",
    "prawdopodob_1=dane_do_zapisu[dane_do_zapisu['obs']==1]['probability']"
   ]
  },
  {
   "cell_type": "code",
   "execution_count": 64,
   "id": "45d3ed01",
   "metadata": {},
   "outputs": [
    {
     "data": {
      "text/plain": [
       "0        [0.5146463]\n",
       "1       [0.51871866]\n",
       "2       [0.51572174]\n",
       "3       [0.46442667]\n",
       "4      [0.121781945]\n",
       "           ...      \n",
       "115     [0.50222397]\n",
       "116      [0.5006426]\n",
       "117      [0.5006905]\n",
       "118     [0.50103205]\n",
       "119     [0.50254786]\n",
       "Name: probability, Length: 602, dtype: object"
      ]
     },
     "execution_count": 64,
     "metadata": {},
     "output_type": "execute_result"
    }
   ],
   "source": [
    "prawdopodob_0"
   ]
  },
  {
   "cell_type": "code",
   "execution_count": 65,
   "id": "8e9c2934",
   "metadata": {},
   "outputs": [
    {
     "name": "stdout",
     "output_type": "stream",
     "text": [
      "0.4477612900971574\n"
     ]
    }
   ],
   "source": [
    "test_0=0\n",
    "for x in list(prawdopodob_0):\n",
    "    test_0+=float(x)\n",
    "print(test_0/len(prawdopodob_0))"
   ]
  },
  {
   "cell_type": "code",
   "execution_count": 66,
   "id": "90619426",
   "metadata": {},
   "outputs": [
    {
     "data": {
      "text/plain": [
       "121     [0.5173317]\n",
       "122    [0.51868147]\n",
       "123    [0.51758903]\n",
       "124      [0.517444]\n",
       "125     [0.5137713]\n",
       "           ...     \n",
       "137     [0.5005747]\n",
       "138     [0.5022003]\n",
       "139     [0.5035894]\n",
       "140     [0.4963241]\n",
       "141    [0.49579507]\n",
       "Name: probability, Length: 108, dtype: object"
      ]
     },
     "execution_count": 66,
     "metadata": {},
     "output_type": "execute_result"
    }
   ],
   "source": [
    "prawdopodob_1"
   ]
  },
  {
   "cell_type": "code",
   "execution_count": 67,
   "id": "c163e281",
   "metadata": {},
   "outputs": [
    {
     "name": "stdout",
     "output_type": "stream",
     "text": [
      "0.48268709552508815\n"
     ]
    }
   ],
   "source": [
    "test_1=0\n",
    "for x in list(prawdopodob_1):\n",
    "    test_1+=float(x)\n",
    "print(test_1/len(prawdopodob_1))"
   ]
  },
  {
   "cell_type": "code",
   "execution_count": 68,
   "id": "91fec01f",
   "metadata": {},
   "outputs": [],
   "source": [
    "pred=[]\n",
    "for x in list(dane_do_zapisu['pred']):\n",
    "    if x==0:\n",
    "        pred.append('M0')\n",
    "    else:\n",
    "        pred.append('M1')"
   ]
  },
  {
   "cell_type": "code",
   "execution_count": 69,
   "id": "e11f7319",
   "metadata": {},
   "outputs": [
    {
     "data": {
      "text/html": [
       "<div>\n",
       "<style scoped>\n",
       "    .dataframe tbody tr th:only-of-type {\n",
       "        vertical-align: middle;\n",
       "    }\n",
       "\n",
       "    .dataframe tbody tr th {\n",
       "        vertical-align: top;\n",
       "    }\n",
       "\n",
       "    .dataframe thead th {\n",
       "        text-align: right;\n",
       "    }\n",
       "</style>\n",
       "<table border=\"1\" class=\"dataframe\">\n",
       "  <thead>\n",
       "    <tr style=\"text-align: right;\">\n",
       "      <th></th>\n",
       "      <th>pred</th>\n",
       "      <th>obs</th>\n",
       "      <th>probability</th>\n",
       "      <th>Fold</th>\n",
       "    </tr>\n",
       "  </thead>\n",
       "  <tbody>\n",
       "    <tr>\n",
       "      <th>0</th>\n",
       "      <td>0</td>\n",
       "      <td>0</td>\n",
       "      <td>[0.15837845]</td>\n",
       "      <td>5</td>\n",
       "    </tr>\n",
       "    <tr>\n",
       "      <th>1</th>\n",
       "      <td>0</td>\n",
       "      <td>0</td>\n",
       "      <td>[0.010624051]</td>\n",
       "      <td>5</td>\n",
       "    </tr>\n",
       "    <tr>\n",
       "      <th>2</th>\n",
       "      <td>1</td>\n",
       "      <td>0</td>\n",
       "      <td>[0.5023293]</td>\n",
       "      <td>5</td>\n",
       "    </tr>\n",
       "    <tr>\n",
       "      <th>3</th>\n",
       "      <td>0</td>\n",
       "      <td>0</td>\n",
       "      <td>[0.49559027]</td>\n",
       "      <td>5</td>\n",
       "    </tr>\n",
       "    <tr>\n",
       "      <th>4</th>\n",
       "      <td>0</td>\n",
       "      <td>0</td>\n",
       "      <td>[0.06160125]</td>\n",
       "      <td>5</td>\n",
       "    </tr>\n",
       "    <tr>\n",
       "      <th>...</th>\n",
       "      <td>...</td>\n",
       "      <td>...</td>\n",
       "      <td>...</td>\n",
       "      <td>...</td>\n",
       "    </tr>\n",
       "    <tr>\n",
       "      <th>137</th>\n",
       "      <td>1</td>\n",
       "      <td>1</td>\n",
       "      <td>[0.5005747]</td>\n",
       "      <td>5</td>\n",
       "    </tr>\n",
       "    <tr>\n",
       "      <th>138</th>\n",
       "      <td>1</td>\n",
       "      <td>1</td>\n",
       "      <td>[0.5022003]</td>\n",
       "      <td>5</td>\n",
       "    </tr>\n",
       "    <tr>\n",
       "      <th>139</th>\n",
       "      <td>1</td>\n",
       "      <td>1</td>\n",
       "      <td>[0.5035894]</td>\n",
       "      <td>5</td>\n",
       "    </tr>\n",
       "    <tr>\n",
       "      <th>140</th>\n",
       "      <td>0</td>\n",
       "      <td>1</td>\n",
       "      <td>[0.4963241]</td>\n",
       "      <td>5</td>\n",
       "    </tr>\n",
       "    <tr>\n",
       "      <th>141</th>\n",
       "      <td>0</td>\n",
       "      <td>1</td>\n",
       "      <td>[0.49579507]</td>\n",
       "      <td>5</td>\n",
       "    </tr>\n",
       "  </tbody>\n",
       "</table>\n",
       "<p>142 rows × 4 columns</p>\n",
       "</div>"
      ],
      "text/plain": [
       "     pred  obs    probability  Fold\n",
       "0       0    0   [0.15837845]     5\n",
       "1       0    0  [0.010624051]     5\n",
       "2       1    0    [0.5023293]     5\n",
       "3       0    0   [0.49559027]     5\n",
       "4       0    0   [0.06160125]     5\n",
       "..    ...  ...            ...   ...\n",
       "137     1    1    [0.5005747]     5\n",
       "138     1    1    [0.5022003]     5\n",
       "139     1    1    [0.5035894]     5\n",
       "140     0    1    [0.4963241]     5\n",
       "141     0    1   [0.49579507]     5\n",
       "\n",
       "[142 rows x 4 columns]"
      ]
     },
     "execution_count": 69,
     "metadata": {},
     "output_type": "execute_result"
    }
   ],
   "source": [
    "dane_do_zapisu[dane_do_zapisu['Fold']==5]"
   ]
  },
  {
   "cell_type": "code",
   "execution_count": 70,
   "id": "f8c2aa5e",
   "metadata": {},
   "outputs": [
    {
     "data": {
      "text/plain": [
       "['M1',\n",
       " 'M1',\n",
       " 'M1',\n",
       " 'M0',\n",
       " 'M0',\n",
       " 'M1',\n",
       " 'M1',\n",
       " 'M1',\n",
       " 'M1',\n",
       " 'M0',\n",
       " 'M1',\n",
       " 'M1',\n",
       " 'M1',\n",
       " 'M0',\n",
       " 'M1',\n",
       " 'M0',\n",
       " 'M1',\n",
       " 'M1',\n",
       " 'M1',\n",
       " 'M1',\n",
       " 'M1',\n",
       " 'M1',\n",
       " 'M1',\n",
       " 'M1',\n",
       " 'M0',\n",
       " 'M1',\n",
       " 'M1',\n",
       " 'M1',\n",
       " 'M1',\n",
       " 'M1',\n",
       " 'M1',\n",
       " 'M0',\n",
       " 'M0',\n",
       " 'M1',\n",
       " 'M1',\n",
       " 'M0',\n",
       " 'M1',\n",
       " 'M1',\n",
       " 'M1',\n",
       " 'M1',\n",
       " 'M1',\n",
       " 'M1',\n",
       " 'M1',\n",
       " 'M1',\n",
       " 'M0',\n",
       " 'M1',\n",
       " 'M1',\n",
       " 'M1',\n",
       " 'M1',\n",
       " 'M1',\n",
       " 'M1',\n",
       " 'M0',\n",
       " 'M1',\n",
       " 'M1',\n",
       " 'M1',\n",
       " 'M1',\n",
       " 'M1',\n",
       " 'M1',\n",
       " 'M1',\n",
       " 'M1',\n",
       " 'M1',\n",
       " 'M1',\n",
       " 'M0',\n",
       " 'M1',\n",
       " 'M1',\n",
       " 'M0',\n",
       " 'M1',\n",
       " 'M1',\n",
       " 'M1',\n",
       " 'M1',\n",
       " 'M0',\n",
       " 'M1',\n",
       " 'M1',\n",
       " 'M1',\n",
       " 'M1',\n",
       " 'M1',\n",
       " 'M1',\n",
       " 'M1',\n",
       " 'M1',\n",
       " 'M1',\n",
       " 'M1',\n",
       " 'M1',\n",
       " 'M1',\n",
       " 'M1',\n",
       " 'M1',\n",
       " 'M1',\n",
       " 'M1',\n",
       " 'M1',\n",
       " 'M1',\n",
       " 'M1',\n",
       " 'M1',\n",
       " 'M1',\n",
       " 'M1',\n",
       " 'M1',\n",
       " 'M1',\n",
       " 'M1',\n",
       " 'M1',\n",
       " 'M1',\n",
       " 'M1',\n",
       " 'M1',\n",
       " 'M0',\n",
       " 'M1',\n",
       " 'M1',\n",
       " 'M1',\n",
       " 'M1',\n",
       " 'M0',\n",
       " 'M1',\n",
       " 'M0',\n",
       " 'M0',\n",
       " 'M1',\n",
       " 'M1',\n",
       " 'M1',\n",
       " 'M1',\n",
       " 'M1',\n",
       " 'M0',\n",
       " 'M0',\n",
       " 'M1',\n",
       " 'M0',\n",
       " 'M1',\n",
       " 'M0',\n",
       " 'M1',\n",
       " 'M1',\n",
       " 'M1',\n",
       " 'M1',\n",
       " 'M1',\n",
       " 'M1',\n",
       " 'M1',\n",
       " 'M1',\n",
       " 'M1',\n",
       " 'M1',\n",
       " 'M1',\n",
       " 'M1',\n",
       " 'M1',\n",
       " 'M1',\n",
       " 'M1',\n",
       " 'M1',\n",
       " 'M1',\n",
       " 'M0',\n",
       " 'M1',\n",
       " 'M1',\n",
       " 'M1',\n",
       " 'M1',\n",
       " 'M1',\n",
       " 'M0',\n",
       " 'M0',\n",
       " 'M1',\n",
       " 'M1',\n",
       " 'M0',\n",
       " 'M1',\n",
       " 'M1',\n",
       " 'M1',\n",
       " 'M1',\n",
       " 'M1',\n",
       " 'M1',\n",
       " 'M1',\n",
       " 'M0',\n",
       " 'M1',\n",
       " 'M1',\n",
       " 'M0',\n",
       " 'M0',\n",
       " 'M1',\n",
       " 'M1',\n",
       " 'M1',\n",
       " 'M1',\n",
       " 'M1',\n",
       " 'M1',\n",
       " 'M1',\n",
       " 'M1',\n",
       " 'M1',\n",
       " 'M1',\n",
       " 'M1',\n",
       " 'M1',\n",
       " 'M0',\n",
       " 'M1',\n",
       " 'M1',\n",
       " 'M1',\n",
       " 'M1',\n",
       " 'M1',\n",
       " 'M1',\n",
       " 'M1',\n",
       " 'M0',\n",
       " 'M1',\n",
       " 'M1',\n",
       " 'M0',\n",
       " 'M1',\n",
       " 'M1',\n",
       " 'M1',\n",
       " 'M1',\n",
       " 'M1',\n",
       " 'M1',\n",
       " 'M0',\n",
       " 'M0',\n",
       " 'M1',\n",
       " 'M1',\n",
       " 'M0',\n",
       " 'M1',\n",
       " 'M0',\n",
       " 'M1',\n",
       " 'M1',\n",
       " 'M1',\n",
       " 'M1',\n",
       " 'M1',\n",
       " 'M1',\n",
       " 'M1',\n",
       " 'M1',\n",
       " 'M1',\n",
       " 'M1',\n",
       " 'M1',\n",
       " 'M1',\n",
       " 'M1',\n",
       " 'M1',\n",
       " 'M1',\n",
       " 'M1',\n",
       " 'M1',\n",
       " 'M1',\n",
       " 'M1',\n",
       " 'M1',\n",
       " 'M1',\n",
       " 'M1',\n",
       " 'M1',\n",
       " 'M1',\n",
       " 'M1',\n",
       " 'M1',\n",
       " 'M1',\n",
       " 'M1',\n",
       " 'M0',\n",
       " 'M1',\n",
       " 'M1',\n",
       " 'M1',\n",
       " 'M0',\n",
       " 'M0',\n",
       " 'M1',\n",
       " 'M1',\n",
       " 'M0',\n",
       " 'M1',\n",
       " 'M0',\n",
       " 'M0',\n",
       " 'M0',\n",
       " 'M0',\n",
       " 'M1',\n",
       " 'M1',\n",
       " 'M0',\n",
       " 'M1',\n",
       " 'M1',\n",
       " 'M0',\n",
       " 'M1',\n",
       " 'M0',\n",
       " 'M1',\n",
       " 'M0',\n",
       " 'M1',\n",
       " 'M1',\n",
       " 'M1',\n",
       " 'M0',\n",
       " 'M1',\n",
       " 'M0',\n",
       " 'M0',\n",
       " 'M1',\n",
       " 'M0',\n",
       " 'M1',\n",
       " 'M1',\n",
       " 'M0',\n",
       " 'M1',\n",
       " 'M1',\n",
       " 'M1',\n",
       " 'M0',\n",
       " 'M0',\n",
       " 'M1',\n",
       " 'M1',\n",
       " 'M1',\n",
       " 'M1',\n",
       " 'M1',\n",
       " 'M1',\n",
       " 'M1',\n",
       " 'M1',\n",
       " 'M1',\n",
       " 'M1',\n",
       " 'M0',\n",
       " 'M1',\n",
       " 'M1',\n",
       " 'M1',\n",
       " 'M1',\n",
       " 'M1',\n",
       " 'M1',\n",
       " 'M1',\n",
       " 'M0',\n",
       " 'M0',\n",
       " 'M0',\n",
       " 'M0',\n",
       " 'M0',\n",
       " 'M0',\n",
       " 'M0',\n",
       " 'M0',\n",
       " 'M0',\n",
       " 'M0',\n",
       " 'M1',\n",
       " 'M1',\n",
       " 'M0',\n",
       " 'M0',\n",
       " 'M0',\n",
       " 'M0',\n",
       " 'M0',\n",
       " 'M0',\n",
       " 'M0',\n",
       " 'M0',\n",
       " 'M0',\n",
       " 'M1',\n",
       " 'M0',\n",
       " 'M0',\n",
       " 'M0',\n",
       " 'M0',\n",
       " 'M0',\n",
       " 'M0',\n",
       " 'M0',\n",
       " 'M0',\n",
       " 'M0',\n",
       " 'M0',\n",
       " 'M0',\n",
       " 'M0',\n",
       " 'M0',\n",
       " 'M0',\n",
       " 'M0',\n",
       " 'M0',\n",
       " 'M0',\n",
       " 'M0',\n",
       " 'M0',\n",
       " 'M0',\n",
       " 'M1',\n",
       " 'M0',\n",
       " 'M0',\n",
       " 'M0',\n",
       " 'M0',\n",
       " 'M0',\n",
       " 'M0',\n",
       " 'M0',\n",
       " 'M0',\n",
       " 'M0',\n",
       " 'M0',\n",
       " 'M0',\n",
       " 'M0',\n",
       " 'M0',\n",
       " 'M0',\n",
       " 'M1',\n",
       " 'M0',\n",
       " 'M0',\n",
       " 'M0',\n",
       " 'M0',\n",
       " 'M0',\n",
       " 'M0',\n",
       " 'M0',\n",
       " 'M0',\n",
       " 'M0',\n",
       " 'M0',\n",
       " 'M1',\n",
       " 'M0',\n",
       " 'M0',\n",
       " 'M0',\n",
       " 'M0',\n",
       " 'M0',\n",
       " 'M0',\n",
       " 'M0',\n",
       " 'M0',\n",
       " 'M0',\n",
       " 'M0',\n",
       " 'M0',\n",
       " 'M0',\n",
       " 'M1',\n",
       " 'M0',\n",
       " 'M0',\n",
       " 'M0',\n",
       " 'M0',\n",
       " 'M0',\n",
       " 'M0',\n",
       " 'M0',\n",
       " 'M0',\n",
       " 'M0',\n",
       " 'M0',\n",
       " 'M0',\n",
       " 'M0',\n",
       " 'M0',\n",
       " 'M0',\n",
       " 'M0',\n",
       " 'M0',\n",
       " 'M0',\n",
       " 'M0',\n",
       " 'M0',\n",
       " 'M0',\n",
       " 'M1',\n",
       " 'M0',\n",
       " 'M0',\n",
       " 'M0',\n",
       " 'M1',\n",
       " 'M0',\n",
       " 'M0',\n",
       " 'M0',\n",
       " 'M0',\n",
       " 'M0',\n",
       " 'M0',\n",
       " 'M0',\n",
       " 'M0',\n",
       " 'M0',\n",
       " 'M0',\n",
       " 'M0',\n",
       " 'M0',\n",
       " 'M0',\n",
       " 'M0',\n",
       " 'M0',\n",
       " 'M1',\n",
       " 'M0',\n",
       " 'M0',\n",
       " 'M0',\n",
       " 'M0',\n",
       " 'M0',\n",
       " 'M0',\n",
       " 'M0',\n",
       " 'M0',\n",
       " 'M1',\n",
       " 'M0',\n",
       " 'M0',\n",
       " 'M0',\n",
       " 'M0',\n",
       " 'M0',\n",
       " 'M0',\n",
       " 'M0',\n",
       " 'M0',\n",
       " 'M0',\n",
       " 'M1',\n",
       " 'M1',\n",
       " 'M0',\n",
       " 'M1',\n",
       " 'M1',\n",
       " 'M0',\n",
       " 'M0',\n",
       " 'M1',\n",
       " 'M1',\n",
       " 'M1',\n",
       " 'M0',\n",
       " 'M1',\n",
       " 'M0',\n",
       " 'M0',\n",
       " 'M0',\n",
       " 'M1',\n",
       " 'M1',\n",
       " 'M0',\n",
       " 'M1',\n",
       " 'M0',\n",
       " 'M1',\n",
       " 'M0',\n",
       " 'M0',\n",
       " 'M1',\n",
       " 'M1',\n",
       " 'M0',\n",
       " 'M1',\n",
       " 'M1',\n",
       " 'M1',\n",
       " 'M1',\n",
       " 'M0',\n",
       " 'M1',\n",
       " 'M1',\n",
       " 'M0',\n",
       " 'M1',\n",
       " 'M1',\n",
       " 'M1',\n",
       " 'M1',\n",
       " 'M1',\n",
       " 'M1',\n",
       " 'M0',\n",
       " 'M1',\n",
       " 'M0',\n",
       " 'M1',\n",
       " 'M1',\n",
       " 'M1',\n",
       " 'M1',\n",
       " 'M1',\n",
       " 'M1',\n",
       " 'M1',\n",
       " 'M0',\n",
       " 'M1',\n",
       " 'M1',\n",
       " 'M0',\n",
       " 'M0',\n",
       " 'M1',\n",
       " 'M1',\n",
       " 'M0',\n",
       " 'M1',\n",
       " 'M1',\n",
       " 'M1',\n",
       " 'M1',\n",
       " 'M1',\n",
       " 'M1',\n",
       " 'M0',\n",
       " 'M0',\n",
       " 'M0',\n",
       " 'M1',\n",
       " 'M1',\n",
       " 'M1',\n",
       " 'M1',\n",
       " 'M1',\n",
       " 'M0',\n",
       " 'M1',\n",
       " 'M1',\n",
       " 'M0',\n",
       " 'M1',\n",
       " 'M1',\n",
       " 'M1',\n",
       " 'M1',\n",
       " 'M1',\n",
       " 'M0',\n",
       " 'M1',\n",
       " 'M0',\n",
       " 'M0',\n",
       " 'M1',\n",
       " 'M1',\n",
       " 'M1',\n",
       " 'M1',\n",
       " 'M0',\n",
       " 'M0',\n",
       " 'M0',\n",
       " 'M1',\n",
       " 'M1',\n",
       " 'M1',\n",
       " 'M1',\n",
       " 'M1',\n",
       " 'M1',\n",
       " 'M1',\n",
       " 'M1',\n",
       " 'M1',\n",
       " 'M1',\n",
       " 'M1',\n",
       " 'M1',\n",
       " 'M1',\n",
       " 'M1',\n",
       " 'M1',\n",
       " 'M1',\n",
       " 'M0',\n",
       " 'M1',\n",
       " 'M1',\n",
       " 'M0',\n",
       " 'M0',\n",
       " 'M1',\n",
       " 'M0',\n",
       " 'M1',\n",
       " 'M1',\n",
       " 'M0',\n",
       " 'M1',\n",
       " 'M0',\n",
       " 'M0',\n",
       " 'M1',\n",
       " 'M1',\n",
       " 'M0',\n",
       " 'M1',\n",
       " 'M1',\n",
       " 'M1',\n",
       " 'M1',\n",
       " 'M0',\n",
       " 'M0',\n",
       " 'M1',\n",
       " 'M1',\n",
       " 'M1',\n",
       " 'M1',\n",
       " 'M1',\n",
       " 'M0',\n",
       " 'M1',\n",
       " 'M1',\n",
       " 'M1',\n",
       " 'M1',\n",
       " 'M1',\n",
       " 'M1',\n",
       " 'M0',\n",
       " 'M0',\n",
       " 'M0',\n",
       " 'M1',\n",
       " 'M0',\n",
       " 'M0',\n",
       " 'M1',\n",
       " 'M0',\n",
       " 'M1',\n",
       " 'M1',\n",
       " 'M0',\n",
       " 'M1',\n",
       " 'M0',\n",
       " 'M0',\n",
       " 'M0',\n",
       " 'M1',\n",
       " 'M1',\n",
       " 'M0',\n",
       " 'M1',\n",
       " 'M1',\n",
       " 'M1',\n",
       " 'M0',\n",
       " 'M1',\n",
       " 'M0',\n",
       " 'M1',\n",
       " 'M1',\n",
       " 'M1',\n",
       " 'M0',\n",
       " 'M1',\n",
       " 'M0',\n",
       " 'M0',\n",
       " 'M1',\n",
       " 'M1',\n",
       " 'M1',\n",
       " 'M1',\n",
       " 'M1',\n",
       " 'M1',\n",
       " 'M1',\n",
       " 'M0',\n",
       " 'M1',\n",
       " 'M0',\n",
       " 'M1',\n",
       " 'M0',\n",
       " 'M1',\n",
       " 'M0',\n",
       " 'M1',\n",
       " 'M0',\n",
       " 'M1',\n",
       " 'M1',\n",
       " 'M1',\n",
       " 'M0',\n",
       " 'M1',\n",
       " 'M1',\n",
       " 'M1',\n",
       " 'M1',\n",
       " 'M1',\n",
       " 'M0',\n",
       " 'M0',\n",
       " 'M0',\n",
       " 'M1',\n",
       " 'M1',\n",
       " 'M0',\n",
       " 'M0',\n",
       " 'M0',\n",
       " 'M0',\n",
       " 'M0',\n",
       " 'M0',\n",
       " 'M0',\n",
       " 'M0',\n",
       " 'M1',\n",
       " 'M1',\n",
       " 'M0',\n",
       " 'M0',\n",
       " 'M1',\n",
       " 'M1',\n",
       " 'M1',\n",
       " 'M1',\n",
       " 'M0',\n",
       " 'M0',\n",
       " 'M1',\n",
       " 'M0',\n",
       " 'M1',\n",
       " 'M0',\n",
       " 'M0',\n",
       " 'M0',\n",
       " 'M1',\n",
       " 'M1',\n",
       " 'M1',\n",
       " 'M0',\n",
       " 'M0',\n",
       " 'M0',\n",
       " 'M1',\n",
       " 'M1',\n",
       " 'M0',\n",
       " 'M1',\n",
       " 'M0',\n",
       " 'M1',\n",
       " 'M1',\n",
       " 'M0',\n",
       " 'M0',\n",
       " 'M0',\n",
       " 'M1',\n",
       " 'M0',\n",
       " 'M1',\n",
       " 'M0',\n",
       " 'M1',\n",
       " 'M1',\n",
       " 'M1',\n",
       " 'M1',\n",
       " 'M0',\n",
       " 'M1',\n",
       " 'M0',\n",
       " 'M0',\n",
       " 'M1',\n",
       " 'M0',\n",
       " 'M1',\n",
       " 'M1',\n",
       " 'M1',\n",
       " 'M1',\n",
       " 'M1',\n",
       " 'M1',\n",
       " 'M1',\n",
       " 'M1',\n",
       " 'M0',\n",
       " 'M1',\n",
       " 'M1',\n",
       " 'M1',\n",
       " 'M1',\n",
       " 'M1',\n",
       " 'M1',\n",
       " 'M0',\n",
       " 'M0',\n",
       " 'M1',\n",
       " 'M1',\n",
       " 'M0',\n",
       " 'M1',\n",
       " 'M1',\n",
       " 'M1',\n",
       " 'M1',\n",
       " 'M1',\n",
       " 'M1',\n",
       " 'M0',\n",
       " 'M0']"
      ]
     },
     "execution_count": 70,
     "metadata": {},
     "output_type": "execute_result"
    }
   ],
   "source": [
    "pred"
   ]
  },
  {
   "cell_type": "code",
   "execution_count": 71,
   "id": "9b3562fa",
   "metadata": {},
   "outputs": [],
   "source": [
    "obs=[]\n",
    "for x in list(dane_do_zapisu['obs']):\n",
    "    if x==0:\n",
    "        obs.append('M0')\n",
    "    else:\n",
    "        obs.append('M1')"
   ]
  },
  {
   "cell_type": "code",
   "execution_count": 72,
   "id": "96eed3d7",
   "metadata": {},
   "outputs": [],
   "source": [
    "from sklearn.metrics import confusion_matrix"
   ]
  },
  {
   "cell_type": "code",
   "execution_count": 73,
   "id": "d7dd4f2c",
   "metadata": {},
   "outputs": [],
   "source": [
    "cf_matrix = confusion_matrix(y_true=obs,y_pred=pred )"
   ]
  },
  {
   "cell_type": "code",
   "execution_count": 74,
   "id": "61bc0fe9",
   "metadata": {},
   "outputs": [
    {
     "data": {
      "text/plain": [
       "array([[255, 347],\n",
       "       [ 34,  74]], dtype=int64)"
      ]
     },
     "execution_count": 74,
     "metadata": {},
     "output_type": "execute_result"
    }
   ],
   "source": [
    "cf_matrix"
   ]
  },
  {
   "cell_type": "code",
   "execution_count": 75,
   "id": "d4d662ee",
   "metadata": {},
   "outputs": [
    {
     "data": {
      "image/png": "[encoded data removed]",
      "text/plain": [
       "<Figure size 432x288 with 2 Axes>"
      ]
     },
     "metadata": {
      "needs_background": "light"
     },
     "output_type": "display_data"
    }
   ],
   "source": [
    "\n",
    "ax = plt.axes()\n",
    "sns.heatmap(cf_matrix, annot=True, fmt='g')\n",
    "\n",
    "ax.set_title('Macierz pomyłek Klasa M - sieć neuronowa')\n",
    "plt.ylabel('Rzeczywiste')\n",
    "plt.xlabel('Predykcja')\n",
    "plt.show()\n"
   ]
  },
  {
   "cell_type": "code",
   "execution_count": 79,
   "id": "b598653c",
   "metadata": {},
   "outputs": [
    {
     "name": "stdout",
     "output_type": "stream",
     "text": [
      "Recall: 0.685\n",
      "Precision: 0.176\n",
      "F1score: 0.280\n"
     ]
    }
   ],
   "source": [
    "from sklearn.metrics import recall_score\n",
    "from sklearn.metrics import precision_score\n",
    "\n",
    "precision = precision_score(dane_do_zapisu['obs'], dane_do_zapisu['pred'], labels=[0,1], average='binary',pos_label=1)\n",
    "recall = recall_score(dane_do_zapisu['obs'], dane_do_zapisu['pred'], labels=[0,1], average='binary',pos_label=1)\n",
    "f1score=fbeta_score(dane_do_zapisu['obs'], dane_do_zapisu['pred'], labels=[0,1], average='binary',pos_label=1, beta=1)\n",
    "print('Recall: %.3f' % recall)\n",
    "print('Precision: %.3f' % precision)\n",
    "print('F1score: %.3f' % f1score)"
   ]
  },
  {
   "cell_type": "code",
   "execution_count": 91,
   "id": "bfbacebe",
   "metadata": {},
   "outputs": [],
   "source": [
    "from sklearn.metrics import accuracy_score, precision_score, recall_score, f1_score, roc_auc_score, precision_recall_curve, plot_precision_recall_curve"
   ]
  },
  {
   "cell_type": "code",
   "execution_count": 95,
   "id": "82afd7bc",
   "metadata": {},
   "outputs": [],
   "source": [
    "from sklearn.metrics import roc_curve"
   ]
  },
  {
   "cell_type": "code",
   "execution_count": 97,
   "id": "e374f4fe",
   "metadata": {},
   "outputs": [],
   "source": []
  },
  {
   "cell_type": "code",
   "execution_count": 102,
   "id": "82656bba",
   "metadata": {},
   "outputs": [
    {
     "data": {
      "text/plain": [
       "Text(0.5, 1.0, 'Precision-Recall Curve')"
      ]
     },
     "execution_count": 102,
     "metadata": {},
     "output_type": "execute_result"
    },
    {
     "data": {
      "image/png": "[encoded data removed]",
      "text/plain": [
       "<Figure size 432x288 with 1 Axes>"
      ]
     },
     "metadata": {
      "needs_background": "light"
     },
     "output_type": "display_data"
    }
   ],
   "source": [
    "\n",
    "# Plot Precision-Recall curve using sklearn.\n",
    "from sklearn.metrics import precision_recall_curve\n",
    "precision, recall, threshold = precision_recall_curve(dane_do_zapisu[dane_do_zapisu['Fold']==1]['obs'],\n",
    "                                             dane_do_zapisu[dane_do_zapisu['Fold']==1]['probability'],\n",
    "                                             pos_label=1)\n",
    "  \n",
    "# Plot the output.\n",
    "plt.plot(threshold, precision[:-1], c ='r', label ='PRECISION')\n",
    "plt.plot(threshold, recall[:-1], c ='b', label ='RECALL')\n",
    "plt.grid()\n",
    "plt.legend()\n",
    "plt.title('Precision-Recall Curve')"
   ]
  },
  {
   "cell_type": "code",
   "execution_count": null,
   "id": "149b5eb2",
   "metadata": {},
   "outputs": [],
   "source": []
  }
 ],
 "metadata": {
  "kernelspec": {
   "display_name": "Python 3 (ipykernel)",
   "language": "python",
   "name": "python3"
  },
  "language_info": {
   "codemirror_mode": {
    "name": "ipython",
    "version": 3
   },
   "file_extension": ".py",
   "mimetype": "text/x-python",
   "name": "python",
   "nbconvert_exporter": "python",
   "pygments_lexer": "ipython3",
   "version": "3.10.4"
  }
 },
 "nbformat": 4,
 "nbformat_minor": 5
}
