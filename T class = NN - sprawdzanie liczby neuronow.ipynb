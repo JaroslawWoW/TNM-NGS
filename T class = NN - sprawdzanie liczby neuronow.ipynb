{
 "cells": [
  {
   "cell_type": "code",
   "execution_count": 4,
   "id": "6343fe2b",
   "metadata": {},
   "outputs": [],
   "source": [
    "import pandas as pd\n",
    "import numpy as np\n",
    "import csv\n",
    "import matplotlib.pyplot as plt\n",
    "%matplotlib inline\n",
    "import os\n",
    "import talos as ta\n",
    "from talos.model.early_stopper import early_stopper\n",
    "from sklearn.preprocessing import StandardScaler\n",
    "\n",
    "%load_ext tensorboard\n",
    "import tensorflow_addons as tfa\n",
    "import keras\n",
    "from tensorflow.keras import optimizers\n",
    "from tensorflow.keras.models import Sequential\n",
    "from tensorflow.keras.layers import Activation, Dense, Dropout\n",
    "from tensorflow.keras.layers import BatchNormalization\n",
    "from tensorflow.keras.callbacks import TensorBoard\n",
    "\n",
    "from tensorflow.keras.metrics import Recall, Precision\n",
    "import seaborn as sns\n",
    "\n",
    "from sklearn.model_selection import train_test_split\n",
    "\n",
    "\n",
    "import tensorflow as tf\n",
    "\n",
    "from sklearn.model_selection import cross_val_score, KFold, StratifiedKFold\n",
    "import logging\n",
    "logging.getLogger(\"tensorflow\").setLevel(logging.ERROR)\n",
    "from sklearn.metrics import make_scorer\n",
    "from sklearn.metrics import fbeta_score\n",
    "from tensorflow.keras.callbacks import EarlyStopping\n",
    "from sklearn.utils import class_weight\n",
    "from sklearn.preprocessing import LabelEncoder\n",
    "from keras.utils import np_utils"
   ]
  },
  {
   "cell_type": "code",
   "execution_count": null,
   "id": "ef61b8af",
   "metadata": {},
   "outputs": [],
   "source": []
  },
  {
   "cell_type": "code",
   "execution_count": 96,
   "id": "052937da",
   "metadata": {},
   "outputs": [],
   "source": [
    "p = {\n",
    "    'first_neuron':55,  #Done\n",
    "     'hidden_neuron':50, #Done\n",
    "\n",
    "     'hidden_layers':3,   #Done\n",
    "\n",
    "     \n",
    "    'epochs': 100000, # never touch it\n",
    "\n",
    "\n",
    "    'last_activation': 'sigmoid', #never touch it\n",
    "\n",
    "\n",
    "    'batch_size':64, #Done\n",
    "\n",
    "    'lr':0.001,\n",
    "    \n",
    "    'kernel_regularizer_l1':0.000001,#Done\n",
    "    'kernel_regularizer_l2':0.00001,#Done\n",
    "    'bias_regularizer':0.0001,#Done\n",
    "    'activity_regularizer':0.0001,#Done\n",
    "\n",
    "    'dropout': 0.3,\n",
    "    \n",
    "  \n",
    "    'kernel_initializer': 'uniform',#Done\n",
    "\n",
    "    'activation_layer':'tanh',#Done\n",
    " \n",
    "    'batc_normalization':True#Done\n",
    " \n",
    "}"
   ]
  },
  {
   "cell_type": "code",
   "execution_count": 127,
   "id": "6f2f1e96",
   "metadata": {},
   "outputs": [],
   "source": [
    "\n",
    "def numerai_model(x_train, y_train, x_val, y_val, params):\n",
    "    \n",
    "    print(params)\n",
    "\n",
    "    model = Sequential()\n",
    "    \n",
    "    ## initial layer\n",
    "    model.add(Dense(params['first_neuron'], input_dim=x_train.shape[1],\n",
    "                    activation='relu',\n",
    "               \n",
    "                    kernel_initializer = params['kernel_initializer'],\n",
    "                    kernel_regularizer=keras.regularizers.l1_l2(l1=params['kernel_regularizer_l1'],\n",
    "                                                                l2=params['kernel_regularizer_l2']),\n",
    "                    bias_regularizer=keras.regularizers.l2(params['bias_regularizer']),\n",
    "                    activity_regularizer=keras.regularizers.l2(params['activity_regularizer'])\n",
    "                   ))\n",
    "    if params['batc_normalization']==True:\n",
    "        model.add(BatchNormalization())\n",
    "        \n",
    "    if params['dropout']!=0:\n",
    "        model.add(Dropout(params['dropout']))\n",
    "    \n",
    "    ## hidden layers\n",
    "    for i in range(params['hidden_layers']):\n",
    "        print (f\"adding layer {i+1}\")\n",
    "        model.add(Dense(params['hidden_neuron'], activation='relu',\n",
    "                    kernel_initializer=params['kernel_initializer'],\n",
    "                        kernel_regularizer=keras.regularizers.l1_l2(l1=params['kernel_regularizer_l1'],\n",
    "                                                                    l2=params['kernel_regularizer_l2']),\n",
    "                    bias_regularizer=keras.regularizers.l2(params['bias_regularizer']),\n",
    "                    activity_regularizer=keras.regularizers.l2(params['activity_regularizer'])\n",
    "                       ))\n",
    "        if params['batc_normalization']==True:\n",
    "            model.add(BatchNormalization())\n",
    "            \n",
    "        if params['dropout']!=0:\n",
    "            model.add(Dropout(params['dropout']))\n",
    "    \n",
    "    \n",
    "    ## final layer\n",
    "    model.add(Dense(3, activation=params['last_activation'],\n",
    "                    kernel_initializer=params['kernel_initializer'],\n",
    "                   kernel_regularizer=keras.regularizers.l1_l2(l1=params['kernel_regularizer_l1'],\n",
    "                                                               l2=params['kernel_regularizer_l2']),\n",
    "                    bias_regularizer=keras.regularizers.l2(params['bias_regularizer']),\n",
    "                    activity_regularizer=keras.regularizers.l2(params['activity_regularizer'])\n",
    "                   ))\n",
    "    \n",
    "    model.compile(loss='binary_crossentropy',\n",
    "                  optimizer=tf.keras.optimizers.Adagrad(learning_rate=params['lr']),\n",
    "                  metrics=[tfa.metrics.FBetaScore(num_classes=3,beta=1.0)])\n",
    "    \n",
    "  \n",
    "    history = model.fit(x_train, y_train, \n",
    "                        validation_data=[x_val, y_val],\n",
    "                        batch_size=params['batch_size'],\n",
    "                        epochs=params['epochs'],\n",
    "                        verbose=0,\n",
    "                        class_weight={0 : 0.64147775,\n",
    "                                      1 : 2.42539683,\n",
    "                                      2 : 0.97201018},\n",
    "                        callbacks = [\n",
    "                                     EarlyStopping(monitor='val_loss',\n",
    "                                        min_delta=0.01,\n",
    "                                        patience=50, mode='min',verbose=1,\n",
    "                                                      restore_best_weights=True)\n",
    "                                    ] #,ta.live(),\n",
    "                        )\n",
    "\n",
    "    return history, model"
   ]
  },
  {
   "cell_type": "code",
   "execution_count": 135,
   "id": "e2a04678",
   "metadata": {},
   "outputs": [
    {
     "name": "stdout",
     "output_type": "stream",
     "text": [
      "{'first_neuron': 55, 'hidden_neuron': 50, 'hidden_layers': 3, 'epochs': 100000, 'last_activation': 'sigmoid', 'batch_size': 64, 'lr': 0.001, 'kernel_regularizer_l1': 1e-06, 'kernel_regularizer_l2': 1e-05, 'bias_regularizer': 0.0001, 'activity_regularizer': 0.0001, 'dropout': 0.08, 'kernel_initializer': 'uniform', 'activation_layer': 'tanh', 'batc_normalization': True}\n",
      "adding layer 1\n",
      "adding layer 2\n",
      "adding layer 3\n",
      "WARNING: AutoGraph could not transform <function Model.make_train_function.<locals>.train_function at 0x000001A395A048B8> and will run it as-is.\n",
      "Please report this to the TensorFlow team. When filing the bug, set the verbosity to 10 (on Linux, `export AUTOGRAPH_VERBOSITY=10`) and attach the full output.\n",
      "Cause: 'arguments' object has no attribute 'posonlyargs'\n",
      "To silence this warning, decorate the function with @tf.autograph.experimental.do_not_convert\n",
      "WARNING: AutoGraph could not transform <function Model.make_test_function.<locals>.test_function at 0x000001A38D395E58> and will run it as-is.\n",
      "Please report this to the TensorFlow team. When filing the bug, set the verbosity to 10 (on Linux, `export AUTOGRAPH_VERBOSITY=10`) and attach the full output.\n",
      "Cause: 'arguments' object has no attribute 'posonlyargs'\n",
      "To silence this warning, decorate the function with @tf.autograph.experimental.do_not_convert\n",
      "Restoring model weights from the end of the best epoch: 77.\n",
      "Epoch 00127: early stopping\n",
      "WARNING: AutoGraph could not transform <function Model.make_predict_function.<locals>.predict_function at 0x000001A38747D4C8> and will run it as-is.\n",
      "Please report this to the TensorFlow team. When filing the bug, set the verbosity to 10 (on Linux, `export AUTOGRAPH_VERBOSITY=10`) and attach the full output.\n",
      "Cause: 'arguments' object has no attribute 'posonlyargs'\n",
      "To silence this warning, decorate the function with @tf.autograph.experimental.do_not_convert\n",
      "{'first_neuron': 55, 'hidden_neuron': 50, 'hidden_layers': 3, 'epochs': 100000, 'last_activation': 'sigmoid', 'batch_size': 64, 'lr': 0.001, 'kernel_regularizer_l1': 1e-06, 'kernel_regularizer_l2': 1e-05, 'bias_regularizer': 0.0001, 'activity_regularizer': 0.0001, 'dropout': 0.08, 'kernel_initializer': 'uniform', 'activation_layer': 'tanh', 'batc_normalization': True}\n",
      "adding layer 1\n",
      "adding layer 2\n",
      "adding layer 3\n",
      "WARNING: AutoGraph could not transform <function Model.make_train_function.<locals>.train_function at 0x000001A392BCB558> and will run it as-is.\n",
      "Please report this to the TensorFlow team. When filing the bug, set the verbosity to 10 (on Linux, `export AUTOGRAPH_VERBOSITY=10`) and attach the full output.\n",
      "Cause: 'arguments' object has no attribute 'posonlyargs'\n",
      "To silence this warning, decorate the function with @tf.autograph.experimental.do_not_convert\n",
      "WARNING: AutoGraph could not transform <function Model.make_test_function.<locals>.test_function at 0x000001A397051DC8> and will run it as-is.\n",
      "Please report this to the TensorFlow team. When filing the bug, set the verbosity to 10 (on Linux, `export AUTOGRAPH_VERBOSITY=10`) and attach the full output.\n",
      "Cause: 'arguments' object has no attribute 'posonlyargs'\n",
      "To silence this warning, decorate the function with @tf.autograph.experimental.do_not_convert\n",
      "Restoring model weights from the end of the best epoch: 123.\n",
      "Epoch 00173: early stopping\n",
      "WARNING: AutoGraph could not transform <function Model.make_predict_function.<locals>.predict_function at 0x000001A39734D678> and will run it as-is.\n",
      "Please report this to the TensorFlow team. When filing the bug, set the verbosity to 10 (on Linux, `export AUTOGRAPH_VERBOSITY=10`) and attach the full output.\n",
      "Cause: 'arguments' object has no attribute 'posonlyargs'\n",
      "To silence this warning, decorate the function with @tf.autograph.experimental.do_not_convert\n",
      "{'first_neuron': 55, 'hidden_neuron': 50, 'hidden_layers': 3, 'epochs': 100000, 'last_activation': 'sigmoid', 'batch_size': 64, 'lr': 0.001, 'kernel_regularizer_l1': 1e-06, 'kernel_regularizer_l2': 1e-05, 'bias_regularizer': 0.0001, 'activity_regularizer': 0.0001, 'dropout': 0.08, 'kernel_initializer': 'uniform', 'activation_layer': 'tanh', 'batc_normalization': True}\n",
      "adding layer 1\n",
      "adding layer 2\n",
      "adding layer 3\n",
      "WARNING: AutoGraph could not transform <function Model.make_train_function.<locals>.train_function at 0x000001A38FD4A798> and will run it as-is.\n",
      "Please report this to the TensorFlow team. When filing the bug, set the verbosity to 10 (on Linux, `export AUTOGRAPH_VERBOSITY=10`) and attach the full output.\n",
      "Cause: 'arguments' object has no attribute 'posonlyargs'\n",
      "To silence this warning, decorate the function with @tf.autograph.experimental.do_not_convert\n",
      "WARNING: AutoGraph could not transform <function Model.make_test_function.<locals>.test_function at 0x000001A396D17C18> and will run it as-is.\n",
      "Please report this to the TensorFlow team. When filing the bug, set the verbosity to 10 (on Linux, `export AUTOGRAPH_VERBOSITY=10`) and attach the full output.\n",
      "Cause: 'arguments' object has no attribute 'posonlyargs'\n",
      "To silence this warning, decorate the function with @tf.autograph.experimental.do_not_convert\n",
      "Restoring model weights from the end of the best epoch: 102.\n",
      "Epoch 00152: early stopping\n",
      "WARNING: AutoGraph could not transform <function Model.make_predict_function.<locals>.predict_function at 0x000001A387817708> and will run it as-is.\n",
      "Please report this to the TensorFlow team. When filing the bug, set the verbosity to 10 (on Linux, `export AUTOGRAPH_VERBOSITY=10`) and attach the full output.\n",
      "Cause: 'arguments' object has no attribute 'posonlyargs'\n",
      "To silence this warning, decorate the function with @tf.autograph.experimental.do_not_convert\n",
      "{'first_neuron': 55, 'hidden_neuron': 50, 'hidden_layers': 3, 'epochs': 100000, 'last_activation': 'sigmoid', 'batch_size': 64, 'lr': 0.001, 'kernel_regularizer_l1': 1e-06, 'kernel_regularizer_l2': 1e-05, 'bias_regularizer': 0.0001, 'activity_regularizer': 0.0001, 'dropout': 0.08, 'kernel_initializer': 'uniform', 'activation_layer': 'tanh', 'batc_normalization': True}\n",
      "adding layer 1\n",
      "adding layer 2\n",
      "adding layer 3\n",
      "WARNING: AutoGraph could not transform <function Model.make_train_function.<locals>.train_function at 0x000001A391800A68> and will run it as-is.\n",
      "Please report this to the TensorFlow team. When filing the bug, set the verbosity to 10 (on Linux, `export AUTOGRAPH_VERBOSITY=10`) and attach the full output.\n",
      "Cause: 'arguments' object has no attribute 'posonlyargs'\n",
      "To silence this warning, decorate the function with @tf.autograph.experimental.do_not_convert\n",
      "WARNING: AutoGraph could not transform <function Model.make_test_function.<locals>.test_function at 0x000001A3875FF5E8> and will run it as-is.\n",
      "Please report this to the TensorFlow team. When filing the bug, set the verbosity to 10 (on Linux, `export AUTOGRAPH_VERBOSITY=10`) and attach the full output.\n",
      "Cause: 'arguments' object has no attribute 'posonlyargs'\n",
      "To silence this warning, decorate the function with @tf.autograph.experimental.do_not_convert\n",
      "Restoring model weights from the end of the best epoch: 76.\n",
      "Epoch 00126: early stopping\n",
      "WARNING: AutoGraph could not transform <function Model.make_predict_function.<locals>.predict_function at 0x000001A38D289C18> and will run it as-is.\n",
      "Please report this to the TensorFlow team. When filing the bug, set the verbosity to 10 (on Linux, `export AUTOGRAPH_VERBOSITY=10`) and attach the full output.\n",
      "Cause: 'arguments' object has no attribute 'posonlyargs'\n",
      "To silence this warning, decorate the function with @tf.autograph.experimental.do_not_convert\n",
      "{'first_neuron': 55, 'hidden_neuron': 50, 'hidden_layers': 3, 'epochs': 100000, 'last_activation': 'sigmoid', 'batch_size': 64, 'lr': 0.001, 'kernel_regularizer_l1': 1e-06, 'kernel_regularizer_l2': 1e-05, 'bias_regularizer': 0.0001, 'activity_regularizer': 0.0001, 'dropout': 0.08, 'kernel_initializer': 'uniform', 'activation_layer': 'tanh', 'batc_normalization': True}\n",
      "adding layer 1\n",
      "adding layer 2\n",
      "adding layer 3\n",
      "WARNING: AutoGraph could not transform <function Model.make_train_function.<locals>.train_function at 0x000001A39753DCA8> and will run it as-is.\n",
      "Please report this to the TensorFlow team. When filing the bug, set the verbosity to 10 (on Linux, `export AUTOGRAPH_VERBOSITY=10`) and attach the full output.\n",
      "Cause: 'arguments' object has no attribute 'posonlyargs'\n",
      "To silence this warning, decorate the function with @tf.autograph.experimental.do_not_convert\n"
     ]
    },
    {
     "name": "stdout",
     "output_type": "stream",
     "text": [
      "WARNING: AutoGraph could not transform <function Model.make_test_function.<locals>.test_function at 0x000001A3801DE708> and will run it as-is.\n",
      "Please report this to the TensorFlow team. When filing the bug, set the verbosity to 10 (on Linux, `export AUTOGRAPH_VERBOSITY=10`) and attach the full output.\n",
      "Cause: 'arguments' object has no attribute 'posonlyargs'\n",
      "To silence this warning, decorate the function with @tf.autograph.experimental.do_not_convert\n",
      "Restoring model weights from the end of the best epoch: 1.\n",
      "Epoch 00051: early stopping\n",
      "WARNING: AutoGraph could not transform <function Model.make_predict_function.<locals>.predict_function at 0x000001A389115AF8> and will run it as-is.\n",
      "Please report this to the TensorFlow team. When filing the bug, set the verbosity to 10 (on Linux, `export AUTOGRAPH_VERBOSITY=10`) and attach the full output.\n",
      "Cause: 'arguments' object has no attribute 'posonlyargs'\n",
      "To silence this warning, decorate the function with @tf.autograph.experimental.do_not_convert\n"
     ]
    }
   ],
   "source": [
    "\n",
    "kfold = StratifiedKFold(n_splits=5, shuffle=True, random_state=42)\n",
    "cvscores = []\n",
    "dane_do_zapisu=pd.DataFrame()\n",
    "licznik=1\n",
    "\n",
    "for train, test in kfold.split(caly_df,train_label_2): # train 80, test 20 %\n",
    "    train, val = train_test_split(train, test_size=0.1, random_state=42) # train 80 % test 10% val 10 %\n",
    "    \n",
    "    returny=numerai_model(caly_df[train], caly_label[train], caly_df[val],caly_label[val], p)\n",
    "    \n",
    "    model=returny[1]\n",
    "    # evaluate the model\n",
    "\n",
    "    \n",
    "    predictions = model.predict(caly_df[test])\n",
    "    rezults=[]\n",
    "    w_0=[]\n",
    "    w_1=[]\n",
    "    w_2=[]\n",
    "    for z in predictions:\n",
    "        rezults.append(np.argmax(z))\n",
    "        w_0.append(z[0])\n",
    "        w_1.append(z[1])\n",
    "        w_2.append(z[2])\n",
    "    \n",
    "\n",
    "\n",
    "    scores=f1_score(train_label_2[test], rezults,average='macro')\n",
    "    \n",
    "    dane_folda=pd.DataFrame({\"pred\": list(rezults),\n",
    "                                \"obs\": train_label_2[test].tolist(),\n",
    "                                 \"probability_0\":list(w_0),\n",
    "                                 \"probability_1\":list(w_1),\n",
    "                                 \"probability_2\":list(w_2),\n",
    "                                \"Fold\":licznik})\n",
    "    \n",
    "    dane_do_zapisu=pd.concat([dane_do_zapisu,dane_folda])\n",
    "    cvscores.append(scores)\n",
    "    licznik+=1\n",
    "    \n",
    "     "
   ]
  },
  {
   "cell_type": "code",
   "execution_count": 136,
   "id": "9722da35",
   "metadata": {},
   "outputs": [
    {
     "data": {
      "text/plain": [
       "[0.4679096045197739,\n",
       " 0.4600454112649235,\n",
       " 0.5459252649794505,\n",
       " 0.45139542996685855,\n",
       " 0.17120622568093383]"
      ]
     },
     "execution_count": 136,
     "metadata": {},
     "output_type": "execute_result"
    }
   ],
   "source": [
    "cvscores"
   ]
  },
  {
   "cell_type": "code",
   "execution_count": 137,
   "id": "427a0799",
   "metadata": {},
   "outputs": [
    {
     "data": {
      "text/plain": [
       "0.41929638728238805"
      ]
     },
     "execution_count": 137,
     "metadata": {},
     "output_type": "execute_result"
    }
   ],
   "source": [
    "sum(cvscores)/len(cvscores) #0.032977654217233775"
   ]
  },
  {
   "cell_type": "code",
   "execution_count": 138,
   "id": "e8a3e326",
   "metadata": {},
   "outputs": [],
   "source": [
    "cf_matrix = confusion_matrix(dane_do_zapisu['obs'], dane_do_zapisu['pred'])"
   ]
  },
  {
   "cell_type": "code",
   "execution_count": 139,
   "id": "88158b73",
   "metadata": {},
   "outputs": [
    {
     "data": {
      "image/png": "[encoded data removed]",
      "text/plain": [
       "<Figure size 432x288 with 2 Axes>"
      ]
     },
     "metadata": {
      "needs_background": "light"
     },
     "output_type": "display_data"
    }
   ],
   "source": [
    "\n",
    "ax = plt.axes()\n",
    "sns.heatmap(cf_matrix, annot=True, fmt='g')\n",
    "\n",
    "ax.set_title('Dane pierwotne - Klasa T - NN')\n",
    "plt.ylabel('Rzeczywiste')\n",
    "plt.xlabel('Predykcja')\n",
    "plt.show()\n"
   ]
  },
  {
   "cell_type": "code",
   "execution_count": null,
   "id": "ba599ea0",
   "metadata": {},
   "outputs": [],
   "source": [
    "precision = precision_score(dane_do_zapisu['obs'], dane_do_zapisu['pred'],  average='macro')\n",
    "recall = recall_score(dane_do_zapisu['obs'], dane_do_zapisu['pred'],  average='macro')\n",
    "f1score=f1_score(dane_do_zapisu['obs'], dane_do_zapisu['pred'], average='macro')\n",
    "print('Recall: %.3f' % recall)\n",
    "print('Precision: %.3f' % precision)\n",
    "print('F1score: %.3f' % f1score)"
   ]
  },
  {
   "cell_type": "code",
   "execution_count": null,
   "id": "c79cb821",
   "metadata": {},
   "outputs": [],
   "source": [
    "## Wczytywanie danych "
   ]
  },
  {
   "cell_type": "code",
   "execution_count": 128,
   "id": "ac46a543",
   "metadata": {},
   "outputs": [],
   "source": [
    "train_df=pd.read_csv(\"D:/STUDIA/ROK_II/Magisterka/Modele/Dane pierwotne/Dane_do_uczenia_T.csv\", encoding=\"utf-8\")\n",
    "del train_df['Unnamed: 0']\n",
    "train_df['scale'].loc[(train_df['scale'] == 'T1')] = 0\n",
    "train_df['scale'].loc[(train_df['scale'] == 'T2')] = 1\n",
    "train_df['scale'].loc[(train_df['scale'] == 'T3')] = 2\n",
    "train_label=train_df['scale']\n",
    "del train_df['scale']\n",
    "scaler = StandardScaler()\n",
    "train_df=scaler.fit_transform(train_df)\n",
    "train_label=np.asarray(train_label).astype(np.int)\n",
    "train_label_2=train_label\n",
    "encoder = LabelEncoder()\n",
    "encoder.fit(train_label)\n",
    "train_label = encoder.transform(train_label)\n",
    "# convert integers to dummy variables (i.e. one hot encoded)\n",
    "\n",
    "train_label = np_utils.to_categorical(train_label)"
   ]
  },
  {
   "cell_type": "code",
   "execution_count": 129,
   "id": "6415f074",
   "metadata": {},
   "outputs": [
    {
     "data": {
      "text/plain": [
       "array([[-0.15545413, -0.19268726, -0.18007555, ..., -0.11325408,\n",
       "        -0.1310684 , -0.14934876],\n",
       "       [-0.1740803 , -0.20813705, -0.23130506, ..., -0.20152997,\n",
       "        -0.17992108, -0.14934876],\n",
       "       [-0.19408164, -0.21062068, -0.23130506, ..., -0.20152997,\n",
       "        -0.17992108, -0.14934876],\n",
       "       ...,\n",
       "       [-0.21070965, -0.21834049, -0.23130506, ..., -0.20152997,\n",
       "        -0.17992108, -0.14934876],\n",
       "       [ 0.00099515, -0.02176597, -0.23130506, ..., -0.20152997,\n",
       "        -0.17992108, -0.14934876],\n",
       "       [ 0.03374514, -0.21834049, -0.23130506, ..., -0.20152997,\n",
       "        -0.08266341, -0.14934876]])"
      ]
     },
     "execution_count": 129,
     "metadata": {},
     "output_type": "execute_result"
    }
   ],
   "source": [
    "train_df"
   ]
  },
  {
   "cell_type": "code",
   "execution_count": 130,
   "id": "a7d17e2f",
   "metadata": {},
   "outputs": [
    {
     "data": {
      "text/plain": [
       "(955, 105)"
      ]
     },
     "execution_count": 130,
     "metadata": {},
     "output_type": "execute_result"
    }
   ],
   "source": [
    "train_df.shape"
   ]
  },
  {
   "cell_type": "code",
   "execution_count": 131,
   "id": "b2776564",
   "metadata": {},
   "outputs": [],
   "source": [
    "caly_df=train_df"
   ]
  },
  {
   "cell_type": "code",
   "execution_count": 132,
   "id": "28f8e242",
   "metadata": {},
   "outputs": [],
   "source": [
    "caly_label=train_label"
   ]
  },
  {
   "cell_type": "code",
   "execution_count": 133,
   "id": "e7de85a9",
   "metadata": {},
   "outputs": [
    {
     "data": {
      "text/plain": [
       "array([[1., 0., 0.],\n",
       "       [1., 0., 0.],\n",
       "       [1., 0., 0.],\n",
       "       ...,\n",
       "       [0., 0., 1.],\n",
       "       [0., 0., 1.],\n",
       "       [0., 0., 1.]], dtype=float32)"
      ]
     },
     "execution_count": 133,
     "metadata": {},
     "output_type": "execute_result"
    }
   ],
   "source": [
    "caly_label"
   ]
  },
  {
   "cell_type": "code",
   "execution_count": 134,
   "id": "2ad52e65",
   "metadata": {
    "scrolled": true
   },
   "outputs": [
    {
     "data": {
      "text/plain": [
       "array([0, 0, 0, 0, 0, 0, 0, 0, 0, 0, 0, 0, 0, 0, 0, 0, 0, 0, 0, 0, 0, 0,\n",
       "       0, 0, 0, 0, 0, 0, 0, 0, 0, 0, 0, 0, 0, 0, 0, 0, 0, 0, 0, 0, 0, 0,\n",
       "       0, 0, 0, 0, 0, 0, 0, 0, 0, 0, 0, 0, 0, 0, 0, 0, 0, 0, 0, 0, 0, 0,\n",
       "       0, 0, 0, 0, 0, 0, 0, 0, 0, 0, 0, 0, 0, 0, 0, 0, 0, 0, 0, 0, 0, 0,\n",
       "       0, 0, 0, 0, 0, 0, 0, 0, 0, 0, 0, 0, 0, 0, 0, 0, 0, 0, 0, 0, 0, 0,\n",
       "       0, 0, 0, 0, 0, 0, 0, 0, 0, 0, 0, 0, 0, 0, 0, 0, 0, 0, 0, 0, 0, 0,\n",
       "       0, 0, 0, 0, 0, 0, 0, 0, 0, 0, 0, 0, 0, 0, 0, 0, 0, 0, 0, 0, 0, 0,\n",
       "       0, 0, 0, 0, 0, 0, 0, 0, 0, 0, 0, 0, 0, 0, 0, 0, 0, 0, 0, 0, 0, 0,\n",
       "       0, 0, 0, 0, 0, 0, 0, 0, 0, 0, 0, 0, 0, 0, 0, 0, 0, 0, 0, 0, 0, 0,\n",
       "       0, 0, 0, 0, 0, 0, 0, 0, 0, 0, 0, 0, 0, 0, 0, 0, 0, 0, 0, 0, 0, 0,\n",
       "       0, 0, 0, 0, 0, 0, 0, 0, 0, 0, 0, 0, 0, 0, 0, 0, 0, 0, 0, 0, 0, 0,\n",
       "       0, 0, 0, 0, 0, 0, 0, 0, 0, 0, 0, 0, 0, 0, 0, 0, 0, 0, 0, 0, 0, 0,\n",
       "       0, 0, 0, 0, 0, 0, 0, 0, 0, 0, 0, 0, 0, 0, 0, 0, 0, 0, 0, 0, 0, 0,\n",
       "       0, 0, 0, 0, 0, 0, 0, 0, 0, 0, 0, 0, 0, 0, 0, 0, 0, 0, 0, 0, 0, 0,\n",
       "       0, 0, 0, 0, 0, 0, 0, 0, 0, 0, 0, 0, 0, 0, 0, 0, 0, 0, 0, 0, 0, 0,\n",
       "       0, 0, 0, 0, 0, 0, 0, 0, 0, 0, 0, 0, 0, 0, 0, 0, 0, 0, 0, 0, 0, 0,\n",
       "       0, 0, 0, 0, 0, 0, 0, 0, 0, 0, 0, 0, 0, 0, 0, 0, 0, 0, 0, 0, 0, 0,\n",
       "       0, 0, 0, 0, 0, 0, 0, 0, 0, 0, 0, 0, 0, 0, 0, 0, 0, 0, 0, 0, 0, 0,\n",
       "       0, 0, 0, 0, 0, 0, 0, 0, 0, 0, 0, 0, 0, 0, 0, 0, 0, 0, 0, 0, 0, 0,\n",
       "       0, 0, 0, 0, 0, 0, 0, 0, 0, 0, 0, 0, 0, 0, 0, 0, 0, 0, 0, 0, 0, 0,\n",
       "       0, 0, 0, 0, 0, 0, 0, 0, 0, 0, 0, 0, 0, 0, 0, 0, 0, 0, 0, 0, 0, 0,\n",
       "       0, 0, 0, 0, 0, 0, 0, 0, 0, 0, 0, 0, 0, 0, 0, 0, 0, 0, 0, 0, 0, 0,\n",
       "       0, 0, 0, 0, 0, 0, 0, 0, 0, 0, 0, 0, 1, 1, 1, 1, 1, 1, 1, 1, 1, 1,\n",
       "       1, 1, 1, 1, 1, 1, 1, 1, 1, 1, 1, 1, 1, 1, 1, 1, 1, 1, 1, 1, 1, 1,\n",
       "       1, 1, 1, 1, 1, 1, 1, 1, 1, 1, 1, 1, 1, 1, 1, 1, 1, 1, 1, 1, 1, 1,\n",
       "       1, 1, 1, 1, 1, 1, 1, 1, 1, 1, 1, 1, 1, 1, 1, 1, 1, 1, 1, 1, 1, 1,\n",
       "       1, 1, 1, 1, 1, 1, 1, 1, 1, 1, 1, 1, 1, 1, 1, 1, 1, 1, 1, 1, 1, 1,\n",
       "       1, 1, 1, 1, 1, 1, 1, 1, 1, 1, 1, 1, 1, 1, 1, 1, 1, 1, 1, 1, 1, 1,\n",
       "       1, 1, 1, 1, 1, 1, 1, 1, 1, 1, 1, 1, 2, 2, 2, 2, 2, 2, 2, 2, 2, 2,\n",
       "       2, 2, 2, 2, 2, 2, 2, 2, 2, 2, 2, 2, 2, 2, 2, 2, 2, 2, 2, 2, 2, 2,\n",
       "       2, 2, 2, 2, 2, 2, 2, 2, 2, 2, 2, 2, 2, 2, 2, 2, 2, 2, 2, 2, 2, 2,\n",
       "       2, 2, 2, 2, 2, 2, 2, 2, 2, 2, 2, 2, 2, 2, 2, 2, 2, 2, 2, 2, 2, 2,\n",
       "       2, 2, 2, 2, 2, 2, 2, 2, 2, 2, 2, 2, 2, 2, 2, 2, 2, 2, 2, 2, 2, 2,\n",
       "       2, 2, 2, 2, 2, 2, 2, 2, 2, 2, 2, 2, 2, 2, 2, 2, 2, 2, 2, 2, 2, 2,\n",
       "       2, 2, 2, 2, 2, 2, 2, 2, 2, 2, 2, 2, 2, 2, 2, 2, 2, 2, 2, 2, 2, 2,\n",
       "       2, 2, 2, 2, 2, 2, 2, 2, 2, 2, 2, 2, 2, 2, 2, 2, 2, 2, 2, 2, 2, 2,\n",
       "       2, 2, 2, 2, 2, 2, 2, 2, 2, 2, 2, 2, 2, 2, 2, 2, 2, 2, 2, 2, 2, 2,\n",
       "       2, 2, 2, 2, 2, 2, 2, 2, 2, 2, 2, 2, 2, 2, 2, 2, 2, 2, 2, 2, 2, 2,\n",
       "       2, 2, 2, 2, 2, 2, 2, 2, 2, 2, 2, 2, 2, 2, 2, 2, 2, 2, 2, 2, 2, 2,\n",
       "       2, 2, 2, 2, 2, 2, 2, 2, 2, 2, 2, 2, 2, 2, 2, 2, 2, 2, 2, 2, 2, 2,\n",
       "       2, 2, 2, 2, 2, 2, 2, 2, 2, 2, 2, 2, 2, 2, 2, 2, 2, 2, 2, 2, 2, 2,\n",
       "       2, 2, 2, 2, 2, 2, 2, 2, 2, 2, 2, 2, 2, 2, 2, 2, 2, 2, 2, 2, 2, 2,\n",
       "       2, 2, 2, 2, 2, 2, 2, 2, 2, 2, 2, 2, 2, 2, 2, 2, 2, 2, 2, 2, 2, 2,\n",
       "       2, 2, 2, 2, 2, 2, 2, 2, 2])"
      ]
     },
     "execution_count": 134,
     "metadata": {},
     "output_type": "execute_result"
    }
   ],
   "source": [
    "train_label_2"
   ]
  },
  {
   "cell_type": "code",
   "execution_count": 105,
   "id": "4abcdf1a",
   "metadata": {
    "scrolled": true
   },
   "outputs": [
    {
     "name": "stdout",
     "output_type": "stream",
     "text": [
      "{'first_neuron': 55, 'hidden_neuron': 50, 'hidden_layers': 3, 'epochs': 100000, 'last_activation': 'sigmoid', 'batch_size': 64, 'lr': 0.001, 'kernel_regularizer_l1': 1e-06, 'kernel_regularizer_l2': 1e-05, 'bias_regularizer': 0.0001, 'activity_regularizer': 0.0001, 'dropout': 0.3, 'kernel_initializer': 'uniform', 'activation_layer': 'tanh', 'batc_normalization': True}\n",
      "adding layer 1\n",
      "adding layer 2\n",
      "adding layer 3\n",
      "WARNING: AutoGraph could not transform <function Model.make_train_function.<locals>.train_function at 0x000001A39010A048> and will run it as-is.\n",
      "Please report this to the TensorFlow team. When filing the bug, set the verbosity to 10 (on Linux, `export AUTOGRAPH_VERBOSITY=10`) and attach the full output.\n",
      "Cause: 'arguments' object has no attribute 'posonlyargs'\n",
      "To silence this warning, decorate the function with @tf.autograph.experimental.do_not_convert\n",
      "WARNING: AutoGraph could not transform <function Model.make_test_function.<locals>.test_function at 0x000001A38152E4C8> and will run it as-is.\n",
      "Please report this to the TensorFlow team. When filing the bug, set the verbosity to 10 (on Linux, `export AUTOGRAPH_VERBOSITY=10`) and attach the full output.\n",
      "Cause: 'arguments' object has no attribute 'posonlyargs'\n",
      "To silence this warning, decorate the function with @tf.autograph.experimental.do_not_convert\n",
      "Restoring model weights from the end of the best epoch: 184.\n",
      "Epoch 00234: early stopping\n",
      "WARNING: AutoGraph could not transform <function Model.make_predict_function.<locals>.predict_function at 0x000001A38E723A68> and will run it as-is.\n",
      "Please report this to the TensorFlow team. When filing the bug, set the verbosity to 10 (on Linux, `export AUTOGRAPH_VERBOSITY=10`) and attach the full output.\n",
      "Cause: 'arguments' object has no attribute 'posonlyargs'\n",
      "To silence this warning, decorate the function with @tf.autograph.experimental.do_not_convert\n",
      "{'first_neuron': 55, 'hidden_neuron': 50, 'hidden_layers': 3, 'epochs': 100000, 'last_activation': 'sigmoid', 'batch_size': 64, 'lr': 0.001, 'kernel_regularizer_l1': 1e-06, 'kernel_regularizer_l2': 1e-05, 'bias_regularizer': 0.0001, 'activity_regularizer': 0.0001, 'dropout': 0.3, 'kernel_initializer': 'uniform', 'activation_layer': 'tanh', 'batc_normalization': True}\n",
      "adding layer 1\n",
      "adding layer 2\n",
      "adding layer 3\n",
      "WARNING: AutoGraph could not transform <function Model.make_train_function.<locals>.train_function at 0x000001A38D322438> and will run it as-is.\n",
      "Please report this to the TensorFlow team. When filing the bug, set the verbosity to 10 (on Linux, `export AUTOGRAPH_VERBOSITY=10`) and attach the full output.\n",
      "Cause: 'arguments' object has no attribute 'posonlyargs'\n",
      "To silence this warning, decorate the function with @tf.autograph.experimental.do_not_convert\n",
      "WARNING: AutoGraph could not transform <function Model.make_test_function.<locals>.test_function at 0x000001A38CE51318> and will run it as-is.\n",
      "Please report this to the TensorFlow team. When filing the bug, set the verbosity to 10 (on Linux, `export AUTOGRAPH_VERBOSITY=10`) and attach the full output.\n",
      "Cause: 'arguments' object has no attribute 'posonlyargs'\n",
      "To silence this warning, decorate the function with @tf.autograph.experimental.do_not_convert\n",
      "Restoring model weights from the end of the best epoch: 86.\n",
      "Epoch 00136: early stopping\n",
      "WARNING: AutoGraph could not transform <function Model.make_predict_function.<locals>.predict_function at 0x000001A38152E0D8> and will run it as-is.\n",
      "Please report this to the TensorFlow team. When filing the bug, set the verbosity to 10 (on Linux, `export AUTOGRAPH_VERBOSITY=10`) and attach the full output.\n",
      "Cause: 'arguments' object has no attribute 'posonlyargs'\n",
      "To silence this warning, decorate the function with @tf.autograph.experimental.do_not_convert\n",
      "{'first_neuron': 55, 'hidden_neuron': 50, 'hidden_layers': 3, 'epochs': 100000, 'last_activation': 'sigmoid', 'batch_size': 64, 'lr': 0.001, 'kernel_regularizer_l1': 1e-06, 'kernel_regularizer_l2': 1e-05, 'bias_regularizer': 0.0001, 'activity_regularizer': 0.0001, 'dropout': 0.3, 'kernel_initializer': 'uniform', 'activation_layer': 'tanh', 'batc_normalization': True}\n",
      "adding layer 1\n",
      "adding layer 2\n",
      "adding layer 3\n",
      "WARNING: AutoGraph could not transform <function Model.make_train_function.<locals>.train_function at 0x000001A392B63288> and will run it as-is.\n",
      "Please report this to the TensorFlow team. When filing the bug, set the verbosity to 10 (on Linux, `export AUTOGRAPH_VERBOSITY=10`) and attach the full output.\n",
      "Cause: 'arguments' object has no attribute 'posonlyargs'\n",
      "To silence this warning, decorate the function with @tf.autograph.experimental.do_not_convert\n",
      "WARNING: AutoGraph could not transform <function Model.make_test_function.<locals>.test_function at 0x000001A38D2364C8> and will run it as-is.\n",
      "Please report this to the TensorFlow team. When filing the bug, set the verbosity to 10 (on Linux, `export AUTOGRAPH_VERBOSITY=10`) and attach the full output.\n",
      "Cause: 'arguments' object has no attribute 'posonlyargs'\n",
      "To silence this warning, decorate the function with @tf.autograph.experimental.do_not_convert\n",
      "Restoring model weights from the end of the best epoch: 172.\n",
      "Epoch 00222: early stopping\n",
      "WARNING: AutoGraph could not transform <function Model.make_predict_function.<locals>.predict_function at 0x000001A38FD949D8> and will run it as-is.\n",
      "Please report this to the TensorFlow team. When filing the bug, set the verbosity to 10 (on Linux, `export AUTOGRAPH_VERBOSITY=10`) and attach the full output.\n",
      "Cause: 'arguments' object has no attribute 'posonlyargs'\n",
      "To silence this warning, decorate the function with @tf.autograph.experimental.do_not_convert\n",
      "{'first_neuron': 55, 'hidden_neuron': 50, 'hidden_layers': 3, 'epochs': 100000, 'last_activation': 'sigmoid', 'batch_size': 64, 'lr': 0.001, 'kernel_regularizer_l1': 1e-06, 'kernel_regularizer_l2': 1e-05, 'bias_regularizer': 0.0001, 'activity_regularizer': 0.0001, 'dropout': 0.3, 'kernel_initializer': 'uniform', 'activation_layer': 'tanh', 'batc_normalization': True}\n",
      "adding layer 1\n",
      "adding layer 2\n",
      "adding layer 3\n",
      "WARNING: AutoGraph could not transform <function Model.make_train_function.<locals>.train_function at 0x000001A3902E8A68> and will run it as-is.\n",
      "Please report this to the TensorFlow team. When filing the bug, set the verbosity to 10 (on Linux, `export AUTOGRAPH_VERBOSITY=10`) and attach the full output.\n",
      "Cause: 'arguments' object has no attribute 'posonlyargs'\n",
      "To silence this warning, decorate the function with @tf.autograph.experimental.do_not_convert\n",
      "WARNING: AutoGraph could not transform <function Model.make_test_function.<locals>.test_function at 0x000001A395A04558> and will run it as-is.\n",
      "Please report this to the TensorFlow team. When filing the bug, set the verbosity to 10 (on Linux, `export AUTOGRAPH_VERBOSITY=10`) and attach the full output.\n",
      "Cause: 'arguments' object has no attribute 'posonlyargs'\n",
      "To silence this warning, decorate the function with @tf.autograph.experimental.do_not_convert\n",
      "Restoring model weights from the end of the best epoch: 177.\n",
      "Epoch 00227: early stopping\n",
      "WARNING: AutoGraph could not transform <function Model.make_predict_function.<locals>.predict_function at 0x000001A395A5CB88> and will run it as-is.\n",
      "Please report this to the TensorFlow team. When filing the bug, set the verbosity to 10 (on Linux, `export AUTOGRAPH_VERBOSITY=10`) and attach the full output.\n",
      "Cause: 'arguments' object has no attribute 'posonlyargs'\n",
      "To silence this warning, decorate the function with @tf.autograph.experimental.do_not_convert\n",
      "{'first_neuron': 55, 'hidden_neuron': 50, 'hidden_layers': 3, 'epochs': 100000, 'last_activation': 'sigmoid', 'batch_size': 64, 'lr': 0.001, 'kernel_regularizer_l1': 1e-06, 'kernel_regularizer_l2': 1e-05, 'bias_regularizer': 0.0001, 'activity_regularizer': 0.0001, 'dropout': 0.3, 'kernel_initializer': 'uniform', 'activation_layer': 'tanh', 'batc_normalization': True}\n",
      "adding layer 1\n",
      "adding layer 2\n",
      "adding layer 3\n",
      "WARNING: AutoGraph could not transform <function Model.make_train_function.<locals>.train_function at 0x000001A395A044C8> and will run it as-is.\n",
      "Please report this to the TensorFlow team. When filing the bug, set the verbosity to 10 (on Linux, `export AUTOGRAPH_VERBOSITY=10`) and attach the full output.\n",
      "Cause: 'arguments' object has no attribute 'posonlyargs'\n",
      "To silence this warning, decorate the function with @tf.autograph.experimental.do_not_convert\n"
     ]
    },
    {
     "name": "stdout",
     "output_type": "stream",
     "text": [
      "WARNING: AutoGraph could not transform <function Model.make_test_function.<locals>.test_function at 0x000001A38152EF78> and will run it as-is.\n",
      "Please report this to the TensorFlow team. When filing the bug, set the verbosity to 10 (on Linux, `export AUTOGRAPH_VERBOSITY=10`) and attach the full output.\n",
      "Cause: 'arguments' object has no attribute 'posonlyargs'\n",
      "To silence this warning, decorate the function with @tf.autograph.experimental.do_not_convert\n",
      "Restoring model weights from the end of the best epoch: 38.\n",
      "Epoch 00088: early stopping\n",
      "WARNING: AutoGraph could not transform <function Model.make_predict_function.<locals>.predict_function at 0x000001A3801DEAF8> and will run it as-is.\n",
      "Please report this to the TensorFlow team. When filing the bug, set the verbosity to 10 (on Linux, `export AUTOGRAPH_VERBOSITY=10`) and attach the full output.\n",
      "Cause: 'arguments' object has no attribute 'posonlyargs'\n",
      "To silence this warning, decorate the function with @tf.autograph.experimental.do_not_convert\n"
     ]
    }
   ],
   "source": [
    "\n",
    "kfold = StratifiedKFold(n_splits=5, shuffle=True, random_state=42)\n",
    "cvscores = []\n",
    "dane_do_zapisu=pd.DataFrame()\n",
    "licznik=1\n",
    "\n",
    "for train, test in kfold.split(caly_df,train_label_2): # train 80, test 20 %\n",
    "    train, val = train_test_split(train, test_size=0.1, random_state=42) # train 80 % test 10% val 10 %\n",
    "    \n",
    "    returny=numerai_model(caly_df[train], caly_label[train], caly_df[val],caly_label[val], p)\n",
    "    \n",
    "    model=returny[1]\n",
    "    # evaluate the model\n",
    "\n",
    "    \n",
    "    predictions = model.predict(caly_df[test])\n",
    "    rezults=[]\n",
    "    w_0=[]\n",
    "    w_1=[]\n",
    "    w_2=[]\n",
    "    for z in predictions:\n",
    "        rezults.append(np.argmax(z))\n",
    "        w_0.append(z[0])\n",
    "        w_1.append(z[1])\n",
    "        w_2.append(z[2])\n",
    "    \n",
    "\n",
    "\n",
    "    scores=f1_score(train_label_2[test], rezults,average='macro')\n",
    "    \n",
    "    dane_folda=pd.DataFrame({\"pred\": list(rezults),\n",
    "                                \"obs\": train_label_2[test].tolist(),\n",
    "                                 \"probability_0\":list(w_0),\n",
    "                                 \"probability_1\":list(w_1),\n",
    "                                 \"probability_2\":list(w_2),\n",
    "                                \"Fold\":licznik})\n",
    "    \n",
    "    dane_do_zapisu=pd.concat([dane_do_zapisu,dane_folda])\n",
    "    cvscores.append(scores)\n",
    "    licznik+=1\n",
    "    \n",
    "     "
   ]
  },
  {
   "cell_type": "code",
   "execution_count": 141,
   "id": "b8fa880c",
   "metadata": {},
   "outputs": [],
   "source": [
    "dane_do_zapisu.to_csv('D:\\\\STUDIA\\\\ROK_II\\\\Magisterka\\\\Modele\\\\Dane pierwotne\\\\Dane z cross-walidacji\\\\Klasa_T_NN.csv')"
   ]
  },
  {
   "cell_type": "code",
   "execution_count": 107,
   "id": "959c15d3",
   "metadata": {},
   "outputs": [],
   "source": [
    "from sklearn.metrics import f1_score\n",
    "from sklearn.metrics import confusion_matrix\n",
    "import seaborn as sns\n",
    "from sklearn.metrics import recall_score\n",
    "from sklearn.metrics import precision_score\n"
   ]
  },
  {
   "cell_type": "markdown",
   "id": "7b28e7b5",
   "metadata": {},
   "source": [
    "## dr 0.3"
   ]
  },
  {
   "cell_type": "code",
   "execution_count": 108,
   "id": "5df1168d",
   "metadata": {},
   "outputs": [
    {
     "data": {
      "text/plain": [
       "[0.4730920393779641,\n",
       " 0.4403567787349129,\n",
       " 0.5193394371175799,\n",
       " 0.4537548931044866,\n",
       " 0.4958286848050628]"
      ]
     },
     "execution_count": 108,
     "metadata": {},
     "output_type": "execute_result"
    }
   ],
   "source": [
    "cvscores"
   ]
  },
  {
   "cell_type": "code",
   "execution_count": 109,
   "id": "a7197ba5",
   "metadata": {},
   "outputs": [
    {
     "data": {
      "text/plain": [
       "0.47647436662800124"
      ]
     },
     "execution_count": 109,
     "metadata": {},
     "output_type": "execute_result"
    }
   ],
   "source": [
    "sum(cvscores)/len(cvscores) #0.032977654217233775"
   ]
  },
  {
   "cell_type": "code",
   "execution_count": 110,
   "id": "6693d92b",
   "metadata": {},
   "outputs": [],
   "source": [
    "cf_matrix = confusion_matrix(dane_do_zapisu['obs'], dane_do_zapisu['pred'])"
   ]
  },
  {
   "cell_type": "code",
   "execution_count": 111,
   "id": "c2d01911",
   "metadata": {},
   "outputs": [
    {
     "data": {
      "image/png": "[encoded data removed]",
      "text/plain": [
       "<Figure size 432x288 with 2 Axes>"
      ]
     },
     "metadata": {
      "needs_background": "light"
     },
     "output_type": "display_data"
    }
   ],
   "source": [
    "\n",
    "ax = plt.axes()\n",
    "sns.heatmap(cf_matrix, annot=True, fmt='g')\n",
    "\n",
    "ax.set_title('Dane pierwotne - Klasa T - NN')\n",
    "plt.ylabel('Rzeczywiste')\n",
    "plt.xlabel('Predykcja')\n",
    "plt.show()\n"
   ]
  },
  {
   "cell_type": "code",
   "execution_count": 112,
   "id": "6fb48aa1",
   "metadata": {},
   "outputs": [
    {
     "name": "stdout",
     "output_type": "stream",
     "text": [
      "Recall: 0.477\n",
      "Precision: 0.493\n",
      "F1score: 0.478\n"
     ]
    }
   ],
   "source": [
    "precision = precision_score(dane_do_zapisu['obs'], dane_do_zapisu['pred'],  average='macro')\n",
    "recall = recall_score(dane_do_zapisu['obs'], dane_do_zapisu['pred'],  average='macro')\n",
    "f1score=f1_score(dane_do_zapisu['obs'], dane_do_zapisu['pred'], average='macro')\n",
    "print('Recall: %.3f' % recall)\n",
    "print('Precision: %.3f' % precision)\n",
    "print('F1score: %.3f' % f1score)"
   ]
  },
  {
   "cell_type": "markdown",
   "id": "bccdf5ee",
   "metadata": {},
   "source": [
    "## dr. 01"
   ]
  },
  {
   "cell_type": "code",
   "execution_count": 90,
   "id": "e8621312",
   "metadata": {},
   "outputs": [
    {
     "data": {
      "text/plain": [
       "[0.39946012837547457,\n",
       " 0.4590458453261094,\n",
       " 0.5268597934535271,\n",
       " 0.5028003613369466,\n",
       " 0.2530650604468367]"
      ]
     },
     "execution_count": 90,
     "metadata": {},
     "output_type": "execute_result"
    }
   ],
   "source": [
    "cvscores"
   ]
  },
  {
   "cell_type": "code",
   "execution_count": 91,
   "id": "b7fe715b",
   "metadata": {},
   "outputs": [
    {
     "data": {
      "text/plain": [
       "0.4282462377877789"
      ]
     },
     "execution_count": 91,
     "metadata": {},
     "output_type": "execute_result"
    }
   ],
   "source": [
    "sum(cvscores)/len(cvscores) #0.032977654217233775"
   ]
  },
  {
   "cell_type": "code",
   "execution_count": 93,
   "id": "60620ba8",
   "metadata": {},
   "outputs": [],
   "source": [
    "cf_matrix = confusion_matrix(dane_do_zapisu['obs'], dane_do_zapisu['pred'])"
   ]
  },
  {
   "cell_type": "code",
   "execution_count": 94,
   "id": "7cb27479",
   "metadata": {},
   "outputs": [
    {
     "data": {
      "image/png": "[encoded data removed]",
      "text/plain": [
       "<Figure size 432x288 with 2 Axes>"
      ]
     },
     "metadata": {
      "needs_background": "light"
     },
     "output_type": "display_data"
    }
   ],
   "source": [
    "\n",
    "ax = plt.axes()\n",
    "sns.heatmap(cf_matrix, annot=True, fmt='g')\n",
    "\n",
    "ax.set_title('Dane pierwotne - Klasa T - NN')\n",
    "plt.ylabel('Rzeczywiste')\n",
    "plt.xlabel('Predykcja')\n",
    "plt.show()\n"
   ]
  },
  {
   "cell_type": "code",
   "execution_count": 95,
   "id": "fc41f5a0",
   "metadata": {},
   "outputs": [
    {
     "name": "stdout",
     "output_type": "stream",
     "text": [
      "Recall: 0.450\n",
      "Precision: 0.458\n",
      "F1score: 0.449\n"
     ]
    }
   ],
   "source": [
    "precision = precision_score(dane_do_zapisu['obs'], dane_do_zapisu['pred'],  average='macro')\n",
    "recall = recall_score(dane_do_zapisu['obs'], dane_do_zapisu['pred'],  average='macro')\n",
    "f1score=f1_score(dane_do_zapisu['obs'], dane_do_zapisu['pred'], average='macro')\n",
    "print('Recall: %.3f' % recall)\n",
    "print('Precision: %.3f' % precision)\n",
    "print('F1score: %.3f' % f1score)"
   ]
  },
  {
   "cell_type": "code",
   "execution_count": 140,
   "id": "0ae0a691",
   "metadata": {
    "scrolled": true
   },
   "outputs": [
    {
     "name": "stdout",
     "output_type": "stream",
     "text": [
      "WARNING: AutoGraph could not transform <function trace_model_call.<locals>._wrapped_model at 0x000001A387712708> and will run it as-is.\n",
      "Please report this to the TensorFlow team. When filing the bug, set the verbosity to 10 (on Linux, `export AUTOGRAPH_VERBOSITY=10`) and attach the full output.\n",
      "Cause: module 'gast' has no attribute 'Constant'\n",
      "To silence this warning, decorate the function with @tf.autograph.experimental.do_not_convert\n",
      "WARNING: AutoGraph could not transform <keras.regularizers.L2 object at 0x000001A38E446608> and will run it as-is.\n",
      "Please report this to the TensorFlow team. When filing the bug, set the verbosity to 10 (on Linux, `export AUTOGRAPH_VERBOSITY=10`) and attach the full output.\n",
      "Cause: 'arguments' object has no attribute 'posonlyargs'\n",
      "To silence this warning, decorate the function with @tf.autograph.experimental.do_not_convert\n",
      "WARNING: AutoGraph could not transform <keras.regularizers.L2 object at 0x000001A38E935608> and will run it as-is.\n",
      "Please report this to the TensorFlow team. When filing the bug, set the verbosity to 10 (on Linux, `export AUTOGRAPH_VERBOSITY=10`) and attach the full output.\n",
      "Cause: 'arguments' object has no attribute 'posonlyargs'\n",
      "To silence this warning, decorate the function with @tf.autograph.experimental.do_not_convert\n",
      "WARNING: AutoGraph could not transform <keras.regularizers.L2 object at 0x000001A38E95BE08> and will run it as-is.\n",
      "Please report this to the TensorFlow team. When filing the bug, set the verbosity to 10 (on Linux, `export AUTOGRAPH_VERBOSITY=10`) and attach the full output.\n",
      "Cause: 'arguments' object has no attribute 'posonlyargs'\n",
      "To silence this warning, decorate the function with @tf.autograph.experimental.do_not_convert\n",
      "WARNING: AutoGraph could not transform <keras.regularizers.L2 object at 0x000001A38FDDA548> and will run it as-is.\n",
      "Please report this to the TensorFlow team. When filing the bug, set the verbosity to 10 (on Linux, `export AUTOGRAPH_VERBOSITY=10`) and attach the full output.\n",
      "Cause: 'arguments' object has no attribute 'posonlyargs'\n",
      "To silence this warning, decorate the function with @tf.autograph.experimental.do_not_convert\n",
      "WARNING: AutoGraph could not transform <keras.regularizers.L2 object at 0x000001A38FE05D88> and will run it as-is.\n",
      "Please report this to the TensorFlow team. When filing the bug, set the verbosity to 10 (on Linux, `export AUTOGRAPH_VERBOSITY=10`) and attach the full output.\n",
      "Cause: 'arguments' object has no attribute 'posonlyargs'\n",
      "To silence this warning, decorate the function with @tf.autograph.experimental.do_not_convert\n",
      "WARNING: AutoGraph could not transform <function canonicalize_signatures.<locals>.signature_wrapper at 0x000001A393D795E8> and will run it as-is.\n",
      "Please report this to the TensorFlow team. When filing the bug, set the verbosity to 10 (on Linux, `export AUTOGRAPH_VERBOSITY=10`) and attach the full output.\n",
      "Cause: 'arguments' object has no attribute 'posonlyargs'\n",
      "To silence this warning, decorate the function with @tf.autograph.experimental.do_not_convert\n",
      "WARNING: AutoGraph could not transform <function Layer._handle_weight_regularization.<locals>._loss_for_variable at 0x000001A390032C18> and will run it as-is.\n",
      "Please report this to the TensorFlow team. When filing the bug, set the verbosity to 10 (on Linux, `export AUTOGRAPH_VERBOSITY=10`) and attach the full output.\n",
      "Cause: 'arguments' object has no attribute 'posonlyargs'\n",
      "To silence this warning, decorate the function with @tf.autograph.experimental.do_not_convert\n",
      "WARNING: AutoGraph could not transform <function Layer._handle_weight_regularization.<locals>._loss_for_variable at 0x000001A390032CA8> and will run it as-is.\n",
      "Please report this to the TensorFlow team. When filing the bug, set the verbosity to 10 (on Linux, `export AUTOGRAPH_VERBOSITY=10`) and attach the full output.\n",
      "Cause: 'arguments' object has no attribute 'posonlyargs'\n",
      "To silence this warning, decorate the function with @tf.autograph.experimental.do_not_convert\n",
      "WARNING: AutoGraph could not transform <function Layer._handle_weight_regularization.<locals>._loss_for_variable at 0x000001A38E93C1F8> and will run it as-is.\n",
      "Please report this to the TensorFlow team. When filing the bug, set the verbosity to 10 (on Linux, `export AUTOGRAPH_VERBOSITY=10`) and attach the full output.\n",
      "Cause: 'arguments' object has no attribute 'posonlyargs'\n",
      "To silence this warning, decorate the function with @tf.autograph.experimental.do_not_convert\n",
      "WARNING: AutoGraph could not transform <function Layer._handle_weight_regularization.<locals>._loss_for_variable at 0x000001A38E93C318> and will run it as-is.\n",
      "Please report this to the TensorFlow team. When filing the bug, set the verbosity to 10 (on Linux, `export AUTOGRAPH_VERBOSITY=10`) and attach the full output.\n",
      "Cause: 'arguments' object has no attribute 'posonlyargs'\n",
      "To silence this warning, decorate the function with @tf.autograph.experimental.do_not_convert\n",
      "WARNING: AutoGraph could not transform <function Layer._handle_weight_regularization.<locals>._loss_for_variable at 0x000001A390032EE8> and will run it as-is.\n",
      "Please report this to the TensorFlow team. When filing the bug, set the verbosity to 10 (on Linux, `export AUTOGRAPH_VERBOSITY=10`) and attach the full output.\n",
      "Cause: 'arguments' object has no attribute 'posonlyargs'\n",
      "To silence this warning, decorate the function with @tf.autograph.experimental.do_not_convert\n",
      "WARNING: AutoGraph could not transform <function Layer._handle_weight_regularization.<locals>._loss_for_variable at 0x000001A38E93C9D8> and will run it as-is.\n",
      "Please report this to the TensorFlow team. When filing the bug, set the verbosity to 10 (on Linux, `export AUTOGRAPH_VERBOSITY=10`) and attach the full output.\n",
      "Cause: 'arguments' object has no attribute 'posonlyargs'\n",
      "To silence this warning, decorate the function with @tf.autograph.experimental.do_not_convert\n",
      "WARNING: AutoGraph could not transform <function Layer._handle_weight_regularization.<locals>._loss_for_variable at 0x000001A38E93CCA8> and will run it as-is.\n",
      "Please report this to the TensorFlow team. When filing the bug, set the verbosity to 10 (on Linux, `export AUTOGRAPH_VERBOSITY=10`) and attach the full output.\n",
      "Cause: 'arguments' object has no attribute 'posonlyargs'\n",
      "To silence this warning, decorate the function with @tf.autograph.experimental.do_not_convert\n",
      "WARNING: AutoGraph could not transform <function Layer._handle_weight_regularization.<locals>._loss_for_variable at 0x000001A38E93CDC8> and will run it as-is.\n",
      "Please report this to the TensorFlow team. When filing the bug, set the verbosity to 10 (on Linux, `export AUTOGRAPH_VERBOSITY=10`) and attach the full output.\n",
      "Cause: 'arguments' object has no attribute 'posonlyargs'\n",
      "To silence this warning, decorate the function with @tf.autograph.experimental.do_not_convert\n",
      "WARNING: AutoGraph could not transform <function Layer._handle_weight_regularization.<locals>._loss_for_variable at 0x000001A38FE07318> and will run it as-is.\n",
      "Please report this to the TensorFlow team. When filing the bug, set the verbosity to 10 (on Linux, `export AUTOGRAPH_VERBOSITY=10`) and attach the full output.\n",
      "Cause: 'arguments' object has no attribute 'posonlyargs'\n",
      "To silence this warning, decorate the function with @tf.autograph.experimental.do_not_convert\n",
      "WARNING: AutoGraph could not transform <function Layer._handle_weight_regularization.<locals>._loss_for_variable at 0x000001A38FE07438> and will run it as-is.\n",
      "Please report this to the TensorFlow team. When filing the bug, set the verbosity to 10 (on Linux, `export AUTOGRAPH_VERBOSITY=10`) and attach the full output.\n",
      "Cause: 'arguments' object has no attribute 'posonlyargs'\n",
      "To silence this warning, decorate the function with @tf.autograph.experimental.do_not_convert\n"
     ]
    }
   ],
   "source": [
    "model.save('D:/STUDIA/ROK_II/Magisterka/Modele/Dane pierwotne/Modele sieci neuro')"
   ]
  },
  {
   "cell_type": "code",
   "execution_count": null,
   "id": "ec69919a",
   "metadata": {},
   "outputs": [],
   "source": [
    "df = pd.read_csv()"
   ]
  },
  {
   "cell_type": "code",
   "execution_count": null,
   "id": "601291eb",
   "metadata": {},
   "outputs": [],
   "source": []
  }
 ],
 "metadata": {
  "kernelspec": {
   "display_name": "Python 3 (ipykernel)",
   "language": "python",
   "name": "python3"
  },
  "language_info": {
   "codemirror_mode": {
    "name": "ipython",
    "version": 3
   },
   "file_extension": ".py",
   "mimetype": "text/x-python",
   "name": "python",
   "nbconvert_exporter": "python",
   "pygments_lexer": "ipython3",
   "version": "3.10.4"
  }
 },
 "nbformat": 4,
 "nbformat_minor": 5
}
