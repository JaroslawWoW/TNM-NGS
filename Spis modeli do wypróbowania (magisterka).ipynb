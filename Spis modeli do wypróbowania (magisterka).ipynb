{
 "cells": [
  {
   "cell_type": "markdown",
   "id": "08700153",
   "metadata": {},
   "source": [
    "#### Klasyfikacja binarna:\n",
    "\n",
    "1. (!) K-Nearest Neighbors\n",
    "2. (!) Logistic Regression \n",
    "3. Decision Trees (Nope)\n",
    "4. Random Forest (Nope)\n",
    "5. (!) Support Vector Machine (SVM)\n",
    "6. (!) Naive Bayes\n",
    "7. Neural Network\n",
    "8. XGB booster\n",
    "9. (!) Gradient Boosting\n",
    "\n",
    "10 to max (cap i nic więcej!)\n"
   ]
  },
  {
   "cell_type": "markdown",
   "id": "85696e5e",
   "metadata": {},
   "source": [
    "#### Klasyfikacja wieloklasowa\n",
    "\n",
    "\n",
    "1. K-Nearest Neighbors\n",
    "2. Decision Trees\n",
    "3. Random Forest\n",
    "4. (!) Naive Bayes\n",
    "5. Neural Network\n",
    "6. XGB booster\n",
    "7. Gradient Boosting\n",
    "8. (!) SGD\n",
    "\n",
    "10 to max (cap i nic więcej!)\n"
   ]
  },
  {
   "cell_type": "markdown",
   "id": "556cf923",
   "metadata": {},
   "source": [
    "#### Podejscia z danymi:\n",
    "\n",
    "- PCA (zmiana genow na wektory)\n",
    "\n",
    "- Feature selection (X wybranych sposrod wszystkich istotnych wedlug REFCV)\n",
    "\n",
    "- Feature selection \n",
    "\n",
    "Feature Extraction odpada bo nie ma jak zbadać korealcji :|"
   ]
  },
  {
   "cell_type": "code",
   "execution_count": 2,
   "id": "a4dad1f6",
   "metadata": {},
   "outputs": [],
   "source": [
    "import pandas as pd"
   ]
  },
  {
   "cell_type": "code",
   "execution_count": 3,
   "id": "03f74557",
   "metadata": {},
   "outputs": [],
   "source": [
    "M_1_0=pd.read_csv('Odfiltrowane_geny_Results_M_1_0.csv',)\n",
    "N_1_0=pd.read_csv('Odfiltrowane_geny_Results_N_1_0.csv')\n",
    "T_2_1=pd.read_csv('Odfiltrowane_geny_Results_T_2_1.csv')\n",
    "T_3_1=pd.read_csv('Odfiltrowane_geny_Results_T_3_1.csv')"
   ]
  },
  {
   "cell_type": "code",
   "execution_count": 8,
   "id": "ccc1e6b1",
   "metadata": {},
   "outputs": [
    {
     "data": {
      "text/plain": [
       "0       ENSG00000212232.1\n",
       "1       ENSG00000238741.1\n",
       "2       ENSG00000252481.1\n",
       "3       ENSG00000239002.3\n",
       "4       ENSG00000212443.1\n",
       "              ...        \n",
       "1732    ENSG00000271456.1\n",
       "1733    ENSG00000274879.1\n",
       "1734    ENSG00000275094.1\n",
       "1735    ENSG00000279209.1\n",
       "1736    ENSG00000280414.1\n",
       "Name: Gene name, Length: 1737, dtype: object"
      ]
     },
     "execution_count": 8,
     "metadata": {},
     "output_type": "execute_result"
    }
   ],
   "source": [
    "M_1_0['Gene name']"
   ]
  },
  {
   "cell_type": "code",
   "execution_count": 9,
   "id": "3d0ea185",
   "metadata": {},
   "outputs": [
    {
     "data": {
      "text/plain": [
       "0        ENSG00000104112.7\n",
       "1       ENSG00000107105.13\n",
       "2        ENSG00000227038.2\n",
       "3        ENSG00000168539.3\n",
       "4        ENSG00000171517.5\n",
       "               ...        \n",
       "1431     ENSG00000264791.1\n",
       "1432     ENSG00000267036.2\n",
       "1433     ENSG00000272887.1\n",
       "1434     ENSG00000274052.1\n",
       "1435     ENSG00000279367.1\n",
       "Name: Gene name, Length: 1436, dtype: object"
      ]
     },
     "execution_count": 9,
     "metadata": {},
     "output_type": "execute_result"
    }
   ],
   "source": [
    "T_2_1['Gene name']"
   ]
  },
  {
   "cell_type": "code",
   "execution_count": 7,
   "id": "463a9002",
   "metadata": {},
   "outputs": [
    {
     "data": {
      "text/plain": [
       "0        ENSG00000104112.7\n",
       "1       ENSG00000107105.13\n",
       "2        ENSG00000227038.2\n",
       "3        ENSG00000168539.3\n",
       "4        ENSG00000171517.5\n",
       "               ...        \n",
       "1431     ENSG00000264791.1\n",
       "1432     ENSG00000267036.2\n",
       "1433     ENSG00000272887.1\n",
       "1434     ENSG00000274052.1\n",
       "1435     ENSG00000279367.1\n",
       "Name: Gene name, Length: 1436, dtype: object"
      ]
     },
     "execution_count": 7,
     "metadata": {},
     "output_type": "execute_result"
    }
   ],
   "source": [
    "T_2_1['Gene name']"
   ]
  },
  {
   "cell_type": "code",
   "execution_count": 6,
   "id": "bb333ba5",
   "metadata": {},
   "outputs": [
    {
     "data": {
      "text/plain": [
       "0       ENSG00000253553.4\n",
       "1      ENSG00000168779.18\n",
       "2       ENSG00000249628.2\n",
       "3       ENSG00000160161.8\n",
       "4       ENSG00000043355.9\n",
       "              ...        \n",
       "798     ENSG00000101441.4\n",
       "799     ENSG00000233553.1\n",
       "800     ENSG00000229788.1\n",
       "801     ENSG00000275314.1\n",
       "802     ENSG00000278105.1\n",
       "Name: Gene name, Length: 803, dtype: object"
      ]
     },
     "execution_count": 6,
     "metadata": {},
     "output_type": "execute_result"
    }
   ],
   "source": [
    "T_3_1['Gene name']"
   ]
  },
  {
   "cell_type": "code",
   "execution_count": null,
   "id": "8b6a10ab",
   "metadata": {},
   "outputs": [],
   "source": []
  }
 ],
 "metadata": {
  "kernelspec": {
   "display_name": "Python 3",
   "language": "python",
   "name": "python3"
  },
  "language_info": {
   "codemirror_mode": {
    "name": "ipython",
    "version": 3
   },
   "file_extension": ".py",
   "mimetype": "text/x-python",
   "name": "python",
   "nbconvert_exporter": "python",
   "pygments_lexer": "ipython3",
   "version": "3.7.10"
  }
 },
 "nbformat": 4,
 "nbformat_minor": 5
}
