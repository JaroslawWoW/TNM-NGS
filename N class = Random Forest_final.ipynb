{
 "cells": [
  {
   "cell_type": "markdown",
   "metadata": {
    "id": "bPV-6xysFeQ1"
   },
   "source": [
    "# Zastosowanie drzew decyzyjnych oraz lasów losowych przy, gdzie y reprezentowany jest przez dane typu ciągłego**\n"
   ]
  },
  {
   "cell_type": "markdown",
   "metadata": {},
   "source": [
    "## 1. Biblioteki"
   ]
  },
  {
   "cell_type": "code",
   "execution_count": 1,
   "metadata": {
    "id": "JJMNYhNp0ejg"
   },
   "outputs": [],
   "source": [
    "import pandas as pd\n",
    "import sklearn.tree\n",
    "import numpy as np\n",
    "from sklearn.ensemble import RandomForestClassifier  #ładowanie fukcji do tworzenia instacji drzew dla Y ciaglego\n",
    "from sklearn.model_selection import GridSearchCV\n",
    "\n",
    "from sklearn.model_selection import train_test_split\n",
    "from sklearn.model_selection import cross_val_score, KFold\n",
    "import matplotlib.pyplot as plt \n",
    "\n",
    "from sklearn.feature_selection import RFECV\n",
    "from sklearn.metrics import make_scorer\n",
    "\n",
    "import seaborn as sns\n",
    "\n",
    "from sklearn.model_selection import cross_val_score,  StratifiedKFold\n",
    "\n",
    "\n",
    "from sklearn.preprocessing import StandardScaler\n",
    "\n",
    "from sklearn.metrics import confusion_matrix\n",
    "from sklearn.metrics import fbeta_score\n",
    "\n",
    "\n"
   ]
  },
  {
   "cell_type": "markdown",
   "metadata": {},
   "source": [
    "## 2. Wczytuje  i sprawdzam typ danych"
   ]
  },
  {
   "cell_type": "code",
   "execution_count": 2,
   "metadata": {},
   "outputs": [
    {
     "ename": "FileNotFoundError",
     "evalue": "[Errno 2] No such file or directory: 'C:/Users/Marze/OneDrive/Dokumenty/Jarek/Modele/Dane pierwotne/Dane_do_uczenia_N.csv'",
     "output_type": "error",
     "traceback": [
      "\u001b[1;31m---------------------------------------------------------------------------\u001b[0m",
      "\u001b[1;31mFileNotFoundError\u001b[0m                         Traceback (most recent call last)",
      "\u001b[1;32m<ipython-input-2-2e090dfd1cc1>\u001b[0m in \u001b[0;36m<module>\u001b[1;34m\u001b[0m\n\u001b[1;32m----> 1\u001b[1;33m \u001b[0mtrain_df\u001b[0m\u001b[1;33m=\u001b[0m\u001b[0mpd\u001b[0m\u001b[1;33m.\u001b[0m\u001b[0mread_csv\u001b[0m\u001b[1;33m(\u001b[0m\u001b[1;34m\"C:/Users/Marze/OneDrive/Dokumenty/Jarek/Modele/Dane pierwotne/Dane_do_uczenia_N.csv\"\u001b[0m\u001b[1;33m,\u001b[0m \u001b[0mencoding\u001b[0m\u001b[1;33m=\u001b[0m\u001b[1;34m\"utf-8\"\u001b[0m\u001b[1;33m)\u001b[0m\u001b[1;33m\u001b[0m\u001b[1;33m\u001b[0m\u001b[0m\n\u001b[0m\u001b[0;32m      2\u001b[0m \u001b[1;32mdel\u001b[0m \u001b[0mtrain_df\u001b[0m\u001b[1;33m[\u001b[0m\u001b[1;34m'Unnamed: 0'\u001b[0m\u001b[1;33m]\u001b[0m\u001b[1;33m\u001b[0m\u001b[1;33m\u001b[0m\u001b[0m\n",
      "\u001b[1;32mD:\\anaconda\\lib\\site-packages\\pandas\\io\\parsers.py\u001b[0m in \u001b[0;36mread_csv\u001b[1;34m(filepath_or_buffer, sep, delimiter, header, names, index_col, usecols, squeeze, prefix, mangle_dupe_cols, dtype, engine, converters, true_values, false_values, skipinitialspace, skiprows, skipfooter, nrows, na_values, keep_default_na, na_filter, verbose, skip_blank_lines, parse_dates, infer_datetime_format, keep_date_col, date_parser, dayfirst, cache_dates, iterator, chunksize, compression, thousands, decimal, lineterminator, quotechar, quoting, doublequote, escapechar, comment, encoding, dialect, error_bad_lines, warn_bad_lines, delim_whitespace, low_memory, memory_map, float_precision, storage_options)\u001b[0m\n\u001b[0;32m    608\u001b[0m     \u001b[0mkwds\u001b[0m\u001b[1;33m.\u001b[0m\u001b[0mupdate\u001b[0m\u001b[1;33m(\u001b[0m\u001b[0mkwds_defaults\u001b[0m\u001b[1;33m)\u001b[0m\u001b[1;33m\u001b[0m\u001b[1;33m\u001b[0m\u001b[0m\n\u001b[0;32m    609\u001b[0m \u001b[1;33m\u001b[0m\u001b[0m\n\u001b[1;32m--> 610\u001b[1;33m     \u001b[1;32mreturn\u001b[0m \u001b[0m_read\u001b[0m\u001b[1;33m(\u001b[0m\u001b[0mfilepath_or_buffer\u001b[0m\u001b[1;33m,\u001b[0m \u001b[0mkwds\u001b[0m\u001b[1;33m)\u001b[0m\u001b[1;33m\u001b[0m\u001b[1;33m\u001b[0m\u001b[0m\n\u001b[0m\u001b[0;32m    611\u001b[0m \u001b[1;33m\u001b[0m\u001b[0m\n\u001b[0;32m    612\u001b[0m \u001b[1;33m\u001b[0m\u001b[0m\n",
      "\u001b[1;32mD:\\anaconda\\lib\\site-packages\\pandas\\io\\parsers.py\u001b[0m in \u001b[0;36m_read\u001b[1;34m(filepath_or_buffer, kwds)\u001b[0m\n\u001b[0;32m    460\u001b[0m \u001b[1;33m\u001b[0m\u001b[0m\n\u001b[0;32m    461\u001b[0m     \u001b[1;31m# Create the parser.\u001b[0m\u001b[1;33m\u001b[0m\u001b[1;33m\u001b[0m\u001b[1;33m\u001b[0m\u001b[0m\n\u001b[1;32m--> 462\u001b[1;33m     \u001b[0mparser\u001b[0m \u001b[1;33m=\u001b[0m \u001b[0mTextFileReader\u001b[0m\u001b[1;33m(\u001b[0m\u001b[0mfilepath_or_buffer\u001b[0m\u001b[1;33m,\u001b[0m \u001b[1;33m**\u001b[0m\u001b[0mkwds\u001b[0m\u001b[1;33m)\u001b[0m\u001b[1;33m\u001b[0m\u001b[1;33m\u001b[0m\u001b[0m\n\u001b[0m\u001b[0;32m    463\u001b[0m \u001b[1;33m\u001b[0m\u001b[0m\n\u001b[0;32m    464\u001b[0m     \u001b[1;32mif\u001b[0m \u001b[0mchunksize\u001b[0m \u001b[1;32mor\u001b[0m \u001b[0miterator\u001b[0m\u001b[1;33m:\u001b[0m\u001b[1;33m\u001b[0m\u001b[1;33m\u001b[0m\u001b[0m\n",
      "\u001b[1;32mD:\\anaconda\\lib\\site-packages\\pandas\\io\\parsers.py\u001b[0m in \u001b[0;36m__init__\u001b[1;34m(self, f, engine, **kwds)\u001b[0m\n\u001b[0;32m    817\u001b[0m             \u001b[0mself\u001b[0m\u001b[1;33m.\u001b[0m\u001b[0moptions\u001b[0m\u001b[1;33m[\u001b[0m\u001b[1;34m\"has_index_names\"\u001b[0m\u001b[1;33m]\u001b[0m \u001b[1;33m=\u001b[0m \u001b[0mkwds\u001b[0m\u001b[1;33m[\u001b[0m\u001b[1;34m\"has_index_names\"\u001b[0m\u001b[1;33m]\u001b[0m\u001b[1;33m\u001b[0m\u001b[1;33m\u001b[0m\u001b[0m\n\u001b[0;32m    818\u001b[0m \u001b[1;33m\u001b[0m\u001b[0m\n\u001b[1;32m--> 819\u001b[1;33m         \u001b[0mself\u001b[0m\u001b[1;33m.\u001b[0m\u001b[0m_engine\u001b[0m \u001b[1;33m=\u001b[0m \u001b[0mself\u001b[0m\u001b[1;33m.\u001b[0m\u001b[0m_make_engine\u001b[0m\u001b[1;33m(\u001b[0m\u001b[0mself\u001b[0m\u001b[1;33m.\u001b[0m\u001b[0mengine\u001b[0m\u001b[1;33m)\u001b[0m\u001b[1;33m\u001b[0m\u001b[1;33m\u001b[0m\u001b[0m\n\u001b[0m\u001b[0;32m    820\u001b[0m \u001b[1;33m\u001b[0m\u001b[0m\n\u001b[0;32m    821\u001b[0m     \u001b[1;32mdef\u001b[0m \u001b[0mclose\u001b[0m\u001b[1;33m(\u001b[0m\u001b[0mself\u001b[0m\u001b[1;33m)\u001b[0m\u001b[1;33m:\u001b[0m\u001b[1;33m\u001b[0m\u001b[1;33m\u001b[0m\u001b[0m\n",
      "\u001b[1;32mD:\\anaconda\\lib\\site-packages\\pandas\\io\\parsers.py\u001b[0m in \u001b[0;36m_make_engine\u001b[1;34m(self, engine)\u001b[0m\n\u001b[0;32m   1048\u001b[0m             )\n\u001b[0;32m   1049\u001b[0m         \u001b[1;31m# error: Too many arguments for \"ParserBase\"\u001b[0m\u001b[1;33m\u001b[0m\u001b[1;33m\u001b[0m\u001b[1;33m\u001b[0m\u001b[0m\n\u001b[1;32m-> 1050\u001b[1;33m         \u001b[1;32mreturn\u001b[0m \u001b[0mmapping\u001b[0m\u001b[1;33m[\u001b[0m\u001b[0mengine\u001b[0m\u001b[1;33m]\u001b[0m\u001b[1;33m(\u001b[0m\u001b[0mself\u001b[0m\u001b[1;33m.\u001b[0m\u001b[0mf\u001b[0m\u001b[1;33m,\u001b[0m \u001b[1;33m**\u001b[0m\u001b[0mself\u001b[0m\u001b[1;33m.\u001b[0m\u001b[0moptions\u001b[0m\u001b[1;33m)\u001b[0m  \u001b[1;31m# type: ignore[call-arg]\u001b[0m\u001b[1;33m\u001b[0m\u001b[1;33m\u001b[0m\u001b[0m\n\u001b[0m\u001b[0;32m   1051\u001b[0m \u001b[1;33m\u001b[0m\u001b[0m\n\u001b[0;32m   1052\u001b[0m     \u001b[1;32mdef\u001b[0m \u001b[0m_failover_to_python\u001b[0m\u001b[1;33m(\u001b[0m\u001b[0mself\u001b[0m\u001b[1;33m)\u001b[0m\u001b[1;33m:\u001b[0m\u001b[1;33m\u001b[0m\u001b[1;33m\u001b[0m\u001b[0m\n",
      "\u001b[1;32mD:\\anaconda\\lib\\site-packages\\pandas\\io\\parsers.py\u001b[0m in \u001b[0;36m__init__\u001b[1;34m(self, src, **kwds)\u001b[0m\n\u001b[0;32m   1865\u001b[0m \u001b[1;33m\u001b[0m\u001b[0m\n\u001b[0;32m   1866\u001b[0m         \u001b[1;31m# open handles\u001b[0m\u001b[1;33m\u001b[0m\u001b[1;33m\u001b[0m\u001b[1;33m\u001b[0m\u001b[0m\n\u001b[1;32m-> 1867\u001b[1;33m         \u001b[0mself\u001b[0m\u001b[1;33m.\u001b[0m\u001b[0m_open_handles\u001b[0m\u001b[1;33m(\u001b[0m\u001b[0msrc\u001b[0m\u001b[1;33m,\u001b[0m \u001b[0mkwds\u001b[0m\u001b[1;33m)\u001b[0m\u001b[1;33m\u001b[0m\u001b[1;33m\u001b[0m\u001b[0m\n\u001b[0m\u001b[0;32m   1868\u001b[0m         \u001b[1;32massert\u001b[0m \u001b[0mself\u001b[0m\u001b[1;33m.\u001b[0m\u001b[0mhandles\u001b[0m \u001b[1;32mis\u001b[0m \u001b[1;32mnot\u001b[0m \u001b[1;32mNone\u001b[0m\u001b[1;33m\u001b[0m\u001b[1;33m\u001b[0m\u001b[0m\n\u001b[0;32m   1869\u001b[0m         \u001b[1;32mfor\u001b[0m \u001b[0mkey\u001b[0m \u001b[1;32min\u001b[0m \u001b[1;33m(\u001b[0m\u001b[1;34m\"storage_options\"\u001b[0m\u001b[1;33m,\u001b[0m \u001b[1;34m\"encoding\"\u001b[0m\u001b[1;33m,\u001b[0m \u001b[1;34m\"memory_map\"\u001b[0m\u001b[1;33m,\u001b[0m \u001b[1;34m\"compression\"\u001b[0m\u001b[1;33m)\u001b[0m\u001b[1;33m:\u001b[0m\u001b[1;33m\u001b[0m\u001b[1;33m\u001b[0m\u001b[0m\n",
      "\u001b[1;32mD:\\anaconda\\lib\\site-packages\\pandas\\io\\parsers.py\u001b[0m in \u001b[0;36m_open_handles\u001b[1;34m(self, src, kwds)\u001b[0m\n\u001b[0;32m   1366\u001b[0m             \u001b[0mcompression\u001b[0m\u001b[1;33m=\u001b[0m\u001b[0mkwds\u001b[0m\u001b[1;33m.\u001b[0m\u001b[0mget\u001b[0m\u001b[1;33m(\u001b[0m\u001b[1;34m\"compression\"\u001b[0m\u001b[1;33m,\u001b[0m \u001b[1;32mNone\u001b[0m\u001b[1;33m)\u001b[0m\u001b[1;33m,\u001b[0m\u001b[1;33m\u001b[0m\u001b[1;33m\u001b[0m\u001b[0m\n\u001b[0;32m   1367\u001b[0m             \u001b[0mmemory_map\u001b[0m\u001b[1;33m=\u001b[0m\u001b[0mkwds\u001b[0m\u001b[1;33m.\u001b[0m\u001b[0mget\u001b[0m\u001b[1;33m(\u001b[0m\u001b[1;34m\"memory_map\"\u001b[0m\u001b[1;33m,\u001b[0m \u001b[1;32mFalse\u001b[0m\u001b[1;33m)\u001b[0m\u001b[1;33m,\u001b[0m\u001b[1;33m\u001b[0m\u001b[1;33m\u001b[0m\u001b[0m\n\u001b[1;32m-> 1368\u001b[1;33m             \u001b[0mstorage_options\u001b[0m\u001b[1;33m=\u001b[0m\u001b[0mkwds\u001b[0m\u001b[1;33m.\u001b[0m\u001b[0mget\u001b[0m\u001b[1;33m(\u001b[0m\u001b[1;34m\"storage_options\"\u001b[0m\u001b[1;33m,\u001b[0m \u001b[1;32mNone\u001b[0m\u001b[1;33m)\u001b[0m\u001b[1;33m,\u001b[0m\u001b[1;33m\u001b[0m\u001b[1;33m\u001b[0m\u001b[0m\n\u001b[0m\u001b[0;32m   1369\u001b[0m         )\n\u001b[0;32m   1370\u001b[0m \u001b[1;33m\u001b[0m\u001b[0m\n",
      "\u001b[1;32mD:\\anaconda\\lib\\site-packages\\pandas\\io\\common.py\u001b[0m in \u001b[0;36mget_handle\u001b[1;34m(path_or_buf, mode, encoding, compression, memory_map, is_text, errors, storage_options)\u001b[0m\n\u001b[0;32m    645\u001b[0m                 \u001b[0mencoding\u001b[0m\u001b[1;33m=\u001b[0m\u001b[0mioargs\u001b[0m\u001b[1;33m.\u001b[0m\u001b[0mencoding\u001b[0m\u001b[1;33m,\u001b[0m\u001b[1;33m\u001b[0m\u001b[1;33m\u001b[0m\u001b[0m\n\u001b[0;32m    646\u001b[0m                 \u001b[0merrors\u001b[0m\u001b[1;33m=\u001b[0m\u001b[0merrors\u001b[0m\u001b[1;33m,\u001b[0m\u001b[1;33m\u001b[0m\u001b[1;33m\u001b[0m\u001b[0m\n\u001b[1;32m--> 647\u001b[1;33m                 \u001b[0mnewline\u001b[0m\u001b[1;33m=\u001b[0m\u001b[1;34m\"\"\u001b[0m\u001b[1;33m,\u001b[0m\u001b[1;33m\u001b[0m\u001b[1;33m\u001b[0m\u001b[0m\n\u001b[0m\u001b[0;32m    648\u001b[0m             )\n\u001b[0;32m    649\u001b[0m         \u001b[1;32melse\u001b[0m\u001b[1;33m:\u001b[0m\u001b[1;33m\u001b[0m\u001b[1;33m\u001b[0m\u001b[0m\n",
      "\u001b[1;31mFileNotFoundError\u001b[0m: [Errno 2] No such file or directory: 'C:/Users/Marze/OneDrive/Dokumenty/Jarek/Modele/Dane pierwotne/Dane_do_uczenia_N.csv'"
     ]
    }
   ],
   "source": [
    "train_df=pd.read_csv(\"C:/Users/Marze/OneDrive/Dokumenty/Jarek/Modele/Dane pierwotne/Dane_do_uczenia_N.csv\", encoding=\"utf-8\")\n",
    "del train_df['Unnamed: 0']"
   ]
  },
  {
   "cell_type": "code",
   "execution_count": null,
   "metadata": {},
   "outputs": [],
   "source": [
    "train_df"
   ]
  },
  {
   "cell_type": "code",
   "execution_count": null,
   "metadata": {},
   "outputs": [],
   "source": [
    "train_df=train_df.loc[(train_df['scale']!='NX')]"
   ]
  },
  {
   "cell_type": "code",
   "execution_count": null,
   "metadata": {},
   "outputs": [],
   "source": [
    "train_df"
   ]
  },
  {
   "cell_type": "code",
   "execution_count": null,
   "metadata": {},
   "outputs": [],
   "source": [
    "train_df['scale'].value_counts()"
   ]
  },
  {
   "cell_type": "code",
   "execution_count": 3,
   "metadata": {},
   "outputs": [
    {
     "ename": "NameError",
     "evalue": "name 'train_df' is not defined",
     "output_type": "error",
     "traceback": [
      "\u001b[1;31m---------------------------------------------------------------------------\u001b[0m",
      "\u001b[1;31mNameError\u001b[0m                                 Traceback (most recent call last)",
      "\u001b[1;32m<ipython-input-3-cb9b6c53ddc5>\u001b[0m in \u001b[0;36m<module>\u001b[1;34m\u001b[0m\n\u001b[1;32m----> 1\u001b[1;33m \u001b[0my\u001b[0m\u001b[1;33m=\u001b[0m\u001b[0mtrain_df\u001b[0m\u001b[1;33m[\u001b[0m\u001b[1;34m'scale'\u001b[0m\u001b[1;33m]\u001b[0m\u001b[1;33m\u001b[0m\u001b[1;33m\u001b[0m\u001b[0m\n\u001b[0m\u001b[0;32m      2\u001b[0m \u001b[1;32mdel\u001b[0m \u001b[0mtrain_df\u001b[0m\u001b[1;33m[\u001b[0m\u001b[1;34m'scale'\u001b[0m\u001b[1;33m]\u001b[0m\u001b[1;33m\u001b[0m\u001b[1;33m\u001b[0m\u001b[0m\n",
      "\u001b[1;31mNameError\u001b[0m: name 'train_df' is not defined"
     ]
    }
   ],
   "source": [
    "y=train_df['scale']\n",
    "del train_df['scale']"
   ]
  },
  {
   "cell_type": "code",
   "execution_count": 8,
   "metadata": {},
   "outputs": [
    {
     "data": {
      "text/html": [
       "<div>\n",
       "<style scoped>\n",
       "    .dataframe tbody tr th:only-of-type {\n",
       "        vertical-align: middle;\n",
       "    }\n",
       "\n",
       "    .dataframe tbody tr th {\n",
       "        vertical-align: top;\n",
       "    }\n",
       "\n",
       "    .dataframe thead th {\n",
       "        text-align: right;\n",
       "    }\n",
       "</style>\n",
       "<table border=\"1\" class=\"dataframe\">\n",
       "  <thead>\n",
       "    <tr style=\"text-align: right;\">\n",
       "      <th></th>\n",
       "      <th>ENSG00000143512.11</th>\n",
       "      <th>ENSG00000130433.6</th>\n",
       "      <th>ENSG00000088726.14</th>\n",
       "      <th>ENSG00000149948.12</th>\n",
       "      <th>ENSG00000147689.15</th>\n",
       "      <th>ENSG00000181143.14</th>\n",
       "      <th>ENSG00000105278.9</th>\n",
       "      <th>ENSG00000086506.2</th>\n",
       "      <th>ENSG00000124102.4</th>\n",
       "      <th>ENSG00000175793.11</th>\n",
       "      <th>...</th>\n",
       "      <th>ENSG00000203837.4</th>\n",
       "      <th>ENSG00000222024.2</th>\n",
       "      <th>ENSG00000255043.1</th>\n",
       "      <th>ENSG00000229418.2</th>\n",
       "      <th>ENSG00000249518.1</th>\n",
       "      <th>ENSG00000279301.1</th>\n",
       "      <th>ENSG00000251276.1</th>\n",
       "      <th>ENSG00000217236.1</th>\n",
       "      <th>ENSG00000046774.9</th>\n",
       "      <th>ENSG00000260958.2</th>\n",
       "    </tr>\n",
       "  </thead>\n",
       "  <tbody>\n",
       "    <tr>\n",
       "      <th>0</th>\n",
       "      <td>13.858287</td>\n",
       "      <td>0.000000</td>\n",
       "      <td>1.154857</td>\n",
       "      <td>24.252002</td>\n",
       "      <td>4.619429</td>\n",
       "      <td>4105.517523</td>\n",
       "      <td>0.000000</td>\n",
       "      <td>0.000000</td>\n",
       "      <td>10.393715</td>\n",
       "      <td>120.105154</td>\n",
       "      <td>...</td>\n",
       "      <td>0.000000</td>\n",
       "      <td>38.110289</td>\n",
       "      <td>13.858287</td>\n",
       "      <td>0.000000</td>\n",
       "      <td>32.336003</td>\n",
       "      <td>0.000000</td>\n",
       "      <td>3.464572</td>\n",
       "      <td>0.000000</td>\n",
       "      <td>0.000000</td>\n",
       "      <td>0.0</td>\n",
       "    </tr>\n",
       "    <tr>\n",
       "      <th>1</th>\n",
       "      <td>1.070588</td>\n",
       "      <td>0.000000</td>\n",
       "      <td>2.141177</td>\n",
       "      <td>1.070588</td>\n",
       "      <td>1.070588</td>\n",
       "      <td>28.905887</td>\n",
       "      <td>0.000000</td>\n",
       "      <td>0.000000</td>\n",
       "      <td>4.282354</td>\n",
       "      <td>44.964713</td>\n",
       "      <td>...</td>\n",
       "      <td>0.000000</td>\n",
       "      <td>0.000000</td>\n",
       "      <td>0.000000</td>\n",
       "      <td>0.000000</td>\n",
       "      <td>0.000000</td>\n",
       "      <td>1.070588</td>\n",
       "      <td>2.141177</td>\n",
       "      <td>0.000000</td>\n",
       "      <td>0.000000</td>\n",
       "      <td>0.0</td>\n",
       "    </tr>\n",
       "    <tr>\n",
       "      <th>2</th>\n",
       "      <td>2.947029</td>\n",
       "      <td>17.682172</td>\n",
       "      <td>3.683786</td>\n",
       "      <td>13.998386</td>\n",
       "      <td>2.210272</td>\n",
       "      <td>42.731916</td>\n",
       "      <td>319.015856</td>\n",
       "      <td>1.473514</td>\n",
       "      <td>13.261629</td>\n",
       "      <td>375.009401</td>\n",
       "      <td>...</td>\n",
       "      <td>0.000000</td>\n",
       "      <td>0.000000</td>\n",
       "      <td>0.000000</td>\n",
       "      <td>0.000000</td>\n",
       "      <td>8.841086</td>\n",
       "      <td>0.000000</td>\n",
       "      <td>0.000000</td>\n",
       "      <td>0.736757</td>\n",
       "      <td>0.000000</td>\n",
       "      <td>0.0</td>\n",
       "    </tr>\n",
       "    <tr>\n",
       "      <th>3</th>\n",
       "      <td>0.510553</td>\n",
       "      <td>4.594978</td>\n",
       "      <td>1.531659</td>\n",
       "      <td>14.806042</td>\n",
       "      <td>2.042213</td>\n",
       "      <td>0.510553</td>\n",
       "      <td>10.211063</td>\n",
       "      <td>1.021106</td>\n",
       "      <td>12.763829</td>\n",
       "      <td>320.627385</td>\n",
       "      <td>...</td>\n",
       "      <td>1.021106</td>\n",
       "      <td>0.000000</td>\n",
       "      <td>1.021106</td>\n",
       "      <td>0.510553</td>\n",
       "      <td>0.000000</td>\n",
       "      <td>0.000000</td>\n",
       "      <td>0.000000</td>\n",
       "      <td>0.000000</td>\n",
       "      <td>0.000000</td>\n",
       "      <td>0.0</td>\n",
       "    </tr>\n",
       "    <tr>\n",
       "      <th>4</th>\n",
       "      <td>2.145565</td>\n",
       "      <td>2.860754</td>\n",
       "      <td>15.734146</td>\n",
       "      <td>207.404649</td>\n",
       "      <td>0.715188</td>\n",
       "      <td>69.373279</td>\n",
       "      <td>1.430377</td>\n",
       "      <td>1.430377</td>\n",
       "      <td>745.941546</td>\n",
       "      <td>949.770253</td>\n",
       "      <td>...</td>\n",
       "      <td>0.000000</td>\n",
       "      <td>0.000000</td>\n",
       "      <td>0.000000</td>\n",
       "      <td>0.000000</td>\n",
       "      <td>0.715188</td>\n",
       "      <td>0.000000</td>\n",
       "      <td>0.715188</td>\n",
       "      <td>0.000000</td>\n",
       "      <td>0.715188</td>\n",
       "      <td>0.0</td>\n",
       "    </tr>\n",
       "    <tr>\n",
       "      <th>...</th>\n",
       "      <td>...</td>\n",
       "      <td>...</td>\n",
       "      <td>...</td>\n",
       "      <td>...</td>\n",
       "      <td>...</td>\n",
       "      <td>...</td>\n",
       "      <td>...</td>\n",
       "      <td>...</td>\n",
       "      <td>...</td>\n",
       "      <td>...</td>\n",
       "      <td>...</td>\n",
       "      <td>...</td>\n",
       "      <td>...</td>\n",
       "      <td>...</td>\n",
       "      <td>...</td>\n",
       "      <td>...</td>\n",
       "      <td>...</td>\n",
       "      <td>...</td>\n",
       "      <td>...</td>\n",
       "      <td>...</td>\n",
       "      <td>...</td>\n",
       "    </tr>\n",
       "    <tr>\n",
       "      <th>406</th>\n",
       "      <td>34.548309</td>\n",
       "      <td>0.822579</td>\n",
       "      <td>18.096733</td>\n",
       "      <td>547.837468</td>\n",
       "      <td>9.870945</td>\n",
       "      <td>2.467736</td>\n",
       "      <td>805.304626</td>\n",
       "      <td>314.225094</td>\n",
       "      <td>536.321365</td>\n",
       "      <td>37832.865830</td>\n",
       "      <td>...</td>\n",
       "      <td>0.822579</td>\n",
       "      <td>0.000000</td>\n",
       "      <td>0.000000</td>\n",
       "      <td>0.000000</td>\n",
       "      <td>0.000000</td>\n",
       "      <td>0.000000</td>\n",
       "      <td>0.000000</td>\n",
       "      <td>1.645158</td>\n",
       "      <td>0.000000</td>\n",
       "      <td>0.0</td>\n",
       "    </tr>\n",
       "    <tr>\n",
       "      <th>407</th>\n",
       "      <td>5.160331</td>\n",
       "      <td>0.000000</td>\n",
       "      <td>2.948761</td>\n",
       "      <td>56.026453</td>\n",
       "      <td>1.474380</td>\n",
       "      <td>11.057853</td>\n",
       "      <td>16.955374</td>\n",
       "      <td>2.948761</td>\n",
       "      <td>43.494220</td>\n",
       "      <td>2322.886229</td>\n",
       "      <td>...</td>\n",
       "      <td>0.737190</td>\n",
       "      <td>0.737190</td>\n",
       "      <td>0.000000</td>\n",
       "      <td>0.000000</td>\n",
       "      <td>0.000000</td>\n",
       "      <td>0.000000</td>\n",
       "      <td>0.000000</td>\n",
       "      <td>0.000000</td>\n",
       "      <td>0.000000</td>\n",
       "      <td>0.0</td>\n",
       "    </tr>\n",
       "    <tr>\n",
       "      <th>408</th>\n",
       "      <td>0.000000</td>\n",
       "      <td>0.000000</td>\n",
       "      <td>2.985051</td>\n",
       "      <td>7.960137</td>\n",
       "      <td>0.995017</td>\n",
       "      <td>3.980069</td>\n",
       "      <td>1.990034</td>\n",
       "      <td>0.995017</td>\n",
       "      <td>0.000000</td>\n",
       "      <td>35.820617</td>\n",
       "      <td>...</td>\n",
       "      <td>6.965120</td>\n",
       "      <td>0.000000</td>\n",
       "      <td>0.000000</td>\n",
       "      <td>49.750857</td>\n",
       "      <td>0.000000</td>\n",
       "      <td>0.000000</td>\n",
       "      <td>0.000000</td>\n",
       "      <td>0.995017</td>\n",
       "      <td>0.000000</td>\n",
       "      <td>0.0</td>\n",
       "    </tr>\n",
       "    <tr>\n",
       "      <th>409</th>\n",
       "      <td>13.307318</td>\n",
       "      <td>5.322927</td>\n",
       "      <td>29.276099</td>\n",
       "      <td>1189.674187</td>\n",
       "      <td>6.653659</td>\n",
       "      <td>0.000000</td>\n",
       "      <td>3.992195</td>\n",
       "      <td>0.000000</td>\n",
       "      <td>444.464405</td>\n",
       "      <td>9578.607153</td>\n",
       "      <td>...</td>\n",
       "      <td>0.000000</td>\n",
       "      <td>1.330732</td>\n",
       "      <td>0.000000</td>\n",
       "      <td>0.000000</td>\n",
       "      <td>0.000000</td>\n",
       "      <td>0.000000</td>\n",
       "      <td>0.000000</td>\n",
       "      <td>0.000000</td>\n",
       "      <td>0.000000</td>\n",
       "      <td>0.0</td>\n",
       "    </tr>\n",
       "    <tr>\n",
       "      <th>410</th>\n",
       "      <td>438.050323</td>\n",
       "      <td>0.000000</td>\n",
       "      <td>261.270371</td>\n",
       "      <td>838.404922</td>\n",
       "      <td>231.373761</td>\n",
       "      <td>25.997052</td>\n",
       "      <td>0.000000</td>\n",
       "      <td>2.599705</td>\n",
       "      <td>50.694251</td>\n",
       "      <td>6160.001431</td>\n",
       "      <td>...</td>\n",
       "      <td>0.000000</td>\n",
       "      <td>0.000000</td>\n",
       "      <td>0.000000</td>\n",
       "      <td>0.000000</td>\n",
       "      <td>0.000000</td>\n",
       "      <td>0.000000</td>\n",
       "      <td>0.000000</td>\n",
       "      <td>3.899558</td>\n",
       "      <td>0.000000</td>\n",
       "      <td>0.0</td>\n",
       "    </tr>\n",
       "  </tbody>\n",
       "</table>\n",
       "<p>411 rows × 114 columns</p>\n",
       "</div>"
      ],
      "text/plain": [
       "     ENSG00000143512.11  ENSG00000130433.6  ENSG00000088726.14  \\\n",
       "0             13.858287           0.000000            1.154857   \n",
       "1              1.070588           0.000000            2.141177   \n",
       "2              2.947029          17.682172            3.683786   \n",
       "3              0.510553           4.594978            1.531659   \n",
       "4              2.145565           2.860754           15.734146   \n",
       "..                  ...                ...                 ...   \n",
       "406           34.548309           0.822579           18.096733   \n",
       "407            5.160331           0.000000            2.948761   \n",
       "408            0.000000           0.000000            2.985051   \n",
       "409           13.307318           5.322927           29.276099   \n",
       "410          438.050323           0.000000          261.270371   \n",
       "\n",
       "     ENSG00000149948.12  ENSG00000147689.15  ENSG00000181143.14  \\\n",
       "0             24.252002            4.619429         4105.517523   \n",
       "1              1.070588            1.070588           28.905887   \n",
       "2             13.998386            2.210272           42.731916   \n",
       "3             14.806042            2.042213            0.510553   \n",
       "4            207.404649            0.715188           69.373279   \n",
       "..                  ...                 ...                 ...   \n",
       "406          547.837468            9.870945            2.467736   \n",
       "407           56.026453            1.474380           11.057853   \n",
       "408            7.960137            0.995017            3.980069   \n",
       "409         1189.674187            6.653659            0.000000   \n",
       "410          838.404922          231.373761           25.997052   \n",
       "\n",
       "     ENSG00000105278.9  ENSG00000086506.2  ENSG00000124102.4  \\\n",
       "0             0.000000           0.000000          10.393715   \n",
       "1             0.000000           0.000000           4.282354   \n",
       "2           319.015856           1.473514          13.261629   \n",
       "3            10.211063           1.021106          12.763829   \n",
       "4             1.430377           1.430377         745.941546   \n",
       "..                 ...                ...                ...   \n",
       "406         805.304626         314.225094         536.321365   \n",
       "407          16.955374           2.948761          43.494220   \n",
       "408           1.990034           0.995017           0.000000   \n",
       "409           3.992195           0.000000         444.464405   \n",
       "410           0.000000           2.599705          50.694251   \n",
       "\n",
       "     ENSG00000175793.11  ...  ENSG00000203837.4  ENSG00000222024.2  \\\n",
       "0            120.105154  ...           0.000000          38.110289   \n",
       "1             44.964713  ...           0.000000           0.000000   \n",
       "2            375.009401  ...           0.000000           0.000000   \n",
       "3            320.627385  ...           1.021106           0.000000   \n",
       "4            949.770253  ...           0.000000           0.000000   \n",
       "..                  ...  ...                ...                ...   \n",
       "406        37832.865830  ...           0.822579           0.000000   \n",
       "407         2322.886229  ...           0.737190           0.737190   \n",
       "408           35.820617  ...           6.965120           0.000000   \n",
       "409         9578.607153  ...           0.000000           1.330732   \n",
       "410         6160.001431  ...           0.000000           0.000000   \n",
       "\n",
       "     ENSG00000255043.1  ENSG00000229418.2  ENSG00000249518.1  \\\n",
       "0            13.858287           0.000000          32.336003   \n",
       "1             0.000000           0.000000           0.000000   \n",
       "2             0.000000           0.000000           8.841086   \n",
       "3             1.021106           0.510553           0.000000   \n",
       "4             0.000000           0.000000           0.715188   \n",
       "..                 ...                ...                ...   \n",
       "406           0.000000           0.000000           0.000000   \n",
       "407           0.000000           0.000000           0.000000   \n",
       "408           0.000000          49.750857           0.000000   \n",
       "409           0.000000           0.000000           0.000000   \n",
       "410           0.000000           0.000000           0.000000   \n",
       "\n",
       "     ENSG00000279301.1  ENSG00000251276.1  ENSG00000217236.1  \\\n",
       "0             0.000000           3.464572           0.000000   \n",
       "1             1.070588           2.141177           0.000000   \n",
       "2             0.000000           0.000000           0.736757   \n",
       "3             0.000000           0.000000           0.000000   \n",
       "4             0.000000           0.715188           0.000000   \n",
       "..                 ...                ...                ...   \n",
       "406           0.000000           0.000000           1.645158   \n",
       "407           0.000000           0.000000           0.000000   \n",
       "408           0.000000           0.000000           0.995017   \n",
       "409           0.000000           0.000000           0.000000   \n",
       "410           0.000000           0.000000           3.899558   \n",
       "\n",
       "     ENSG00000046774.9  ENSG00000260958.2  \n",
       "0             0.000000                0.0  \n",
       "1             0.000000                0.0  \n",
       "2             0.000000                0.0  \n",
       "3             0.000000                0.0  \n",
       "4             0.715188                0.0  \n",
       "..                 ...                ...  \n",
       "406           0.000000                0.0  \n",
       "407           0.000000                0.0  \n",
       "408           0.000000                0.0  \n",
       "409           0.000000                0.0  \n",
       "410           0.000000                0.0  \n",
       "\n",
       "[411 rows x 114 columns]"
      ]
     },
     "execution_count": 8,
     "metadata": {},
     "output_type": "execute_result"
    }
   ],
   "source": [
    "train_df"
   ]
  },
  {
   "cell_type": "code",
   "execution_count": 9,
   "metadata": {},
   "outputs": [],
   "source": [
    "ftwo_scorer = make_scorer(fbeta_score, beta=1,labels=['N0','N1'],pos_label='N1',greater_is_better=True)"
   ]
  },
  {
   "cell_type": "code",
   "execution_count": 10,
   "metadata": {},
   "outputs": [],
   "source": [
    "zestaw_caly = np.array(train_df)\n",
    "caly_label = np.array(y)"
   ]
  },
  {
   "cell_type": "markdown",
   "metadata": {},
   "source": [
    "## 7.2 Losowe lasy drzew decyzyjnych"
   ]
  },
  {
   "cell_type": "markdown",
   "metadata": {},
   "source": [
    "## 7.3 Hiperparametry Wszystkie"
   ]
  },
  {
   "cell_type": "markdown",
   "metadata": {},
   "source": [
    "### 7.3.1 Hiperparametry Wszystkie part1"
   ]
  },
  {
   "cell_type": "code",
   "execution_count": 14,
   "metadata": {},
   "outputs": [],
   "source": [
    "param_grid = {\n",
    "    'criterion':['gini', 'entropy'], #\n",
    "#    'min_samples_split':range(2,15,5), #\n",
    "#    'min_samples_leaf': range(1,15,5),  #   \n",
    "    'max_leaf_nodes':range(2,15,5),  #\n",
    "    'min_impurity_decrease':[0,0.1], #\n",
    " #   'max_depth':list(range(2, 15,5)), #\n",
    "    'min_weight_fraction_leaf':[0,0.1,0.2],\n",
    "    'max_features':['auto','sqrt','log2'],\n",
    "    'n_estimators':[100,500] #\n",
    "}"
   ]
  },
  {
   "cell_type": "code",
   "execution_count": 17,
   "metadata": {},
   "outputs": [
    {
     "name": "stdout",
     "output_type": "stream",
     "text": [
      "Fitting 5 folds for each of 216 candidates, totalling 1080 fits\n"
     ]
    },
    {
     "data": {
      "text/plain": [
       "GridSearchCV(cv=5, estimator=RandomForestClassifier(random_state=42), n_jobs=1,\n",
       "             param_grid={'criterion': ['gini', 'entropy'],\n",
       "                         'max_features': ['auto', 'sqrt', 'log2'],\n",
       "                         'max_leaf_nodes': range(2, 15, 5),\n",
       "                         'min_impurity_decrease': [0, 0.1],\n",
       "                         'min_weight_fraction_leaf': [0, 0.1, 0.2],\n",
       "                         'n_estimators': [100, 500]},\n",
       "             scoring=make_scorer(fbeta_score, beta=1, labels=['N0', 'N1'], pos_label=N1),\n",
       "             verbose=1)"
      ]
     },
     "execution_count": 17,
     "metadata": {},
     "output_type": "execute_result"
    }
   ],
   "source": [
    "rf_2 = RandomForestClassifier(random_state=42)\n",
    "grid_search_2 = GridSearchCV(estimator = rf_2, param_grid = param_grid, \n",
    "                          cv = 5, n_jobs = 1, verbose = 1,scoring=ftwo_scorer)\n",
    "grid_search_2.fit(zestaw_caly, np.ravel(caly_label))"
   ]
  },
  {
   "cell_type": "code",
   "execution_count": 18,
   "metadata": {},
   "outputs": [
    {
     "data": {
      "text/plain": [
       "RandomForestClassifier(max_leaf_nodes=12, min_impurity_decrease=0,\n",
       "                       min_weight_fraction_leaf=0, n_estimators=500,\n",
       "                       random_state=42)"
      ]
     },
     "execution_count": 18,
     "metadata": {},
     "output_type": "execute_result"
    }
   ],
   "source": [
    "grid_search_2.best_estimator_"
   ]
  },
  {
   "cell_type": "code",
   "execution_count": 19,
   "metadata": {},
   "outputs": [
    {
     "data": {
      "text/plain": [
       "0.4341391941391941"
      ]
     },
     "execution_count": 19,
     "metadata": {},
     "output_type": "execute_result"
    }
   ],
   "source": [
    "grid_search_2.best_score_"
   ]
  },
  {
   "cell_type": "code",
   "execution_count": 20,
   "metadata": {},
   "outputs": [
    {
     "data": {
      "text/plain": [
       "{'criterion': 'gini',\n",
       " 'max_features': 'auto',\n",
       " 'max_leaf_nodes': 12,\n",
       " 'min_impurity_decrease': 0,\n",
       " 'min_weight_fraction_leaf': 0,\n",
       " 'n_estimators': 500}"
      ]
     },
     "execution_count": 20,
     "metadata": {},
     "output_type": "execute_result"
    }
   ],
   "source": [
    "grid_search_2.best_params_"
   ]
  },
  {
   "cell_type": "code",
   "execution_count": 20,
   "metadata": {},
   "outputs": [
    {
     "data": {
      "text/plain": [
       "RandomForestClassifier(max_leaf_nodes=12, min_impurity_decrease=0,\n",
       "                       min_weight_fraction_leaf=0, n_estimators=500,\n",
       "                       random_state=42)"
      ]
     },
     "execution_count": 20,
     "metadata": {},
     "output_type": "execute_result"
    }
   ],
   "source": [
    "grid_search_2.best_estimator_"
   ]
  },
  {
   "cell_type": "markdown",
   "metadata": {},
   "source": [
    "### 7.3.2 Hiperparametry Wszystkie part2"
   ]
  },
  {
   "cell_type": "code",
   "execution_count": 23,
   "metadata": {},
   "outputs": [],
   "source": [
    "param_grid = {\n",
    "    'criterion':['gini'], #\n",
    "    'min_samples_split':range(2,15,3), #\n",
    "    'min_samples_leaf': range(1,15,3),  #   \n",
    "    'max_leaf_nodes':range(12,52,10),  #\n",
    "    'min_impurity_decrease':[0], #\n",
    "    'max_depth':list(range(2, 10,1)), \n",
    "    'min_weight_fraction_leaf':[0],#\n",
    "    'max_features':['auto'],#\n",
    "    'n_estimators':[500] #\n",
    "}"
   ]
  },
  {
   "cell_type": "code",
   "execution_count": 24,
   "metadata": {
    "scrolled": true
   },
   "outputs": [
    {
     "name": "stdout",
     "output_type": "stream",
     "text": [
      "Fitting 5 folds for each of 800 candidates, totalling 4000 fits\n"
     ]
    },
    {
     "data": {
      "text/plain": [
       "GridSearchCV(cv=5, estimator=RandomForestClassifier(random_state=42), n_jobs=1,\n",
       "             param_grid={'criterion': ['gini'],\n",
       "                         'max_depth': [2, 3, 4, 5, 6, 7, 8, 9],\n",
       "                         'max_features': ['auto'],\n",
       "                         'max_leaf_nodes': range(12, 52, 10),\n",
       "                         'min_impurity_decrease': [0],\n",
       "                         'min_samples_leaf': range(1, 15, 3),\n",
       "                         'min_samples_split': range(2, 15, 3),\n",
       "                         'min_weight_fraction_leaf': [0],\n",
       "                         'n_estimators': [500]},\n",
       "             scoring=make_scorer(fbeta_score, beta=1, labels=['N0', 'N1'], pos_label=N1),\n",
       "             verbose=1)"
      ]
     },
     "execution_count": 24,
     "metadata": {},
     "output_type": "execute_result"
    }
   ],
   "source": [
    "rf_2 = RandomForestClassifier(random_state=42)\n",
    "grid_search_2 = GridSearchCV(estimator = rf_2, param_grid = param_grid, \n",
    "                          cv = 5, n_jobs = 1,verbose = 1,scoring=ftwo_scorer)\n",
    "grid_search_2.fit(zestaw_caly, np.ravel(caly_label))"
   ]
  },
  {
   "cell_type": "code",
   "execution_count": 28,
   "metadata": {},
   "outputs": [
    {
     "data": {
      "text/plain": [
       "RandomForestClassifier(max_depth=5, max_leaf_nodes=12, min_impurity_decrease=0,\n",
       "                       min_samples_split=11, min_weight_fraction_leaf=0,\n",
       "                       n_estimators=500, random_state=42)"
      ]
     },
     "execution_count": 28,
     "metadata": {},
     "output_type": "execute_result"
    }
   ],
   "source": [
    "grid_search_2.best_estimator_"
   ]
  },
  {
   "cell_type": "code",
   "execution_count": 29,
   "metadata": {},
   "outputs": [
    {
     "data": {
      "text/plain": [
       "0.4341391941391941"
      ]
     },
     "execution_count": 29,
     "metadata": {},
     "output_type": "execute_result"
    }
   ],
   "source": [
    "grid_search_2.best_score_"
   ]
  },
  {
   "cell_type": "code",
   "execution_count": 30,
   "metadata": {},
   "outputs": [
    {
     "data": {
      "text/plain": [
       "{'criterion': 'gini',\n",
       " 'max_depth': 5,\n",
       " 'max_features': 'auto',\n",
       " 'max_leaf_nodes': 12,\n",
       " 'min_impurity_decrease': 0,\n",
       " 'min_samples_leaf': 1,\n",
       " 'min_samples_split': 11,\n",
       " 'min_weight_fraction_leaf': 0,\n",
       " 'n_estimators': 500}"
      ]
     },
     "execution_count": 30,
     "metadata": {},
     "output_type": "execute_result"
    }
   ],
   "source": [
    "grid_search_2.best_params_"
   ]
  },
  {
   "cell_type": "code",
   "execution_count": 11,
   "metadata": {},
   "outputs": [],
   "source": [
    "param_grid = {\n",
    "    'criterion':['gini'], #\n",
    "    'min_samples_split':range(8,15,1), #\n",
    "    'min_samples_leaf': range(1,4,1),  #   \n",
    "    'max_leaf_nodes':range(7,17,1),  #\n",
    "    'min_impurity_decrease':[0], #\n",
    "    'max_depth':list(range(2, 10,1)), \n",
    "    'min_weight_fraction_leaf':[0],#\n",
    "    'max_features':['auto'],#\n",
    "    'n_estimators':[500] #\n",
    "}"
   ]
  },
  {
   "cell_type": "code",
   "execution_count": 12,
   "metadata": {},
   "outputs": [
    {
     "name": "stdout",
     "output_type": "stream",
     "text": [
      "Fitting 5 folds for each of 1680 candidates, totalling 8400 fits\n"
     ]
    },
    {
     "data": {
      "text/plain": [
       "GridSearchCV(cv=5, estimator=RandomForestClassifier(random_state=42), n_jobs=1,\n",
       "             param_grid={'criterion': ['gini'],\n",
       "                         'max_depth': [2, 3, 4, 5, 6, 7, 8, 9],\n",
       "                         'max_features': ['auto'],\n",
       "                         'max_leaf_nodes': range(7, 17),\n",
       "                         'min_impurity_decrease': [0],\n",
       "                         'min_samples_leaf': range(1, 4),\n",
       "                         'min_samples_split': range(8, 15),\n",
       "                         'min_weight_fraction_leaf': [0],\n",
       "                         'n_estimators': [500]},\n",
       "             scoring=make_scorer(fbeta_score, beta=1, labels=['N0', 'N1'], pos_label=N1),\n",
       "             verbose=1)"
      ]
     },
     "execution_count": 12,
     "metadata": {},
     "output_type": "execute_result"
    }
   ],
   "source": [
    "rf_2 = RandomForestClassifier(random_state=42)\n",
    "grid_search_2 = GridSearchCV(estimator = rf_2, param_grid = param_grid, \n",
    "                          cv = 5, n_jobs = 1,verbose = 1,scoring=ftwo_scorer)\n",
    "grid_search_2.fit(zestaw_caly, np.ravel(caly_label))"
   ]
  },
  {
   "cell_type": "code",
   "execution_count": 13,
   "metadata": {},
   "outputs": [
    {
     "data": {
      "text/plain": [
       "RandomForestClassifier(max_depth=5, max_leaf_nodes=8, min_impurity_decrease=0,\n",
       "                       min_samples_split=13, min_weight_fraction_leaf=0,\n",
       "                       n_estimators=500, random_state=42)"
      ]
     },
     "execution_count": 13,
     "metadata": {},
     "output_type": "execute_result"
    }
   ],
   "source": [
    "grid_search_2.best_estimator_"
   ]
  },
  {
   "cell_type": "code",
   "execution_count": 14,
   "metadata": {},
   "outputs": [
    {
     "data": {
      "text/plain": [
       "0.4341391941391941"
      ]
     },
     "execution_count": 14,
     "metadata": {},
     "output_type": "execute_result"
    }
   ],
   "source": [
    "grid_search_2.best_score_"
   ]
  },
  {
   "cell_type": "code",
   "execution_count": 15,
   "metadata": {},
   "outputs": [
    {
     "data": {
      "text/plain": [
       "{'criterion': 'gini',\n",
       " 'max_depth': 5,\n",
       " 'max_features': 'auto',\n",
       " 'max_leaf_nodes': 8,\n",
       " 'min_impurity_decrease': 0,\n",
       " 'min_samples_leaf': 1,\n",
       " 'min_samples_split': 13,\n",
       " 'min_weight_fraction_leaf': 0,\n",
       " 'n_estimators': 500}"
      ]
     },
     "execution_count": 15,
     "metadata": {},
     "output_type": "execute_result"
    }
   ],
   "source": [
    "grid_search_2.best_params_"
   ]
  },
  {
   "cell_type": "code",
   "execution_count": null,
   "metadata": {},
   "outputs": [],
   "source": []
  },
  {
   "cell_type": "code",
   "execution_count": null,
   "metadata": {},
   "outputs": [],
   "source": []
  },
  {
   "cell_type": "code",
   "execution_count": 21,
   "metadata": {},
   "outputs": [
    {
     "data": {
      "text/plain": [
       "make_scorer(fbeta_score, beta=1, labels=['N0', 'N1'], pos_label=N1)"
      ]
     },
     "execution_count": 21,
     "metadata": {},
     "output_type": "execute_result"
    }
   ],
   "source": [
    "ftwo_scorer"
   ]
  },
  {
   "cell_type": "markdown",
   "metadata": {},
   "source": [
    "## 7.4 Cross valiadacja losowych lasów drzew decyzyjnych"
   ]
  },
  {
   "cell_type": "markdown",
   "metadata": {},
   "source": [
    "### 7.4.1 Cross valiadacja losowych lasy drzew decyzyjnych Wszystkie"
   ]
  },
  {
   "cell_type": "code",
   "execution_count": 32,
   "metadata": {},
   "outputs": [],
   "source": [
    "kfold = KFold(n_splits=5, shuffle=True,random_state=True)\n",
    "dane_do_zapisu_1=pd.DataFrame()\n",
    "licznik=1\n",
    "wart_1=[]\n",
    "\n",
    "for train, test in kfold.split(zestaw_caly, caly_label):\n",
    "    RF_1 = RandomForestClassifier(max_depth=5, max_leaf_nodes=8, min_impurity_decrease=0,\n",
    "                       min_samples_split=13, min_weight_fraction_leaf=0,\n",
    "                       n_estimators=500, random_state=42,criterion='gini',max_features='auto',min_samples_leaf=1)\n",
    "    \n",
    "    RF_1.fit(zestaw_caly[train], caly_label[train])\n",
    "    predykcje=RF_1.predict(zestaw_caly[test])\n",
    "    dane_folda_1=pd.DataFrame({\"pred\": predykcje.ravel(),\n",
    "                                \"obs\": caly_label[test],\n",
    "                                \"Fold\":licznik})\n",
    "    dane_do_zapisu_1=pd.concat([dane_do_zapisu_1,dane_folda_1])\n",
    "    blad=fbeta_score(caly_label[test], predykcje, average='binary', beta=1,labels=['N0','N1'],pos_label='N1')\n",
    "    wart_1.append(blad)\n",
    "    licznik+=1\n",
    "    \n",
    "\n",
    "    "
   ]
  },
  {
   "cell_type": "code",
   "execution_count": 33,
   "metadata": {},
   "outputs": [
    {
     "data": {
      "text/plain": [
       "[0.47619047619047616, 0.18181818181818182, 0.625, 0.6, 0.16666666666666666]"
      ]
     },
     "execution_count": 33,
     "metadata": {},
     "output_type": "execute_result"
    }
   ],
   "source": [
    "wart_1"
   ]
  },
  {
   "cell_type": "code",
   "execution_count": 34,
   "metadata": {},
   "outputs": [
    {
     "data": {
      "text/plain": [
       "0.40993506493506493"
      ]
     },
     "execution_count": 34,
     "metadata": {},
     "output_type": "execute_result"
    }
   ],
   "source": [
    "sum(wart_1)/len(wart_1)"
   ]
  },
  {
   "cell_type": "markdown",
   "metadata": {},
   "source": [
    "## 7.5 Zapisuje predykcje losowych lasów drzew decyzyjnych Wszystkie"
   ]
  },
  {
   "cell_type": "code",
   "execution_count": 35,
   "metadata": {},
   "outputs": [],
   "source": [
    "dane_do_zapisu_1.to_csv('C:/Users/Marze/OneDrive/Dokumenty/Jarek/Modele/Dane pierwotne/Dane z cross-walidacji/Klasa_N_Las_drzew_decyzyjnych.csv')"
   ]
  },
  {
   "cell_type": "code",
   "execution_count": 36,
   "metadata": {},
   "outputs": [],
   "source": [
    "dane_do_zapisu_2=dane_do_zapisu_1"
   ]
  },
  {
   "cell_type": "code",
   "execution_count": 37,
   "metadata": {},
   "outputs": [],
   "source": [
    "cf_matrix = confusion_matrix(dane_do_zapisu_2['obs'], dane_do_zapisu_2['pred'])"
   ]
  },
  {
   "cell_type": "code",
   "execution_count": 38,
   "metadata": {},
   "outputs": [
    {
     "data": {
      "text/plain": [
       "array([[356,   3],\n",
       "       [ 37,  15]], dtype=int64)"
      ]
     },
     "execution_count": 38,
     "metadata": {},
     "output_type": "execute_result"
    }
   ],
   "source": [
    "cf_matrix"
   ]
  },
  {
   "cell_type": "code",
   "execution_count": 39,
   "metadata": {},
   "outputs": [],
   "source": [
    "import seaborn as sns"
   ]
  },
  {
   "cell_type": "code",
   "execution_count": 40,
   "metadata": {},
   "outputs": [
    {
     "data": {
      "image/png": "[encoded data removed]",
      "text/plain": [
       "<Figure size 432x288 with 2 Axes>"
      ]
     },
     "metadata": {
      "needs_background": "light"
     },
     "output_type": "display_data"
    }
   ],
   "source": [
    "\n",
    "ax = plt.axes()\n",
    "sns.heatmap(cf_matrix, annot=True, fmt='g')\n",
    "\n",
    "ax.set_title('Dane pierwotne - Klasa N - las drzew decyzyjne')\n",
    "plt.ylabel('Rzeczywiste')\n",
    "plt.xlabel('Predykcja')\n",
    "plt.show()\n"
   ]
  },
  {
   "cell_type": "code",
   "execution_count": 42,
   "metadata": {},
   "outputs": [
    {
     "name": "stdout",
     "output_type": "stream",
     "text": [
      "Recall: 0.288\n",
      "Precision: 0.833\n",
      "F1score: 0.429\n"
     ]
    }
   ],
   "source": [
    "from sklearn.metrics import recall_score\n",
    "from sklearn.metrics import precision_score\n",
    "\n",
    "precision = precision_score(dane_do_zapisu_2['obs'], dane_do_zapisu_2['pred'], labels=['N0','N1'], average='binary',pos_label='N1')\n",
    "recall = recall_score(dane_do_zapisu_2['obs'], dane_do_zapisu_2['pred'], labels=['N0','N1'], average='binary',pos_label='N1')\n",
    "f1score=fbeta_score(dane_do_zapisu_2['obs'], dane_do_zapisu_2['pred'], labels=['N0','N1'], average='binary',pos_label='N1', beta=1)\n",
    "print('Recall: %.3f' % recall)\n",
    "print('Precision: %.3f' % precision)\n",
    "print('F1score: %.3f' % f1score)"
   ]
  },
  {
   "cell_type": "code",
   "execution_count": null,
   "metadata": {},
   "outputs": [],
   "source": []
  }
 ],
 "metadata": {
  "colab": {
   "collapsed_sections": [],
   "name": "continues_variable_modelling_basic_regression.ipynb",
   "provenance": []
  },
  "kernelspec": {
   "display_name": "Python 3",
   "language": "python",
   "name": "python3"
  },
  "language_info": {
   "codemirror_mode": {
    "name": "ipython",
    "version": 3
   },
   "file_extension": ".py",
   "mimetype": "text/x-python",
   "name": "python",
   "nbconvert_exporter": "python",
   "pygments_lexer": "ipython3",
   "version": "3.7.10"
  }
 },
 "nbformat": 4,
 "nbformat_minor": 1
}
