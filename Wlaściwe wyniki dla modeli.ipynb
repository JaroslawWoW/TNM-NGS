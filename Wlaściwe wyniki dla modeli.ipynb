{
 "cells": [
  {
   "cell_type": "code",
   "execution_count": 2,
   "id": "ecc94e0d",
   "metadata": {},
   "outputs": [],
   "source": [
    "from sklearn.metrics import recall_score\n",
    "from sklearn.metrics import precision_score\n",
    "from sklearn.metrics import fbeta_score\n",
    "import pandas as pd"
   ]
  },
  {
   "cell_type": "markdown",
   "id": "b882a0c4",
   "metadata": {},
   "source": [
    "## M - oryginal"
   ]
  },
  {
   "cell_type": "code",
   "execution_count": 3,
   "id": "37634ea1",
   "metadata": {},
   "outputs": [],
   "source": [
    "M_o_DT=pd.read_csv('D:\\\\STUDIA\\\\ROK_II\\\\Magisterka\\\\Modele\\\\Dane pierwotne\\\\Dane z cross-walidacji\\\\M\\\\Klasa_M_Drzewo_decyzyjne.csv')"
   ]
  },
  {
   "cell_type": "code",
   "execution_count": 4,
   "id": "427758c9",
   "metadata": {},
   "outputs": [],
   "source": [
    "M_o_RF=pd.read_csv('D:\\\\STUDIA\\\\ROK_II\\\\Magisterka\\\\Modele\\\\Dane pierwotne\\\\Dane z cross-walidacji\\\\M\\\\Klasa_M_Las_drzew_decyzyjnych.csv')"
   ]
  },
  {
   "cell_type": "code",
   "execution_count": 5,
   "id": "68c70bbb",
   "metadata": {},
   "outputs": [],
   "source": [
    "M_o_KNN=pd.read_csv('D:\\\\STUDIA\\\\ROK_II\\\\Magisterka\\\\Modele\\\\Dane pierwotne\\\\Dane z cross-walidacji\\\\M\\\\Klasa_M_KNN.csv')"
   ]
  },
  {
   "cell_type": "code",
   "execution_count": 6,
   "id": "2657f1e8",
   "metadata": {},
   "outputs": [],
   "source": [
    "M_o_GB=pd.read_csv('D:\\\\STUDIA\\\\ROK_II\\\\Magisterka\\\\Modele\\\\Dane pierwotne\\\\Dane z cross-walidacji\\\\M\\\\Klasa_M_Gradient_boosting.csv')"
   ]
  },
  {
   "cell_type": "code",
   "execution_count": 7,
   "id": "a73440b8",
   "metadata": {},
   "outputs": [],
   "source": [
    "M_o_XGBR=pd.read_csv('D:\\\\STUDIA\\\\ROK_II\\\\Magisterka\\\\Modele\\\\Dane pierwotne\\\\Dane z cross-walidacji\\\\M\\\\Klasa_M_XGB.csv')"
   ]
  },
  {
   "cell_type": "code",
   "execution_count": 11,
   "id": "fdb202fe",
   "metadata": {},
   "outputs": [],
   "source": [
    "M_o_NN=pd.read_csv('D:\\\\STUDIA\\\\ROK_II\\\\Magisterka\\\\Modele\\\\Dane pierwotne\\\\Dane z cross-walidacji\\\\M\\\\Klasa_M_NN_2_neurony.csv')"
   ]
  },
  {
   "cell_type": "code",
   "execution_count": 36,
   "id": "d200a1df",
   "metadata": {},
   "outputs": [
    {
     "data": {
      "text/html": [
       "<div>\n",
       "<style scoped>\n",
       "    .dataframe tbody tr th:only-of-type {\n",
       "        vertical-align: middle;\n",
       "    }\n",
       "\n",
       "    .dataframe tbody tr th {\n",
       "        vertical-align: top;\n",
       "    }\n",
       "\n",
       "    .dataframe thead th {\n",
       "        text-align: right;\n",
       "    }\n",
       "</style>\n",
       "<table border=\"1\" class=\"dataframe\">\n",
       "  <thead>\n",
       "    <tr style=\"text-align: right;\">\n",
       "      <th></th>\n",
       "      <th>Unnamed: 0</th>\n",
       "      <th>pred</th>\n",
       "      <th>obs</th>\n",
       "      <th>probability_0</th>\n",
       "      <th>probability_1</th>\n",
       "      <th>Fold</th>\n",
       "    </tr>\n",
       "  </thead>\n",
       "  <tbody>\n",
       "    <tr>\n",
       "      <th>0</th>\n",
       "      <td>0</td>\n",
       "      <td>1</td>\n",
       "      <td>0</td>\n",
       "      <td>0.499101</td>\n",
       "      <td>0.500899</td>\n",
       "      <td>1</td>\n",
       "    </tr>\n",
       "    <tr>\n",
       "      <th>1</th>\n",
       "      <td>1</td>\n",
       "      <td>1</td>\n",
       "      <td>0</td>\n",
       "      <td>0.499104</td>\n",
       "      <td>0.500896</td>\n",
       "      <td>1</td>\n",
       "    </tr>\n",
       "    <tr>\n",
       "      <th>2</th>\n",
       "      <td>2</td>\n",
       "      <td>1</td>\n",
       "      <td>0</td>\n",
       "      <td>0.499102</td>\n",
       "      <td>0.500898</td>\n",
       "      <td>1</td>\n",
       "    </tr>\n",
       "    <tr>\n",
       "      <th>3</th>\n",
       "      <td>3</td>\n",
       "      <td>1</td>\n",
       "      <td>0</td>\n",
       "      <td>0.499104</td>\n",
       "      <td>0.500896</td>\n",
       "      <td>1</td>\n",
       "    </tr>\n",
       "    <tr>\n",
       "      <th>4</th>\n",
       "      <td>4</td>\n",
       "      <td>1</td>\n",
       "      <td>0</td>\n",
       "      <td>0.499103</td>\n",
       "      <td>0.500898</td>\n",
       "      <td>1</td>\n",
       "    </tr>\n",
       "    <tr>\n",
       "      <th>...</th>\n",
       "      <td>...</td>\n",
       "      <td>...</td>\n",
       "      <td>...</td>\n",
       "      <td>...</td>\n",
       "      <td>...</td>\n",
       "      <td>...</td>\n",
       "    </tr>\n",
       "    <tr>\n",
       "      <th>705</th>\n",
       "      <td>137</td>\n",
       "      <td>1</td>\n",
       "      <td>1</td>\n",
       "      <td>0.338310</td>\n",
       "      <td>0.661690</td>\n",
       "      <td>5</td>\n",
       "    </tr>\n",
       "    <tr>\n",
       "      <th>706</th>\n",
       "      <td>138</td>\n",
       "      <td>0</td>\n",
       "      <td>1</td>\n",
       "      <td>0.516971</td>\n",
       "      <td>0.483029</td>\n",
       "      <td>5</td>\n",
       "    </tr>\n",
       "    <tr>\n",
       "      <th>707</th>\n",
       "      <td>139</td>\n",
       "      <td>0</td>\n",
       "      <td>1</td>\n",
       "      <td>0.683146</td>\n",
       "      <td>0.316854</td>\n",
       "      <td>5</td>\n",
       "    </tr>\n",
       "    <tr>\n",
       "      <th>708</th>\n",
       "      <td>140</td>\n",
       "      <td>0</td>\n",
       "      <td>1</td>\n",
       "      <td>0.542867</td>\n",
       "      <td>0.457133</td>\n",
       "      <td>5</td>\n",
       "    </tr>\n",
       "    <tr>\n",
       "      <th>709</th>\n",
       "      <td>141</td>\n",
       "      <td>0</td>\n",
       "      <td>1</td>\n",
       "      <td>0.540275</td>\n",
       "      <td>0.459725</td>\n",
       "      <td>5</td>\n",
       "    </tr>\n",
       "  </tbody>\n",
       "</table>\n",
       "<p>710 rows × 6 columns</p>\n",
       "</div>"
      ],
      "text/plain": [
       "     Unnamed: 0  pred  obs  probability_0  probability_1  Fold\n",
       "0             0     1    0       0.499101       0.500899     1\n",
       "1             1     1    0       0.499104       0.500896     1\n",
       "2             2     1    0       0.499102       0.500898     1\n",
       "3             3     1    0       0.499104       0.500896     1\n",
       "4             4     1    0       0.499103       0.500898     1\n",
       "..          ...   ...  ...            ...            ...   ...\n",
       "705         137     1    1       0.338310       0.661690     5\n",
       "706         138     0    1       0.516971       0.483029     5\n",
       "707         139     0    1       0.683146       0.316854     5\n",
       "708         140     0    1       0.542867       0.457133     5\n",
       "709         141     0    1       0.540275       0.459725     5\n",
       "\n",
       "[710 rows x 6 columns]"
      ]
     },
     "execution_count": 36,
     "metadata": {},
     "output_type": "execute_result"
    }
   ],
   "source": [
    "M_o_NN"
   ]
  },
  {
   "cell_type": "code",
   "execution_count": 12,
   "id": "4c178e97",
   "metadata": {},
   "outputs": [
    {
     "data": {
      "text/html": [
       "<div>\n",
       "<style scoped>\n",
       "    .dataframe tbody tr th:only-of-type {\n",
       "        vertical-align: middle;\n",
       "    }\n",
       "\n",
       "    .dataframe tbody tr th {\n",
       "        vertical-align: top;\n",
       "    }\n",
       "\n",
       "    .dataframe thead th {\n",
       "        text-align: right;\n",
       "    }\n",
       "</style>\n",
       "<table border=\"1\" class=\"dataframe\">\n",
       "  <thead>\n",
       "    <tr style=\"text-align: right;\">\n",
       "      <th></th>\n",
       "      <th>Unnamed: 0</th>\n",
       "      <th>pred</th>\n",
       "      <th>obs</th>\n",
       "      <th>Fold</th>\n",
       "    </tr>\n",
       "  </thead>\n",
       "  <tbody>\n",
       "    <tr>\n",
       "      <th>0</th>\n",
       "      <td>0</td>\n",
       "      <td>M0</td>\n",
       "      <td>M0</td>\n",
       "      <td>1</td>\n",
       "    </tr>\n",
       "    <tr>\n",
       "      <th>1</th>\n",
       "      <td>1</td>\n",
       "      <td>M0</td>\n",
       "      <td>M0</td>\n",
       "      <td>1</td>\n",
       "    </tr>\n",
       "    <tr>\n",
       "      <th>2</th>\n",
       "      <td>2</td>\n",
       "      <td>M0</td>\n",
       "      <td>M0</td>\n",
       "      <td>1</td>\n",
       "    </tr>\n",
       "    <tr>\n",
       "      <th>3</th>\n",
       "      <td>3</td>\n",
       "      <td>M0</td>\n",
       "      <td>M0</td>\n",
       "      <td>1</td>\n",
       "    </tr>\n",
       "    <tr>\n",
       "      <th>4</th>\n",
       "      <td>4</td>\n",
       "      <td>M0</td>\n",
       "      <td>M0</td>\n",
       "      <td>1</td>\n",
       "    </tr>\n",
       "    <tr>\n",
       "      <th>...</th>\n",
       "      <td>...</td>\n",
       "      <td>...</td>\n",
       "      <td>...</td>\n",
       "      <td>...</td>\n",
       "    </tr>\n",
       "    <tr>\n",
       "      <th>705</th>\n",
       "      <td>137</td>\n",
       "      <td>M1</td>\n",
       "      <td>M1</td>\n",
       "      <td>5</td>\n",
       "    </tr>\n",
       "    <tr>\n",
       "      <th>706</th>\n",
       "      <td>138</td>\n",
       "      <td>M0</td>\n",
       "      <td>M1</td>\n",
       "      <td>5</td>\n",
       "    </tr>\n",
       "    <tr>\n",
       "      <th>707</th>\n",
       "      <td>139</td>\n",
       "      <td>M1</td>\n",
       "      <td>M1</td>\n",
       "      <td>5</td>\n",
       "    </tr>\n",
       "    <tr>\n",
       "      <th>708</th>\n",
       "      <td>140</td>\n",
       "      <td>M1</td>\n",
       "      <td>M1</td>\n",
       "      <td>5</td>\n",
       "    </tr>\n",
       "    <tr>\n",
       "      <th>709</th>\n",
       "      <td>141</td>\n",
       "      <td>M0</td>\n",
       "      <td>M1</td>\n",
       "      <td>5</td>\n",
       "    </tr>\n",
       "  </tbody>\n",
       "</table>\n",
       "<p>710 rows × 4 columns</p>\n",
       "</div>"
      ],
      "text/plain": [
       "     Unnamed: 0 pred obs  Fold\n",
       "0             0   M0  M0     1\n",
       "1             1   M0  M0     1\n",
       "2             2   M0  M0     1\n",
       "3             3   M0  M0     1\n",
       "4             4   M0  M0     1\n",
       "..          ...  ...  ..   ...\n",
       "705         137   M1  M1     5\n",
       "706         138   M0  M1     5\n",
       "707         139   M1  M1     5\n",
       "708         140   M1  M1     5\n",
       "709         141   M0  M1     5\n",
       "\n",
       "[710 rows x 4 columns]"
      ]
     },
     "execution_count": 12,
     "metadata": {},
     "output_type": "execute_result"
    }
   ],
   "source": [
    "M_o_DT"
   ]
  },
  {
   "cell_type": "code",
   "execution_count": 40,
   "id": "fe09658d",
   "metadata": {},
   "outputs": [
    {
     "name": "stdout",
     "output_type": "stream",
     "text": [
      "Recall: 0.194\n",
      "Precision: 0.302\n",
      "F1score: 0.233\n",
      "Recall: 0.000\n",
      "Precision: 0.000\n",
      "F1score: 0.000\n",
      "Recall: 0.167\n",
      "Precision: 0.190\n",
      "F1score: 0.177\n",
      "Recall: 0.055\n",
      "Precision: 0.227\n",
      "F1score: 0.088\n"
     ]
    },
    {
     "name": "stderr",
     "output_type": "stream",
     "text": [
      "D:\\anaconda\\envs\\notebook2\\lib\\site-packages\\sklearn\\metrics\\_classification.py:1327: UndefinedMetricWarning: Precision is ill-defined and being set to 0.0 due to no predicted samples. Use `zero_division` parameter to control this behavior.\n",
      "  _warn_prf(average, modifier, msg_start, len(result))\n",
      "D:\\anaconda\\envs\\notebook2\\lib\\site-packages\\sklearn\\metrics\\_classification.py:1327: UndefinedMetricWarning: Precision is ill-defined and being set to 0.0 due to no predicted samples. Use `zero_division` parameter to control this behavior.\n",
      "  _warn_prf(average, modifier, msg_start, len(result))\n",
      "D:\\anaconda\\envs\\notebook2\\lib\\site-packages\\sklearn\\metrics\\_classification.py:1327: UndefinedMetricWarning: Precision is ill-defined and being set to 0.0 due to no predicted samples. Use `zero_division` parameter to control this behavior.\n",
      "  _warn_prf(average, modifier, msg_start, len(result))\n",
      "D:\\anaconda\\envs\\notebook2\\lib\\site-packages\\sklearn\\metrics\\_classification.py:1327: UndefinedMetricWarning: Precision is ill-defined and being set to 0.0 due to no predicted samples. Use `zero_division` parameter to control this behavior.\n",
      "  _warn_prf(average, modifier, msg_start, len(result))\n",
      "D:\\anaconda\\envs\\notebook2\\lib\\site-packages\\sklearn\\metrics\\_classification.py:1327: UndefinedMetricWarning: Precision is ill-defined and being set to 0.0 due to no predicted samples. Use `zero_division` parameter to control this behavior.\n",
      "  _warn_prf(average, modifier, msg_start, len(result))\n"
     ]
    }
   ],
   "source": [
    "for x in [M_o_DT,M_o_RF,M_o_KNN,M_o_GB]:\n",
    "    l_precision=[]\n",
    "    l_recall=[]\n",
    "    l_f1score=[]\n",
    "    \n",
    "    for y in range(1,6):\n",
    "        precision = precision_score(x[x['Fold']==y]['obs'], x[x['Fold']==y]['pred'], labels=['M0','M1'], average='binary',pos_label='M1')\n",
    "        recall = recall_score(x[x['Fold']==y]['obs'], x[x['Fold']==y]['pred'], labels=['M0','M1'], average='binary',pos_label='M1')\n",
    "        f1score=fbeta_score(x[x['Fold']==y]['obs'], x[x['Fold']==y]['pred'], labels=['M0','M1'], average='binary',pos_label='M1', beta=1)\n",
    "        l_precision.append(precision)\n",
    "        l_recall.append(recall)\n",
    "        l_f1score.append(f1score)\n",
    "        \n",
    "    print('Recall: %.3f' % (sum(l_recall)/5))\n",
    "    print('Precision: %.3f' % (sum(l_precision)/5))\n",
    "    print('F1score: %.3f' % (sum(l_f1score)/5))"
   ]
  },
  {
   "cell_type": "code",
   "execution_count": 41,
   "id": "ae13152c",
   "metadata": {},
   "outputs": [
    {
     "name": "stdout",
     "output_type": "stream",
     "text": [
      "Recall: 0.175\n",
      "Precision: 0.222\n",
      "F1score: 0.193\n",
      "Recall: 0.609\n",
      "Precision: 0.130\n",
      "F1score: 0.172\n"
     ]
    }
   ],
   "source": [
    "for x in [M_o_XGBR,M_o_NN]:\n",
    "    l_precision=[]\n",
    "    l_recall=[]\n",
    "    l_f1score=[]\n",
    "    \n",
    "    for y in range(1,6):\n",
    "        precision = precision_score(x[x['Fold']==y]['obs'], x[x['Fold']==y]['pred'], labels=[0,1], average='binary',pos_label=1)\n",
    "        recall = recall_score(x[x['Fold']==y]['obs'], x[x['Fold']==y]['pred'], labels=[0,1], average='binary',pos_label=1)\n",
    "        f1score=fbeta_score(x[x['Fold']==y]['obs'], x[x['Fold']==y]['pred'], labels=[0,1], average='binary',pos_label=1, beta=1)\n",
    "        l_precision.append(precision)\n",
    "        l_recall.append(recall)\n",
    "        l_f1score.append(f1score)\n",
    "        \n",
    "    print('Recall: %.3f' % (sum(l_recall)/5))\n",
    "    print('Precision: %.3f' % (sum(l_precision)/5))\n",
    "    print('F1score: %.3f' % (sum(l_f1score)/5))"
   ]
  },
  {
   "cell_type": "markdown",
   "id": "b8a9103b",
   "metadata": {},
   "source": [
    "## M - ADASYN"
   ]
  },
  {
   "cell_type": "code",
   "execution_count": 42,
   "id": "164c1997",
   "metadata": {},
   "outputs": [],
   "source": [
    "M_a_DT=pd.read_csv('D:\\\\STUDIA\\\\ROK_II\\\\Magisterka\\\\Modele\\\\Dane Adasyn\\\\Dane z cross-walidacji\\\\Klasa_M_Drzewo_decyzyjne_Adasyn.csv', index_col=[0])"
   ]
  },
  {
   "cell_type": "code",
   "execution_count": 43,
   "id": "7b3879d2",
   "metadata": {},
   "outputs": [],
   "source": [
    "M_a_RF=pd.read_csv('D:\\\\STUDIA\\\\ROK_II\\\\Magisterka\\\\Modele\\\\Dane Adasyn\\\\Dane z cross-walidacji\\\\Klasa_M_Las_drzew_decyzyjnych_Adaysn.csv', index_col=[0])"
   ]
  },
  {
   "cell_type": "code",
   "execution_count": 44,
   "id": "0cd8d423",
   "metadata": {},
   "outputs": [],
   "source": [
    "M_a_KNN=pd.read_csv('D:\\\\STUDIA\\\\ROK_II\\\\Magisterka\\\\Modele\\\\Dane Adasyn\\\\Dane z cross-walidacji\\\\Klasa_M_KNN_Adasyn.csv', index_col=[0])"
   ]
  },
  {
   "cell_type": "code",
   "execution_count": 45,
   "id": "8f6608f1",
   "metadata": {},
   "outputs": [],
   "source": [
    "M_a_GB=pd.read_csv('D:\\\\STUDIA\\\\ROK_II\\\\Magisterka\\\\Modele\\\\Dane Adasyn\\\\Dane z cross-walidacji\\\\Klasa_M_Gradient_boosting_ADASYN.csv', index_col=[0])"
   ]
  },
  {
   "cell_type": "code",
   "execution_count": 46,
   "id": "1c43af65",
   "metadata": {},
   "outputs": [],
   "source": [
    "M_a_XGBR=pd.read_csv('D:\\\\STUDIA\\\\ROK_II\\\\Magisterka\\\\Modele\\\\Dane Adasyn\\\\Dane z cross-walidacji\\\\Klasa_M_XGB_ADASYN.csv', index_col=[0])"
   ]
  },
  {
   "cell_type": "code",
   "execution_count": 47,
   "id": "416ce4a8",
   "metadata": {},
   "outputs": [
    {
     "name": "stdout",
     "output_type": "stream",
     "text": [
      "Recall: 0.816\n",
      "Precision: 0.735\n",
      "F1score: 0.771\n",
      "Recall: 0.498\n",
      "Precision: 0.600\n",
      "F1score: 0.541\n",
      "Recall: 0.993\n",
      "Precision: 0.806\n",
      "F1score: 0.890\n",
      "Recall: 0.951\n",
      "Precision: 0.940\n",
      "F1score: 0.945\n"
     ]
    },
    {
     "name": "stderr",
     "output_type": "stream",
     "text": [
      "D:\\anaconda\\envs\\notebook2\\lib\\site-packages\\sklearn\\metrics\\_classification.py:1327: UndefinedMetricWarning: Recall is ill-defined and being set to 0.0 due to no true samples. Use `zero_division` parameter to control this behavior.\n",
      "  _warn_prf(average, modifier, msg_start, len(result))\n",
      "D:\\anaconda\\envs\\notebook2\\lib\\site-packages\\sklearn\\metrics\\_classification.py:1327: UndefinedMetricWarning: Recall is ill-defined and being set to 0.0 due to no true samples. Use `zero_division` parameter to control this behavior.\n",
      "  _warn_prf(average, modifier, msg_start, len(result))\n"
     ]
    }
   ],
   "source": [
    "for x in [M_a_DT,M_a_RF,M_a_KNN,M_a_GB]:\n",
    "    l_precision=[]\n",
    "    l_recall=[]\n",
    "    l_f1score=[]\n",
    "    \n",
    "    for y in range(1,6):\n",
    "        precision = precision_score(x[x['Fold']==y]['obs'], x[x['Fold']==y]['pred'], labels=['M0','M1'], average='binary',pos_label='M1')\n",
    "        recall = recall_score(x[x['Fold']==y]['obs'], x[x['Fold']==y]['pred'], labels=['M0','M1'], average='binary',pos_label='M1')\n",
    "        f1score=fbeta_score(x[x['Fold']==y]['obs'], x[x['Fold']==y]['pred'], labels=['M0','M1'], average='binary',pos_label='M1', beta=1)\n",
    "        l_precision.append(precision)\n",
    "        l_recall.append(recall)\n",
    "        l_f1score.append(f1score)\n",
    "        \n",
    "    print('Recall: %.3f' % (sum(l_recall)/5))\n",
    "    print('Precision: %.3f' % (sum(l_precision)/5))\n",
    "    print('F1score: %.3f' % (sum(l_f1score)/5))"
   ]
  },
  {
   "cell_type": "code",
   "execution_count": 48,
   "id": "ab20cec7",
   "metadata": {},
   "outputs": [
    {
     "name": "stdout",
     "output_type": "stream",
     "text": [
      "Recall: 0.938\n",
      "Precision: 0.951\n",
      "F1score: 0.944\n"
     ]
    }
   ],
   "source": [
    "for x in [M_a_XGBR]:\n",
    "    l_precision=[]\n",
    "    l_recall=[]\n",
    "    l_f1score=[]\n",
    "    \n",
    "    for y in range(1,6):\n",
    "        precision = precision_score(x[x['Fold']==y]['obs'], x[x['Fold']==y]['pred'], labels=[0,1], average='binary',pos_label=1)\n",
    "        recall = recall_score(x[x['Fold']==y]['obs'], x[x['Fold']==y]['pred'], labels=[0,1], average='binary',pos_label=1)\n",
    "        f1score=fbeta_score(x[x['Fold']==y]['obs'], x[x['Fold']==y]['pred'], labels=[0,1], average='binary',pos_label=1, beta=1)\n",
    "        l_precision.append(precision)\n",
    "        l_recall.append(recall)\n",
    "        l_f1score.append(f1score)\n",
    "        \n",
    "    print('Recall: %.3f' % (sum(l_recall)/5))\n",
    "    print('Precision: %.3f' % (sum(l_precision)/5))\n",
    "    print('F1score: %.3f' % (sum(l_f1score)/5))"
   ]
  },
  {
   "cell_type": "markdown",
   "id": "8e68df6e",
   "metadata": {},
   "source": [
    "## T"
   ]
  },
  {
   "cell_type": "code",
   "execution_count": 49,
   "id": "e5f5e69e",
   "metadata": {},
   "outputs": [],
   "source": [
    "T_o_DT=pd.read_csv('D:\\\\STUDIA\\\\ROK_II\\\\Magisterka\\\\Modele\\\\Dane pierwotne\\\\Dane z cross-walidacji\\\\T\\\\Klasa_T_Drzewo_decyzyjne.csv')"
   ]
  },
  {
   "cell_type": "code",
   "execution_count": 50,
   "id": "1a3732e0",
   "metadata": {},
   "outputs": [],
   "source": [
    "T_o_RF=pd.read_csv('D:\\\\STUDIA\\\\ROK_II\\\\Magisterka\\\\Modele\\\\Dane pierwotne\\\\Dane z cross-walidacji\\\\T\\\\Klasa_T_Las_drzew_decyzyjnych.csv')"
   ]
  },
  {
   "cell_type": "code",
   "execution_count": 53,
   "id": "e16e420c",
   "metadata": {},
   "outputs": [],
   "source": [
    "T_o_KNN=pd.read_csv('D:\\\\STUDIA\\\\ROK_II\\\\Magisterka\\\\Modele\\\\Dane pierwotne\\\\Dane z cross-walidacji\\\\T\\\\Klasa_T_KNN.csv')"
   ]
  },
  {
   "cell_type": "code",
   "execution_count": 52,
   "id": "d70fc7ec",
   "metadata": {},
   "outputs": [],
   "source": [
    "T_o_GB=pd.read_csv('D:\\\\STUDIA\\\\ROK_II\\\\Magisterka\\\\Modele\\\\Dane pierwotne\\\\Dane z cross-walidacji\\\\T\\\\Klasa_T_Gradient_boosting.csv')"
   ]
  },
  {
   "cell_type": "code",
   "execution_count": 54,
   "id": "a46a1d20",
   "metadata": {},
   "outputs": [],
   "source": [
    "T_o_XGBR=pd.read_csv('D:\\\\STUDIA\\\\ROK_II\\\\Magisterka\\\\Modele\\\\Dane pierwotne\\\\Dane z cross-walidacji\\\\T\\\\Klasa_T_XGB.csv')"
   ]
  },
  {
   "cell_type": "code",
   "execution_count": 55,
   "id": "f8731761",
   "metadata": {},
   "outputs": [],
   "source": [
    "T_o_NN=pd.read_csv('D:\\\\STUDIA\\\\ROK_II\\\\Magisterka\\\\Modele\\\\Dane pierwotne\\\\Dane z cross-walidacji\\\\T\\\\Klasa_T_NN.csv')"
   ]
  },
  {
   "cell_type": "code",
   "execution_count": 59,
   "id": "2dcd32df",
   "metadata": {},
   "outputs": [
    {
     "name": "stdout",
     "output_type": "stream",
     "text": [
      "Recall: 0.445\n",
      "Precision: 0.484\n",
      "F1score: 0.443\n",
      "Recall: 0.466\n",
      "Precision: 0.557\n",
      "F1score: 0.443\n",
      "Recall: 0.466\n",
      "Precision: 0.511\n",
      "F1score: 0.465\n",
      "Recall: 0.483\n",
      "Precision: 0.507\n",
      "F1score: 0.481\n"
     ]
    },
    {
     "name": "stderr",
     "output_type": "stream",
     "text": [
      "D:\\anaconda\\envs\\notebook2\\lib\\site-packages\\sklearn\\metrics\\_classification.py:1327: UndefinedMetricWarning: Precision is ill-defined and being set to 0.0 in labels with no predicted samples. Use `zero_division` parameter to control this behavior.\n",
      "  _warn_prf(average, modifier, msg_start, len(result))\n"
     ]
    }
   ],
   "source": [
    "for x in [T_o_DT,T_o_RF,T_o_KNN,T_o_GB]:\n",
    "    l_precision=[]\n",
    "    l_recall=[]\n",
    "    l_f1score=[]\n",
    "    \n",
    "    for y in range(1,6):\n",
    "        precision = precision_score(x[x['Fold']==y]['obs'], x[x['Fold']==y]['pred'] , average='macro')\n",
    "        recall = recall_score(x[x['Fold']==y]['obs'], x[x['Fold']==y]['pred'] , average='macro')\n",
    "        f1score=fbeta_score(x[x['Fold']==y]['obs'], x[x['Fold']==y]['pred'] , average='macro',beta=1)\n",
    "        l_precision.append(precision)\n",
    "        l_recall.append(recall)\n",
    "        l_f1score.append(f1score)\n",
    "        \n",
    "    print('Recall: %.3f' % (sum(l_recall)/5))\n",
    "    print('Precision: %.3f' % (sum(l_precision)/5))\n",
    "    print('F1score: %.3f' % (sum(l_f1score)/5))"
   ]
  },
  {
   "cell_type": "code",
   "execution_count": 61,
   "id": "e29bbe45",
   "metadata": {},
   "outputs": [
    {
     "name": "stdout",
     "output_type": "stream",
     "text": [
      "Recall: 0.484\n",
      "Precision: 0.489\n",
      "F1score: 0.470\n",
      "Recall: 0.450\n",
      "Precision: 0.496\n",
      "F1score: 0.428\n"
     ]
    },
    {
     "name": "stderr",
     "output_type": "stream",
     "text": [
      "D:\\anaconda\\envs\\notebook2\\lib\\site-packages\\sklearn\\metrics\\_classification.py:1327: UndefinedMetricWarning: Precision is ill-defined and being set to 0.0 in labels with no predicted samples. Use `zero_division` parameter to control this behavior.\n",
      "  _warn_prf(average, modifier, msg_start, len(result))\n"
     ]
    }
   ],
   "source": [
    "for x in [T_o_XGBR,T_o_NN]:\n",
    "    l_precision=[]\n",
    "    l_recall=[]\n",
    "    l_f1score=[]\n",
    "    \n",
    "    for y in range(1,6):\n",
    "        precision = precision_score(x[x['Fold']==y]['obs'], x[x['Fold']==y]['pred'] , average='macro')\n",
    "        recall = recall_score(x[x['Fold']==y]['obs'], x[x['Fold']==y]['pred'] , average='macro')\n",
    "        f1score=fbeta_score(x[x['Fold']==y]['obs'], x[x['Fold']==y]['pred'] , average='macro',beta=1)\n",
    "        l_precision.append(precision)\n",
    "        l_recall.append(recall)\n",
    "        l_f1score.append(f1score)\n",
    "        \n",
    "    print('Recall: %.3f' % (sum(l_recall)/5))\n",
    "    print('Precision: %.3f' % (sum(l_precision)/5))\n",
    "    print('F1score: %.3f' % (sum(l_f1score)/5))"
   ]
  },
  {
   "cell_type": "markdown",
   "id": "4539e3eb",
   "metadata": {},
   "source": [
    "## N"
   ]
  },
  {
   "cell_type": "code",
   "execution_count": 62,
   "id": "7fc6296e",
   "metadata": {},
   "outputs": [],
   "source": [
    "N_o_DT=pd.read_csv('D:\\\\STUDIA\\\\ROK_II\\\\Magisterka\\\\Modele\\\\Dane pierwotne\\\\Dane z cross-walidacji\\\\N\\\\Klasa_N_Drzewo_decyzyjne.csv')"
   ]
  },
  {
   "cell_type": "code",
   "execution_count": 63,
   "id": "9b4e5b5a",
   "metadata": {},
   "outputs": [],
   "source": [
    "N_o_RF=pd.read_csv('D:\\\\STUDIA\\\\ROK_II\\\\Magisterka\\\\Modele\\\\Dane pierwotne\\\\Dane z cross-walidacji\\\\N\\\\Klasa_N_Las_drzew_decyzyjnych.csv')"
   ]
  },
  {
   "cell_type": "code",
   "execution_count": 65,
   "id": "28e30d0c",
   "metadata": {},
   "outputs": [],
   "source": [
    "N_o_KNN=pd.read_csv('D:\\\\STUDIA\\\\ROK_II\\\\Magisterka\\\\Modele\\\\Dane pierwotne\\\\Dane z cross-walidacji\\\\N\\\\Klasa_N_KNN.csv')"
   ]
  },
  {
   "cell_type": "code",
   "execution_count": 66,
   "id": "0c91dbbc",
   "metadata": {},
   "outputs": [],
   "source": [
    "N_o_GB=pd.read_csv('D:\\\\STUDIA\\\\ROK_II\\\\Magisterka\\\\Modele\\\\Dane pierwotne\\\\Dane z cross-walidacji\\\\N\\\\Klasa_N_Gradient_boosting.csv')"
   ]
  },
  {
   "cell_type": "code",
   "execution_count": 67,
   "id": "99e55b14",
   "metadata": {},
   "outputs": [],
   "source": [
    "N_o_XGBR=pd.read_csv('D:\\\\STUDIA\\\\ROK_II\\\\Magisterka\\\\Modele\\\\Dane pierwotne\\\\Dane z cross-walidacji\\\\N\\\\Klasa_N_XGB.csv')"
   ]
  },
  {
   "cell_type": "code",
   "execution_count": 68,
   "id": "ae006d7c",
   "metadata": {},
   "outputs": [],
   "source": [
    "N_o_NN=pd.read_csv('D:\\\\STUDIA\\\\ROK_II\\\\Magisterka\\\\Modele\\\\Dane pierwotne\\\\Dane z cross-walidacji\\\\N\\\\Klasa_N_NN.csv')"
   ]
  },
  {
   "cell_type": "code",
   "execution_count": 73,
   "id": "b40cac92",
   "metadata": {},
   "outputs": [
    {
     "name": "stdout",
     "output_type": "stream",
     "text": [
      "Recall: 0.271\n",
      "Precision: 0.703\n",
      "F1score: 0.373\n",
      "Recall: 0.286\n",
      "Precision: 0.833\n",
      "F1score: 0.410\n",
      "Recall: 0.247\n",
      "Precision: 0.402\n",
      "F1score: 0.299\n",
      "Recall: 0.325\n",
      "Precision: 0.810\n",
      "F1score: 0.461\n"
     ]
    }
   ],
   "source": [
    "for x in [N_o_DT,N_o_RF,N_o_KNN,N_o_GB]:\n",
    "    l_precision=[]\n",
    "    l_recall=[]\n",
    "    l_f1score=[]\n",
    "    \n",
    "    for y in range(1,6):\n",
    "        precision = precision_score(x[x['Fold']==y]['obs'], x[x['Fold']==y]['pred'], labels=['N0','N1'], average='binary',pos_label='N1')\n",
    "        recall = recall_score(x[x['Fold']==y]['obs'], x[x['Fold']==y]['pred'], labels=['N0','N1'], average='binary',pos_label='N1')\n",
    "        f1score=fbeta_score(x[x['Fold']==y]['obs'], x[x['Fold']==y]['pred'], labels=['N0','N1'], average='binary',pos_label='N1', beta=1)\n",
    "        l_precision.append(precision)\n",
    "        l_recall.append(recall)\n",
    "        l_f1score.append(f1score)\n",
    "        \n",
    "    print('Recall: %.3f' % (sum(l_recall)/5))\n",
    "    print('Precision: %.3f' % (sum(l_precision)/5))\n",
    "    print('F1score: %.3f' % (sum(l_f1score)/5))"
   ]
  },
  {
   "cell_type": "code",
   "execution_count": 75,
   "id": "a3c0ac94",
   "metadata": {},
   "outputs": [
    {
     "name": "stdout",
     "output_type": "stream",
     "text": [
      "Recall: 0.404\n",
      "Precision: 0.774\n",
      "F1score: 0.523\n",
      "Recall: 0.304\n",
      "Precision: 0.595\n",
      "F1score: 0.376\n"
     ]
    }
   ],
   "source": [
    "for x in [N_o_XGBR,N_o_NN]:\n",
    "    l_precision=[]\n",
    "    l_recall=[]\n",
    "    l_f1score=[]\n",
    "    \n",
    "    for y in range(1,6):\n",
    "        precision = precision_score(x[x['Fold']==y]['obs'], x[x['Fold']==y]['pred'], labels=[0,1], average='binary',pos_label=1)\n",
    "        recall = recall_score(x[x['Fold']==y]['obs'], x[x['Fold']==y]['pred'], labels=[0,1], average='binary',pos_label=1)\n",
    "        f1score=fbeta_score(x[x['Fold']==y]['obs'], x[x['Fold']==y]['pred'], labels=[0,1], average='binary',pos_label=1, beta=1)\n",
    "        l_precision.append(precision)\n",
    "        l_recall.append(recall)\n",
    "        l_f1score.append(f1score)\n",
    "        \n",
    "    print('Recall: %.3f' % (sum(l_recall)/5))\n",
    "    print('Precision: %.3f' % (sum(l_precision)/5))\n",
    "    print('F1score: %.3f' % (sum(l_f1score)/5))"
   ]
  },
  {
   "cell_type": "code",
   "execution_count": null,
   "id": "f435e79a",
   "metadata": {},
   "outputs": [],
   "source": []
  }
 ],
 "metadata": {
  "kernelspec": {
   "display_name": "Python 3 (ipykernel)",
   "language": "python",
   "name": "python3"
  },
  "language_info": {
   "codemirror_mode": {
    "name": "ipython",
    "version": 3
   },
   "file_extension": ".py",
   "mimetype": "text/x-python",
   "name": "python",
   "nbconvert_exporter": "python",
   "pygments_lexer": "ipython3",
   "version": "3.10.4"
  }
 },
 "nbformat": 4,
 "nbformat_minor": 5
}
