{
 "cells": [
  {
   "cell_type": "code",
   "execution_count": 1,
   "id": "231e112c",
   "metadata": {},
   "outputs": [],
   "source": [
    "from sklearn.tree import DecisionTreeClassifier  #ładowanie fukcji do tworzenia instacji drzew dla Y ciaglego\n",
    "\n",
    "#import dtreeviz.trees as dtv # importowanie dtreeviz\n",
    "\n",
    "import pandas as pd\n",
    "import numpy as np\n",
    "import seaborn as sn\n",
    "\n",
    "from sklearn.model_selection import cross_val_score,  StratifiedKFold\n",
    "import matplotlib.pyplot as plt \n",
    "from sklearn.model_selection import train_test_split\n",
    "from sklearn.preprocessing import StandardScaler\n",
    "from sklearn.model_selection import GridSearchCV\n",
    "from sklearn.metrics import confusion_matrix\n",
    "from sklearn.metrics import fbeta_score\n",
    "from sklearn.metrics import make_scorer\n",
    "\n",
    "\n",
    "from sklearn.model_selection import cross_val_score,  StratifiedKFold"
   ]
  },
  {
   "cell_type": "code",
   "execution_count": 9,
   "id": "279a77b9",
   "metadata": {},
   "outputs": [],
   "source": [
    "train_df=pd.read_csv(\"D:/STUDIA/ROK_II/Magisterka/Modele/Dane pierwotne/Dane_do_uczenia_M.csv\", encoding=\"utf-8\")\n",
    "del train_df['Unnamed: 0']"
   ]
  },
  {
   "cell_type": "code",
   "execution_count": 10,
   "id": "43d432f9",
   "metadata": {},
   "outputs": [],
   "source": [
    "train_df=train_df.loc[(train_df['scale']!='MX')]"
   ]
  },
  {
   "cell_type": "code",
   "execution_count": 11,
   "id": "fabc6666",
   "metadata": {},
   "outputs": [
    {
     "data": {
      "text/html": [
       "<div>\n",
       "<style scoped>\n",
       "    .dataframe tbody tr th:only-of-type {\n",
       "        vertical-align: middle;\n",
       "    }\n",
       "\n",
       "    .dataframe tbody tr th {\n",
       "        vertical-align: top;\n",
       "    }\n",
       "\n",
       "    .dataframe thead th {\n",
       "        text-align: right;\n",
       "    }\n",
       "</style>\n",
       "<table border=\"1\" class=\"dataframe\">\n",
       "  <thead>\n",
       "    <tr style=\"text-align: right;\">\n",
       "      <th></th>\n",
       "      <th>ENSG00000212232.1</th>\n",
       "      <th>ENSG00000238741.1</th>\n",
       "      <th>ENSG00000252481.1</th>\n",
       "      <th>ENSG00000239002.3</th>\n",
       "      <th>ENSG00000212443.1</th>\n",
       "      <th>ENSG00000274012.1</th>\n",
       "      <th>ENSG00000252010.1</th>\n",
       "      <th>ENSG00000202198.1</th>\n",
       "      <th>ENSG00000251791.1</th>\n",
       "      <th>ENSG00000202058.1</th>\n",
       "      <th>...</th>\n",
       "      <th>ENSG00000241475.1</th>\n",
       "      <th>ENSG00000274618.1</th>\n",
       "      <th>ENSG00000227293.1</th>\n",
       "      <th>ENSG00000253526.1</th>\n",
       "      <th>ENSG00000270654.1</th>\n",
       "      <th>ENSG00000271394.1</th>\n",
       "      <th>ENSG00000265423.1</th>\n",
       "      <th>ENSG00000253165.1</th>\n",
       "      <th>ENSG00000201901.1</th>\n",
       "      <th>scale</th>\n",
       "    </tr>\n",
       "  </thead>\n",
       "  <tbody>\n",
       "    <tr>\n",
       "      <th>0</th>\n",
       "      <td>27.356617</td>\n",
       "      <td>31.768974</td>\n",
       "      <td>27.356617</td>\n",
       "      <td>5.294829</td>\n",
       "      <td>8.824715</td>\n",
       "      <td>6.645010e+02</td>\n",
       "      <td>2.647415</td>\n",
       "      <td>4.235863e+02</td>\n",
       "      <td>7.059772</td>\n",
       "      <td>16.766959</td>\n",
       "      <td>...</td>\n",
       "      <td>0.000000</td>\n",
       "      <td>0.000000</td>\n",
       "      <td>0.000000</td>\n",
       "      <td>0.000000</td>\n",
       "      <td>0.000000</td>\n",
       "      <td>0.000000</td>\n",
       "      <td>0.000000</td>\n",
       "      <td>0.0</td>\n",
       "      <td>0.000000</td>\n",
       "      <td>M0</td>\n",
       "    </tr>\n",
       "    <tr>\n",
       "      <th>1</th>\n",
       "      <td>8.695633</td>\n",
       "      <td>1.086954</td>\n",
       "      <td>6.521724</td>\n",
       "      <td>2.173908</td>\n",
       "      <td>0.000000</td>\n",
       "      <td>1.758692e+03</td>\n",
       "      <td>1.086954</td>\n",
       "      <td>5.434770e+01</td>\n",
       "      <td>0.000000</td>\n",
       "      <td>0.000000</td>\n",
       "      <td>...</td>\n",
       "      <td>0.000000</td>\n",
       "      <td>0.000000</td>\n",
       "      <td>0.000000</td>\n",
       "      <td>0.000000</td>\n",
       "      <td>0.000000</td>\n",
       "      <td>0.000000</td>\n",
       "      <td>0.000000</td>\n",
       "      <td>0.0</td>\n",
       "      <td>0.000000</td>\n",
       "      <td>M0</td>\n",
       "    </tr>\n",
       "    <tr>\n",
       "      <th>2</th>\n",
       "      <td>20.185177</td>\n",
       "      <td>77.002713</td>\n",
       "      <td>7.475992</td>\n",
       "      <td>4.485595</td>\n",
       "      <td>8.971190</td>\n",
       "      <td>2.775836e+03</td>\n",
       "      <td>2.242797</td>\n",
       "      <td>2.609121e+02</td>\n",
       "      <td>6.728392</td>\n",
       "      <td>10.466388</td>\n",
       "      <td>...</td>\n",
       "      <td>0.000000</td>\n",
       "      <td>0.747599</td>\n",
       "      <td>0.000000</td>\n",
       "      <td>0.747599</td>\n",
       "      <td>0.000000</td>\n",
       "      <td>0.747599</td>\n",
       "      <td>0.000000</td>\n",
       "      <td>0.0</td>\n",
       "      <td>0.000000</td>\n",
       "      <td>M0</td>\n",
       "    </tr>\n",
       "    <tr>\n",
       "      <th>3</th>\n",
       "      <td>18.157930</td>\n",
       "      <td>17.431612</td>\n",
       "      <td>6.536855</td>\n",
       "      <td>2.178952</td>\n",
       "      <td>2.905269</td>\n",
       "      <td>2.338741e+02</td>\n",
       "      <td>3.631586</td>\n",
       "      <td>6.827382e+01</td>\n",
       "      <td>1.452634</td>\n",
       "      <td>1.452634</td>\n",
       "      <td>...</td>\n",
       "      <td>0.726317</td>\n",
       "      <td>0.000000</td>\n",
       "      <td>0.000000</td>\n",
       "      <td>0.000000</td>\n",
       "      <td>0.000000</td>\n",
       "      <td>0.000000</td>\n",
       "      <td>0.000000</td>\n",
       "      <td>0.0</td>\n",
       "      <td>0.000000</td>\n",
       "      <td>M0</td>\n",
       "    </tr>\n",
       "    <tr>\n",
       "      <th>4</th>\n",
       "      <td>29912.168049</td>\n",
       "      <td>21631.677176</td>\n",
       "      <td>9554.333460</td>\n",
       "      <td>20332.131551</td>\n",
       "      <td>5136.495208</td>\n",
       "      <td>1.255850e+06</td>\n",
       "      <td>19221.760289</td>\n",
       "      <td>1.926818e+06</td>\n",
       "      <td>5198.182500</td>\n",
       "      <td>2655.637935</td>\n",
       "      <td>...</td>\n",
       "      <td>0.000000</td>\n",
       "      <td>953.068666</td>\n",
       "      <td>0.000000</td>\n",
       "      <td>20.562431</td>\n",
       "      <td>0.000000</td>\n",
       "      <td>269.367843</td>\n",
       "      <td>64.771657</td>\n",
       "      <td>0.0</td>\n",
       "      <td>123.374585</td>\n",
       "      <td>M0</td>\n",
       "    </tr>\n",
       "    <tr>\n",
       "      <th>...</th>\n",
       "      <td>...</td>\n",
       "      <td>...</td>\n",
       "      <td>...</td>\n",
       "      <td>...</td>\n",
       "      <td>...</td>\n",
       "      <td>...</td>\n",
       "      <td>...</td>\n",
       "      <td>...</td>\n",
       "      <td>...</td>\n",
       "      <td>...</td>\n",
       "      <td>...</td>\n",
       "      <td>...</td>\n",
       "      <td>...</td>\n",
       "      <td>...</td>\n",
       "      <td>...</td>\n",
       "      <td>...</td>\n",
       "      <td>...</td>\n",
       "      <td>...</td>\n",
       "      <td>...</td>\n",
       "      <td>...</td>\n",
       "      <td>...</td>\n",
       "    </tr>\n",
       "    <tr>\n",
       "      <th>705</th>\n",
       "      <td>10.162692</td>\n",
       "      <td>2.540673</td>\n",
       "      <td>5.081346</td>\n",
       "      <td>2.540673</td>\n",
       "      <td>0.000000</td>\n",
       "      <td>3.506976e+03</td>\n",
       "      <td>10.162692</td>\n",
       "      <td>2.345888e+02</td>\n",
       "      <td>2.540673</td>\n",
       "      <td>1.693782</td>\n",
       "      <td>...</td>\n",
       "      <td>0.000000</td>\n",
       "      <td>1.693782</td>\n",
       "      <td>0.000000</td>\n",
       "      <td>0.000000</td>\n",
       "      <td>0.000000</td>\n",
       "      <td>1.693782</td>\n",
       "      <td>0.846891</td>\n",
       "      <td>0.0</td>\n",
       "      <td>0.000000</td>\n",
       "      <td>M1</td>\n",
       "    </tr>\n",
       "    <tr>\n",
       "      <th>706</th>\n",
       "      <td>8.657314</td>\n",
       "      <td>4.328657</td>\n",
       "      <td>7.791583</td>\n",
       "      <td>2.597194</td>\n",
       "      <td>0.000000</td>\n",
       "      <td>1.103808e+03</td>\n",
       "      <td>6.925851</td>\n",
       "      <td>4.068938e+01</td>\n",
       "      <td>9.523046</td>\n",
       "      <td>5.194389</td>\n",
       "      <td>...</td>\n",
       "      <td>0.000000</td>\n",
       "      <td>0.000000</td>\n",
       "      <td>0.865731</td>\n",
       "      <td>0.000000</td>\n",
       "      <td>0.000000</td>\n",
       "      <td>0.000000</td>\n",
       "      <td>0.000000</td>\n",
       "      <td>0.0</td>\n",
       "      <td>0.000000</td>\n",
       "      <td>M1</td>\n",
       "    </tr>\n",
       "    <tr>\n",
       "      <th>707</th>\n",
       "      <td>13.471784</td>\n",
       "      <td>17.145907</td>\n",
       "      <td>25.718861</td>\n",
       "      <td>2.449415</td>\n",
       "      <td>3.674123</td>\n",
       "      <td>2.878063e+02</td>\n",
       "      <td>9.797661</td>\n",
       "      <td>9.185307e+01</td>\n",
       "      <td>11.022369</td>\n",
       "      <td>34.291814</td>\n",
       "      <td>...</td>\n",
       "      <td>0.000000</td>\n",
       "      <td>0.000000</td>\n",
       "      <td>0.000000</td>\n",
       "      <td>0.000000</td>\n",
       "      <td>0.000000</td>\n",
       "      <td>2.449415</td>\n",
       "      <td>1.224708</td>\n",
       "      <td>0.0</td>\n",
       "      <td>3.674123</td>\n",
       "      <td>M1</td>\n",
       "    </tr>\n",
       "    <tr>\n",
       "      <th>708</th>\n",
       "      <td>12.814782</td>\n",
       "      <td>34.706702</td>\n",
       "      <td>25.629565</td>\n",
       "      <td>2.135797</td>\n",
       "      <td>11.212935</td>\n",
       "      <td>1.056152e+03</td>\n",
       "      <td>4.271594</td>\n",
       "      <td>1.105275e+02</td>\n",
       "      <td>24.561666</td>\n",
       "      <td>17.620326</td>\n",
       "      <td>...</td>\n",
       "      <td>0.000000</td>\n",
       "      <td>0.533949</td>\n",
       "      <td>0.533949</td>\n",
       "      <td>0.000000</td>\n",
       "      <td>0.533949</td>\n",
       "      <td>0.000000</td>\n",
       "      <td>0.533949</td>\n",
       "      <td>0.0</td>\n",
       "      <td>0.533949</td>\n",
       "      <td>M1</td>\n",
       "    </tr>\n",
       "    <tr>\n",
       "      <th>709</th>\n",
       "      <td>1137.202672</td>\n",
       "      <td>171.967233</td>\n",
       "      <td>149.777913</td>\n",
       "      <td>493.712379</td>\n",
       "      <td>144.230583</td>\n",
       "      <td>6.814340e+04</td>\n",
       "      <td>660.132283</td>\n",
       "      <td>2.189809e+04</td>\n",
       "      <td>274.592840</td>\n",
       "      <td>27.736651</td>\n",
       "      <td>...</td>\n",
       "      <td>0.000000</td>\n",
       "      <td>16.641990</td>\n",
       "      <td>0.000000</td>\n",
       "      <td>0.000000</td>\n",
       "      <td>0.000000</td>\n",
       "      <td>0.000000</td>\n",
       "      <td>0.000000</td>\n",
       "      <td>0.0</td>\n",
       "      <td>0.000000</td>\n",
       "      <td>M1</td>\n",
       "    </tr>\n",
       "  </tbody>\n",
       "</table>\n",
       "<p>710 rows × 111 columns</p>\n",
       "</div>"
      ],
      "text/plain": [
       "     ENSG00000212232.1  ENSG00000238741.1  ENSG00000252481.1  \\\n",
       "0            27.356617          31.768974          27.356617   \n",
       "1             8.695633           1.086954           6.521724   \n",
       "2            20.185177          77.002713           7.475992   \n",
       "3            18.157930          17.431612           6.536855   \n",
       "4         29912.168049       21631.677176        9554.333460   \n",
       "..                 ...                ...                ...   \n",
       "705          10.162692           2.540673           5.081346   \n",
       "706           8.657314           4.328657           7.791583   \n",
       "707          13.471784          17.145907          25.718861   \n",
       "708          12.814782          34.706702          25.629565   \n",
       "709        1137.202672         171.967233         149.777913   \n",
       "\n",
       "     ENSG00000239002.3  ENSG00000212443.1  ENSG00000274012.1  \\\n",
       "0             5.294829           8.824715       6.645010e+02   \n",
       "1             2.173908           0.000000       1.758692e+03   \n",
       "2             4.485595           8.971190       2.775836e+03   \n",
       "3             2.178952           2.905269       2.338741e+02   \n",
       "4         20332.131551        5136.495208       1.255850e+06   \n",
       "..                 ...                ...                ...   \n",
       "705           2.540673           0.000000       3.506976e+03   \n",
       "706           2.597194           0.000000       1.103808e+03   \n",
       "707           2.449415           3.674123       2.878063e+02   \n",
       "708           2.135797          11.212935       1.056152e+03   \n",
       "709         493.712379         144.230583       6.814340e+04   \n",
       "\n",
       "     ENSG00000252010.1  ENSG00000202198.1  ENSG00000251791.1  \\\n",
       "0             2.647415       4.235863e+02           7.059772   \n",
       "1             1.086954       5.434770e+01           0.000000   \n",
       "2             2.242797       2.609121e+02           6.728392   \n",
       "3             3.631586       6.827382e+01           1.452634   \n",
       "4         19221.760289       1.926818e+06        5198.182500   \n",
       "..                 ...                ...                ...   \n",
       "705          10.162692       2.345888e+02           2.540673   \n",
       "706           6.925851       4.068938e+01           9.523046   \n",
       "707           9.797661       9.185307e+01          11.022369   \n",
       "708           4.271594       1.105275e+02          24.561666   \n",
       "709         660.132283       2.189809e+04         274.592840   \n",
       "\n",
       "     ENSG00000202058.1  ...  ENSG00000241475.1  ENSG00000274618.1  \\\n",
       "0            16.766959  ...           0.000000           0.000000   \n",
       "1             0.000000  ...           0.000000           0.000000   \n",
       "2            10.466388  ...           0.000000           0.747599   \n",
       "3             1.452634  ...           0.726317           0.000000   \n",
       "4          2655.637935  ...           0.000000         953.068666   \n",
       "..                 ...  ...                ...                ...   \n",
       "705           1.693782  ...           0.000000           1.693782   \n",
       "706           5.194389  ...           0.000000           0.000000   \n",
       "707          34.291814  ...           0.000000           0.000000   \n",
       "708          17.620326  ...           0.000000           0.533949   \n",
       "709          27.736651  ...           0.000000          16.641990   \n",
       "\n",
       "     ENSG00000227293.1  ENSG00000253526.1  ENSG00000270654.1  \\\n",
       "0             0.000000           0.000000           0.000000   \n",
       "1             0.000000           0.000000           0.000000   \n",
       "2             0.000000           0.747599           0.000000   \n",
       "3             0.000000           0.000000           0.000000   \n",
       "4             0.000000          20.562431           0.000000   \n",
       "..                 ...                ...                ...   \n",
       "705           0.000000           0.000000           0.000000   \n",
       "706           0.865731           0.000000           0.000000   \n",
       "707           0.000000           0.000000           0.000000   \n",
       "708           0.533949           0.000000           0.533949   \n",
       "709           0.000000           0.000000           0.000000   \n",
       "\n",
       "     ENSG00000271394.1  ENSG00000265423.1  ENSG00000253165.1  \\\n",
       "0             0.000000           0.000000                0.0   \n",
       "1             0.000000           0.000000                0.0   \n",
       "2             0.747599           0.000000                0.0   \n",
       "3             0.000000           0.000000                0.0   \n",
       "4           269.367843          64.771657                0.0   \n",
       "..                 ...                ...                ...   \n",
       "705           1.693782           0.846891                0.0   \n",
       "706           0.000000           0.000000                0.0   \n",
       "707           2.449415           1.224708                0.0   \n",
       "708           0.000000           0.533949                0.0   \n",
       "709           0.000000           0.000000                0.0   \n",
       "\n",
       "     ENSG00000201901.1  scale  \n",
       "0             0.000000     M0  \n",
       "1             0.000000     M0  \n",
       "2             0.000000     M0  \n",
       "3             0.000000     M0  \n",
       "4           123.374585     M0  \n",
       "..                 ...    ...  \n",
       "705           0.000000     M1  \n",
       "706           0.000000     M1  \n",
       "707           3.674123     M1  \n",
       "708           0.533949     M1  \n",
       "709           0.000000     M1  \n",
       "\n",
       "[710 rows x 111 columns]"
      ]
     },
     "execution_count": 11,
     "metadata": {},
     "output_type": "execute_result"
    }
   ],
   "source": [
    "train_df"
   ]
  },
  {
   "cell_type": "code",
   "execution_count": 12,
   "id": "3180108a",
   "metadata": {},
   "outputs": [],
   "source": [
    "y=train_df['scale']\n",
    "del train_df['scale']"
   ]
  },
  {
   "cell_type": "code",
   "execution_count": 13,
   "id": "522dde88",
   "metadata": {},
   "outputs": [],
   "source": [
    "zestaw_caly = np.array(train_df)\n",
    "caly_label = np.array(y)"
   ]
  },
  {
   "cell_type": "code",
   "execution_count": 14,
   "id": "4957e16d",
   "metadata": {},
   "outputs": [],
   "source": [
    "ftwo_scorer = make_scorer(fbeta_score, beta=1,labels=['M0','M1'],pos_label='M1',greater_is_better=True)\n"
   ]
  },
  {
   "cell_type": "code",
   "execution_count": 15,
   "id": "dd52d646",
   "metadata": {},
   "outputs": [],
   "source": [
    "param_grid = {\n",
    "    'criterion':['gini', 'entropy'],\n",
    "    'splitter':['best', 'random'],\n",
    "    'min_samples_split':range(2,6,1),\n",
    "    'min_samples_leaf': range(1,6,1),    \n",
    "    'max_leaf_nodes':range(2,6,1),\n",
    "    'min_impurity_decrease':[0,0.1,0.2],\n",
    "    'max_depth':list(range(2, 6,1))\n",
    "}"
   ]
  },
  {
   "cell_type": "code",
   "execution_count": 16,
   "id": "9c029bf3",
   "metadata": {},
   "outputs": [
    {
     "name": "stdout",
     "output_type": "stream",
     "text": [
      "Fitting 5 folds for each of 3840 candidates, totalling 19200 fits\n"
     ]
    },
    {
     "data": {
      "text/plain": [
       "GridSearchCV(cv=5, estimator=DecisionTreeClassifier(random_state=42), n_jobs=6,\n",
       "             param_grid={'criterion': ['gini', 'entropy'],\n",
       "                         'max_depth': [2, 3, 4, 5],\n",
       "                         'max_leaf_nodes': range(2, 6),\n",
       "                         'min_impurity_decrease': [0, 0.1, 0.2],\n",
       "                         'min_samples_leaf': range(1, 6),\n",
       "                         'min_samples_split': range(2, 6),\n",
       "                         'splitter': ['best', 'random']},\n",
       "             scoring=make_scorer(fbeta_score, beta=1, labels=['M0', 'M1'], pos_label=M1),\n",
       "             verbose=1)"
      ]
     },
     "execution_count": 16,
     "metadata": {},
     "output_type": "execute_result"
    }
   ],
   "source": [
    "dt_1 = DecisionTreeClassifier(random_state=42)\n",
    "grid_search_1 = GridSearchCV(estimator = dt_1, param_grid = param_grid, \n",
    "                          cv = 5, n_jobs = 6, verbose = 1,scoring=ftwo_scorer)\n",
    "grid_search_1.fit(zestaw_caly, np.ravel(caly_label))"
   ]
  },
  {
   "cell_type": "code",
   "execution_count": 17,
   "id": "f9317496",
   "metadata": {},
   "outputs": [
    {
     "data": {
      "text/plain": [
       "0.12230825496342738"
      ]
     },
     "execution_count": 17,
     "metadata": {},
     "output_type": "execute_result"
    }
   ],
   "source": [
    "grid_search_1.best_score_"
   ]
  },
  {
   "cell_type": "code",
   "execution_count": 18,
   "id": "2be67130",
   "metadata": {},
   "outputs": [
    {
     "data": {
      "text/plain": [
       "{'criterion': 'gini',\n",
       " 'max_depth': 4,\n",
       " 'max_leaf_nodes': 5,\n",
       " 'min_impurity_decrease': 0,\n",
       " 'min_samples_leaf': 1,\n",
       " 'min_samples_split': 2,\n",
       " 'splitter': 'best'}"
      ]
     },
     "execution_count": 18,
     "metadata": {},
     "output_type": "execute_result"
    }
   ],
   "source": [
    "grid_search_1.best_params_"
   ]
  },
  {
   "cell_type": "markdown",
   "id": "320527b1",
   "metadata": {},
   "source": [
    "### Dobieranie part.2"
   ]
  },
  {
   "cell_type": "code",
   "execution_count": 19,
   "id": "35902df6",
   "metadata": {},
   "outputs": [],
   "source": [
    "param_grid = {\n",
    "    'criterion':['gini'],\n",
    "    'splitter':['best',],\n",
    "    'min_samples_split':range(2,15,1),\n",
    "    'min_samples_leaf': range(2,5,1),    \n",
    "    'max_leaf_nodes':range(2,15,1),\n",
    "    'min_impurity_decrease':[0],\n",
    "    'max_depth':range(2,15,1)\n",
    "}"
   ]
  },
  {
   "cell_type": "code",
   "execution_count": 20,
   "id": "98e6dd1b",
   "metadata": {},
   "outputs": [
    {
     "name": "stdout",
     "output_type": "stream",
     "text": [
      "Fitting 5 folds for each of 6591 candidates, totalling 32955 fits\n"
     ]
    },
    {
     "data": {
      "text/plain": [
       "GridSearchCV(cv=5, estimator=DecisionTreeClassifier(random_state=42), n_jobs=6,\n",
       "             param_grid={'criterion': ['gini'], 'max_depth': range(2, 15),\n",
       "                         'max_leaf_nodes': range(2, 15),\n",
       "                         'min_impurity_decrease': [0],\n",
       "                         'min_samples_leaf': range(2, 5),\n",
       "                         'min_samples_split': range(2, 15),\n",
       "                         'splitter': ['best']},\n",
       "             scoring=make_scorer(fbeta_score, beta=1, labels=['M0', 'M1'], pos_label=M1),\n",
       "             verbose=1)"
      ]
     },
     "execution_count": 20,
     "metadata": {},
     "output_type": "execute_result"
    }
   ],
   "source": [
    "dt_1 = DecisionTreeClassifier(random_state=42)\n",
    "\n",
    "grid_search_1 = GridSearchCV(estimator = dt_1, param_grid = param_grid, \n",
    "                          cv = 5, n_jobs = 6, verbose = 1,scoring=ftwo_scorer)\n",
    "grid_search_1.fit(zestaw_caly, np.ravel(caly_label))"
   ]
  },
  {
   "cell_type": "code",
   "execution_count": 21,
   "id": "7bbe4ec1",
   "metadata": {},
   "outputs": [
    {
     "data": {
      "text/plain": [
       "0.18826493388052895"
      ]
     },
     "execution_count": 21,
     "metadata": {},
     "output_type": "execute_result"
    }
   ],
   "source": [
    "grid_search_1.best_score_#0.17815571639524969"
   ]
  },
  {
   "cell_type": "code",
   "execution_count": 22,
   "id": "51192b0c",
   "metadata": {},
   "outputs": [
    {
     "data": {
      "text/plain": [
       "{'criterion': 'gini',\n",
       " 'max_depth': 7,\n",
       " 'max_leaf_nodes': 14,\n",
       " 'min_impurity_decrease': 0,\n",
       " 'min_samples_leaf': 3,\n",
       " 'min_samples_split': 2,\n",
       " 'splitter': 'best'}"
      ]
     },
     "execution_count": 22,
     "metadata": {},
     "output_type": "execute_result"
    }
   ],
   "source": [
    "grid_search_1.best_params_"
   ]
  },
  {
   "cell_type": "markdown",
   "id": "e41c637e",
   "metadata": {},
   "source": [
    "## Dobieranie part .3"
   ]
  },
  {
   "cell_type": "code",
   "execution_count": 23,
   "id": "8d0ed51c",
   "metadata": {},
   "outputs": [],
   "source": [
    "param_grid = {\n",
    "    'criterion':['gini'],\n",
    "    'splitter':['best',],\n",
    "    'min_samples_split':range(2,15,1),\n",
    "    'min_samples_leaf': range(2,5,1),    \n",
    "    'max_leaf_nodes':range(10,30,1),\n",
    "    'min_impurity_decrease':[0],\n",
    "    'max_depth':range(2,15,1)\n",
    "}"
   ]
  },
  {
   "cell_type": "code",
   "execution_count": 24,
   "id": "8e0e0817",
   "metadata": {},
   "outputs": [
    {
     "name": "stdout",
     "output_type": "stream",
     "text": [
      "Fitting 5 folds for each of 10140 candidates, totalling 50700 fits\n"
     ]
    },
    {
     "data": {
      "text/plain": [
       "GridSearchCV(cv=5, estimator=DecisionTreeClassifier(random_state=42), n_jobs=6,\n",
       "             param_grid={'criterion': ['gini'], 'max_depth': range(2, 15),\n",
       "                         'max_leaf_nodes': range(10, 30),\n",
       "                         'min_impurity_decrease': [0],\n",
       "                         'min_samples_leaf': range(2, 5),\n",
       "                         'min_samples_split': range(2, 15),\n",
       "                         'splitter': ['best']},\n",
       "             scoring=make_scorer(fbeta_score, beta=1, labels=['M0', 'M1'], pos_label=M1),\n",
       "             verbose=1)"
      ]
     },
     "execution_count": 24,
     "metadata": {},
     "output_type": "execute_result"
    }
   ],
   "source": [
    "dt_1 = DecisionTreeClassifier(random_state=42)\n",
    "\n",
    "grid_search_1 = GridSearchCV(estimator = dt_1, param_grid = param_grid, \n",
    "                          cv = 5, n_jobs = 6, verbose = 1,scoring=ftwo_scorer)\n",
    "grid_search_1.fit(zestaw_caly, np.ravel(caly_label))"
   ]
  },
  {
   "cell_type": "code",
   "execution_count": 26,
   "id": "49eeb111",
   "metadata": {},
   "outputs": [
    {
     "data": {
      "text/plain": [
       "0.24875317510173978"
      ]
     },
     "execution_count": 26,
     "metadata": {},
     "output_type": "execute_result"
    }
   ],
   "source": [
    "grid_search_1.best_score_#0.17815571639524969"
   ]
  },
  {
   "cell_type": "code",
   "execution_count": 25,
   "id": "3366f98e",
   "metadata": {},
   "outputs": [
    {
     "data": {
      "text/plain": [
       "{'criterion': 'gini',\n",
       " 'max_depth': 8,\n",
       " 'max_leaf_nodes': 29,\n",
       " 'min_impurity_decrease': 0,\n",
       " 'min_samples_leaf': 3,\n",
       " 'min_samples_split': 14,\n",
       " 'splitter': 'best'}"
      ]
     },
     "execution_count": 25,
     "metadata": {},
     "output_type": "execute_result"
    }
   ],
   "source": [
    "grid_search_1.best_params_"
   ]
  },
  {
   "cell_type": "code",
   "execution_count": 28,
   "id": "20510476",
   "metadata": {},
   "outputs": [],
   "source": [
    "param_grid = {\n",
    "    'criterion':['gini'],\n",
    "    'splitter':['best',],\n",
    "    'min_samples_split':range(10,25,1),\n",
    "    'min_samples_leaf': range(2,5,1),    \n",
    "    'max_leaf_nodes':range(20,50,1),\n",
    "    'min_impurity_decrease':[0],\n",
    "    'max_depth':range(2,15,1)\n",
    "}"
   ]
  },
  {
   "cell_type": "code",
   "execution_count": 29,
   "id": "e0780fb4",
   "metadata": {},
   "outputs": [
    {
     "name": "stdout",
     "output_type": "stream",
     "text": [
      "Fitting 5 folds for each of 17550 candidates, totalling 87750 fits\n"
     ]
    },
    {
     "data": {
      "text/plain": [
       "GridSearchCV(cv=5, estimator=DecisionTreeClassifier(random_state=42), n_jobs=6,\n",
       "             param_grid={'criterion': ['gini'], 'max_depth': range(2, 15),\n",
       "                         'max_leaf_nodes': range(20, 50),\n",
       "                         'min_impurity_decrease': [0],\n",
       "                         'min_samples_leaf': range(2, 5),\n",
       "                         'min_samples_split': range(10, 25),\n",
       "                         'splitter': ['best']},\n",
       "             scoring=make_scorer(fbeta_score, beta=1, labels=['M0', 'M1'], pos_label=M1),\n",
       "             verbose=1)"
      ]
     },
     "execution_count": 29,
     "metadata": {},
     "output_type": "execute_result"
    }
   ],
   "source": [
    "dt_1 = DecisionTreeClassifier(random_state=42)\n",
    "\n",
    "grid_search_1 = GridSearchCV(estimator = dt_1, param_grid = param_grid, \n",
    "                          cv = 5, n_jobs = 6, verbose = 1,scoring=ftwo_scorer)\n",
    "grid_search_1.fit(zestaw_caly, np.ravel(caly_label))"
   ]
  },
  {
   "cell_type": "code",
   "execution_count": 30,
   "id": "3f347700",
   "metadata": {},
   "outputs": [
    {
     "data": {
      "text/plain": [
       "0.24912280701754383"
      ]
     },
     "execution_count": 30,
     "metadata": {},
     "output_type": "execute_result"
    }
   ],
   "source": [
    "grid_search_1.best_score_#0.17815571639524969"
   ]
  },
  {
   "cell_type": "code",
   "execution_count": 31,
   "id": "dde08323",
   "metadata": {},
   "outputs": [
    {
     "data": {
      "text/plain": [
       "{'criterion': 'gini',\n",
       " 'max_depth': 7,\n",
       " 'max_leaf_nodes': 30,\n",
       " 'min_impurity_decrease': 0,\n",
       " 'min_samples_leaf': 3,\n",
       " 'min_samples_split': 10,\n",
       " 'splitter': 'best'}"
      ]
     },
     "execution_count": 31,
     "metadata": {},
     "output_type": "execute_result"
    }
   ],
   "source": [
    "grid_search_1.best_params_"
   ]
  },
  {
   "cell_type": "code",
   "execution_count": 34,
   "id": "3a5e741b",
   "metadata": {},
   "outputs": [
    {
     "data": {
      "text/plain": [
       "DecisionTreeClassifier(max_depth=7, max_leaf_nodes=30, min_impurity_decrease=0,\n",
       "                       min_samples_leaf=3, min_samples_split=10,\n",
       "                       random_state=42)"
      ]
     },
     "execution_count": 34,
     "metadata": {},
     "output_type": "execute_result"
    }
   ],
   "source": [
    "grid_search_1.best_estimator_"
   ]
  },
  {
   "cell_type": "markdown",
   "id": "5c36145f",
   "metadata": {},
   "source": [
    "## Cross - walidacja"
   ]
  },
  {
   "cell_type": "code",
   "execution_count": 35,
   "id": "bc0a7484",
   "metadata": {},
   "outputs": [],
   "source": [
    "kfold = StratifiedKFold(n_splits=5, shuffle=True,random_state=42)\n",
    "dane_do_zapisu_2=pd.DataFrame()\n",
    "licznik=1\n",
    "wart_2=[]\n",
    "for train, test in kfold.split(zestaw_caly, caly_label):\n",
    "    dt_2 =DecisionTreeClassifier(max_depth=7, max_leaf_nodes=30, min_impurity_decrease=0,\n",
    "                       min_samples_leaf=3, min_samples_split=10,\n",
    "                       random_state=42)\n",
    "    \n",
    "\n",
    "    dt_2.fit(zestaw_caly[train], caly_label[train])\n",
    "    predykcje=dt_2.predict(zestaw_caly[test])\n",
    "    dane_folda_2=pd.DataFrame({\"pred\": predykcje.ravel(),\n",
    "                                \"obs\": caly_label[test],\n",
    "                                \"Fold\":licznik})\n",
    "    dane_do_zapisu_2=pd.concat([dane_do_zapisu_2,dane_folda_2])\n",
    "    blad=fbeta_score(caly_label[test], predykcje, average='binary', beta=1,labels=['M0','M1'],pos_label='M1')\n",
    "    wart_2.append(blad)\n",
    "    licznik+=1"
   ]
  },
  {
   "cell_type": "code",
   "execution_count": 36,
   "id": "13e9f2ae",
   "metadata": {},
   "outputs": [],
   "source": [
    "dane_do_zapisu_2.to_csv('D:\\\\STUDIA\\\\ROK_II\\\\Magisterka\\\\Modele\\\\Dane pierwotne\\\\Dane z cross-walidacji\\\\Klasa_M_Drzewo_decyzyjne.csv')"
   ]
  },
  {
   "cell_type": "code",
   "execution_count": 3,
   "id": "dbf679ef",
   "metadata": {},
   "outputs": [],
   "source": [
    "dane_do_zapisu_2=pd.read_csv('D:\\\\STUDIA\\\\ROK_II\\\\Magisterka\\\\Modele\\\\Dane pierwotne\\\\Dane z cross-walidacji\\\\M\\\\Klasa_M_Drzewo_decyzyjne.csv')"
   ]
  },
  {
   "cell_type": "code",
   "execution_count": 37,
   "id": "6042aff3",
   "metadata": {},
   "outputs": [
    {
     "data": {
      "text/plain": [
       "[0.2162162162162162,\n",
       " 0.19354838709677416,\n",
       " 0.18749999999999997,\n",
       " 0.2105263157894737,\n",
       " 0.358974358974359]"
      ]
     },
     "execution_count": 37,
     "metadata": {},
     "output_type": "execute_result"
    }
   ],
   "source": [
    "wart_2"
   ]
  },
  {
   "cell_type": "code",
   "execution_count": 4,
   "id": "2df5cd2f",
   "metadata": {},
   "outputs": [
    {
     "data": {
      "text/html": [
       "<div>\n",
       "<style scoped>\n",
       "    .dataframe tbody tr th:only-of-type {\n",
       "        vertical-align: middle;\n",
       "    }\n",
       "\n",
       "    .dataframe tbody tr th {\n",
       "        vertical-align: top;\n",
       "    }\n",
       "\n",
       "    .dataframe thead th {\n",
       "        text-align: right;\n",
       "    }\n",
       "</style>\n",
       "<table border=\"1\" class=\"dataframe\">\n",
       "  <thead>\n",
       "    <tr style=\"text-align: right;\">\n",
       "      <th></th>\n",
       "      <th>Unnamed: 0</th>\n",
       "      <th>pred</th>\n",
       "      <th>obs</th>\n",
       "      <th>Fold</th>\n",
       "    </tr>\n",
       "  </thead>\n",
       "  <tbody>\n",
       "    <tr>\n",
       "      <th>0</th>\n",
       "      <td>0</td>\n",
       "      <td>M0</td>\n",
       "      <td>M0</td>\n",
       "      <td>1</td>\n",
       "    </tr>\n",
       "    <tr>\n",
       "      <th>1</th>\n",
       "      <td>1</td>\n",
       "      <td>M0</td>\n",
       "      <td>M0</td>\n",
       "      <td>1</td>\n",
       "    </tr>\n",
       "    <tr>\n",
       "      <th>2</th>\n",
       "      <td>2</td>\n",
       "      <td>M0</td>\n",
       "      <td>M0</td>\n",
       "      <td>1</td>\n",
       "    </tr>\n",
       "    <tr>\n",
       "      <th>3</th>\n",
       "      <td>3</td>\n",
       "      <td>M0</td>\n",
       "      <td>M0</td>\n",
       "      <td>1</td>\n",
       "    </tr>\n",
       "    <tr>\n",
       "      <th>4</th>\n",
       "      <td>4</td>\n",
       "      <td>M0</td>\n",
       "      <td>M0</td>\n",
       "      <td>1</td>\n",
       "    </tr>\n",
       "    <tr>\n",
       "      <th>...</th>\n",
       "      <td>...</td>\n",
       "      <td>...</td>\n",
       "      <td>...</td>\n",
       "      <td>...</td>\n",
       "    </tr>\n",
       "    <tr>\n",
       "      <th>705</th>\n",
       "      <td>137</td>\n",
       "      <td>M1</td>\n",
       "      <td>M1</td>\n",
       "      <td>5</td>\n",
       "    </tr>\n",
       "    <tr>\n",
       "      <th>706</th>\n",
       "      <td>138</td>\n",
       "      <td>M0</td>\n",
       "      <td>M1</td>\n",
       "      <td>5</td>\n",
       "    </tr>\n",
       "    <tr>\n",
       "      <th>707</th>\n",
       "      <td>139</td>\n",
       "      <td>M1</td>\n",
       "      <td>M1</td>\n",
       "      <td>5</td>\n",
       "    </tr>\n",
       "    <tr>\n",
       "      <th>708</th>\n",
       "      <td>140</td>\n",
       "      <td>M1</td>\n",
       "      <td>M1</td>\n",
       "      <td>5</td>\n",
       "    </tr>\n",
       "    <tr>\n",
       "      <th>709</th>\n",
       "      <td>141</td>\n",
       "      <td>M0</td>\n",
       "      <td>M1</td>\n",
       "      <td>5</td>\n",
       "    </tr>\n",
       "  </tbody>\n",
       "</table>\n",
       "<p>710 rows × 4 columns</p>\n",
       "</div>"
      ],
      "text/plain": [
       "     Unnamed: 0 pred obs  Fold\n",
       "0             0   M0  M0     1\n",
       "1             1   M0  M0     1\n",
       "2             2   M0  M0     1\n",
       "3             3   M0  M0     1\n",
       "4             4   M0  M0     1\n",
       "..          ...  ...  ..   ...\n",
       "705         137   M1  M1     5\n",
       "706         138   M0  M1     5\n",
       "707         139   M1  M1     5\n",
       "708         140   M1  M1     5\n",
       "709         141   M0  M1     5\n",
       "\n",
       "[710 rows x 4 columns]"
      ]
     },
     "execution_count": 4,
     "metadata": {},
     "output_type": "execute_result"
    }
   ],
   "source": [
    "dane_do_zapisu_2"
   ]
  },
  {
   "cell_type": "code",
   "execution_count": 5,
   "id": "bc2fdfe4",
   "metadata": {},
   "outputs": [],
   "source": [
    "cf_matrix = confusion_matrix(dane_do_zapisu_2['obs'], dane_do_zapisu_2['pred'])"
   ]
  },
  {
   "cell_type": "code",
   "execution_count": 6,
   "id": "f055872a",
   "metadata": {},
   "outputs": [
    {
     "data": {
      "text/plain": [
       "array([[554,  48],\n",
       "       [ 87,  21]], dtype=int64)"
      ]
     },
     "execution_count": 6,
     "metadata": {},
     "output_type": "execute_result"
    }
   ],
   "source": [
    "cf_matrix"
   ]
  },
  {
   "cell_type": "code",
   "execution_count": 7,
   "id": "b2821e97",
   "metadata": {},
   "outputs": [],
   "source": [
    "import seaborn as sns"
   ]
  },
  {
   "cell_type": "code",
   "execution_count": 8,
   "id": "d699c42b",
   "metadata": {},
   "outputs": [
    {
     "data": {
      "image/png": "[encoded data removed]",
      "text/plain": [
       "<Figure size 432x288 with 2 Axes>"
      ]
     },
     "metadata": {
      "needs_background": "light"
     },
     "output_type": "display_data"
    }
   ],
   "source": [
    "\n",
    "ax = plt.axes()\n",
    "sns.heatmap(cf_matrix, annot=True, fmt='g')\n",
    "\n",
    "ax.set_title('Dane pierwotne - Klasa M - DT')\n",
    "plt.ylabel('Rzeczywiste')\n",
    "plt.xlabel('Predykcja')\n",
    "plt.show()\n"
   ]
  },
  {
   "cell_type": "code",
   "execution_count": 43,
   "id": "ffc5cba4",
   "metadata": {},
   "outputs": [
    {
     "name": "stdout",
     "output_type": "stream",
     "text": [
      "Recall: 0.194\n",
      "Precision: 0.304\n",
      "F1score: 0.237\n"
     ]
    }
   ],
   "source": [
    "from sklearn.metrics import recall_score\n",
    "from sklearn.metrics import precision_score\n",
    "\n",
    "precision = precision_score(dane_do_zapisu_2['obs'], dane_do_zapisu_2['pred'], labels=['M0','M1'], average='binary',pos_label='M1')\n",
    "recall = recall_score(dane_do_zapisu_2['obs'], dane_do_zapisu_2['pred'], labels=['M0','M1'], average='binary',pos_label='M1')\n",
    "f1score=fbeta_score(dane_do_zapisu_2['obs'], dane_do_zapisu_2['pred'], labels=['M0','M1'], average='binary',pos_label='M1', beta=1)\n",
    "print('Recall: %.3f' % recall)\n",
    "print('Precision: %.3f' % precision)\n",
    "print('F1score: %.3f' % f1score)"
   ]
  },
  {
   "cell_type": "code",
   "execution_count": null,
   "id": "75ad9869",
   "metadata": {},
   "outputs": [],
   "source": []
  }
 ],
 "metadata": {
  "kernelspec": {
   "display_name": "Python 3 (ipykernel)",
   "language": "python",
   "name": "python3"
  },
  "language_info": {
   "codemirror_mode": {
    "name": "ipython",
    "version": 3
   },
   "file_extension": ".py",
   "mimetype": "text/x-python",
   "name": "python",
   "nbconvert_exporter": "python",
   "pygments_lexer": "ipython3",
   "version": "3.10.4"
  }
 },
 "nbformat": 4,
 "nbformat_minor": 5
}
