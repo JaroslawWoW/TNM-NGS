{
 "cells": [
  {
   "cell_type": "code",
   "execution_count": 1,
   "id": "6216172e",
   "metadata": {},
   "outputs": [],
   "source": [
    "import pandas as pd\n",
    "import sklearn.tree\n",
    "import numpy as np\n",
    "from sklearn.ensemble import GradientBoostingClassifier\n",
    "#import dtreeviz.trees as dtv # importowanie dtreeviz\n",
    "from sklearn.model_selection import GridSearchCV\n",
    "#from dtreeviz.trees import *\n",
    "\n",
    "from sklearn.model_selection import train_test_split\n",
    "from sklearn.model_selection import cross_val_score, KFold\n",
    "from sklearn.metrics import mean_absolute_error\n",
    "import matplotlib.pyplot as plt \n",
    "\n",
    "from sklearn.metrics import make_scorer\n",
    "\n",
    "#import graphviz\n",
    "\n",
    "from sklearn.metrics import fbeta_score\n",
    "\n",
    "\n",
    "from sklearn.model_selection import cross_val_score,  StratifiedKFold\n",
    "from sklearn.metrics import f1_score"
   ]
  },
  {
   "cell_type": "code",
   "execution_count": 2,
   "id": "c4b9f5be",
   "metadata": {},
   "outputs": [],
   "source": [
    "train_df=pd.read_csv(\"D:/STUDIA/ROK_II/Magisterka/Modele/Dane pierwotne/Dane_do_uczenia_T.csv\", encoding=\"utf-8\")\n",
    "del train_df['Unnamed: 0']"
   ]
  },
  {
   "cell_type": "code",
   "execution_count": 3,
   "id": "eaf4dba2",
   "metadata": {},
   "outputs": [
    {
     "data": {
      "text/html": [
       "<div>\n",
       "<style scoped>\n",
       "    .dataframe tbody tr th:only-of-type {\n",
       "        vertical-align: middle;\n",
       "    }\n",
       "\n",
       "    .dataframe tbody tr th {\n",
       "        vertical-align: top;\n",
       "    }\n",
       "\n",
       "    .dataframe thead th {\n",
       "        text-align: right;\n",
       "    }\n",
       "</style>\n",
       "<table border=\"1\" class=\"dataframe\">\n",
       "  <thead>\n",
       "    <tr style=\"text-align: right;\">\n",
       "      <th></th>\n",
       "      <th>ENSG00000168779.18</th>\n",
       "      <th>ENSG00000043355.9</th>\n",
       "      <th>ENSG00000139800.8</th>\n",
       "      <th>ENSG00000095752.5</th>\n",
       "      <th>ENSG00000114270.14</th>\n",
       "      <th>ENSG00000143320.7</th>\n",
       "      <th>ENSG00000104112.7</th>\n",
       "      <th>ENSG00000168703.5</th>\n",
       "      <th>ENSG00000116176.6</th>\n",
       "      <th>ENSG00000188523.7</th>\n",
       "      <th>...</th>\n",
       "      <th>ENSG00000104755.13</th>\n",
       "      <th>ENSG00000250256.1</th>\n",
       "      <th>ENSG00000259447.1</th>\n",
       "      <th>ENSG00000235864.1</th>\n",
       "      <th>ENSG00000227718.1</th>\n",
       "      <th>ENSG00000229370.1</th>\n",
       "      <th>ENSG00000254434.1</th>\n",
       "      <th>ENSG00000233146.1</th>\n",
       "      <th>ENSG00000251969.3</th>\n",
       "      <th>scale</th>\n",
       "    </tr>\n",
       "  </thead>\n",
       "  <tbody>\n",
       "    <tr>\n",
       "      <th>0</th>\n",
       "      <td>6.418540</td>\n",
       "      <td>2.139513</td>\n",
       "      <td>2.139513</td>\n",
       "      <td>9.984396</td>\n",
       "      <td>139.068370</td>\n",
       "      <td>134.076172</td>\n",
       "      <td>11.410738</td>\n",
       "      <td>67.038086</td>\n",
       "      <td>173.300584</td>\n",
       "      <td>16.402936</td>\n",
       "      <td>...</td>\n",
       "      <td>0.000000</td>\n",
       "      <td>0.000000</td>\n",
       "      <td>0.000000</td>\n",
       "      <td>0.000000</td>\n",
       "      <td>0.000000</td>\n",
       "      <td>0.0</td>\n",
       "      <td>1.426342</td>\n",
       "      <td>0.713171</td>\n",
       "      <td>0.000000</td>\n",
       "      <td>T1</td>\n",
       "    </tr>\n",
       "    <tr>\n",
       "      <th>1</th>\n",
       "      <td>4.254904</td>\n",
       "      <td>0.850981</td>\n",
       "      <td>0.000000</td>\n",
       "      <td>0.850981</td>\n",
       "      <td>45.101982</td>\n",
       "      <td>22.125501</td>\n",
       "      <td>84.247098</td>\n",
       "      <td>1.701962</td>\n",
       "      <td>11.913731</td>\n",
       "      <td>5.956866</td>\n",
       "      <td>...</td>\n",
       "      <td>0.850981</td>\n",
       "      <td>0.000000</td>\n",
       "      <td>0.850981</td>\n",
       "      <td>0.000000</td>\n",
       "      <td>0.000000</td>\n",
       "      <td>0.0</td>\n",
       "      <td>0.000000</td>\n",
       "      <td>0.000000</td>\n",
       "      <td>0.000000</td>\n",
       "      <td>T1</td>\n",
       "    </tr>\n",
       "    <tr>\n",
       "      <th>2</th>\n",
       "      <td>1.931528</td>\n",
       "      <td>0.643843</td>\n",
       "      <td>0.000000</td>\n",
       "      <td>40.562078</td>\n",
       "      <td>452.621281</td>\n",
       "      <td>237.577884</td>\n",
       "      <td>6.438425</td>\n",
       "      <td>0.000000</td>\n",
       "      <td>16.096063</td>\n",
       "      <td>3.219213</td>\n",
       "      <td>...</td>\n",
       "      <td>0.000000</td>\n",
       "      <td>0.000000</td>\n",
       "      <td>0.643843</td>\n",
       "      <td>0.000000</td>\n",
       "      <td>0.000000</td>\n",
       "      <td>0.0</td>\n",
       "      <td>0.000000</td>\n",
       "      <td>0.000000</td>\n",
       "      <td>0.000000</td>\n",
       "      <td>T1</td>\n",
       "    </tr>\n",
       "    <tr>\n",
       "      <th>3</th>\n",
       "      <td>0.870129</td>\n",
       "      <td>0.000000</td>\n",
       "      <td>0.000000</td>\n",
       "      <td>123.558325</td>\n",
       "      <td>773.544728</td>\n",
       "      <td>262.778974</td>\n",
       "      <td>15.662323</td>\n",
       "      <td>2.610387</td>\n",
       "      <td>70.480453</td>\n",
       "      <td>1.740258</td>\n",
       "      <td>...</td>\n",
       "      <td>0.000000</td>\n",
       "      <td>0.000000</td>\n",
       "      <td>0.000000</td>\n",
       "      <td>0.000000</td>\n",
       "      <td>0.000000</td>\n",
       "      <td>0.0</td>\n",
       "      <td>0.000000</td>\n",
       "      <td>0.000000</td>\n",
       "      <td>0.870129</td>\n",
       "      <td>T1</td>\n",
       "    </tr>\n",
       "    <tr>\n",
       "      <th>4</th>\n",
       "      <td>2.718041</td>\n",
       "      <td>2.718041</td>\n",
       "      <td>2.718041</td>\n",
       "      <td>39.411591</td>\n",
       "      <td>145.415179</td>\n",
       "      <td>88.336324</td>\n",
       "      <td>19.026285</td>\n",
       "      <td>1167.398495</td>\n",
       "      <td>16.308244</td>\n",
       "      <td>16.308244</td>\n",
       "      <td>...</td>\n",
       "      <td>1.359020</td>\n",
       "      <td>0.000000</td>\n",
       "      <td>1.359020</td>\n",
       "      <td>1.359020</td>\n",
       "      <td>1.359020</td>\n",
       "      <td>0.0</td>\n",
       "      <td>0.000000</td>\n",
       "      <td>0.000000</td>\n",
       "      <td>0.000000</td>\n",
       "      <td>T1</td>\n",
       "    </tr>\n",
       "    <tr>\n",
       "      <th>...</th>\n",
       "      <td>...</td>\n",
       "      <td>...</td>\n",
       "      <td>...</td>\n",
       "      <td>...</td>\n",
       "      <td>...</td>\n",
       "      <td>...</td>\n",
       "      <td>...</td>\n",
       "      <td>...</td>\n",
       "      <td>...</td>\n",
       "      <td>...</td>\n",
       "      <td>...</td>\n",
       "      <td>...</td>\n",
       "      <td>...</td>\n",
       "      <td>...</td>\n",
       "      <td>...</td>\n",
       "      <td>...</td>\n",
       "      <td>...</td>\n",
       "      <td>...</td>\n",
       "      <td>...</td>\n",
       "      <td>...</td>\n",
       "      <td>...</td>\n",
       "    </tr>\n",
       "    <tr>\n",
       "      <th>950</th>\n",
       "      <td>12.991861</td>\n",
       "      <td>2.362157</td>\n",
       "      <td>0.000000</td>\n",
       "      <td>1.181078</td>\n",
       "      <td>242.121051</td>\n",
       "      <td>54.329602</td>\n",
       "      <td>11.810783</td>\n",
       "      <td>3.543235</td>\n",
       "      <td>120.469986</td>\n",
       "      <td>1.181078</td>\n",
       "      <td>...</td>\n",
       "      <td>1.181078</td>\n",
       "      <td>0.000000</td>\n",
       "      <td>0.000000</td>\n",
       "      <td>0.000000</td>\n",
       "      <td>0.000000</td>\n",
       "      <td>0.0</td>\n",
       "      <td>0.000000</td>\n",
       "      <td>0.000000</td>\n",
       "      <td>0.000000</td>\n",
       "      <td>T3</td>\n",
       "    </tr>\n",
       "    <tr>\n",
       "      <th>951</th>\n",
       "      <td>9.498885</td>\n",
       "      <td>0.527716</td>\n",
       "      <td>0.000000</td>\n",
       "      <td>6.332590</td>\n",
       "      <td>184.172817</td>\n",
       "      <td>132.984384</td>\n",
       "      <td>8.971169</td>\n",
       "      <td>0.527716</td>\n",
       "      <td>26.913506</td>\n",
       "      <td>6.860306</td>\n",
       "      <td>...</td>\n",
       "      <td>0.527716</td>\n",
       "      <td>1.055432</td>\n",
       "      <td>0.000000</td>\n",
       "      <td>0.000000</td>\n",
       "      <td>0.000000</td>\n",
       "      <td>0.0</td>\n",
       "      <td>0.000000</td>\n",
       "      <td>0.000000</td>\n",
       "      <td>0.000000</td>\n",
       "      <td>T3</td>\n",
       "    </tr>\n",
       "    <tr>\n",
       "      <th>952</th>\n",
       "      <td>0.000000</td>\n",
       "      <td>0.000000</td>\n",
       "      <td>0.000000</td>\n",
       "      <td>0.000000</td>\n",
       "      <td>434.417898</td>\n",
       "      <td>118.161668</td>\n",
       "      <td>159.865787</td>\n",
       "      <td>152.915100</td>\n",
       "      <td>28.961193</td>\n",
       "      <td>77.615998</td>\n",
       "      <td>...</td>\n",
       "      <td>0.000000</td>\n",
       "      <td>0.000000</td>\n",
       "      <td>0.000000</td>\n",
       "      <td>1.158448</td>\n",
       "      <td>0.000000</td>\n",
       "      <td>0.0</td>\n",
       "      <td>0.000000</td>\n",
       "      <td>0.000000</td>\n",
       "      <td>0.000000</td>\n",
       "      <td>T3</td>\n",
       "    </tr>\n",
       "    <tr>\n",
       "      <th>953</th>\n",
       "      <td>24.591858</td>\n",
       "      <td>16.394572</td>\n",
       "      <td>0.000000</td>\n",
       "      <td>21.859430</td>\n",
       "      <td>1153.084920</td>\n",
       "      <td>2191.407833</td>\n",
       "      <td>13.662144</td>\n",
       "      <td>5.464857</td>\n",
       "      <td>360.680591</td>\n",
       "      <td>0.000000</td>\n",
       "      <td>...</td>\n",
       "      <td>0.000000</td>\n",
       "      <td>8.197286</td>\n",
       "      <td>0.000000</td>\n",
       "      <td>0.000000</td>\n",
       "      <td>2.732429</td>\n",
       "      <td>0.0</td>\n",
       "      <td>0.000000</td>\n",
       "      <td>0.000000</td>\n",
       "      <td>0.000000</td>\n",
       "      <td>T3</td>\n",
       "    </tr>\n",
       "    <tr>\n",
       "      <th>954</th>\n",
       "      <td>28.396133</td>\n",
       "      <td>0.000000</td>\n",
       "      <td>0.000000</td>\n",
       "      <td>2.839613</td>\n",
       "      <td>306.678235</td>\n",
       "      <td>16.327776</td>\n",
       "      <td>9.938647</td>\n",
       "      <td>0.000000</td>\n",
       "      <td>27.686230</td>\n",
       "      <td>1.419807</td>\n",
       "      <td>...</td>\n",
       "      <td>1.419807</td>\n",
       "      <td>0.000000</td>\n",
       "      <td>0.000000</td>\n",
       "      <td>0.000000</td>\n",
       "      <td>0.000000</td>\n",
       "      <td>0.0</td>\n",
       "      <td>0.000000</td>\n",
       "      <td>1.419807</td>\n",
       "      <td>0.000000</td>\n",
       "      <td>T3</td>\n",
       "    </tr>\n",
       "  </tbody>\n",
       "</table>\n",
       "<p>955 rows × 106 columns</p>\n",
       "</div>"
      ],
      "text/plain": [
       "     ENSG00000168779.18  ENSG00000043355.9  ENSG00000139800.8  \\\n",
       "0              6.418540           2.139513           2.139513   \n",
       "1              4.254904           0.850981           0.000000   \n",
       "2              1.931528           0.643843           0.000000   \n",
       "3              0.870129           0.000000           0.000000   \n",
       "4              2.718041           2.718041           2.718041   \n",
       "..                  ...                ...                ...   \n",
       "950           12.991861           2.362157           0.000000   \n",
       "951            9.498885           0.527716           0.000000   \n",
       "952            0.000000           0.000000           0.000000   \n",
       "953           24.591858          16.394572           0.000000   \n",
       "954           28.396133           0.000000           0.000000   \n",
       "\n",
       "     ENSG00000095752.5  ENSG00000114270.14  ENSG00000143320.7  \\\n",
       "0             9.984396          139.068370         134.076172   \n",
       "1             0.850981           45.101982          22.125501   \n",
       "2            40.562078          452.621281         237.577884   \n",
       "3           123.558325          773.544728         262.778974   \n",
       "4            39.411591          145.415179          88.336324   \n",
       "..                 ...                 ...                ...   \n",
       "950           1.181078          242.121051          54.329602   \n",
       "951           6.332590          184.172817         132.984384   \n",
       "952           0.000000          434.417898         118.161668   \n",
       "953          21.859430         1153.084920        2191.407833   \n",
       "954           2.839613          306.678235          16.327776   \n",
       "\n",
       "     ENSG00000104112.7  ENSG00000168703.5  ENSG00000116176.6  \\\n",
       "0            11.410738          67.038086         173.300584   \n",
       "1            84.247098           1.701962          11.913731   \n",
       "2             6.438425           0.000000          16.096063   \n",
       "3            15.662323           2.610387          70.480453   \n",
       "4            19.026285        1167.398495          16.308244   \n",
       "..                 ...                ...                ...   \n",
       "950          11.810783           3.543235         120.469986   \n",
       "951           8.971169           0.527716          26.913506   \n",
       "952         159.865787         152.915100          28.961193   \n",
       "953          13.662144           5.464857         360.680591   \n",
       "954           9.938647           0.000000          27.686230   \n",
       "\n",
       "     ENSG00000188523.7  ...  ENSG00000104755.13  ENSG00000250256.1  \\\n",
       "0            16.402936  ...            0.000000           0.000000   \n",
       "1             5.956866  ...            0.850981           0.000000   \n",
       "2             3.219213  ...            0.000000           0.000000   \n",
       "3             1.740258  ...            0.000000           0.000000   \n",
       "4            16.308244  ...            1.359020           0.000000   \n",
       "..                 ...  ...                 ...                ...   \n",
       "950           1.181078  ...            1.181078           0.000000   \n",
       "951           6.860306  ...            0.527716           1.055432   \n",
       "952          77.615998  ...            0.000000           0.000000   \n",
       "953           0.000000  ...            0.000000           8.197286   \n",
       "954           1.419807  ...            1.419807           0.000000   \n",
       "\n",
       "     ENSG00000259447.1  ENSG00000235864.1  ENSG00000227718.1  \\\n",
       "0             0.000000           0.000000           0.000000   \n",
       "1             0.850981           0.000000           0.000000   \n",
       "2             0.643843           0.000000           0.000000   \n",
       "3             0.000000           0.000000           0.000000   \n",
       "4             1.359020           1.359020           1.359020   \n",
       "..                 ...                ...                ...   \n",
       "950           0.000000           0.000000           0.000000   \n",
       "951           0.000000           0.000000           0.000000   \n",
       "952           0.000000           1.158448           0.000000   \n",
       "953           0.000000           0.000000           2.732429   \n",
       "954           0.000000           0.000000           0.000000   \n",
       "\n",
       "     ENSG00000229370.1  ENSG00000254434.1  ENSG00000233146.1  \\\n",
       "0                  0.0           1.426342           0.713171   \n",
       "1                  0.0           0.000000           0.000000   \n",
       "2                  0.0           0.000000           0.000000   \n",
       "3                  0.0           0.000000           0.000000   \n",
       "4                  0.0           0.000000           0.000000   \n",
       "..                 ...                ...                ...   \n",
       "950                0.0           0.000000           0.000000   \n",
       "951                0.0           0.000000           0.000000   \n",
       "952                0.0           0.000000           0.000000   \n",
       "953                0.0           0.000000           0.000000   \n",
       "954                0.0           0.000000           1.419807   \n",
       "\n",
       "     ENSG00000251969.3  scale  \n",
       "0             0.000000     T1  \n",
       "1             0.000000     T1  \n",
       "2             0.000000     T1  \n",
       "3             0.870129     T1  \n",
       "4             0.000000     T1  \n",
       "..                 ...    ...  \n",
       "950           0.000000     T3  \n",
       "951           0.000000     T3  \n",
       "952           0.000000     T3  \n",
       "953           0.000000     T3  \n",
       "954           0.000000     T3  \n",
       "\n",
       "[955 rows x 106 columns]"
      ]
     },
     "execution_count": 3,
     "metadata": {},
     "output_type": "execute_result"
    }
   ],
   "source": [
    "train_df"
   ]
  },
  {
   "cell_type": "code",
   "execution_count": 4,
   "id": "1b6d7c29",
   "metadata": {},
   "outputs": [],
   "source": [
    "y=train_df['scale']\n",
    "del train_df['scale']"
   ]
  },
  {
   "cell_type": "code",
   "execution_count": 5,
   "id": "fe108dbb",
   "metadata": {},
   "outputs": [],
   "source": [
    "zestaw_caly = np.array(train_df)\n",
    "caly_label = np.array(y)\n"
   ]
  },
  {
   "cell_type": "code",
   "execution_count": 6,
   "id": "b4a42547",
   "metadata": {},
   "outputs": [],
   "source": [
    "ftwo_scorer = make_scorer(f1_score,greater_is_better=True, average='macro')"
   ]
  },
  {
   "cell_type": "markdown",
   "id": "bd85977b",
   "metadata": {},
   "source": [
    "## Dobieranie part 1"
   ]
  },
  {
   "cell_type": "code",
   "execution_count": 8,
   "id": "7996fcd3",
   "metadata": {},
   "outputs": [],
   "source": [
    "param_grid = {\n",
    "    'min_samples_split':range(2,6,2), #\n",
    "    'min_samples_leaf': range(2,30,5),     #\n",
    "    'max_leaf_nodes':range(2,30,5), #\n",
    "    'max_depth':list(range(2, 20,4)), #\n",
    "    'n_estimators':[100,500] #\n",
    "}"
   ]
  },
  {
   "cell_type": "code",
   "execution_count": 9,
   "id": "1acf4f55",
   "metadata": {
    "scrolled": true
   },
   "outputs": [
    {
     "name": "stdout",
     "output_type": "stream",
     "text": [
      "Fitting 5 folds for each of 720 candidates, totalling 3600 fits\n"
     ]
    },
    {
     "data": {
      "text/plain": [
       "GridSearchCV(cv=5, estimator=GradientBoostingClassifier(random_state=42),\n",
       "             n_jobs=4,\n",
       "             param_grid={'max_depth': [2, 6, 10, 14, 18],\n",
       "                         'max_leaf_nodes': range(2, 30, 5),\n",
       "                         'min_samples_leaf': range(2, 30, 5),\n",
       "                         'min_samples_split': range(2, 6, 2),\n",
       "                         'n_estimators': [100, 500]},\n",
       "             scoring=make_scorer(f1_score, average=macro), verbose=1)"
      ]
     },
     "execution_count": 9,
     "metadata": {},
     "output_type": "execute_result"
    }
   ],
   "source": [
    "Grb_1 = GradientBoostingClassifier(random_state=42)\n",
    "grid_search_2 = GridSearchCV(estimator = Grb_1, param_grid = param_grid, \n",
    "                          cv = 5, n_jobs = 4, verbose = 1,scoring=ftwo_scorer)\n",
    "grid_search_2.fit(zestaw_caly, np.ravel(caly_label))\n"
   ]
  },
  {
   "cell_type": "code",
   "execution_count": 10,
   "id": "def99d10",
   "metadata": {},
   "outputs": [
    {
     "data": {
      "text/plain": [
       "0.5040395128315593"
      ]
     },
     "execution_count": 10,
     "metadata": {},
     "output_type": "execute_result"
    }
   ],
   "source": [
    "grid_search_2.best_score_#0.11579231045634207"
   ]
  },
  {
   "cell_type": "code",
   "execution_count": 11,
   "id": "ec45a9bb",
   "metadata": {},
   "outputs": [
    {
     "data": {
      "text/plain": [
       "{'max_depth': 6,\n",
       " 'max_leaf_nodes': 12,\n",
       " 'min_samples_leaf': 7,\n",
       " 'min_samples_split': 2,\n",
       " 'n_estimators': 500}"
      ]
     },
     "execution_count": 11,
     "metadata": {},
     "output_type": "execute_result"
    }
   ],
   "source": [
    "grid_search_2.best_params_"
   ]
  },
  {
   "cell_type": "markdown",
   "id": "b9a120df",
   "metadata": {},
   "source": [
    "## Dobieranie part 2"
   ]
  },
  {
   "cell_type": "code",
   "execution_count": 7,
   "id": "5f652de4",
   "metadata": {},
   "outputs": [],
   "source": [
    "param_grid = {\n",
    "    'min_samples_split':range(2,4,1), \n",
    "    'min_samples_leaf': range(4,13,1),     \n",
    "    'max_leaf_nodes':range(9,15,1), # \n",
    "    'max_depth':range(4, 9,1),  #\n",
    "    'n_estimators':[500] \n",
    "}"
   ]
  },
  {
   "cell_type": "code",
   "execution_count": 8,
   "id": "9c88ed57",
   "metadata": {},
   "outputs": [
    {
     "name": "stdout",
     "output_type": "stream",
     "text": [
      "Fitting 5 folds for each of 540 candidates, totalling 2700 fits\n"
     ]
    },
    {
     "data": {
      "text/plain": [
       "GridSearchCV(cv=5, estimator=GradientBoostingClassifier(random_state=42),\n",
       "             n_jobs=4,\n",
       "             param_grid={'max_depth': range(4, 9),\n",
       "                         'max_leaf_nodes': range(9, 15),\n",
       "                         'min_samples_leaf': range(4, 13),\n",
       "                         'min_samples_split': range(2, 4),\n",
       "                         'n_estimators': [500]},\n",
       "             scoring=make_scorer(f1_score, average=macro), verbose=1)"
      ]
     },
     "execution_count": 8,
     "metadata": {},
     "output_type": "execute_result"
    }
   ],
   "source": [
    "Grb_1 = GradientBoostingClassifier(random_state=42)\n",
    "grid_search_2 = GridSearchCV(estimator = Grb_1, param_grid = param_grid, \n",
    "                          cv = 5, n_jobs = 4, verbose = 1,scoring=ftwo_scorer)\n",
    "grid_search_2.fit(zestaw_caly, np.ravel(caly_label))\n"
   ]
  },
  {
   "cell_type": "code",
   "execution_count": 9,
   "id": "df936214",
   "metadata": {},
   "outputs": [
    {
     "data": {
      "text/plain": [
       "GradientBoostingClassifier(max_depth=5, max_leaf_nodes=11, min_samples_leaf=11,\n",
       "                           n_estimators=500, random_state=42)"
      ]
     },
     "execution_count": 9,
     "metadata": {},
     "output_type": "execute_result"
    }
   ],
   "source": [
    "grid_search_2.best_estimator_"
   ]
  },
  {
   "cell_type": "code",
   "execution_count": 10,
   "id": "9dec0400",
   "metadata": {},
   "outputs": [
    {
     "data": {
      "text/plain": [
       "0.5107179520638822"
      ]
     },
     "execution_count": 10,
     "metadata": {},
     "output_type": "execute_result"
    }
   ],
   "source": [
    "grid_search_2.best_score_"
   ]
  },
  {
   "cell_type": "code",
   "execution_count": 11,
   "id": "6e9b41db",
   "metadata": {},
   "outputs": [
    {
     "data": {
      "text/plain": [
       "{'max_depth': 5,\n",
       " 'max_leaf_nodes': 11,\n",
       " 'min_samples_leaf': 11,\n",
       " 'min_samples_split': 2,\n",
       " 'n_estimators': 500}"
      ]
     },
     "execution_count": 11,
     "metadata": {},
     "output_type": "execute_result"
    }
   ],
   "source": [
    "grid_search_2.best_params_"
   ]
  },
  {
   "cell_type": "markdown",
   "id": "5a369321",
   "metadata": {},
   "source": [
    "## Cross-walidacja"
   ]
  },
  {
   "cell_type": "code",
   "execution_count": 12,
   "id": "4476b29e",
   "metadata": {},
   "outputs": [],
   "source": [
    "kfold = StratifiedKFold(n_splits=5, shuffle=True, random_state=42)\n",
    "dane_do_zapisu_2=pd.DataFrame()\n",
    "licznik=1\n",
    "wart_2=[]\n",
    "for train, test in kfold.split(zestaw_caly, caly_label):\n",
    "    reg = GradientBoostingClassifier(max_depth=5, max_leaf_nodes=11, min_samples_leaf=11,\n",
    "                           n_estimators=500, random_state=42)\n",
    "    reg.fit(zestaw_caly[train], caly_label[train])\n",
    "    predykcje=reg.predict(zestaw_caly[test])\n",
    "    dane_folda_2=pd.DataFrame({\"pred\": predykcje.ravel(),\n",
    "                                \"obs\": caly_label[test],\n",
    "                                \"Fold\":licznik})\n",
    "    dane_do_zapisu_2=pd.concat([dane_do_zapisu_2,dane_folda_2])\n",
    "    blad=f1_score(caly_label[test], predykcje,average='macro')\n",
    "    wart_2.append(blad)\n",
    "    licznik+=1"
   ]
  },
  {
   "cell_type": "code",
   "execution_count": 13,
   "id": "7f412156",
   "metadata": {},
   "outputs": [],
   "source": [
    "dane_do_zapisu_2.to_csv('D:\\\\STUDIA\\\\ROK_II\\\\Magisterka\\\\Modele\\\\Dane pierwotne\\\\Dane z cross-walidacji\\\\Klasa_T_Gradient_boosting.csv')"
   ]
  },
  {
   "cell_type": "code",
   "execution_count": 2,
   "id": "09b70f64",
   "metadata": {},
   "outputs": [],
   "source": [
    "dane_do_zapisu_2=pd.read_csv('D:\\\\STUDIA\\\\ROK_II\\\\Magisterka\\\\Modele\\\\Dane pierwotne\\\\Dane z cross-walidacji\\\\T\\\\Klasa_T_Gradient_boosting.csv')"
   ]
  },
  {
   "cell_type": "code",
   "execution_count": 14,
   "id": "db2671b9",
   "metadata": {},
   "outputs": [
    {
     "data": {
      "text/plain": [
       "[0.45295195174480546,\n",
       " 0.5504569504569505,\n",
       " 0.48098753671509087,\n",
       " 0.45754692641414313,\n",
       " 0.4612545591840404]"
      ]
     },
     "execution_count": 14,
     "metadata": {},
     "output_type": "execute_result"
    }
   ],
   "source": [
    "wart_2"
   ]
  },
  {
   "cell_type": "code",
   "execution_count": 15,
   "id": "8c54cb34",
   "metadata": {},
   "outputs": [
    {
     "data": {
      "text/plain": [
       "0.48063958490300607"
      ]
     },
     "execution_count": 15,
     "metadata": {},
     "output_type": "execute_result"
    }
   ],
   "source": [
    "sum(wart_2)/len(wart_2) #0.032977654217233775"
   ]
  },
  {
   "cell_type": "code",
   "execution_count": 3,
   "id": "8959485e",
   "metadata": {},
   "outputs": [],
   "source": [
    "from sklearn.metrics import confusion_matrix"
   ]
  },
  {
   "cell_type": "code",
   "execution_count": 4,
   "id": "ce88e7bd",
   "metadata": {},
   "outputs": [],
   "source": [
    "cf_matrix = confusion_matrix(dane_do_zapisu_2['obs'], dane_do_zapisu_2['pred'])"
   ]
  },
  {
   "cell_type": "code",
   "execution_count": 5,
   "id": "5faf7e9f",
   "metadata": {},
   "outputs": [],
   "source": [
    "import seaborn as sns"
   ]
  },
  {
   "cell_type": "code",
   "execution_count": 7,
   "id": "887ac83c",
   "metadata": {},
   "outputs": [
    {
     "data": {
      "image/png": "[encoded data removed]",
      "text/plain": [
       "<Figure size 432x288 with 2 Axes>"
      ]
     },
     "metadata": {
      "needs_background": "light"
     },
     "output_type": "display_data"
    }
   ],
   "source": [
    "\n",
    "ax = plt.axes()\n",
    "sns.heatmap(cf_matrix, annot=True, fmt='g')\n",
    "\n",
    "ax.set_title('Dane pierwotne - Klasa T - GB')\n",
    "plt.ylabel('Rzeczywiste')\n",
    "plt.xlabel('Predykcja')\n",
    "plt.show()\n"
   ]
  },
  {
   "cell_type": "code",
   "execution_count": 20,
   "id": "e6d6596b",
   "metadata": {},
   "outputs": [
    {
     "name": "stdout",
     "output_type": "stream",
     "text": [
      "Recall: 0.483\n",
      "Precision: 0.504\n",
      "F1score: 0.481\n"
     ]
    }
   ],
   "source": [
    "from sklearn.metrics import recall_score\n",
    "from sklearn.metrics import precision_score\n",
    "\n",
    "precision = precision_score(dane_do_zapisu_2['obs'], dane_do_zapisu_2['pred'],  average='macro')\n",
    "recall = recall_score(dane_do_zapisu_2['obs'], dane_do_zapisu_2['pred'],  average='macro')\n",
    "f1score=f1_score(dane_do_zapisu_2['obs'], dane_do_zapisu_2['pred'], average='macro')\n",
    "print('Recall: %.3f' % recall)\n",
    "print('Precision: %.3f' % precision)\n",
    "print('F1score: %.3f' % f1score)"
   ]
  },
  {
   "cell_type": "code",
   "execution_count": null,
   "id": "463b5b82",
   "metadata": {},
   "outputs": [],
   "source": []
  }
 ],
 "metadata": {
  "kernelspec": {
   "display_name": "Python 3 (ipykernel)",
   "language": "python",
   "name": "python3"
  },
  "language_info": {
   "codemirror_mode": {
    "name": "ipython",
    "version": 3
   },
   "file_extension": ".py",
   "mimetype": "text/x-python",
   "name": "python",
   "nbconvert_exporter": "python",
   "pygments_lexer": "ipython3",
   "version": "3.10.4"
  }
 },
 "nbformat": 4,
 "nbformat_minor": 5
}
